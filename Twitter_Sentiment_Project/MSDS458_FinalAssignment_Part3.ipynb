{
  "nbformat": 4,
  "nbformat_minor": 0,
  "metadata": {
    "colab": {
      "name": "YI_ALFRED_MSDS458_FinalAssignment_Part3.ipynb",
      "provenance": [],
      "collapsed_sections": [],
      "toc_visible": true,
      "machine_shape": "hm"
    },
    "kernelspec": {
      "name": "python3",
      "display_name": "Python 3"
    }
  },
  "cells": [
    {
      "cell_type": "markdown",
      "metadata": {
        "id": "2zIVkR05Uc_A",
        "colab_type": "text"
      },
      "source": [
        "# MSDS 458: Research/Programming Assignment #4 (Final Assignment): Part 3"
      ]
    },
    {
      "cell_type": "markdown",
      "metadata": {
        "id": "p1dswL0MUgEQ",
        "colab_type": "text"
      },
      "source": [
        "**Management Problem**\n",
        "\n",
        "For this final research assignment, I apply deep learning methods that we covered in the course (MSDS 458) to conduct sentiment analysis of Twitter data, a challenging yet important field of study for organizations in both public and private sectors. Twitter is a popular platform where entities at all levels—governments, businesses, country leaders, celebrities, and even the average social media user—express their opinions. The content of such tweets could represent a country's official policy or collectively, a country's public sentiment toward a particular issue. Given the massive volume of tweets generated each day—on average, [6,000 tweets are posted on Twitter every second](https://www.internetlivestats.com/twitter-statistics/) —there is immense value in being able quickly and accurately determine such sentiment values (e.g., positive or negative). I combine natural language processing (NLP) and deep learning techniques to build a robust Twitter sentiment classification model. \n",
        "\n",
        "**Corpus Description**\n",
        "\n",
        "The corpus I use is Stanford University's [Sentiment140](http://cs.stanford.edu/people/alecmgo/trainingandtestdata.zip). The dataset is a CSV file consisting of 1.6 million English-language tweets. The tweets are annotated using six attributes: 1. polarity of the tweet (0 = negative, 2 = neutral, 4 = positive); 2. ID; 3. date; 4. query; 5. username; 6. text.  For this project, I plan to use the polarity and text content to build a model that could take any given tweet and determine the most probable sentiment value.\n",
        "\n",
        "**Methods**\n",
        "\n",
        "***Text Preprocessing & Data Exploration***\n",
        "<p>Given the massive number of documents in the corpus (one tweet = one document), it is important to ensure the data, particularly each tweet's text, is cleaned and tokenized properly for any follow-on modeling tasks. Regular expressions are useful in handling any emoticons or special characters (e.g., @ symbols and hashtags). As part of the data exploration step, I also generate visualizations using histograms and word clouds representing various aspects of the tweets (e.g., text content, null values, positive/negative/neutral breakdown, etc.) to gain a broad understanding of both qualitative and quantitative aspects of the corpus.</p>\n",
        "\n",
        "***Text Vectorization***\n",
        "<p>While the focus of this project is evaluating optimal deep neural network (DNN) architectures and parameters for Twitter sentiment analysis, such work is dependent on proper experimentation and implementation of various text vectorization methods. I leverage the techniques I learned in MSDS 453 for this task, which include applying word embedding approaches such as TF-IDF and Doc2vec. Since there are 1.6 million documents, it is important for me to limit the vocabulary by tuning the vectorizer hyperparameters (e.g., max_features, max_df) and exploring dimensionality reduction techniques, such as PCA.</p>\n",
        "<p>I evaluate the vectors using various classifiers to ensure I have the optimal number of features in training for the classification models. I experiment with both traditional classifiers (e.g., logistic regression, random forest, and ensemble methods) and neural networks.</p>\n",
        "\n",
        "***Building Neural Network-Based Models***\n",
        "<p>The main part of this research assignment entails careful experimentation of various DNNs we covered in MSDS 458, including fully-connected dense networks, recurrent neural networks (RNN), long short-term memory networks (LSTM), and convolutional neural networks (CNN). The neural networks are built using Keras. The evaluation method to determine the best classification model consists of a strict training-and-test regimen using a crossed experimental design (e.g., maintain consistent hyperparameter settings for consistency). Vocabulary size and word embeddings also remain consistent. I experiment with various network structure designs, hyperparameter settings, and model fit methods by taking the input data (i.e., processed tweet text vectors) through single to multiple layers consisting of varying nodes/units across dense networks, RNNs, LSTM networks, and CNNs.</p>\n",
        "\n",
        "**Evaluation**\n",
        "<p>I track and compare training/testing times as well as accuracy and loss curves for train, validation, and test datasets to evaluate the deep learning models' performances. I also provide charts and plots summarizing these key metrics to visually capture which neural network structures and models yield the strongest performance, in terms of implementation time and accuracy.</p>"
      ]
    },
    {
      "cell_type": "markdown",
      "metadata": {
        "id": "Xd-KFnADUlE4",
        "colab_type": "text"
      },
      "source": [
        "## NOTES\n",
        "\n",
        "This notebook is a continuation (part 3 of 6) of MSDS 458 Final Assignment. You need access to the clean_tweets.csv file in order to run the following code.\n",
        "\n",
        "In parts 3-6, I use observations and findings from parts 1 and 2 to train various neural network models:\n",
        "\n",
        "* **EXPERIMENT 1: Fully connected dense neural network (DNN)**\n",
        "* EXPERIMENT 2: Simple RNN\n",
        "* EXPERIMENT 3: LSTM RNN\n",
        "* EXPERIMENT 4: 1D CNN\n",
        "\n",
        "The objective is to see if I can train a neural network model that could perform better than traditional machine learning models, namely logistic regrssion using a trigram TF-IDF vectorization.\n",
        "\n",
        "This notebook covers **Experiment 1: Fully connected dense neural network (DNN)**"
      ]
    },
    {
      "cell_type": "markdown",
      "metadata": {
        "id": "Nuolddl9NJyo",
        "colab_type": "text"
      },
      "source": [
        "## Import packages needed (and set seed)\n",
        "\n",
        "Since Keras in part of TensorFlow 2.x, we import keras from tensorflow and use tenserflow.keras.xxx to import all other Keras packages. The seed argument produces a deterministic sequence of tensors across multiple calls."
      ]
    },
    {
      "cell_type": "code",
      "metadata": {
        "id": "D10hEwWDNF7E",
        "colab_type": "code",
        "colab": {}
      },
      "source": [
        "# import tensorflow as tf\n",
        "# from tensorflow import keras\n",
        "# from tensorflow.keras import models\n",
        "# from tensorflow.keras.models import Sequential, load_model\n",
        "# from tensorflow.keras.layers import Dense, Dropout, Flatten, Activation, Embedding\n",
        "# from tensorflow.keras.layers import Conv2D, MaxPooling2D, BatchNormalization, Dropout\n",
        "# from tensorflow.keras.callbacks import ModelCheckpoint\n",
        "# from tensorflow.keras.preprocessing import sequence\n",
        "# keras.__version__"
      ],
      "execution_count": 0,
      "outputs": []
    },
    {
      "cell_type": "code",
      "metadata": {
        "id": "SYj_enRSNYL4",
        "colab_type": "code",
        "colab": {}
      },
      "source": [
        "import pandas as pd  \n",
        "import numpy as np\n",
        "import matplotlib.pyplot as plt\n",
        "import re\n",
        "import os\n",
        "\n",
        "from google.colab import files\n",
        "from collections import Counter\n",
        "from sklearn.feature_extraction.text import TfidfVectorizer, CountVectorizer\n",
        "\n",
        "from sklearn.model_selection import train_test_split\n",
        "from sklearn.linear_model import LogisticRegression\n",
        "from sklearn import metrics\n",
        "from sklearn import utils\n",
        "from sklearn.pipeline import Pipeline\n",
        "from sklearn.metrics import accuracy_score, f1_score\n",
        "from sklearn.metrics import classification_report, confusion_matrix\n",
        "from sklearn.feature_extraction import text\n",
        "from time import time\n",
        "\n",
        "from pprint import pprint\n",
        "plt.style.use('fivethirtyeight')\n",
        "\n",
        "%matplotlib inline\n",
        "%config InlineBackend.figure_format = 'retina'"
      ],
      "execution_count": 0,
      "outputs": []
    },
    {
      "cell_type": "code",
      "metadata": {
        "id": "uSK_gpJbj05c",
        "colab_type": "code",
        "outputId": "05fe3286-e9d0-4bd5-edc6-469fea2217c6",
        "colab": {
          "base_uri": "https://localhost:8080/",
          "height": 34
        }
      },
      "source": [
        "seed = 50\n",
        "np.random.seed(seed)\n",
        "import tensorflow as tf\n",
        "from tensorflow import keras\n",
        "from keras.models import Sequential, load_model\n",
        "from keras.layers import Dense, Dropout, SimpleRNN\n",
        "from keras.layers import Flatten\n",
        "from keras.callbacks import ModelCheckpoint\n",
        "from keras.layers.embeddings import Embedding\n",
        "from keras.preprocessing import sequence\n",
        "from keras.layers import Conv2D, MaxPooling2D, BatchNormalization, Dropout\n",
        "from keras.layers import Activation, Dropout, Flatten, Dense"
      ],
      "execution_count": 0,
      "outputs": [
        {
          "output_type": "stream",
          "text": [
            "Using TensorFlow backend.\n"
          ],
          "name": "stderr"
        }
      ]
    },
    {
      "cell_type": "code",
      "metadata": {
        "id": "sgaTlkttNZj3",
        "colab_type": "code",
        "colab": {}
      },
      "source": [
        "keras.backend.clear_session()\n",
        "np.random.seed(42)\n",
        "tf.random.set_seed(42)"
      ],
      "execution_count": 0,
      "outputs": []
    },
    {
      "cell_type": "code",
      "metadata": {
        "id": "FQglBbvfUqX3",
        "colab_type": "code",
        "outputId": "e675a47c-a360-4b0c-f4bc-7a2c545c9212",
        "colab": {
          "base_uri": "https://localhost:8080/",
          "height": 122
        }
      },
      "source": [
        "from google.colab import drive\n",
        "drive.mount('/content/drive')"
      ],
      "execution_count": 0,
      "outputs": [
        {
          "output_type": "stream",
          "text": [
            "Go to this URL in a browser: https://accounts.google.com/o/oauth2/auth?client_id=947318989803-6bn6qk8qdgf4n4g3pfee6491hc0brc4i.apps.googleusercontent.com&redirect_uri=urn%3aietf%3awg%3aoauth%3a2.0%3aoob&response_type=code&scope=email%20https%3a%2f%2fwww.googleapis.com%2fauth%2fdocs.test%20https%3a%2f%2fwww.googleapis.com%2fauth%2fdrive%20https%3a%2f%2fwww.googleapis.com%2fauth%2fdrive.photos.readonly%20https%3a%2f%2fwww.googleapis.com%2fauth%2fpeopleapi.readonly\n",
            "\n",
            "Enter your authorization code:\n",
            "··········\n",
            "Mounted at /content/drive\n"
          ],
          "name": "stdout"
        }
      ]
    },
    {
      "cell_type": "code",
      "metadata": {
        "id": "d8xrqZsFV0AR",
        "colab_type": "code",
        "outputId": "13bae654-60d1-41cd-ae9a-85040ba38d72",
        "colab": {
          "base_uri": "https://localhost:8080/",
          "height": 374
        }
      },
      "source": [
        "import os\n",
        "os.chdir('/content/drive/My Drive/MSDS Files/MSDS 458/Assignment 4')\n",
        "\n",
        "# Check working directory\n",
        "!pwd\n",
        "\n",
        "# Check files in directory\n",
        "!ls"
      ],
      "execution_count": 0,
      "outputs": [
        {
          "output_type": "stream",
          "text": [
            "/content/drive/My Drive/MSDS Files/MSDS 458/Assignment 4\n",
            "clean_tweets.csv\n",
            "clf_compare_accuracy_summary.csv\n",
            "cvec_tfidf_accuracy_summary.csv\n",
            "d2v_model_dbow.doc2vec\n",
            "d2v_model_dbow.doc2vec.docvecs.vectors_docs.npy\n",
            "d2v_model_dbow.doc2vec.trainables.syn1neg.npy\n",
            "d2v_model_dbow.doc2vec.wv.vectors.npy\n",
            "Data\n",
            "dbow_cvec_tfidf_accuracy_summary.csv\n",
            "dmm_dbow_cvec_tfidf_accuracy_summary.csv\n",
            "glove.twitter.27B\n",
            "model_dnn1.h5\n",
            "model_dnn2.h5\n",
            "model.png\n",
            "model_rnn1.h5\n",
            "model_rnn2.h5\n",
            "model_rnn3.h5\n",
            "ngram_accuracy_comparison_plot.png\n",
            "results1.pkl\n",
            "results2.pkl\n"
          ],
          "name": "stdout"
        }
      ]
    },
    {
      "cell_type": "code",
      "metadata": {
        "id": "TPwSsZQUV1GF",
        "colab_type": "code",
        "outputId": "10c759e1-7b37-461f-ef4b-5ef6fa1e960f",
        "colab": {
          "base_uri": "https://localhost:8080/",
          "height": 71
        }
      },
      "source": [
        "df = pd.read_csv('clean_tweets.csv', index_col=0)"
      ],
      "execution_count": 0,
      "outputs": [
        {
          "output_type": "stream",
          "text": [
            "/usr/local/lib/python3.6/dist-packages/numpy/lib/arraysetops.py:569: FutureWarning: elementwise comparison failed; returning scalar instead, but in the future will perform elementwise comparison\n",
            "  mask |= (ar1 == a)\n"
          ],
          "name": "stderr"
        }
      ]
    },
    {
      "cell_type": "code",
      "metadata": {
        "id": "cephDmO1V25G",
        "colab_type": "code",
        "outputId": "7996dc3f-f263-4921-ea42-b92b669a0e04",
        "colab": {
          "base_uri": "https://localhost:8080/",
          "height": 204
        }
      },
      "source": [
        "df.head()"
      ],
      "execution_count": 0,
      "outputs": [
        {
          "output_type": "execute_result",
          "data": {
            "text/html": [
              "<div>\n",
              "<style scoped>\n",
              "    .dataframe tbody tr th:only-of-type {\n",
              "        vertical-align: middle;\n",
              "    }\n",
              "\n",
              "    .dataframe tbody tr th {\n",
              "        vertical-align: top;\n",
              "    }\n",
              "\n",
              "    .dataframe thead th {\n",
              "        text-align: right;\n",
              "    }\n",
              "</style>\n",
              "<table border=\"1\" class=\"dataframe\">\n",
              "  <thead>\n",
              "    <tr style=\"text-align: right;\">\n",
              "      <th></th>\n",
              "      <th>text</th>\n",
              "      <th>target</th>\n",
              "    </tr>\n",
              "  </thead>\n",
              "  <tbody>\n",
              "    <tr>\n",
              "      <th>0</th>\n",
              "      <td>awww that bummer you shoulda got david carr of...</td>\n",
              "      <td>0</td>\n",
              "    </tr>\n",
              "    <tr>\n",
              "      <th>1</th>\n",
              "      <td>is upset that he can not update his facebook b...</td>\n",
              "      <td>0</td>\n",
              "    </tr>\n",
              "    <tr>\n",
              "      <th>2</th>\n",
              "      <td>dived many times for the ball managed to save ...</td>\n",
              "      <td>0</td>\n",
              "    </tr>\n",
              "    <tr>\n",
              "      <th>3</th>\n",
              "      <td>my whole body feels itchy and like its on fire</td>\n",
              "      <td>0</td>\n",
              "    </tr>\n",
              "    <tr>\n",
              "      <th>4</th>\n",
              "      <td>no it not behaving at all mad why am here beca...</td>\n",
              "      <td>0</td>\n",
              "    </tr>\n",
              "  </tbody>\n",
              "</table>\n",
              "</div>"
            ],
            "text/plain": [
              "                                                text  target\n",
              "0  awww that bummer you shoulda got david carr of...       0\n",
              "1  is upset that he can not update his facebook b...       0\n",
              "2  dived many times for the ball managed to save ...       0\n",
              "3     my whole body feels itchy and like its on fire       0\n",
              "4  no it not behaving at all mad why am here beca...       0"
            ]
          },
          "metadata": {
            "tags": []
          },
          "execution_count": 8
        }
      ]
    },
    {
      "cell_type": "markdown",
      "metadata": {
        "id": "Dwcf-V1rV9xp",
        "colab_type": "text"
      },
      "source": [
        "## Model Training Prep"
      ]
    },
    {
      "cell_type": "markdown",
      "metadata": {
        "id": "glsz6pLkWDDr",
        "colab_type": "text"
      },
      "source": [
        "Train / Dev / Test Split\n",
        "\n",
        "Given the 1.5 million+ size of the dataset, I will split the data into training, validation, and test data."
      ]
    },
    {
      "cell_type": "code",
      "metadata": {
        "id": "13lYkSb9V4WK",
        "colab_type": "code",
        "colab": {}
      },
      "source": [
        "x = df.text\n",
        "y = df.target"
      ],
      "execution_count": 0,
      "outputs": []
    },
    {
      "cell_type": "code",
      "metadata": {
        "id": "mP_ISBM4WGS2",
        "colab_type": "code",
        "colab": {}
      },
      "source": [
        "SEED = 5000\n",
        "x_train, x_validation_and_test, y_train, y_validation_and_test = train_test_split(x, y, test_size=.02, random_state=SEED)\n",
        "x_validation, x_test, y_validation, y_test = train_test_split(x_validation_and_test, y_validation_and_test, test_size=.5, random_state=SEED)"
      ],
      "execution_count": 0,
      "outputs": []
    },
    {
      "cell_type": "code",
      "metadata": {
        "id": "y-1zDaKGWJMe",
        "colab_type": "code",
        "outputId": "170adfc1-7758-4ad7-edc4-0dcd7a057fde",
        "colab": {
          "base_uri": "https://localhost:8080/",
          "height": 68
        }
      },
      "source": [
        "print(\"Train set has total {0} entries with {1:.2f}% negative tweets, {2:.2f}% positive tweets.\".format(len(x_train),\n",
        "                                                                             (len(x_train[y_train == 0]) / (len(x_train)*1.))*100,\n",
        "                                                                            (len(x_train[y_train == 1]) / (len(x_train)*1.))*100))\n",
        "print(\"Validation set has total {0} entries with {1:.2f}% negative tweets, {2:.2f}% positive tweets.\".format(len(x_validation),\n",
        "                                                                             (len(x_validation[y_validation == 0]) / (len(x_validation)*1.))*100,\n",
        "                                                                            (len(x_validation[y_validation == 1]) / (len(x_validation)*1.))*100))\n",
        "print(\"Test set has total {0} entries with {1:.2f}% negative tweets, {2:.2f}% positive tweets.\".format(len(x_test),\n",
        "                                                                             (len(x_test[y_test == 0]) / (len(x_test)*1.))*100,\n",
        "                                                                            (len(x_test[y_test == 1]) / (len(x_test)*1.))*100))"
      ],
      "execution_count": 0,
      "outputs": [
        {
          "output_type": "stream",
          "text": [
            "Train set has total 1564120 entries with 50.02% negative tweets, 49.98% positive tweets.\n",
            "Validation set has total 15960 entries with 49.18% negative tweets, 50.82% positive tweets.\n",
            "Test set has total 15961 entries with 49.86% negative tweets, 50.14% positive tweets.\n"
          ],
          "name": "stdout"
        }
      ]
    },
    {
      "cell_type": "markdown",
      "metadata": {
        "id": "5DH7nXHBScSb",
        "colab_type": "text"
      },
      "source": [
        "## Train/Test Timer Functions"
      ]
    },
    {
      "cell_type": "code",
      "metadata": {
        "id": "WW2_87DUSf8D",
        "colab_type": "code",
        "colab": {}
      },
      "source": [
        "# Define callback to get total training time\n",
        "import datetime\n",
        "\n",
        "class TrainRuntimeCallback(keras.callbacks.Callback):\n",
        "\n",
        "  def on_train_begin(self,logs={}):\n",
        "    self.start = datetime.datetime.now()\n",
        "\n",
        "  def on_train_end(self,logs={}):\n",
        "    self.process_time = (datetime.datetime.now() - self.start).total_seconds()\n",
        "\n",
        "\n",
        "# Define callback to get total test time\n",
        "\n",
        "class TestRuntimeCallback(keras.callbacks.Callback):\n",
        "\n",
        "  def on_test_begin(self,logs={}):\n",
        "    self.start = datetime.datetime.now()\n",
        "\n",
        "  def on_test_end(self,logs={}):\n",
        "    self.process_time = (datetime.datetime.now() - self.start).total_seconds()\n",
        "\n",
        "train_rt = TrainRuntimeCallback()\n",
        "test_rt = TestRuntimeCallback()"
      ],
      "execution_count": 0,
      "outputs": []
    },
    {
      "cell_type": "markdown",
      "metadata": {
        "id": "cqu9AFAgShN7",
        "colab_type": "text"
      },
      "source": [
        "## Hyperparameter Settings"
      ]
    },
    {
      "cell_type": "code",
      "metadata": {
        "id": "wxXmReNvSmLz",
        "colab_type": "code",
        "colab": {}
      },
      "source": [
        "num_epochs = 10\n",
        "batch_size = 64\n",
        "# validation_split = 0.20\n",
        "patience = 3\n",
        "# cbs = [train_rt, keras.callbacks.EarlyStopping(patience=5, restore_best_weights = True)]\n",
        "\n",
        "optimizer='rmsprop'\n",
        "loss='binary_crossentropy'\n",
        "metrics=['accuracy']\n",
        "\n",
        "dropout = 0.2"
      ],
      "execution_count": 0,
      "outputs": []
    },
    {
      "cell_type": "markdown",
      "metadata": {
        "id": "QhmFoK_iXEn_",
        "colab_type": "text"
      },
      "source": [
        "## TF-IDF + Logistic Regression (Trigram)"
      ]
    },
    {
      "cell_type": "markdown",
      "metadata": {
        "id": "p_gawUR5Xjgx",
        "colab_type": "text"
      },
      "source": [
        "In part 2, I discovered that a logistic regression model with a trigram TF-IDF vectorization resulted in the highest accuracy (higher than the Doc2vec+DBOW model or Doc2vec+DMM models). I will generate the accuracy scores for both the train and validation data as reference points for the subsequent neural network model."
      ]
    },
    {
      "cell_type": "code",
      "metadata": {
        "id": "bWWZWD6yWKoZ",
        "colab_type": "code",
        "outputId": "70e0acb3-9bac-470a-f7e0-6a3203d7487b",
        "colab": {
          "base_uri": "https://localhost:8080/",
          "height": 136
        }
      },
      "source": [
        "tfidf_vector = TfidfVectorizer(max_features=80000,ngram_range=(1, 3))\n",
        "tfidf_vector.fit(x_train)"
      ],
      "execution_count": 0,
      "outputs": [
        {
          "output_type": "execute_result",
          "data": {
            "text/plain": [
              "TfidfVectorizer(analyzer='word', binary=False, decode_error='strict',\n",
              "                dtype=<class 'numpy.float64'>, encoding='utf-8',\n",
              "                input='content', lowercase=True, max_df=1.0, max_features=80000,\n",
              "                min_df=1, ngram_range=(1, 3), norm='l2', preprocessor=None,\n",
              "                smooth_idf=True, stop_words=None, strip_accents=None,\n",
              "                sublinear_tf=False, token_pattern='(?u)\\\\b\\\\w\\\\w+\\\\b',\n",
              "                tokenizer=None, use_idf=True, vocabulary=None)"
            ]
          },
          "metadata": {
            "tags": []
          },
          "execution_count": 14
        }
      ]
    },
    {
      "cell_type": "code",
      "metadata": {
        "id": "1i6IPu7oYVOX",
        "colab_type": "code",
        "colab": {}
      },
      "source": [
        "#vectorizing train data\n",
        "x_train_tfidf = tfidf_vector.transform(x_train)"
      ],
      "execution_count": 0,
      "outputs": []
    },
    {
      "cell_type": "code",
      "metadata": {
        "id": "ya1jd2CjZ3No",
        "colab_type": "code",
        "colab": {}
      },
      "source": [
        "#vectorizing validation data\n",
        "x_validation_tfidf = tfidf_vector.transform(x_validation).toarray()"
      ],
      "execution_count": 0,
      "outputs": []
    },
    {
      "cell_type": "code",
      "metadata": {
        "id": "9UsWO9-bpet7",
        "colab_type": "code",
        "colab": {}
      },
      "source": [
        "# vectorizing test data\n",
        "x_test_tfidf = tfidf_vector.transform(x_test).toarray()"
      ],
      "execution_count": 0,
      "outputs": []
    },
    {
      "cell_type": "code",
      "metadata": {
        "id": "0_rAAsosaAWT",
        "colab_type": "code",
        "outputId": "014473f4-ee7a-4513-f90e-bba358563025",
        "colab": {
          "base_uri": "https://localhost:8080/",
          "height": 207
        }
      },
      "source": [
        "%%time\n",
        "lr_clf = LogisticRegression()\n",
        "lr_clf.fit(x_train_tfidf, y_train)"
      ],
      "execution_count": 0,
      "outputs": [
        {
          "output_type": "stream",
          "text": [
            "CPU times: user 58.6 s, sys: 1min 12s, total: 2min 11s\n",
            "Wall time: 43.6 s\n"
          ],
          "name": "stdout"
        },
        {
          "output_type": "stream",
          "text": [
            "/usr/local/lib/python3.6/dist-packages/sklearn/linear_model/_logistic.py:940: ConvergenceWarning: lbfgs failed to converge (status=1):\n",
            "STOP: TOTAL NO. of ITERATIONS REACHED LIMIT.\n",
            "\n",
            "Increase the number of iterations (max_iter) or scale the data as shown in:\n",
            "    https://scikit-learn.org/stable/modules/preprocessing.html\n",
            "Please also refer to the documentation for alternative solver options:\n",
            "    https://scikit-learn.org/stable/modules/linear_model.html#logistic-regression\n",
            "  extra_warning_msg=_LOGISTIC_SOLVER_CONVERGENCE_MSG)\n"
          ],
          "name": "stderr"
        }
      ]
    },
    {
      "cell_type": "code",
      "metadata": {
        "id": "guV4mL_yapyC",
        "colab_type": "code",
        "outputId": "a3bcd29f-69fa-4d90-c7fc-fe80f782b801",
        "colab": {
          "base_uri": "https://localhost:8080/",
          "height": 34
        }
      },
      "source": [
        "lr_clf.score(x_validation_tfidf, y_validation)"
      ],
      "execution_count": 0,
      "outputs": [
        {
          "output_type": "execute_result",
          "data": {
            "text/plain": [
              "0.831265664160401"
            ]
          },
          "metadata": {
            "tags": []
          },
          "execution_count": 21
        }
      ]
    },
    {
      "cell_type": "code",
      "metadata": {
        "id": "MtEsawqNarmk",
        "colab_type": "code",
        "outputId": "2d1b164f-0b0e-491b-dd90-6cd35283cec5",
        "colab": {
          "base_uri": "https://localhost:8080/",
          "height": 34
        }
      },
      "source": [
        "lr_clf.score(x_train_tfidf, y_train)"
      ],
      "execution_count": 0,
      "outputs": [
        {
          "output_type": "execute_result",
          "data": {
            "text/plain": [
              "0.8356705367874587"
            ]
          },
          "metadata": {
            "tags": []
          },
          "execution_count": 22
        }
      ]
    },
    {
      "cell_type": "markdown",
      "metadata": {
        "id": "4l2-dgfxdt5A",
        "colab_type": "text"
      },
      "source": [
        "**TF-IDF + Logistic Regression Accuracy Results:**\n",
        "*  Training Accuracy: 83.57%\n",
        "*  Validation Accuracy: 83.13%"
      ]
    },
    {
      "cell_type": "markdown",
      "metadata": {
        "id": "jbTSasd4awWY",
        "colab_type": "text"
      },
      "source": [
        "## Training Models"
      ]
    },
    {
      "cell_type": "markdown",
      "metadata": {
        "id": "VUMTejidXmJQ",
        "colab_type": "text"
      },
      "source": [
        "Upgrade to TensorFlow 2.x:\n",
        "\n",
        "https://colab.research.google.com/github/tensorflow/docs/blob/master/site/en/guide/migrate.ipynb"
      ]
    },
    {
      "cell_type": "code",
      "metadata": {
        "id": "qDcgM5u_XiRU",
        "colab_type": "code",
        "colab": {}
      },
      "source": [
        "# from __future__ import absolute_import, division, print_function, unicode_literals\n",
        "# try:\n",
        "#   # %tensorflow_version only exists in Colab.\n",
        "#   %tensorflow_version 2.x\n",
        "# except Exception:\n",
        "#   pass\n",
        "# import tensorflow as tf\n",
        "\n",
        "\n",
        "# import tensorflow_datasets as tfds"
      ],
      "execution_count": 0,
      "outputs": []
    },
    {
      "cell_type": "markdown",
      "metadata": {
        "id": "gomCX9u7caXW",
        "colab_type": "text"
      },
      "source": [
        "Keras NN model cannot handle sparse matrix directly. The data has to be dense array or matrix, but transforming the whole training data Tfidf vectors of 1.5 million+ to dense array is too big for my system to handle. As a workaround, we can use the following function, which generates iterable generator object so that it can be fed to NN model. Note: the output should be a generator class object rather than arrays, this can be achieved by using \"yield\" instead of \"return\"."
      ]
    },
    {
      "cell_type": "code",
      "metadata": {
        "id": "sU8LIPMBcXHd",
        "colab_type": "code",
        "colab": {}
      },
      "source": [
        "def batch_generator(X_data, y_data, batch_size):\n",
        "    samples_per_epoch = X_data.shape[0]\n",
        "    number_of_batches = samples_per_epoch/batch_size\n",
        "    counter=0\n",
        "    index = np.arange(np.shape(y_data)[0])\n",
        "    while 1:\n",
        "        index_batch = index[batch_size*counter:batch_size*(counter+1)]\n",
        "        X_batch = X_data[index_batch,:].toarray()\n",
        "        y_batch = y_data[y_data.index[index_batch]]\n",
        "        counter += 1\n",
        "        yield X_batch,y_batch\n",
        "        if (counter > number_of_batches):\n",
        "            counter=0"
      ],
      "execution_count": 0,
      "outputs": []
    },
    {
      "cell_type": "markdown",
      "metadata": {
        "id": "yJKnIh-K0kDD",
        "colab_type": "text"
      },
      "source": [
        "### DNN (3 Layers)"
      ]
    },
    {
      "cell_type": "markdown",
      "metadata": {
        "id": "XIV9rwwkV4Mo",
        "colab_type": "text"
      },
      "source": [
        "#### Build Network"
      ]
    },
    {
      "cell_type": "code",
      "metadata": {
        "id": "FgchWM_leY_i",
        "colab_type": "code",
        "outputId": "c15aaf27-6d09-46d7-a8ed-1efd67c75807",
        "colab": {
          "base_uri": "https://localhost:8080/",
          "height": 274
        }
      },
      "source": [
        "model_dnn1 = Sequential()\n",
        "model_dnn1.add(Dense(64, activation='relu', input_dim=80000))\n",
        "model_dnn1.add(Dense(32, activation='relu'))\n",
        "model_dnn1.add(Dense(1, activation='sigmoid'))\n",
        "\n",
        "# model_dnn1 = Sequential()\n",
        "# model_dnn1.add(Dense(64, kernel_initializer ='uniform', activation='relu', input_dim=80000))\n",
        "# model_dnn1.add(Dense(32, activation='relu'))\n",
        "# model_dnn1.add(Dense(1, kernel_initializer ='uniform', activation='sigmoid'))\n",
        "\n",
        "# model = Sequential()\n",
        "# model.add(Dense(units =  64, activation='relu', input_shape=(voc_size,))) # vocabulary size = 10,000\n",
        "# model.add(Dense(units =  32, activation='relu'))\n",
        "# model.add(Dense(units =  9, activation='softmax'))\n",
        "\n",
        "# compile model using accuracy to measure model performance\n",
        "model_dnn1.compile(optimizer=optimizer,\n",
        "              loss=loss,\n",
        "              metrics=metrics)\n",
        "\n",
        "# define the checkpoint\n",
        "filepath = \"model_dnn1.h5\"\n",
        "dnn1_checkpoint = ModelCheckpoint(filepath, monitor='val_loss', verbose=0, save_best_only=False, save_weights_only=False, mode='auto', period = 1)\n",
        "# callbacks_list = [dnn1_checkpoint]\n",
        "# cbs = [dnn1_checkpoint, train_rt, keras.callbacks.EarlyStopping(patience=patience, restore_best_weights = True)]\n",
        "\n",
        "# # train the model\n",
        "# history_nn1 = model_nn1.fit_generator(generator=batch_generator(x_train_tfidf, y_train, 32),\n",
        "#                     epochs=2, validation_data=(x_validation_tfidf, y_validation),\n",
        "#                     steps_per_epoch=x_train_tfidf.shape[0]/32, callbacks=callbacks_list)\n",
        "\n",
        "# # save model\n",
        "# model.save('model_nn1.h5') \n",
        "\n",
        "# # evaluate model on train & validation sets\n",
        "# scores = model_nn1.evaluate(x_train_tfidf, y_train)\n",
        "# print(\"\\n%s: %.2f%%\" % (model_nn1.metrics_names[1], scores[1]*100), \"for training set\\n\")\n",
        "# train_acc_model_nn1 = scores[1]\n",
        "\n",
        "# scores_val = model_nn1.evaluate(x_validation_tfidf, y_validation)\n",
        "# print(\"\\n%s: %.2f%%\" % (model_nn1.metrics_names[1], scores_val[1]*100), \"for validation set\")\n",
        "# test_acc_model_nn1 = scores_val[1]\n",
        "\n",
        "model_dnn1.summary()"
      ],
      "execution_count": 0,
      "outputs": [
        {
          "output_type": "stream",
          "text": [
            "Model: \"sequential_1\"\n",
            "_________________________________________________________________\n",
            "Layer (type)                 Output Shape              Param #   \n",
            "=================================================================\n",
            "dense_1 (Dense)              (None, 64)                5120064   \n",
            "_________________________________________________________________\n",
            "dense_2 (Dense)              (None, 32)                2080      \n",
            "_________________________________________________________________\n",
            "dense_3 (Dense)              (None, 1)                 33        \n",
            "=================================================================\n",
            "Total params: 5,122,177\n",
            "Trainable params: 5,122,177\n",
            "Non-trainable params: 0\n",
            "_________________________________________________________________\n"
          ],
          "name": "stdout"
        }
      ]
    },
    {
      "cell_type": "code",
      "metadata": {
        "id": "LAiTRyjsZiA8",
        "colab_type": "code",
        "outputId": "d1a11e0f-1044-49a0-8e8e-c5c5e296ea3e",
        "colab": {
          "base_uri": "https://localhost:8080/",
          "height": 422
        }
      },
      "source": [
        "keras.utils.plot_model(model_dnn1, show_shapes=True)"
      ],
      "execution_count": 0,
      "outputs": [
        {
          "output_type": "execute_result",
          "data": {
            "image/png": "[encoded data removed]",
            "text/plain": [
              "<IPython.core.display.Image object>"
            ]
          },
          "metadata": {
            "tags": []
          },
          "execution_count": 21
        }
      ]
    },
    {
      "cell_type": "markdown",
      "metadata": {
        "id": "d6mYW-Qg5tIv",
        "colab_type": "text"
      },
      "source": [
        "#### Train Model"
      ]
    },
    {
      "cell_type": "code",
      "metadata": {
        "id": "Xa2OljfuWplp",
        "colab_type": "code",
        "outputId": "73caaa9e-9702-4bb7-ce85-3c6cdb7baf9c",
        "colab": {
          "base_uri": "https://localhost:8080/",
          "height": 201
        }
      },
      "source": [
        "# train the model\n",
        "\n",
        "train_rt = TrainRuntimeCallback()\n",
        "cbs = [dnn1_checkpoint, train_rt, keras.callbacks.EarlyStopping(patience=patience, restore_best_weights = True)]\n",
        "\n",
        "history_dnn1 = model_dnn1.fit_generator(generator=batch_generator(x_train_tfidf, y_train, 64),\n",
        "                    epochs=num_epochs, validation_data=(x_validation_tfidf, y_validation),\n",
        "                    steps_per_epoch=x_train_tfidf.shape[0]/64, callbacks=cbs)\n",
        "\n",
        "# history_dnn1 = model_dnn1.fit_generator(generator=batch_generator(x_train_tfidf, y_train, 32),\n",
        "#                     epochs=num_epochs, validation_data=(x_validation_tfidf, y_validation),\n",
        "#                     steps_per_epoch=x_train_tfidf.shape[0]/32, callbacks=cbs)"
      ],
      "execution_count": 0,
      "outputs": [
        {
          "output_type": "stream",
          "text": [
            "Epoch 1/10\n",
            "24440/24439 [==============================] - 508s 21ms/step - loss: 0.4268 - accuracy: 0.8068 - val_loss: 0.4133 - val_accuracy: 0.8177\n",
            "Epoch 2/10\n",
            "24440/24439 [==============================] - 503s 21ms/step - loss: 0.4061 - accuracy: 0.8205 - val_loss: 0.4120 - val_accuracy: 0.8199\n",
            "Epoch 3/10\n",
            "24440/24439 [==============================] - 501s 21ms/step - loss: 0.3960 - accuracy: 0.8271 - val_loss: 0.4128 - val_accuracy: 0.8196\n",
            "Epoch 4/10\n",
            "24440/24439 [==============================] - 500s 20ms/step - loss: 0.3894 - accuracy: 0.8310 - val_loss: 0.4188 - val_accuracy: 0.8161\n",
            "Epoch 5/10\n",
            "24440/24439 [==============================] - 500s 20ms/step - loss: 0.3842 - accuracy: 0.8340 - val_loss: 0.4263 - val_accuracy: 0.8128\n"
          ],
          "name": "stdout"
        }
      ]
    },
    {
      "cell_type": "code",
      "metadata": {
        "id": "424e059dogO8",
        "colab_type": "code",
        "outputId": "111ba71e-f8ce-4d1d-be07-83b18fa7d0d1",
        "colab": {
          "base_uri": "https://localhost:8080/",
          "height": 35
        }
      },
      "source": [
        "# Get the training time\n",
        "train_time = train_rt.process_time\n",
        "train_time # in seconds"
      ],
      "execution_count": 0,
      "outputs": [
        {
          "output_type": "execute_result",
          "data": {
            "text/plain": [
              "2517.518805"
            ]
          },
          "metadata": {
            "tags": []
          },
          "execution_count": 25
        }
      ]
    },
    {
      "cell_type": "code",
      "metadata": {
        "id": "VS2Law2Pok9F",
        "colab_type": "code",
        "outputId": "0af6a602-5525-49d3-eca7-dbeeced29222",
        "colab": {
          "base_uri": "https://localhost:8080/",
          "height": 35
        }
      },
      "source": [
        "print(f\"train_acc: {history_dnn1.history['accuracy'][-1]}, val_acc: {history_dnn1.history['val_accuracy'][-1]}\")"
      ],
      "execution_count": 0,
      "outputs": [
        {
          "output_type": "stream",
          "text": [
            "train_acc: 0.833952009677887, val_acc: 0.8128446340560913\n"
          ],
          "name": "stdout"
        }
      ]
    },
    {
      "cell_type": "markdown",
      "metadata": {
        "id": "7QCjk8KRXZ29",
        "colab_type": "text"
      },
      "source": [
        "#### Save Model"
      ]
    },
    {
      "cell_type": "code",
      "metadata": {
        "id": "-pHqEV_AuNgp",
        "colab_type": "code",
        "colab": {}
      },
      "source": [
        "# save model\n",
        "model_dnn1.save('model_dnn1.h5') "
      ],
      "execution_count": 0,
      "outputs": []
    },
    {
      "cell_type": "code",
      "metadata": {
        "id": "9glGNwvDXbAx",
        "colab_type": "code",
        "colab": {}
      },
      "source": [
        "\n",
        "# # evaluate model on train, validation, and test sets\n",
        "# scores = model_dnn1.evaluate(x_train_tfidf, y_train)\n",
        "# print(\"\\n%s: %.2f%%\" % (model_dnn1.metrics_names[1], scores[1]*100), \"for training set\\n\")\n",
        "# train_acc_model_dnn1 = scores[1]\n",
        "\n",
        "# scores_val = model_dnn1.evaluate(x_validation_tfidf, y_validation)\n",
        "# print(\"\\n%s: %.2f%%\" % (model_dnn1.metrics_names[1], scores_val[1]*100), \"for validation set\")\n",
        "# val_acc_model_dnn1 = scores_val[1]\n",
        "\n",
        "# scores_test = model_dnn1.evaluate(x_train_tfidf, y_test)\n",
        "# print(\"\\n%s: %.2f%%\" % (model_dnn1.metrics_names[1], scores_test[1]*100), \"for test set\")\n",
        "# test_acc_model_dnn1 = scores_test[1]"
      ],
      "execution_count": 0,
      "outputs": []
    },
    {
      "cell_type": "markdown",
      "metadata": {
        "id": "ayDt-l35nS-C",
        "colab_type": "text"
      },
      "source": [
        "#### Test Model"
      ]
    },
    {
      "cell_type": "code",
      "metadata": {
        "id": "B4SHGhzznUfC",
        "colab_type": "code",
        "outputId": "9fbff379-84e1-4b78-a4a6-f612d4ef3a52",
        "colab": {
          "base_uri": "https://localhost:8080/",
          "height": 54
        }
      },
      "source": [
        "test_rt = TestRuntimeCallback()\n",
        "# test_loss, test_acc = model.evaluate(test_data_sm_cnn, one_hot_test_labels_sm, callbacks=[test_rt])\n",
        "\n",
        "# test_loss, test_accuracy = model.evaluate(test_data_sm_cnn, one_hot_test_labels_sm, callbacks=[test_rt])\n",
        "\n",
        "test_loss, test_acc = model_dnn1.evaluate(x_test_tfidf, y_test, callbacks = [test_rt])\n",
        "\n",
        "print(f\"test_accuracy={test_acc}, test_loss={test_loss}\")"
      ],
      "execution_count": 0,
      "outputs": [
        {
          "output_type": "stream",
          "text": [
            "15961/15961 [==============================] - 6s 375us/step\n",
            "test_accuracy=0.8108514547348022, test_loss=0.4230083193678761\n"
          ],
          "name": "stdout"
        }
      ]
    },
    {
      "cell_type": "code",
      "metadata": {
        "id": "xQvF3mAPqiS0",
        "colab_type": "code",
        "outputId": "d66e2328-1e89-418b-e1fe-d2174deef39b",
        "colab": {
          "base_uri": "https://localhost:8080/",
          "height": 35
        }
      },
      "source": [
        "# Get the test time\n",
        "test_time = test_rt.process_time\n",
        "test_time # in seconds"
      ],
      "execution_count": 0,
      "outputs": [
        {
          "output_type": "execute_result",
          "data": {
            "text/plain": [
              "5.990464"
            ]
          },
          "metadata": {
            "tags": []
          },
          "execution_count": 32
        }
      ]
    },
    {
      "cell_type": "code",
      "metadata": {
        "id": "PvM-mii8qkv9",
        "colab_type": "code",
        "outputId": "ea170d5e-0cc1-42e6-e212-cc34ce1e999c",
        "colab": {
          "base_uri": "https://localhost:8080/",
          "height": 35
        }
      },
      "source": [
        "history_dict = history_dnn1.history\n",
        "history_dict['train_accuracy'] = history_dict.pop('accuracy') # rename the the key to 'train_accuracy'\n",
        "history_dict.keys()"
      ],
      "execution_count": 0,
      "outputs": [
        {
          "output_type": "execute_result",
          "data": {
            "text/plain": [
              "dict_keys(['val_loss', 'val_accuracy', 'loss', 'train_accuracy'])"
            ]
          },
          "metadata": {
            "tags": []
          },
          "execution_count": 33
        }
      ]
    },
    {
      "cell_type": "code",
      "metadata": {
        "id": "yTVvvEg1q2y7",
        "colab_type": "code",
        "outputId": "74fd44d3-146b-4180-c1e2-900a4337263c",
        "colab": {
          "base_uri": "https://localhost:8080/",
          "height": 81
        }
      },
      "source": [
        "import pandas as pd\n",
        "history_df=pd.DataFrame(history_dict)\n",
        "history_df['test_accuracy'] = test_acc   # using the test accuracy for smaller dataset model, NOT the full model\n",
        "history_df = history_df.iloc[-1:]\n",
        "history_df.tail()"
      ],
      "execution_count": 0,
      "outputs": [
        {
          "output_type": "execute_result",
          "data": {
            "text/html": [
              "<div>\n",
              "<style scoped>\n",
              "    .dataframe tbody tr th:only-of-type {\n",
              "        vertical-align: middle;\n",
              "    }\n",
              "\n",
              "    .dataframe tbody tr th {\n",
              "        vertical-align: top;\n",
              "    }\n",
              "\n",
              "    .dataframe thead th {\n",
              "        text-align: right;\n",
              "    }\n",
              "</style>\n",
              "<table border=\"1\" class=\"dataframe\">\n",
              "  <thead>\n",
              "    <tr style=\"text-align: right;\">\n",
              "      <th></th>\n",
              "      <th>val_loss</th>\n",
              "      <th>val_accuracy</th>\n",
              "      <th>loss</th>\n",
              "      <th>train_accuracy</th>\n",
              "      <th>test_accuracy</th>\n",
              "    </tr>\n",
              "  </thead>\n",
              "  <tbody>\n",
              "    <tr>\n",
              "      <th>4</th>\n",
              "      <td>0.426255</td>\n",
              "      <td>0.812845</td>\n",
              "      <td>0.384176</td>\n",
              "      <td>0.833952</td>\n",
              "      <td>0.810851</td>\n",
              "    </tr>\n",
              "  </tbody>\n",
              "</table>\n",
              "</div>"
            ],
            "text/plain": [
              "   val_loss  val_accuracy      loss  train_accuracy  test_accuracy\n",
              "4  0.426255      0.812845  0.384176        0.833952       0.810851"
            ]
          },
          "metadata": {
            "tags": []
          },
          "execution_count": 34
        }
      ]
    },
    {
      "cell_type": "markdown",
      "metadata": {
        "id": "5nTiDR1Crogw",
        "colab_type": "text"
      },
      "source": [
        "#### Save Performance to Dataframe"
      ]
    },
    {
      "cell_type": "code",
      "metadata": {
        "id": "Llivj_p2rnkS",
        "colab_type": "code",
        "outputId": "2fc2fb7a-8d88-4c9e-d6c9-146414c82e29",
        "colab": {
          "base_uri": "https://localhost:8080/",
          "height": 81
        }
      },
      "source": [
        "results_df = history_df.iloc[-1:].copy()\n",
        "results_df.insert(0,'model','DNN (3 layers)') # want the model name to appear first\n",
        "results_df['test_accuracy'] = test_acc   # test accuracy\n",
        "results_df['training time (sec)'] = train_time      # we are okay with training time appearing last\n",
        "results_df['testing time (sec)'] = test_time      # we are okay with test time appearing last\n",
        "results_df"
      ],
      "execution_count": 0,
      "outputs": [
        {
          "output_type": "execute_result",
          "data": {
            "text/html": [
              "<div>\n",
              "<style scoped>\n",
              "    .dataframe tbody tr th:only-of-type {\n",
              "        vertical-align: middle;\n",
              "    }\n",
              "\n",
              "    .dataframe tbody tr th {\n",
              "        vertical-align: top;\n",
              "    }\n",
              "\n",
              "    .dataframe thead th {\n",
              "        text-align: right;\n",
              "    }\n",
              "</style>\n",
              "<table border=\"1\" class=\"dataframe\">\n",
              "  <thead>\n",
              "    <tr style=\"text-align: right;\">\n",
              "      <th></th>\n",
              "      <th>model</th>\n",
              "      <th>val_loss</th>\n",
              "      <th>val_accuracy</th>\n",
              "      <th>loss</th>\n",
              "      <th>train_accuracy</th>\n",
              "      <th>test_accuracy</th>\n",
              "      <th>training time (sec)</th>\n",
              "      <th>testing time (sec)</th>\n",
              "    </tr>\n",
              "  </thead>\n",
              "  <tbody>\n",
              "    <tr>\n",
              "      <th>4</th>\n",
              "      <td>DNN (3 layers)</td>\n",
              "      <td>0.426255</td>\n",
              "      <td>0.812845</td>\n",
              "      <td>0.384176</td>\n",
              "      <td>0.833952</td>\n",
              "      <td>0.810851</td>\n",
              "      <td>2517.518805</td>\n",
              "      <td>5.990464</td>\n",
              "    </tr>\n",
              "  </tbody>\n",
              "</table>\n",
              "</div>"
            ],
            "text/plain": [
              "            model  val_loss  ...  training time (sec)  testing time (sec)\n",
              "4  DNN (3 layers)  0.426255  ...          2517.518805            5.990464\n",
              "\n",
              "[1 rows x 8 columns]"
            ]
          },
          "metadata": {
            "tags": []
          },
          "execution_count": 35
        }
      ]
    },
    {
      "cell_type": "code",
      "metadata": {
        "id": "9tQR7-tp2l8P",
        "colab_type": "code",
        "outputId": "298f3b5e-2f27-4671-ff9d-d726ae084bc2",
        "colab": {
          "base_uri": "https://localhost:8080/",
          "height": 146
        }
      },
      "source": [
        "# # load model\n",
        "# model_nn1_load = load_model(\"model_nn1.h5\")\n",
        "\n",
        "# # evaluate model on train & validation sets\n",
        "# scores = model_nn1_load.evaluate(x_train_tfidf, y_train)\n",
        "# print(\"\\n%s: %.2f%%\" % (model_nn1_load.metrics_names[1], scores[1]*100), \"for training set\\n\")\n",
        "# train_acc_model_nn1 = scores[1]\n",
        "\n",
        "# scores_val = model_nn1_load.evaluate(x_validation_tfidf, y_validation)\n",
        "# print(\"\\n%s: %.2f%%\" % (model_nn1_load.metrics_names[1], scores_val[1]*100), \"for validation set\")\n",
        "# val_acc_model_nn1 = scores_val[1]"
      ],
      "execution_count": 0,
      "outputs": [
        {
          "output_type": "stream",
          "text": [
            "1564120/1564120 [==============================] - 756s 483us/step\n",
            "\n",
            "acc: 84.42% for training set\n",
            "\n",
            "15960/15960 [==============================] - 9s 551us/step\n",
            "\n",
            "acc: 82.98% for validation set\n"
          ],
          "name": "stdout"
        }
      ]
    },
    {
      "cell_type": "markdown",
      "metadata": {
        "id": "F_gxY6o7eazi",
        "colab_type": "text"
      },
      "source": [
        "#### Plot Performance"
      ]
    },
    {
      "cell_type": "code",
      "metadata": {
        "id": "sn9V4B8vu7oz",
        "colab_type": "code",
        "outputId": "96e92392-a78b-416f-f3fa-a8563389a61b",
        "colab": {
          "base_uri": "https://localhost:8080/",
          "height": 589
        }
      },
      "source": [
        "import matplotlib.pyplot as plt\n",
        "\n",
        "# list all data in history\n",
        "print(history_dnn1.history.keys())\n",
        "\n",
        "# summarize history for accuracy\n",
        "plt.plot(history_dnn1.history['train_accuracy'])\n",
        "plt.plot(history_dnn1.history['val_accuracy'])\n",
        "plt.title('Model 1: DNN (3 layers)')\n",
        "plt.ylabel('Accuracy')\n",
        "plt.xlabel('Epochs')\n",
        "plt.legend(['train', 'val'], loc='lower right')\n",
        "plt.show()\n",
        "\n",
        "# summarize history for loss\n",
        "plt.plot(history_dnn1.history['loss'])\n",
        "plt.plot(history_dnn1.history['val_loss'])\n",
        "plt.title('Model 1: DNN (3 layers)')\n",
        "plt.ylabel('Loss')\n",
        "plt.xlabel('Epochs')\n",
        "plt.legend(['train', 'val'], loc='center right')\n",
        "plt.show()\n",
        "\n",
        "# from google.colab import files\n",
        "# plt.savefig(\"model_v5_history.png\")"
      ],
      "execution_count": 0,
      "outputs": [
        {
          "output_type": "stream",
          "text": [
            "dict_keys(['val_loss', 'val_accuracy', 'loss', 'train_accuracy'])\n"
          ],
          "name": "stdout"
        },
        {
          "output_type": "display_data",
          "data": {
            "image/png": "[encoded data removed]",
            "text/plain": [
              "<Figure size 432x288 with 1 Axes>"
            ]
          },
          "metadata": {
            "tags": [],
            "image/png": {
              "width": 438,
              "height": 277
            },
            "needs_background": "light"
          }
        },
        {
          "output_type": "display_data",
          "data": {
            "image/png": "[encoded data removed]",
            "text/plain": [
              "<Figure size 432x288 with 1 Axes>"
            ]
          },
          "metadata": {
            "tags": [],
            "image/png": {
              "width": 432,
              "height": 277
            },
            "needs_background": "light"
          }
        }
      ]
    },
    {
      "cell_type": "code",
      "metadata": {
        "id": "p4m2u8h0ecSe",
        "colab_type": "code",
        "colab": {}
      },
      "source": [
        "# # Plot the accuracy curves for training and validation \n",
        "# plt.plot(history_nn1.history['acc'], color='b', label=\"train\", linewidth = 1)\n",
        "# plt.plot(history_nn1.history['val_acc'], color='r',label=\"validation\", linewidth = 1)\n",
        "# legend = plt.legend(loc='center right', shadow=True)\n",
        "# plt.title('Accuracy Curves for NN Model 1', fontsize = 15)\n",
        "# plt.savefig('model_nn1_acc_curves.png')"
      ],
      "execution_count": 0,
      "outputs": []
    },
    {
      "cell_type": "markdown",
      "metadata": {
        "id": "6NmWex2b0h9C",
        "colab_type": "text"
      },
      "source": [
        "### DNN w/ Dropout (3 Layers)"
      ]
    },
    {
      "cell_type": "markdown",
      "metadata": {
        "id": "ZhHjfo42NXMx",
        "colab_type": "text"
      },
      "source": [
        "#### Build Network"
      ]
    },
    {
      "cell_type": "markdown",
      "metadata": {
        "id": "Yr8ECaBkfINO",
        "colab_type": "text"
      },
      "source": [
        "This model includes a 20% dropout after the activiation layer. The purpose of the dropout layer is to reduce overfitting."
      ]
    },
    {
      "cell_type": "code",
      "metadata": {
        "id": "2OH0nexFmDDa",
        "colab_type": "code",
        "outputId": "17bf7cb3-fa80-40f1-9331-67b67f4077be",
        "colab": {
          "base_uri": "https://localhost:8080/",
          "height": 348
        }
      },
      "source": [
        "model_dnn2 = Sequential()\n",
        "model_dnn2.add(Dense(64, activation='relu', input_dim=80000))\n",
        "model_dnn2.add(Dropout(dropout))\n",
        "model_dnn2.add(Dense(32, activation='relu'))\n",
        "model_dnn2.add(Dropout(dropout))\n",
        "model_dnn2.add(Dense(1, activation='sigmoid'))\n",
        "\n",
        "# compile model using accuracy to measure model performance\n",
        "model_dnn2.compile(optimizer=optimizer,\n",
        "              loss=loss,\n",
        "              metrics=metrics)\n",
        "\n",
        "# define the checkpoint\n",
        "filepath = \"model_dnn2.h5\"\n",
        "dnn2_checkpoint = ModelCheckpoint(filepath, monitor='val_loss', verbose=0, save_best_only=False, save_weights_only=False, mode='auto', period = 1)\n",
        "\n",
        "model_dnn2.summary()"
      ],
      "execution_count": 0,
      "outputs": [
        {
          "output_type": "stream",
          "text": [
            "Model: \"sequential_3\"\n",
            "_________________________________________________________________\n",
            "Layer (type)                 Output Shape              Param #   \n",
            "=================================================================\n",
            "dense_7 (Dense)              (None, 64)                5120064   \n",
            "_________________________________________________________________\n",
            "dropout_3 (Dropout)          (None, 64)                0         \n",
            "_________________________________________________________________\n",
            "dense_8 (Dense)              (None, 32)                2080      \n",
            "_________________________________________________________________\n",
            "dropout_4 (Dropout)          (None, 32)                0         \n",
            "_________________________________________________________________\n",
            "dense_9 (Dense)              (None, 1)                 33        \n",
            "=================================================================\n",
            "Total params: 5,122,177\n",
            "Trainable params: 5,122,177\n",
            "Non-trainable params: 0\n",
            "_________________________________________________________________\n"
          ],
          "name": "stdout"
        }
      ]
    },
    {
      "cell_type": "code",
      "metadata": {
        "id": "tf9zDo0lxD_0",
        "colab_type": "code",
        "outputId": "4b0489e9-63d5-43cb-abbc-261878b20707",
        "colab": {
          "base_uri": "https://localhost:8080/",
          "height": 644
        }
      },
      "source": [
        "keras.utils.plot_model(model_dnn2, show_shapes=True)"
      ],
      "execution_count": 0,
      "outputs": [
        {
          "output_type": "execute_result",
          "data": {
            "image/png": "[encoded data removed]",
            "text/plain": [
              "<IPython.core.display.Image object>"
            ]
          },
          "metadata": {
            "tags": []
          },
          "execution_count": 43
        }
      ]
    },
    {
      "cell_type": "markdown",
      "metadata": {
        "id": "FZ2NlB8-xN27",
        "colab_type": "text"
      },
      "source": [
        "#### Train Model"
      ]
    },
    {
      "cell_type": "code",
      "metadata": {
        "id": "9GxXdyNZxO8s",
        "colab_type": "code",
        "outputId": "743d12d3-c561-43eb-f7b4-118509c0441c",
        "colab": {
          "base_uri": "https://localhost:8080/",
          "height": 201
        }
      },
      "source": [
        "# train the model\n",
        "\n",
        "train_rt = TrainRuntimeCallback()\n",
        "cbs = [dnn2_checkpoint, train_rt, keras.callbacks.EarlyStopping(patience=patience, restore_best_weights = True)]\n",
        "\n",
        "history_dnn2 = model_dnn2.fit_generator(generator=batch_generator(x_train_tfidf, y_train, 64),\n",
        "                    epochs=num_epochs, validation_data=(x_validation_tfidf, y_validation),\n",
        "                    steps_per_epoch=x_train_tfidf.shape[0]/64, callbacks=cbs)"
      ],
      "execution_count": 0,
      "outputs": [
        {
          "output_type": "stream",
          "text": [
            "Epoch 1/10\n",
            "24440/24439 [==============================] - 514s 21ms/step - loss: 0.4357 - accuracy: 0.8036 - val_loss: 0.4186 - val_accuracy: 0.8155\n",
            "Epoch 2/10\n",
            "24440/24439 [==============================] - 510s 21ms/step - loss: 0.4238 - accuracy: 0.8126 - val_loss: 0.4180 - val_accuracy: 0.8160\n",
            "Epoch 3/10\n",
            "24440/24439 [==============================] - 507s 21ms/step - loss: 0.4212 - accuracy: 0.8148 - val_loss: 0.4190 - val_accuracy: 0.8201\n",
            "Epoch 4/10\n",
            "24440/24439 [==============================] - 506s 21ms/step - loss: 0.4189 - accuracy: 0.8166 - val_loss: 0.4185 - val_accuracy: 0.8176\n",
            "Epoch 5/10\n",
            "24440/24439 [==============================] - 509s 21ms/step - loss: 0.4180 - accuracy: 0.8172 - val_loss: 0.4191 - val_accuracy: 0.8183\n"
          ],
          "name": "stdout"
        }
      ]
    },
    {
      "cell_type": "markdown",
      "metadata": {
        "id": "K_qLIQ0IyY49",
        "colab_type": "text"
      },
      "source": [
        "#### Save Model"
      ]
    },
    {
      "cell_type": "code",
      "metadata": {
        "id": "JObpFE3xyaaV",
        "colab_type": "code",
        "colab": {}
      },
      "source": [
        "# save model\n",
        "model_dnn2.save('model_dnn2.h5') "
      ],
      "execution_count": 0,
      "outputs": []
    },
    {
      "cell_type": "markdown",
      "metadata": {
        "id": "qsNHPv5pycIs",
        "colab_type": "text"
      },
      "source": [
        "#### Test Model"
      ]
    },
    {
      "cell_type": "code",
      "metadata": {
        "id": "Xhpxpwmkyfgi",
        "colab_type": "code",
        "outputId": "a8ab3785-de2a-4522-94dd-8038a6337848",
        "colab": {
          "base_uri": "https://localhost:8080/",
          "height": 54
        }
      },
      "source": [
        "test_rt = TestRuntimeCallback()\n",
        "\n",
        "test_loss, test_acc = model_dnn2.evaluate(x_test_tfidf, y_test, callbacks = [test_rt])\n",
        "\n",
        "print(f\"test_accuracy={test_acc}, test_loss={test_loss}\")"
      ],
      "execution_count": 0,
      "outputs": [
        {
          "output_type": "stream",
          "text": [
            "15961/15961 [==============================] - 6s 378us/step\n",
            "test_accuracy=0.8102249503135681, test_loss=0.42650014605336034\n"
          ],
          "name": "stdout"
        }
      ]
    },
    {
      "cell_type": "code",
      "metadata": {
        "id": "Y32i8oftyiM9",
        "colab_type": "code",
        "outputId": "d96cbba7-69e6-4183-9248-47ccb04e6d6a",
        "colab": {
          "base_uri": "https://localhost:8080/",
          "height": 35
        }
      },
      "source": [
        "# Get the test time\n",
        "test_time = test_rt.process_time\n",
        "test_time # in seconds"
      ],
      "execution_count": 0,
      "outputs": [
        {
          "output_type": "execute_result",
          "data": {
            "text/plain": [
              "6.026241"
            ]
          },
          "metadata": {
            "tags": []
          },
          "execution_count": 47
        }
      ]
    },
    {
      "cell_type": "code",
      "metadata": {
        "id": "PAH5JvbsykOL",
        "colab_type": "code",
        "outputId": "b77b6ae4-adf5-425f-ccf2-3fb98005428d",
        "colab": {
          "base_uri": "https://localhost:8080/",
          "height": 35
        }
      },
      "source": [
        "history_dict = history_dnn2.history\n",
        "history_dict['train_accuracy'] = history_dict.pop('accuracy') # rename the the key to 'train_accuracy'\n",
        "history_dict.keys()"
      ],
      "execution_count": 0,
      "outputs": [
        {
          "output_type": "execute_result",
          "data": {
            "text/plain": [
              "dict_keys(['val_loss', 'val_accuracy', 'loss', 'train_accuracy'])"
            ]
          },
          "metadata": {
            "tags": []
          },
          "execution_count": 48
        }
      ]
    },
    {
      "cell_type": "code",
      "metadata": {
        "id": "zyVGxUgryn94",
        "colab_type": "code",
        "outputId": "975ea12e-0e59-44e0-c357-63a5ad477452",
        "colab": {
          "base_uri": "https://localhost:8080/",
          "height": 81
        }
      },
      "source": [
        "import pandas as pd\n",
        "history_df=pd.DataFrame(history_dict)\n",
        "history_df['test_accuracy'] = test_acc   # using the test accuracy for smaller dataset model, NOT the full model\n",
        "history_df = history_df.iloc[-1:]\n",
        "history_df.tail()"
      ],
      "execution_count": 0,
      "outputs": [
        {
          "output_type": "execute_result",
          "data": {
            "text/html": [
              "<div>\n",
              "<style scoped>\n",
              "    .dataframe tbody tr th:only-of-type {\n",
              "        vertical-align: middle;\n",
              "    }\n",
              "\n",
              "    .dataframe tbody tr th {\n",
              "        vertical-align: top;\n",
              "    }\n",
              "\n",
              "    .dataframe thead th {\n",
              "        text-align: right;\n",
              "    }\n",
              "</style>\n",
              "<table border=\"1\" class=\"dataframe\">\n",
              "  <thead>\n",
              "    <tr style=\"text-align: right;\">\n",
              "      <th></th>\n",
              "      <th>val_loss</th>\n",
              "      <th>val_accuracy</th>\n",
              "      <th>loss</th>\n",
              "      <th>train_accuracy</th>\n",
              "      <th>test_accuracy</th>\n",
              "    </tr>\n",
              "  </thead>\n",
              "  <tbody>\n",
              "    <tr>\n",
              "      <th>4</th>\n",
              "      <td>0.419115</td>\n",
              "      <td>0.818296</td>\n",
              "      <td>0.417987</td>\n",
              "      <td>0.817185</td>\n",
              "      <td>0.810225</td>\n",
              "    </tr>\n",
              "  </tbody>\n",
              "</table>\n",
              "</div>"
            ],
            "text/plain": [
              "   val_loss  val_accuracy      loss  train_accuracy  test_accuracy\n",
              "4  0.419115      0.818296  0.417987        0.817185       0.810225"
            ]
          },
          "metadata": {
            "tags": []
          },
          "execution_count": 49
        }
      ]
    },
    {
      "cell_type": "markdown",
      "metadata": {
        "id": "VhPsz56BzJmQ",
        "colab_type": "text"
      },
      "source": [
        "#### Save Performance to Dataframe"
      ]
    },
    {
      "cell_type": "code",
      "metadata": {
        "id": "aw-VelMizLaQ",
        "colab_type": "code",
        "outputId": "534d05cc-ee8c-4b3f-ba16-b6c2b8f8de74",
        "colab": {
          "base_uri": "https://localhost:8080/",
          "height": 81
        }
      },
      "source": [
        "results_df_v2 = history_df.iloc[-1:].copy()\n",
        "results_df_v2.insert(0,'model','DNN w/ Dropout') # went the model name to appear first\n",
        "results_df_v2['test_accuracy'] = test_acc\n",
        "results_df_v2['training time (sec)'] = train_time      # we are okay with training time appearing last\n",
        "results_df_v2['testing time (sec)'] = test_time      # we are okay with training time appearing last\n",
        "results_df_v2"
      ],
      "execution_count": 0,
      "outputs": [
        {
          "output_type": "execute_result",
          "data": {
            "text/html": [
              "<div>\n",
              "<style scoped>\n",
              "    .dataframe tbody tr th:only-of-type {\n",
              "        vertical-align: middle;\n",
              "    }\n",
              "\n",
              "    .dataframe tbody tr th {\n",
              "        vertical-align: top;\n",
              "    }\n",
              "\n",
              "    .dataframe thead th {\n",
              "        text-align: right;\n",
              "    }\n",
              "</style>\n",
              "<table border=\"1\" class=\"dataframe\">\n",
              "  <thead>\n",
              "    <tr style=\"text-align: right;\">\n",
              "      <th></th>\n",
              "      <th>model</th>\n",
              "      <th>val_loss</th>\n",
              "      <th>val_accuracy</th>\n",
              "      <th>loss</th>\n",
              "      <th>train_accuracy</th>\n",
              "      <th>test_accuracy</th>\n",
              "      <th>training time (sec)</th>\n",
              "      <th>testing time (sec)</th>\n",
              "    </tr>\n",
              "  </thead>\n",
              "  <tbody>\n",
              "    <tr>\n",
              "      <th>4</th>\n",
              "      <td>DNN w/ Dropout</td>\n",
              "      <td>0.419115</td>\n",
              "      <td>0.818296</td>\n",
              "      <td>0.417987</td>\n",
              "      <td>0.817185</td>\n",
              "      <td>0.810225</td>\n",
              "      <td>2517.518805</td>\n",
              "      <td>6.026241</td>\n",
              "    </tr>\n",
              "  </tbody>\n",
              "</table>\n",
              "</div>"
            ],
            "text/plain": [
              "            model  val_loss  ...  training time (sec)  testing time (sec)\n",
              "4  DNN w/ Dropout  0.419115  ...          2517.518805            6.026241\n",
              "\n",
              "[1 rows x 8 columns]"
            ]
          },
          "metadata": {
            "tags": []
          },
          "execution_count": 51
        }
      ]
    },
    {
      "cell_type": "code",
      "metadata": {
        "id": "h66ohRuczcfm",
        "colab_type": "code",
        "outputId": "95672446-e9d1-4258-e208-78039515d4fd",
        "colab": {
          "base_uri": "https://localhost:8080/",
          "height": 112
        }
      },
      "source": [
        "results_df = results_df.append(results_df_v2,ignore_index=True)\n",
        "results_df"
      ],
      "execution_count": 0,
      "outputs": [
        {
          "output_type": "execute_result",
          "data": {
            "text/html": [
              "<div>\n",
              "<style scoped>\n",
              "    .dataframe tbody tr th:only-of-type {\n",
              "        vertical-align: middle;\n",
              "    }\n",
              "\n",
              "    .dataframe tbody tr th {\n",
              "        vertical-align: top;\n",
              "    }\n",
              "\n",
              "    .dataframe thead th {\n",
              "        text-align: right;\n",
              "    }\n",
              "</style>\n",
              "<table border=\"1\" class=\"dataframe\">\n",
              "  <thead>\n",
              "    <tr style=\"text-align: right;\">\n",
              "      <th></th>\n",
              "      <th>model</th>\n",
              "      <th>val_loss</th>\n",
              "      <th>val_accuracy</th>\n",
              "      <th>loss</th>\n",
              "      <th>train_accuracy</th>\n",
              "      <th>test_accuracy</th>\n",
              "      <th>training time (sec)</th>\n",
              "      <th>testing time (sec)</th>\n",
              "    </tr>\n",
              "  </thead>\n",
              "  <tbody>\n",
              "    <tr>\n",
              "      <th>0</th>\n",
              "      <td>DNN (3 layers)</td>\n",
              "      <td>0.426255</td>\n",
              "      <td>0.812845</td>\n",
              "      <td>0.384176</td>\n",
              "      <td>0.833952</td>\n",
              "      <td>0.810851</td>\n",
              "      <td>2517.518805</td>\n",
              "      <td>5.990464</td>\n",
              "    </tr>\n",
              "    <tr>\n",
              "      <th>1</th>\n",
              "      <td>DNN w/ Dropout</td>\n",
              "      <td>0.419115</td>\n",
              "      <td>0.818296</td>\n",
              "      <td>0.417987</td>\n",
              "      <td>0.817185</td>\n",
              "      <td>0.810225</td>\n",
              "      <td>2517.518805</td>\n",
              "      <td>6.026241</td>\n",
              "    </tr>\n",
              "  </tbody>\n",
              "</table>\n",
              "</div>"
            ],
            "text/plain": [
              "            model  val_loss  ...  training time (sec)  testing time (sec)\n",
              "0  DNN (3 layers)  0.426255  ...          2517.518805            5.990464\n",
              "1  DNN w/ Dropout  0.419115  ...          2517.518805            6.026241\n",
              "\n",
              "[2 rows x 8 columns]"
            ]
          },
          "metadata": {
            "tags": []
          },
          "execution_count": 52
        }
      ]
    },
    {
      "cell_type": "markdown",
      "metadata": {
        "id": "Yd9FgUMQzprW",
        "colab_type": "text"
      },
      "source": [
        "#### Plot Performance"
      ]
    },
    {
      "cell_type": "code",
      "metadata": {
        "id": "CHw_PHAbzrSn",
        "colab_type": "code",
        "outputId": "7ef1739d-ca1f-464d-9204-c236ebc2669c",
        "colab": {
          "base_uri": "https://localhost:8080/",
          "height": 589
        }
      },
      "source": [
        "import matplotlib.pyplot as plt\n",
        "\n",
        "# list all data in history\n",
        "print(history_dnn2.history.keys())\n",
        "\n",
        "# summarize history for accuracy\n",
        "plt.plot(history_dnn2.history['train_accuracy'])\n",
        "plt.plot(history_dnn2.history['val_accuracy'])\n",
        "plt.title('Model 1: DNN w/ DO (3 layers)')\n",
        "plt.ylabel('Accuracy')\n",
        "plt.xlabel('Epochs')\n",
        "plt.legend(['train', 'val'], loc='lower right')\n",
        "plt.show()\n",
        "\n",
        "# summarize history for loss\n",
        "plt.plot(history_dnn2.history['loss'])\n",
        "plt.plot(history_dnn2.history['val_loss'])\n",
        "plt.title('Model 1: DNN w/ DO (3 layers)')\n",
        "plt.ylabel('Loss')\n",
        "plt.xlabel('Epochs')\n",
        "plt.legend(['train', 'val'], loc='center right')\n",
        "plt.show()"
      ],
      "execution_count": 0,
      "outputs": [
        {
          "output_type": "stream",
          "text": [
            "dict_keys(['val_loss', 'val_accuracy', 'loss', 'train_accuracy'])\n"
          ],
          "name": "stdout"
        },
        {
          "output_type": "display_data",
          "data": {
            "image/png": "[encoded data removed]",
            "text/plain": [
              "<Figure size 432x288 with 1 Axes>"
            ]
          },
          "metadata": {
            "tags": [],
            "image/png": {
              "width": 444,
              "height": 277
            },
            "needs_background": "light"
          }
        },
        {
          "output_type": "display_data",
          "data": {
            "image/png": "[encoded data removed]",
            "text/plain": [
              "<Figure size 432x288 with 1 Axes>"
            ]
          },
          "metadata": {
            "tags": [],
            "image/png": {
              "width": 444,
              "height": 277
            },
            "needs_background": "light"
          }
        }
      ]
    },
    {
      "cell_type": "markdown",
      "metadata": {
        "id": "9WpKaoWamT_G",
        "colab_type": "text"
      },
      "source": [
        "NN-2 model training with 1 epoch was already completed using the script above. I will load the saved model ('model_nn2.h5') and continue training the model through the second epoch."
      ]
    },
    {
      "cell_type": "code",
      "metadata": {
        "id": "4NGGp89ykCby",
        "colab_type": "code",
        "colab": {}
      },
      "source": [
        "# load model\n",
        "model_nn2_load = load_model(\"model_nn2.h5\")\n",
        "\n",
        "# define checkpoint to save model after each epoch\n",
        "filepath = \"model_nn2.h5\"\n",
        "nn2_checkpoint = ModelCheckpoint(filepath, monitor='val_acc', verbose=1, save_best_only=True, save_weights_only=False, mode='max', save_freq='epoch')\n",
        "\n",
        "#train the model\n",
        "history_nn2 = model_nn2_load.fit_generator(generator=batch_generator(x_train_tfidf, y_train, 32),\n",
        "                    epochs=1, validation_data=(x_validation_tfidf, y_validation),\n",
        "                    steps_per_epoch=x_train_tfidf.shape[0]/32, callbacks=[nn2_checkpoint])"
      ],
      "execution_count": 0,
      "outputs": []
    },
    {
      "cell_type": "code",
      "metadata": {
        "id": "2--rGRTAw8KR",
        "colab_type": "code",
        "outputId": "4cc2f017-6c79-47d1-b70d-74cf3fb63bd6",
        "colab": {
          "base_uri": "https://localhost:8080/",
          "height": 615
        }
      },
      "source": [
        "# load model\n",
        "model_nn2_load = load_model(\"model_nn2.h5\")"
      ],
      "execution_count": 0,
      "outputs": [
        {
          "output_type": "stream",
          "text": [
            "WARNING:tensorflow:From /usr/local/lib/python3.6/dist-packages/keras/backend/tensorflow_backend.py:541: The name tf.placeholder is deprecated. Please use tf.compat.v1.placeholder instead.\n",
            "\n",
            "WARNING:tensorflow:From /usr/local/lib/python3.6/dist-packages/keras/backend/tensorflow_backend.py:4432: The name tf.random_uniform is deprecated. Please use tf.random.uniform instead.\n",
            "\n",
            "WARNING:tensorflow:From /usr/local/lib/python3.6/dist-packages/keras/backend/tensorflow_backend.py:66: The name tf.get_default_graph is deprecated. Please use tf.compat.v1.get_default_graph instead.\n",
            "\n",
            "WARNING:tensorflow:From /usr/local/lib/python3.6/dist-packages/keras/backend/tensorflow_backend.py:148: The name tf.placeholder_with_default is deprecated. Please use tf.compat.v1.placeholder_with_default instead.\n",
            "\n",
            "WARNING:tensorflow:From /usr/local/lib/python3.6/dist-packages/keras/backend/tensorflow_backend.py:3733: calling dropout (from tensorflow.python.ops.nn_ops) with keep_prob is deprecated and will be removed in a future version.\n",
            "Instructions for updating:\n",
            "Please use `rate` instead of `keep_prob`. Rate should be set to `rate = 1 - keep_prob`.\n",
            "WARNING:tensorflow:From /usr/local/lib/python3.6/dist-packages/keras/backend/tensorflow_backend.py:190: The name tf.get_default_session is deprecated. Please use tf.compat.v1.get_default_session instead.\n",
            "\n",
            "WARNING:tensorflow:From /usr/local/lib/python3.6/dist-packages/keras/backend/tensorflow_backend.py:197: The name tf.ConfigProto is deprecated. Please use tf.compat.v1.ConfigProto instead.\n",
            "\n",
            "WARNING:tensorflow:From /usr/local/lib/python3.6/dist-packages/keras/backend/tensorflow_backend.py:203: The name tf.Session is deprecated. Please use tf.compat.v1.Session instead.\n",
            "\n",
            "WARNING:tensorflow:From /usr/local/lib/python3.6/dist-packages/keras/backend/tensorflow_backend.py:207: The name tf.global_variables is deprecated. Please use tf.compat.v1.global_variables instead.\n",
            "\n",
            "WARNING:tensorflow:From /usr/local/lib/python3.6/dist-packages/keras/backend/tensorflow_backend.py:216: The name tf.is_variable_initialized is deprecated. Please use tf.compat.v1.is_variable_initialized instead.\n",
            "\n",
            "WARNING:tensorflow:From /usr/local/lib/python3.6/dist-packages/keras/backend/tensorflow_backend.py:223: The name tf.variables_initializer is deprecated. Please use tf.compat.v1.variables_initializer instead.\n",
            "\n",
            "WARNING:tensorflow:From /usr/local/lib/python3.6/dist-packages/keras/optimizers.py:793: The name tf.train.Optimizer is deprecated. Please use tf.compat.v1.train.Optimizer instead.\n",
            "\n",
            "WARNING:tensorflow:From /usr/local/lib/python3.6/dist-packages/keras/backend/tensorflow_backend.py:3657: The name tf.log is deprecated. Please use tf.math.log instead.\n",
            "\n",
            "WARNING:tensorflow:From /usr/local/lib/python3.6/dist-packages/tensorflow_core/python/ops/nn_impl.py:183: where (from tensorflow.python.ops.array_ops) is deprecated and will be removed in a future version.\n",
            "Instructions for updating:\n",
            "Use tf.where in 2.0, which has the same broadcast rule as np.where\n",
            "WARNING:tensorflow:From /usr/local/lib/python3.6/dist-packages/keras/backend/tensorflow_backend.py:1033: The name tf.assign_add is deprecated. Please use tf.compat.v1.assign_add instead.\n",
            "\n",
            "WARNING:tensorflow:From /usr/local/lib/python3.6/dist-packages/keras/backend/tensorflow_backend.py:1020: The name tf.assign is deprecated. Please use tf.compat.v1.assign instead.\n",
            "\n"
          ],
          "name": "stdout"
        }
      ]
    },
    {
      "cell_type": "code",
      "metadata": {
        "id": "z5xVeep7NTMu",
        "colab_type": "code",
        "outputId": "b1ff2ace-05a9-4c6c-b7a1-7a2d965cfefd",
        "colab": {
          "base_uri": "https://localhost:8080/",
          "height": 85
        }
      },
      "source": [
        "# evaluate model on train set\n",
        "scores = model_nn2_load.evaluate(x_train_tfidf, y_train)\n",
        "print(\"\\n%s: %.2f%%\" % (model_nn2_load.metrics_names[1], scores[1]*100), \"for training set\\n\")\n",
        "train_acc_model_nn2 = scores[1]"
      ],
      "execution_count": 0,
      "outputs": [
        {
          "output_type": "stream",
          "text": [
            "1564120/1564120 [==============================] - 789s 504us/step\n",
            "\n",
            "acc: 83.84% for training set\n",
            "\n"
          ],
          "name": "stdout"
        }
      ]
    },
    {
      "cell_type": "code",
      "metadata": {
        "id": "S1uhaHPnY3ZL",
        "colab_type": "code",
        "outputId": "e998eb55-2924-4add-a0f3-a3b16ad862c0",
        "colab": {
          "base_uri": "https://localhost:8080/",
          "height": 68
        }
      },
      "source": [
        "# evaluate model on validation set\n",
        "scores_val = model_nn2_load.evaluate(x_validation_tfidf, y_validation)\n",
        "print(\"\\n%s: %.2f%%\" % (model_nn2_load.metrics_names[1], scores_val[1]*100), \"for validation set\")\n",
        "val_acc_model_nn2 = scores_val[1]"
      ],
      "execution_count": 0,
      "outputs": [
        {
          "output_type": "stream",
          "text": [
            "15960/15960 [==============================] - 7s 428us/step\n",
            "\n",
            "acc: 82.87% for validation set\n"
          ],
          "name": "stdout"
        }
      ]
    },
    {
      "cell_type": "code",
      "metadata": {
        "id": "JMpP_X3yd_hE",
        "colab_type": "code",
        "colab": {}
      },
      "source": [
        ""
      ],
      "execution_count": 0,
      "outputs": []
    },
    {
      "cell_type": "markdown",
      "metadata": {
        "id": "oNu1CM3t9D4o",
        "colab_type": "text"
      },
      "source": [
        "### DNN w/ Pretrained Word Embeddings (no dropout)\n",
        "\n"
      ]
    },
    {
      "cell_type": "markdown",
      "metadata": {
        "id": "ddLAeF-4eFAe",
        "colab_type": "text"
      },
      "source": [
        "#### Text Preprocessing w/ Pre-Trained Word Embeddings"
      ]
    },
    {
      "cell_type": "code",
      "metadata": {
        "id": "etuJ1bv7r1FI",
        "colab_type": "code",
        "outputId": "4c508008-ddfc-4367-970a-4d7c2a08214c",
        "colab": {
          "base_uri": "https://localhost:8080/",
          "height": 34
        }
      },
      "source": [
        "glove_dir = '/content/drive/My Drive/MSDS Files/MSDS 458/Assignment 4/glove.twitter.27B'\n",
        "\n",
        "embeddings_index = {}\n",
        "f = open(os.path.join(glove_dir, 'glove.twitter.27B.200d.txt'))\n",
        "for line in f:\n",
        "    values = line.split()\n",
        "    word = values[0]\n",
        "    coefs = np.asarray(values[1:], dtype='float32')\n",
        "    embeddings_index[word] = coefs\n",
        "f.close()\n",
        "\n",
        "print('Found %s word vectors.' % len(embeddings_index))"
      ],
      "execution_count": 0,
      "outputs": [
        {
          "output_type": "stream",
          "text": [
            "Found 1193515 word vectors.\n"
          ],
          "name": "stdout"
        }
      ]
    },
    {
      "cell_type": "code",
      "metadata": {
        "id": "EvRb4jsQr6wa",
        "colab_type": "code",
        "colab": {}
      },
      "source": [
        "from keras.preprocessing.text import Tokenizer\n",
        "from keras.preprocessing.sequence import pad_sequences"
      ],
      "execution_count": 0,
      "outputs": []
    },
    {
      "cell_type": "code",
      "metadata": {
        "id": "sQgF9eJkr8ev",
        "colab_type": "code",
        "colab": {}
      },
      "source": [
        "tokenizer = Tokenizer(num_words=100000)\n",
        "tokenizer.fit_on_texts(x_train)\n",
        "sequences = tokenizer.texts_to_sequences(x_train)"
      ],
      "execution_count": 0,
      "outputs": []
    },
    {
      "cell_type": "code",
      "metadata": {
        "id": "LiS-sxhWr9MY",
        "colab_type": "code",
        "outputId": "30453e31-e9f3-464d-b4de-675c3fd83b0e",
        "colab": {
          "base_uri": "https://localhost:8080/",
          "height": 122
        }
      },
      "source": [
        "for x in x_train[:5]:\n",
        "    print(x)"
      ],
      "execution_count": 0,
      "outputs": [
        {
          "output_type": "stream",
          "text": [
            "run house but shit its taking me away from my homework ahhhh more classes more assignments\n",
            "and we are having jaljeera party join in buddy fb\n",
            "going out with friends tonight today is friends day\n",
            "went paintballing yesterday got shot in the arm and it hurts but shot kid and he was cying in pain so its no all bad haha evil me\n",
            "sorry ll make you chicken soup\n"
          ],
          "name": "stdout"
        }
      ]
    },
    {
      "cell_type": "code",
      "metadata": {
        "id": "vmsqI6q9sEV3",
        "colab_type": "code",
        "outputId": "70798e34-74f6-46f0-eed0-9b5c1e735bb0",
        "colab": {
          "base_uri": "https://localhost:8080/",
          "height": 561
        }
      },
      "source": [
        "sequences[:5]"
      ],
      "execution_count": 0,
      "outputs": [
        {
          "output_type": "execute_result",
          "data": {
            "text/plain": [
              "[[436, 204, 17, 353, 62, 408, 14, 212, 51, 3, 578, 1517, 79, 1138, 79, 2826],\n",
              " [5, 43, 33, 171, 14239, 269, 781, 9, 1232, 647],\n",
              " [42, 31, 20, 185, 116, 37, 8, 185, 29],\n",
              " [203,\n",
              "  15929,\n",
              "  278,\n",
              "  45,\n",
              "  1106,\n",
              "  9,\n",
              "  2,\n",
              "  1486,\n",
              "  5,\n",
              "  4,\n",
              "  340,\n",
              "  17,\n",
              "  1106,\n",
              "  858,\n",
              "  5,\n",
              "  78,\n",
              "  23,\n",
              "  51053,\n",
              "  9,\n",
              "  494,\n",
              "  15,\n",
              "  62,\n",
              "  35,\n",
              "  30,\n",
              "  110,\n",
              "  97,\n",
              "  1549,\n",
              "  14],\n",
              " [115, 73, 119, 6, 870, 1449]]"
            ]
          },
          "metadata": {
            "tags": []
          },
          "execution_count": 23
        }
      ]
    },
    {
      "cell_type": "code",
      "metadata": {
        "id": "Dz1si-R5sFsD",
        "colab_type": "code",
        "colab": {}
      },
      "source": [
        "length = []\n",
        "for x in x_train:\n",
        "    length.append(len(x.split()))"
      ],
      "execution_count": 0,
      "outputs": []
    },
    {
      "cell_type": "code",
      "metadata": {
        "id": "KoYAvmxAsFpi",
        "colab_type": "code",
        "outputId": "ca6c7a73-7a17-4c21-9e7e-8f5c1df3d9d5",
        "colab": {
          "base_uri": "https://localhost:8080/",
          "height": 34
        }
      },
      "source": [
        "# pad sequence train data\n",
        "x_train_seq = pad_sequences(sequences, maxlen=45)\n",
        "print('Shape of data tensor:', x_train_seq.shape)"
      ],
      "execution_count": 0,
      "outputs": [
        {
          "output_type": "stream",
          "text": [
            "Shape of data tensor: (1564120, 45)\n"
          ],
          "name": "stdout"
        }
      ]
    },
    {
      "cell_type": "code",
      "metadata": {
        "id": "EPjLlTQfsFnO",
        "colab_type": "code",
        "colab": {}
      },
      "source": [
        "# pad sequence val data\n",
        "sequences_val = tokenizer.texts_to_sequences(x_validation)\n",
        "x_val_seq = pad_sequences(sequences_val, maxlen=45)"
      ],
      "execution_count": 0,
      "outputs": []
    },
    {
      "cell_type": "code",
      "metadata": {
        "id": "THU4IORosFkx",
        "colab_type": "code",
        "colab": {}
      },
      "source": [
        "# pad sequence test data\n",
        "sequences_test = tokenizer.texts_to_sequences(x_test)\n",
        "x_test_seq = pad_sequences(sequences_test, maxlen=45)"
      ],
      "execution_count": 0,
      "outputs": []
    },
    {
      "cell_type": "markdown",
      "metadata": {
        "id": "f3ib7WtbsUKa",
        "colab_type": "text"
      },
      "source": [
        "I am defining the number of words to be 100,000. This means I will only care about 100,000 most frequent words in the training set. If I don't limit the number of words, the total number of vocabulary will be more than 200,000."
      ]
    },
    {
      "cell_type": "code",
      "metadata": {
        "id": "RaklSnclsFiL",
        "colab_type": "code",
        "colab": {}
      },
      "source": [
        "num_words = 100000\n",
        "embedding_matrix = np.zeros((num_words, 200))\n",
        "for word, i in tokenizer.word_index.items():\n",
        "    if i >= num_words:\n",
        "        continue\n",
        "    embedding_vector = embeddings_index.get(word)\n",
        "    if embedding_vector is not None:\n",
        "        embedding_matrix[i] = embedding_vector"
      ],
      "execution_count": 0,
      "outputs": []
    },
    {
      "cell_type": "markdown",
      "metadata": {
        "id": "xnuwYDnusXa3",
        "colab_type": "text"
      },
      "source": [
        "As a sanity check, if the embedding matrix has been generated properly. Above, when I saw the first five entries of the training set, the first entry started with the word \"run,\" which had the sequential representation [436]. Let's see if the 436th embedding matrix is as same as vectors for the word 'run.'"
      ]
    },
    {
      "cell_type": "code",
      "metadata": {
        "id": "MA9IcytAsPtm",
        "colab_type": "code",
        "outputId": "0e60a103-314a-47cd-d47c-6ea57236e79a",
        "colab": {
          "base_uri": "https://localhost:8080/",
          "height": 34
        }
      },
      "source": [
        "np.array_equal(embedding_matrix[436] ,embeddings_index.get('run'))"
      ],
      "execution_count": 0,
      "outputs": [
        {
          "output_type": "execute_result",
          "data": {
            "text/plain": [
              "True"
            ]
          },
          "metadata": {
            "tags": []
          },
          "execution_count": 29
        }
      ]
    },
    {
      "cell_type": "markdown",
      "metadata": {
        "id": "IHxDU7NG9Tf-",
        "colab_type": "text"
      },
      "source": [
        "#### Build Network"
      ]
    },
    {
      "cell_type": "code",
      "metadata": {
        "id": "M_tOKw5BBgjX",
        "colab_type": "code",
        "outputId": "cbfd016d-a2eb-47a2-f06c-a7ca58691aaf",
        "colab": {
          "base_uri": "https://localhost:8080/",
          "height": 391
        }
      },
      "source": [
        "model_dnn3 = Sequential()\n",
        "e = Embedding(100000, 200, weights=[embedding_matrix], input_length=45, trainable=True)\n",
        "model_dnn3.add(e)\n",
        "model_dnn3.add(Flatten())\n",
        "model_dnn3.add(Dense(64, activation='relu', input_dim=80000))\n",
        "model_dnn3.add(Dropout(dropout))\n",
        "model_dnn3.add(Dense(32, activation='relu'))\n",
        "model_dnn3.add(Dropout(dropout))\n",
        "model_dnn3.add(Dense(1, activation='sigmoid'))\n",
        "\n",
        "model_dnn3.summary()"
      ],
      "execution_count": 0,
      "outputs": [
        {
          "output_type": "stream",
          "text": [
            "Model: \"sequential_3\"\n",
            "_________________________________________________________________\n",
            "Layer (type)                 Output Shape              Param #   \n",
            "=================================================================\n",
            "embedding_2 (Embedding)      (None, 45, 200)           20000000  \n",
            "_________________________________________________________________\n",
            "flatten_2 (Flatten)          (None, 9000)              0         \n",
            "_________________________________________________________________\n",
            "dense_7 (Dense)              (None, 64)                576064    \n",
            "_________________________________________________________________\n",
            "dropout_5 (Dropout)          (None, 64)                0         \n",
            "_________________________________________________________________\n",
            "dense_8 (Dense)              (None, 32)                2080      \n",
            "_________________________________________________________________\n",
            "dropout_6 (Dropout)          (None, 32)                0         \n",
            "_________________________________________________________________\n",
            "dense_9 (Dense)              (None, 1)                 33        \n",
            "=================================================================\n",
            "Total params: 20,578,177\n",
            "Trainable params: 20,578,177\n",
            "Non-trainable params: 0\n",
            "_________________________________________________________________\n"
          ],
          "name": "stdout"
        }
      ]
    },
    {
      "cell_type": "code",
      "metadata": {
        "id": "sLa0hvh1Ad-g",
        "colab_type": "code",
        "outputId": "07a5a7f1-b0f7-458c-fbf1-b80ecf5922ee",
        "colab": {
          "base_uri": "https://localhost:8080/",
          "height": 865
        }
      },
      "source": [
        "keras.utils.plot_model(model_dnn3, show_shapes=True)"
      ],
      "execution_count": 0,
      "outputs": [
        {
          "output_type": "execute_result",
          "data": {
            "image/png": "[encoded data removed]",
            "text/plain": [
              "<IPython.core.display.Image object>"
            ]
          },
          "metadata": {
            "tags": []
          },
          "execution_count": 36
        }
      ]
    },
    {
      "cell_type": "code",
      "metadata": {
        "id": "YFQiV2dJDk-p",
        "colab_type": "code",
        "colab": {}
      },
      "source": [
        "model_dnn3.layers[0].set_weights([embedding_matrix])\n",
        "model_dnn3.layers[0].trainable = False"
      ],
      "execution_count": 0,
      "outputs": []
    },
    {
      "cell_type": "code",
      "metadata": {
        "id": "i6QzfxFqDvgl",
        "colab_type": "code",
        "colab": {}
      },
      "source": [
        "# compile model using accuracy to measure model performance\n",
        "model_dnn3.compile(optimizer=optimizer,\n",
        "              loss=loss,\n",
        "              metrics=metrics)\n",
        "\n",
        "# define the checkpoint\n",
        "filepath = \"model_dnn3.h5\"\n",
        "dnn3_checkpoint = ModelCheckpoint(filepath, monitor='val_loss', verbose=0, save_best_only=False, save_weights_only=False, mode='auto', period = 1)\n"
      ],
      "execution_count": 0,
      "outputs": []
    },
    {
      "cell_type": "markdown",
      "metadata": {
        "id": "jT33bSzF9VIp",
        "colab_type": "text"
      },
      "source": [
        "#### Train Model"
      ]
    },
    {
      "cell_type": "code",
      "metadata": {
        "id": "fPFnSYID9WNx",
        "colab_type": "code",
        "outputId": "7eb2fb5c-cf93-4a7b-ff69-d13591372e2e",
        "colab": {
          "base_uri": "https://localhost:8080/",
          "height": 258
        }
      },
      "source": [
        "# train the model\n",
        "train_rt = TrainRuntimeCallback()\n",
        "cbs = [dnn3_checkpoint, train_rt, keras.callbacks.EarlyStopping(patience=patience, restore_best_weights = True)]\n",
        "\n",
        "# history_dnn3 = model_dnn3.fit_generator(generator=batch_generator(x_train_seq, y_train, 64),\n",
        "#                     epochs=num_epochs, validation_data=(x_val_seq, y_validation),\n",
        "#                     steps_per_epoch=x_train_tfidf.shape[0]/64, callbacks=cbs)\n",
        "\n",
        "history_dnn3 = model_dnn3.fit(x_train_seq,             \n",
        "                    y_train,  \n",
        "                    callbacks = cbs,\n",
        "                    epochs=num_epochs,\n",
        "                    batch_size=batch_size,\n",
        "                    validation_data=(x_val_seq, y_validation))"
      ],
      "execution_count": 0,
      "outputs": [
        {
          "output_type": "stream",
          "text": [
            "Train on 1564120 samples, validate on 15960 samples\n",
            "Epoch 1/10\n",
            "1564120/1564120 [==============================] - 174s 111us/step - loss: 0.4814 - accuracy: 0.7702 - val_loss: 0.4507 - val_accuracy: 0.7890\n",
            "Epoch 2/10\n",
            "1564120/1564120 [==============================] - 171s 109us/step - loss: 0.4575 - accuracy: 0.7878 - val_loss: 0.4474 - val_accuracy: 0.7932\n",
            "Epoch 3/10\n",
            "1564120/1564120 [==============================] - 168s 108us/step - loss: 0.4466 - accuracy: 0.7957 - val_loss: 0.4408 - val_accuracy: 0.7954\n",
            "Epoch 4/10\n",
            "1564120/1564120 [==============================] - 171s 109us/step - loss: 0.4390 - accuracy: 0.8011 - val_loss: 0.4438 - val_accuracy: 0.7971\n",
            "Epoch 5/10\n",
            "1564120/1564120 [==============================] - 170s 109us/step - loss: 0.4330 - accuracy: 0.8053 - val_loss: 0.4511 - val_accuracy: 0.7973\n",
            "Epoch 6/10\n",
            "1564120/1564120 [==============================] - 171s 110us/step - loss: 0.4281 - accuracy: 0.8089 - val_loss: 0.4424 - val_accuracy: 0.7955\n"
          ],
          "name": "stdout"
        }
      ]
    },
    {
      "cell_type": "code",
      "metadata": {
        "id": "B1-2w1XBJzqN",
        "colab_type": "code",
        "outputId": "1ae9c2d0-65df-4751-ce6e-66cd5f0636e4",
        "colab": {
          "base_uri": "https://localhost:8080/",
          "height": 425
        }
      },
      "source": [
        "history_dnn3.history"
      ],
      "execution_count": 0,
      "outputs": [
        {
          "output_type": "execute_result",
          "data": {
            "text/plain": [
              "{'loss': [0.48136961196409883,\n",
              "  0.45747852572695913,\n",
              "  0.44660693312384536,\n",
              "  0.43903517424763033,\n",
              "  0.43302157402322095,\n",
              "  0.4280793786030598],\n",
              " 'train_accuracy': [0.77016854,\n",
              "  0.7878085,\n",
              "  0.79568064,\n",
              "  0.8010939,\n",
              "  0.8053372,\n",
              "  0.8088606],\n",
              " 'val_accuracy': [0.7889724373817444,\n",
              "  0.7932330965995789,\n",
              "  0.7953634262084961,\n",
              "  0.7971177697181702,\n",
              "  0.7973057627677917,\n",
              "  0.795488715171814],\n",
              " 'val_loss': [0.4506570948992755,\n",
              "  0.44741922775306797,\n",
              "  0.44078637370489593,\n",
              "  0.44382938642549635,\n",
              "  0.4511067857120868,\n",
              "  0.4424342097793904]}"
            ]
          },
          "metadata": {
            "tags": []
          },
          "execution_count": 50
        }
      ]
    },
    {
      "cell_type": "code",
      "metadata": {
        "id": "v-js8EvhJoPu",
        "colab_type": "code",
        "outputId": "62b157d5-35e0-47b3-fe4e-3f520b813500",
        "colab": {
          "base_uri": "https://localhost:8080/",
          "height": 34
        }
      },
      "source": [
        "# Get the training time\n",
        "train_time = train_rt.process_time\n",
        "train_time # in seconds\n",
        "\n",
        "print(f\"train_acc: {history_dnn3.history['train_accuracy'][-1]}, val_acc: {history_dnn3.history['val_accuracy'][-1]}\")"
      ],
      "execution_count": 0,
      "outputs": [
        {
          "output_type": "stream",
          "text": [
            "train_acc: 0.8088605999946594, val_acc: 0.795488715171814\n"
          ],
          "name": "stdout"
        }
      ]
    },
    {
      "cell_type": "markdown",
      "metadata": {
        "id": "TkpLOT6G9Wl4",
        "colab_type": "text"
      },
      "source": [
        "#### Save Model"
      ]
    },
    {
      "cell_type": "code",
      "metadata": {
        "id": "Dg7tpHW69YDz",
        "colab_type": "code",
        "colab": {}
      },
      "source": [
        "# save model\n",
        "model_dnn3.save('model_dnn3.h5') "
      ],
      "execution_count": 0,
      "outputs": []
    },
    {
      "cell_type": "markdown",
      "metadata": {
        "id": "p6mUaWuA9Yxi",
        "colab_type": "text"
      },
      "source": [
        "#### Test Model"
      ]
    },
    {
      "cell_type": "code",
      "metadata": {
        "id": "XlOXC6Rn99u9",
        "colab_type": "code",
        "outputId": "316bbe3b-9488-464f-95d5-7e1e5f6bf9a3",
        "colab": {
          "base_uri": "https://localhost:8080/",
          "height": 51
        }
      },
      "source": [
        "test_rt = TestRuntimeCallback()\n",
        "\n",
        "test_loss, test_acc = model_dnn3.evaluate(x_test_seq, y_test, callbacks = [test_rt])\n",
        "\n",
        "print(f\"test_accuracy={test_acc}, test_loss={test_loss}\")"
      ],
      "execution_count": 0,
      "outputs": [
        {
          "output_type": "stream",
          "text": [
            "15961/15961 [==============================] - 1s 53us/step\n",
            "test_accuracy=0.7876699566841125, test_loss=0.4579356060568219\n"
          ],
          "name": "stdout"
        }
      ]
    },
    {
      "cell_type": "code",
      "metadata": {
        "id": "hCrMgN2lEmOE",
        "colab_type": "code",
        "outputId": "185b5f72-d7d6-4a51-e9b8-acb427c66bad",
        "colab": {
          "base_uri": "https://localhost:8080/",
          "height": 34
        }
      },
      "source": [
        "# Get the test time\n",
        "test_time = test_rt.process_time\n",
        "test_time # in seconds"
      ],
      "execution_count": 0,
      "outputs": [
        {
          "output_type": "execute_result",
          "data": {
            "text/plain": [
              "0.851879"
            ]
          },
          "metadata": {
            "tags": []
          },
          "execution_count": 42
        }
      ]
    },
    {
      "cell_type": "code",
      "metadata": {
        "id": "0AOtmdinEsyv",
        "colab_type": "code",
        "outputId": "e050ce57-d545-4f8d-f59f-383b7e0948b0",
        "colab": {
          "base_uri": "https://localhost:8080/",
          "height": 34
        }
      },
      "source": [
        "history_dict = history_dnn3.history\n",
        "history_dict['train_accuracy'] = history_dict.pop('accuracy') # rename the the key to 'train_accuracy'\n",
        "history_dict.keys()"
      ],
      "execution_count": 0,
      "outputs": [
        {
          "output_type": "execute_result",
          "data": {
            "text/plain": [
              "dict_keys(['val_loss', 'val_accuracy', 'loss', 'train_accuracy'])"
            ]
          },
          "metadata": {
            "tags": []
          },
          "execution_count": 43
        }
      ]
    },
    {
      "cell_type": "code",
      "metadata": {
        "id": "V-Qp2pvdIowY",
        "colab_type": "code",
        "outputId": "15a4784a-c30f-4c7d-ef9c-9ae0e803b8d9",
        "colab": {
          "base_uri": "https://localhost:8080/",
          "height": 80
        }
      },
      "source": [
        "import pandas as pd\n",
        "history_df=pd.DataFrame(history_dict)\n",
        "history_df['test_accuracy'] = test_acc   # using the test accuracy for smaller dataset model, NOT the full model\n",
        "history_df = history_df.iloc[-1:]\n",
        "history_df.tail()"
      ],
      "execution_count": 0,
      "outputs": [
        {
          "output_type": "execute_result",
          "data": {
            "text/html": [
              "<div>\n",
              "<style scoped>\n",
              "    .dataframe tbody tr th:only-of-type {\n",
              "        vertical-align: middle;\n",
              "    }\n",
              "\n",
              "    .dataframe tbody tr th {\n",
              "        vertical-align: top;\n",
              "    }\n",
              "\n",
              "    .dataframe thead th {\n",
              "        text-align: right;\n",
              "    }\n",
              "</style>\n",
              "<table border=\"1\" class=\"dataframe\">\n",
              "  <thead>\n",
              "    <tr style=\"text-align: right;\">\n",
              "      <th></th>\n",
              "      <th>val_loss</th>\n",
              "      <th>val_accuracy</th>\n",
              "      <th>loss</th>\n",
              "      <th>train_accuracy</th>\n",
              "      <th>test_accuracy</th>\n",
              "    </tr>\n",
              "  </thead>\n",
              "  <tbody>\n",
              "    <tr>\n",
              "      <th>5</th>\n",
              "      <td>0.442434</td>\n",
              "      <td>0.795489</td>\n",
              "      <td>0.428079</td>\n",
              "      <td>0.808861</td>\n",
              "      <td>0.78767</td>\n",
              "    </tr>\n",
              "  </tbody>\n",
              "</table>\n",
              "</div>"
            ],
            "text/plain": [
              "   val_loss  val_accuracy      loss  train_accuracy  test_accuracy\n",
              "5  0.442434      0.795489  0.428079        0.808861        0.78767"
            ]
          },
          "metadata": {
            "tags": []
          },
          "execution_count": 45
        }
      ]
    },
    {
      "cell_type": "code",
      "metadata": {
        "id": "NKuHOrp_Frms",
        "colab_type": "code",
        "outputId": "f0cff6ff-7590-47dd-8375-025fedcfbb56",
        "colab": {
          "base_uri": "https://localhost:8080/",
          "height": 114
        }
      },
      "source": [
        "results_df_v3 = history_df.iloc[-1:].copy()\n",
        "results_df_v3.insert(0,'model','DNN w/ Word Embeddings') # went the model name to appear first\n",
        "results_df_v3['test_accuracy'] = test_acc\n",
        "results_df_v3['training time (sec)'] = train_time      # we are okay with training time appearing last\n",
        "results_df_v3['testing time (sec)'] = test_time      # we are okay with training time appearing last\n",
        "results_df_v3"
      ],
      "execution_count": 0,
      "outputs": [
        {
          "output_type": "execute_result",
          "data": {
            "text/html": [
              "<div>\n",
              "<style scoped>\n",
              "    .dataframe tbody tr th:only-of-type {\n",
              "        vertical-align: middle;\n",
              "    }\n",
              "\n",
              "    .dataframe tbody tr th {\n",
              "        vertical-align: top;\n",
              "    }\n",
              "\n",
              "    .dataframe thead th {\n",
              "        text-align: right;\n",
              "    }\n",
              "</style>\n",
              "<table border=\"1\" class=\"dataframe\">\n",
              "  <thead>\n",
              "    <tr style=\"text-align: right;\">\n",
              "      <th></th>\n",
              "      <th>model</th>\n",
              "      <th>val_loss</th>\n",
              "      <th>val_accuracy</th>\n",
              "      <th>loss</th>\n",
              "      <th>train_accuracy</th>\n",
              "      <th>test_accuracy</th>\n",
              "      <th>training time (sec)</th>\n",
              "      <th>testing time (sec)</th>\n",
              "    </tr>\n",
              "  </thead>\n",
              "  <tbody>\n",
              "    <tr>\n",
              "      <th>5</th>\n",
              "      <td>DNN w/ Word Embeddings</td>\n",
              "      <td>0.442434</td>\n",
              "      <td>0.795489</td>\n",
              "      <td>0.428079</td>\n",
              "      <td>0.808861</td>\n",
              "      <td>0.78767</td>\n",
              "      <td>1030.219377</td>\n",
              "      <td>0.851879</td>\n",
              "    </tr>\n",
              "  </tbody>\n",
              "</table>\n",
              "</div>"
            ],
            "text/plain": [
              "                    model  val_loss  ...  training time (sec)  testing time (sec)\n",
              "5  DNN w/ Word Embeddings  0.442434  ...          1030.219377            0.851879\n",
              "\n",
              "[1 rows x 8 columns]"
            ]
          },
          "metadata": {
            "tags": []
          },
          "execution_count": 52
        }
      ]
    },
    {
      "cell_type": "markdown",
      "metadata": {
        "id": "bjPmZNwH9-I0",
        "colab_type": "text"
      },
      "source": [
        "#### Save Performance to Dataframe"
      ]
    },
    {
      "cell_type": "code",
      "metadata": {
        "id": "NwSVyzxy-AEn",
        "colab_type": "code",
        "outputId": "9db23897-ec68-48db-9ca9-975f854e8419",
        "colab": {
          "base_uri": "https://localhost:8080/",
          "height": 269
        }
      },
      "source": [
        "prev_results_df = pd.read_pickle('results2_v2.pkl')\n",
        "results_df = prev_results_df.append(results_df_v3,ignore_index=True)\n",
        "results_df"
      ],
      "execution_count": 0,
      "outputs": [
        {
          "output_type": "execute_result",
          "data": {
            "text/html": [
              "<div>\n",
              "<style scoped>\n",
              "    .dataframe tbody tr th:only-of-type {\n",
              "        vertical-align: middle;\n",
              "    }\n",
              "\n",
              "    .dataframe tbody tr th {\n",
              "        vertical-align: top;\n",
              "    }\n",
              "\n",
              "    .dataframe thead th {\n",
              "        text-align: right;\n",
              "    }\n",
              "</style>\n",
              "<table border=\"1\" class=\"dataframe\">\n",
              "  <thead>\n",
              "    <tr style=\"text-align: right;\">\n",
              "      <th></th>\n",
              "      <th>model</th>\n",
              "      <th>val_loss</th>\n",
              "      <th>val_accuracy</th>\n",
              "      <th>loss</th>\n",
              "      <th>train_accuracy</th>\n",
              "      <th>test_accuracy</th>\n",
              "      <th>training time (sec)</th>\n",
              "      <th>testing time (sec)</th>\n",
              "    </tr>\n",
              "  </thead>\n",
              "  <tbody>\n",
              "    <tr>\n",
              "      <th>0</th>\n",
              "      <td>DNN (3 layers)</td>\n",
              "      <td>0.426255</td>\n",
              "      <td>0.812845</td>\n",
              "      <td>0.384176</td>\n",
              "      <td>0.833952</td>\n",
              "      <td>0.810851</td>\n",
              "      <td>2517.518805</td>\n",
              "      <td>5.990464</td>\n",
              "    </tr>\n",
              "    <tr>\n",
              "      <th>1</th>\n",
              "      <td>DNN w/ Dropout</td>\n",
              "      <td>0.419115</td>\n",
              "      <td>0.818296</td>\n",
              "      <td>0.417987</td>\n",
              "      <td>0.817185</td>\n",
              "      <td>0.810225</td>\n",
              "      <td>2517.518805</td>\n",
              "      <td>6.026241</td>\n",
              "    </tr>\n",
              "    <tr>\n",
              "      <th>2</th>\n",
              "      <td>Simple RNN</td>\n",
              "      <td>0.469121</td>\n",
              "      <td>0.782143</td>\n",
              "      <td>0.439075</td>\n",
              "      <td>0.800082</td>\n",
              "      <td>0.801892</td>\n",
              "      <td>1834.569555</td>\n",
              "      <td>1.979959</td>\n",
              "    </tr>\n",
              "    <tr>\n",
              "      <th>3</th>\n",
              "      <td>RNN w/ Dropout</td>\n",
              "      <td>0.511496</td>\n",
              "      <td>0.751253</td>\n",
              "      <td>0.553732</td>\n",
              "      <td>0.717752</td>\n",
              "      <td>0.774513</td>\n",
              "      <td>1834.569555</td>\n",
              "      <td>2.334067</td>\n",
              "    </tr>\n",
              "    <tr>\n",
              "      <th>4</th>\n",
              "      <td>RNN w/ Trainable Word Embeddings</td>\n",
              "      <td>0.416349</td>\n",
              "      <td>0.815915</td>\n",
              "      <td>0.412151</td>\n",
              "      <td>0.818388</td>\n",
              "      <td>0.811415</td>\n",
              "      <td>1834.569555</td>\n",
              "      <td>2.233131</td>\n",
              "    </tr>\n",
              "    <tr>\n",
              "      <th>5</th>\n",
              "      <td>DNN w/ Word Embeddings</td>\n",
              "      <td>0.442434</td>\n",
              "      <td>0.795489</td>\n",
              "      <td>0.428079</td>\n",
              "      <td>0.808861</td>\n",
              "      <td>0.787670</td>\n",
              "      <td>1030.219377</td>\n",
              "      <td>0.851879</td>\n",
              "    </tr>\n",
              "  </tbody>\n",
              "</table>\n",
              "</div>"
            ],
            "text/plain": [
              "                              model  ...  testing time (sec)\n",
              "0                    DNN (3 layers)  ...            5.990464\n",
              "1                    DNN w/ Dropout  ...            6.026241\n",
              "2                        Simple RNN  ...            1.979959\n",
              "3                    RNN w/ Dropout  ...            2.334067\n",
              "4  RNN w/ Trainable Word Embeddings  ...            2.233131\n",
              "5            DNN w/ Word Embeddings  ...            0.851879\n",
              "\n",
              "[6 rows x 8 columns]"
            ]
          },
          "metadata": {
            "tags": []
          },
          "execution_count": 53
        }
      ]
    },
    {
      "cell_type": "markdown",
      "metadata": {
        "id": "mcuA9ZlD-AeA",
        "colab_type": "text"
      },
      "source": [
        "#### Plot Performance"
      ]
    },
    {
      "cell_type": "code",
      "metadata": {
        "id": "9Bmc-wy0-BzU",
        "colab_type": "code",
        "outputId": "b84cb584-8907-434c-fd2e-d19f5facf8a1",
        "colab": {
          "base_uri": "https://localhost:8080/",
          "height": 588
        }
      },
      "source": [
        "import matplotlib.pyplot as plt\n",
        "\n",
        "# list all data in history\n",
        "print(history_dnn3.history.keys())\n",
        "\n",
        "# summarize history for accuracy\n",
        "plt.plot(history_dnn3.history['train_accuracy'])\n",
        "plt.plot(history_dnn3.history['val_accuracy'])\n",
        "plt.title('Model 1b: DNN w/ Word Embeddings (3 layers)')\n",
        "plt.ylabel('Accuracy')\n",
        "plt.xlabel('Epochs')\n",
        "plt.legend(['train', 'val'], loc='lower right')\n",
        "plt.show()\n",
        "\n",
        "# summarize history for loss\n",
        "plt.plot(history_dnn3.history['loss'])\n",
        "plt.plot(history_dnn3.history['val_loss'])\n",
        "plt.title('Model 1b: DNN w/ Word Embeddings (3 layers)')\n",
        "plt.ylabel('Loss')\n",
        "plt.xlabel('Epochs')\n",
        "plt.legend(['train', 'val'], loc='center right')\n",
        "plt.show()"
      ],
      "execution_count": 0,
      "outputs": [
        {
          "output_type": "stream",
          "text": [
            "dict_keys(['val_loss', 'val_accuracy', 'loss', 'train_accuracy'])\n"
          ],
          "name": "stdout"
        },
        {
          "output_type": "display_data",
          "data": {
            "image/png": "[encoded data removed]",
            "text/plain": [
              "<Figure size 432x288 with 1 Axes>"
            ]
          },
          "metadata": {
            "tags": [],
            "image/png": {
              "width": 438,
              "height": 277
            },
            "needs_background": "light"
          }
        },
        {
          "output_type": "display_data",
          "data": {
            "image/png": "[encoded data removed]",
            "text/plain": [
              "<Figure size 432x288 with 1 Axes>"
            ]
          },
          "metadata": {
            "tags": [],
            "image/png": {
              "width": 431,
              "height": 277
            },
            "needs_background": "light"
          }
        }
      ]
    },
    {
      "cell_type": "markdown",
      "metadata": {
        "id": "8DQxF76pxH57",
        "colab_type": "text"
      },
      "source": [
        "### Save Combined Metrics to Dataframe"
      ]
    },
    {
      "cell_type": "markdown",
      "metadata": {
        "id": "cRgZ3zAiNABE",
        "colab_type": "text"
      },
      "source": [
        "Added metrics to results from Notebook Part 4"
      ]
    },
    {
      "cell_type": "code",
      "metadata": {
        "id": "n4Z9j3Bs370M",
        "colab_type": "code",
        "colab": {}
      },
      "source": [
        "results_df.to_pickle(\"results2_v3.pkl\") "
      ],
      "execution_count": 0,
      "outputs": []
    },
    {
      "cell_type": "markdown",
      "metadata": {
        "id": "xgMK2xeJffK1",
        "colab_type": "text"
      },
      "source": [
        "## CNN Models"
      ]
    },
    {
      "cell_type": "markdown",
      "metadata": {
        "id": "SXDWOh5_GMSx",
        "colab_type": "text"
      },
      "source": [
        "1D Convoluational Neural Networks are are "
      ]
    },
    {
      "cell_type": "markdown",
      "metadata": {
        "id": "tPmoA6dwfzx8",
        "colab_type": "text"
      },
      "source": [
        "### Prepping Word Vectors for CNN Models"
      ]
    },
    {
      "cell_type": "code",
      "metadata": {
        "id": "9Bvao5RU1GY2",
        "colab_type": "code",
        "outputId": "2d2141f9-01e2-4d88-a50a-c91887be256d",
        "colab": {
          "base_uri": "https://localhost:8080/",
          "height": 88
        }
      },
      "source": [
        "import gensim.downloader as api\n",
        "glove_twitter = api.load(\"glove-twitter-200\")"
      ],
      "execution_count": 0,
      "outputs": [
        {
          "output_type": "stream",
          "text": [
            "[================================================--] 97.6% 740.3/758.5MB downloaded\n"
          ],
          "name": "stdout"
        },
        {
          "output_type": "stream",
          "text": [
            "/usr/local/lib/python3.6/dist-packages/smart_open/smart_open_lib.py:402: UserWarning: This function is deprecated, use smart_open.open instead. See the migration notes for details: https://github.com/RaRe-Technologies/smart_open/blob/master/README.rst#migrating-to-the-new-open-function\n",
            "  'See the migration notes for details: %s' % _MIGRATION_NOTES_URL\n"
          ],
          "name": "stderr"
        }
      ]
    },
    {
      "cell_type": "code",
      "metadata": {
        "id": "BrFpRg6c1Mr8",
        "colab_type": "code",
        "outputId": "9ea43e48-4f2c-458f-eea2-2339db08c612",
        "colab": {
          "base_uri": "https://localhost:8080/",
          "height": 34
        }
      },
      "source": [
        "len(glove_twitter.vocab.keys())"
      ],
      "execution_count": 0,
      "outputs": [
        {
          "output_type": "execute_result",
          "data": {
            "text/plain": [
              "1193514"
            ]
          },
          "metadata": {
            "tags": []
          },
          "execution_count": 14
        }
      ]
    },
    {
      "cell_type": "code",
      "metadata": {
        "id": "hwu5cQed1Nno",
        "colab_type": "code",
        "outputId": "6215a031-8e59-408b-abfe-d13eb726305d",
        "colab": {
          "base_uri": "https://localhost:8080/",
          "height": 34
        }
      },
      "source": [
        "embeddings_index = {}\n",
        "for w in glove_twitter.vocab.keys():\n",
        "    embeddings_index[w] = glove_twitter[w]\n",
        "print('Found %s word vectors.' % len(embeddings_index))"
      ],
      "execution_count": 0,
      "outputs": [
        {
          "output_type": "stream",
          "text": [
            "Found 1193514 word vectors.\n"
          ],
          "name": "stdout"
        }
      ]
    },
    {
      "cell_type": "code",
      "metadata": {
        "id": "xhkXAIB81Nkv",
        "colab_type": "code",
        "colab": {}
      },
      "source": [
        "from keras.preprocessing.text import Tokenizer\n",
        "from keras.preprocessing.sequence import pad_sequences"
      ],
      "execution_count": 0,
      "outputs": []
    },
    {
      "cell_type": "code",
      "metadata": {
        "id": "-3DoYkDr1Nib",
        "colab_type": "code",
        "colab": {}
      },
      "source": [
        "tokenizer = Tokenizer(num_words=100000)\n",
        "tokenizer.fit_on_texts(x_train)\n",
        "sequences = tokenizer.texts_to_sequences(x_train)"
      ],
      "execution_count": 0,
      "outputs": []
    },
    {
      "cell_type": "code",
      "metadata": {
        "id": "n2WBrL2U1NhA",
        "colab_type": "code",
        "outputId": "9b930b35-573c-415d-ef7d-3f342cae66f8",
        "colab": {
          "base_uri": "https://localhost:8080/",
          "height": 34
        }
      },
      "source": [
        "len(tokenizer.word_index)"
      ],
      "execution_count": 0,
      "outputs": [
        {
          "output_type": "execute_result",
          "data": {
            "text/plain": [
              "261744"
            ]
          },
          "metadata": {
            "tags": []
          },
          "execution_count": 29
        }
      ]
    },
    {
      "cell_type": "code",
      "metadata": {
        "id": "QuZojzYX1Ne1",
        "colab_type": "code",
        "outputId": "fa89583f-4f90-4a6f-e774-78f392054c38",
        "colab": {
          "base_uri": "https://localhost:8080/",
          "height": 122
        }
      },
      "source": [
        "for x in x_train[:5]:\n",
        "    print(x)"
      ],
      "execution_count": 0,
      "outputs": [
        {
          "output_type": "stream",
          "text": [
            "run house but shit its taking me away from my homework ahhhh more classes more assignments\n",
            "and we are having jaljeera party join in buddy fb\n",
            "going out with friends tonight today is friends day\n",
            "went paintballing yesterday got shot in the arm and it hurts but shot kid and he was cying in pain so its no all bad haha evil me\n",
            "sorry ll make you chicken soup\n"
          ],
          "name": "stdout"
        }
      ]
    },
    {
      "cell_type": "code",
      "metadata": {
        "id": "9NO0sVJC1NcR",
        "colab_type": "code",
        "outputId": "b07ba9b0-4425-4831-c360-b1275e5f5b2d",
        "colab": {
          "base_uri": "https://localhost:8080/",
          "height": 561
        }
      },
      "source": [
        "sequences[:5]"
      ],
      "execution_count": 0,
      "outputs": [
        {
          "output_type": "execute_result",
          "data": {
            "text/plain": [
              "[[436, 204, 17, 353, 62, 408, 14, 212, 51, 3, 578, 1517, 79, 1138, 79, 2826],\n",
              " [5, 43, 33, 171, 14239, 269, 781, 9, 1232, 647],\n",
              " [42, 31, 20, 185, 116, 37, 8, 185, 29],\n",
              " [203,\n",
              "  15929,\n",
              "  278,\n",
              "  45,\n",
              "  1106,\n",
              "  9,\n",
              "  2,\n",
              "  1486,\n",
              "  5,\n",
              "  4,\n",
              "  340,\n",
              "  17,\n",
              "  1106,\n",
              "  858,\n",
              "  5,\n",
              "  78,\n",
              "  23,\n",
              "  51053,\n",
              "  9,\n",
              "  494,\n",
              "  15,\n",
              "  62,\n",
              "  35,\n",
              "  30,\n",
              "  110,\n",
              "  97,\n",
              "  1549,\n",
              "  14],\n",
              " [115, 73, 119, 6, 870, 1449]]"
            ]
          },
          "metadata": {
            "tags": []
          },
          "execution_count": 20
        }
      ]
    },
    {
      "cell_type": "code",
      "metadata": {
        "id": "VsJX-BjD1NZl",
        "colab_type": "code",
        "colab": {}
      },
      "source": [
        "length = []\n",
        "for x in x_train:\n",
        "    length.append(len(x.split()))"
      ],
      "execution_count": 0,
      "outputs": []
    },
    {
      "cell_type": "code",
      "metadata": {
        "id": "j_NM3GWm1XxF",
        "colab_type": "code",
        "outputId": "251ff110-94e2-444f-b889-43931c585c06",
        "colab": {
          "base_uri": "https://localhost:8080/",
          "height": 34
        }
      },
      "source": [
        "max(length)"
      ],
      "execution_count": 0,
      "outputs": [
        {
          "output_type": "execute_result",
          "data": {
            "text/plain": [
              "40"
            ]
          },
          "metadata": {
            "tags": []
          },
          "execution_count": 22
        }
      ]
    },
    {
      "cell_type": "code",
      "metadata": {
        "id": "2oZWEz8e1XuX",
        "colab_type": "code",
        "outputId": "37dfbb8f-5b09-41bb-9073-80d8060611e4",
        "colab": {
          "base_uri": "https://localhost:8080/",
          "height": 34
        }
      },
      "source": [
        "x_train_seq = pad_sequences(sequences, maxlen=45)\n",
        "print('Shape of data tensor:', x_train_seq.shape)"
      ],
      "execution_count": 0,
      "outputs": [
        {
          "output_type": "stream",
          "text": [
            "Shape of data tensor: (1564120, 45)\n"
          ],
          "name": "stdout"
        }
      ]
    },
    {
      "cell_type": "code",
      "metadata": {
        "id": "Y2OLmNRS1Xs8",
        "colab_type": "code",
        "outputId": "d228e79a-fea3-465d-ae47-3407cb789da4",
        "colab": {
          "base_uri": "https://localhost:8080/",
          "height": 459
        }
      },
      "source": [
        "x_train_seq[:5]"
      ],
      "execution_count": 0,
      "outputs": [
        {
          "output_type": "execute_result",
          "data": {
            "text/plain": [
              "array([[    0,     0,     0,     0,     0,     0,     0,     0,     0,\n",
              "            0,     0,     0,     0,     0,     0,     0,     0,     0,\n",
              "            0,     0,     0,     0,     0,     0,     0,     0,     0,\n",
              "            0,     0,   436,   204,    17,   353,    62,   408,    14,\n",
              "          212,    51,     3,   578,  1517,    79,  1138,    79,  2826],\n",
              "       [    0,     0,     0,     0,     0,     0,     0,     0,     0,\n",
              "            0,     0,     0,     0,     0,     0,     0,     0,     0,\n",
              "            0,     0,     0,     0,     0,     0,     0,     0,     0,\n",
              "            0,     0,     0,     0,     0,     0,     0,     0,     5,\n",
              "           43,    33,   171, 14239,   269,   781,     9,  1232,   647],\n",
              "       [    0,     0,     0,     0,     0,     0,     0,     0,     0,\n",
              "            0,     0,     0,     0,     0,     0,     0,     0,     0,\n",
              "            0,     0,     0,     0,     0,     0,     0,     0,     0,\n",
              "            0,     0,     0,     0,     0,     0,     0,     0,     0,\n",
              "           42,    31,    20,   185,   116,    37,     8,   185,    29],\n",
              "       [    0,     0,     0,     0,     0,     0,     0,     0,     0,\n",
              "            0,     0,     0,     0,     0,     0,     0,     0,   203,\n",
              "        15929,   278,    45,  1106,     9,     2,  1486,     5,     4,\n",
              "          340,    17,  1106,   858,     5,    78,    23, 51053,     9,\n",
              "          494,    15,    62,    35,    30,   110,    97,  1549,    14],\n",
              "       [    0,     0,     0,     0,     0,     0,     0,     0,     0,\n",
              "            0,     0,     0,     0,     0,     0,     0,     0,     0,\n",
              "            0,     0,     0,     0,     0,     0,     0,     0,     0,\n",
              "            0,     0,     0,     0,     0,     0,     0,     0,     0,\n",
              "            0,     0,     0,   115,    73,   119,     6,   870,  1449]],\n",
              "      dtype=int32)"
            ]
          },
          "metadata": {
            "tags": []
          },
          "execution_count": 24
        }
      ]
    },
    {
      "cell_type": "code",
      "metadata": {
        "id": "paiLGh-X1XqP",
        "colab_type": "code",
        "colab": {}
      },
      "source": [
        "sequences_val = tokenizer.texts_to_sequences(x_validation)\n",
        "x_val_seq = pad_sequences(sequences_val, maxlen=45)"
      ],
      "execution_count": 0,
      "outputs": []
    },
    {
      "cell_type": "markdown",
      "metadata": {
        "id": "sirV4O3S1eHQ",
        "colab_type": "text"
      },
      "source": [
        "I am defining the number of words to be 100,000. This means I will only care about 100,000 most frequent words in the training set. If I don't limit the number of words, the total number of vocabulary will be more than 200,000."
      ]
    },
    {
      "cell_type": "code",
      "metadata": {
        "id": "3ExN63gX1Xn1",
        "colab_type": "code",
        "colab": {}
      },
      "source": [
        "num_words = 100000\n",
        "embedding_matrix = np.zeros((num_words, 200))\n",
        "for word, i in tokenizer.word_index.items():\n",
        "    if i >= num_words:\n",
        "        continue\n",
        "    embedding_vector = embeddings_index.get(word)\n",
        "    if embedding_vector is not None:\n",
        "        embedding_matrix[i] = embedding_vector"
      ],
      "execution_count": 0,
      "outputs": []
    },
    {
      "cell_type": "markdown",
      "metadata": {
        "id": "LEtzLlmn1hEf",
        "colab_type": "text"
      },
      "source": [
        "As a sanity check, if the embedding matrix has been generated properly. Above, when I saw the first five entries of the training set, the first entry started with the word \"run,\" which had the sequential representation [436]. Let's see if the 436th embedding matrix is as same as vectors for the word 'run.'"
      ]
    },
    {
      "cell_type": "code",
      "metadata": {
        "id": "lN_fzp7E1Xj8",
        "colab_type": "code",
        "outputId": "6ef0aaa1-a3b5-44e3-dfc7-0a2aa32c8f19",
        "colab": {
          "base_uri": "https://localhost:8080/",
          "height": 34
        }
      },
      "source": [
        "np.array_equal(embedding_matrix[436] ,embeddings_index.get('run'))"
      ],
      "execution_count": 0,
      "outputs": [
        {
          "output_type": "execute_result",
          "data": {
            "text/plain": [
              "True"
            ]
          },
          "metadata": {
            "tags": []
          },
          "execution_count": 27
        }
      ]
    },
    {
      "cell_type": "code",
      "metadata": {
        "id": "BGmcj5Tv5DMa",
        "colab_type": "code",
        "colab": {}
      },
      "source": [
        "from keras.layers import Conv1D, GlobalMaxPooling1D"
      ],
      "execution_count": 0,
      "outputs": []
    },
    {
      "cell_type": "code",
      "metadata": {
        "id": "3-1T2tnd5Ata",
        "colab_type": "code",
        "outputId": "6521cb51-f9e3-4a4c-a2c5-7818805172ff",
        "colab": {
          "base_uri": "https://localhost:8080/",
          "height": 377
        }
      },
      "source": [
        "structure_test = Sequential()\n",
        "e = Embedding(100000, 200, input_length=45)\n",
        "structure_test.add(e)\n",
        "structure_test.add(Conv1D(filters=100, kernel_size=2, padding='valid', activation='relu', strides=1))\n",
        "structure_test.add(GlobalMaxPooling1D())\n",
        "structure_test.summary()"
      ],
      "execution_count": 0,
      "outputs": [
        {
          "output_type": "stream",
          "text": [
            "WARNING:tensorflow:From /usr/local/lib/python3.6/dist-packages/keras/backend/tensorflow_backend.py:66: The name tf.get_default_graph is deprecated. Please use tf.compat.v1.get_default_graph instead.\n",
            "\n",
            "WARNING:tensorflow:From /usr/local/lib/python3.6/dist-packages/keras/backend/tensorflow_backend.py:541: The name tf.placeholder is deprecated. Please use tf.compat.v1.placeholder instead.\n",
            "\n",
            "WARNING:tensorflow:From /usr/local/lib/python3.6/dist-packages/keras/backend/tensorflow_backend.py:4432: The name tf.random_uniform is deprecated. Please use tf.random.uniform instead.\n",
            "\n",
            "Model: \"sequential_1\"\n",
            "_________________________________________________________________\n",
            "Layer (type)                 Output Shape              Param #   \n",
            "=================================================================\n",
            "embedding_1 (Embedding)      (None, 45, 200)           20000000  \n",
            "_________________________________________________________________\n",
            "conv1d_1 (Conv1D)            (None, 44, 100)           40100     \n",
            "_________________________________________________________________\n",
            "global_max_pooling1d_1 (Glob (None, 100)               0         \n",
            "=================================================================\n",
            "Total params: 20,040,100\n",
            "Trainable params: 20,040,100\n",
            "Non-trainable params: 0\n",
            "_________________________________________________________________\n"
          ],
          "name": "stdout"
        }
      ]
    },
    {
      "cell_type": "markdown",
      "metadata": {
        "id": "GPvEuAtL14Rg",
        "colab_type": "text"
      },
      "source": [
        "### CNN Model 1 (CNN-1)"
      ]
    },
    {
      "cell_type": "markdown",
      "metadata": {
        "id": "xhwNZOBA4rRD",
        "colab_type": "text"
      },
      "source": [
        "CNN-1: Using static GloVe word vectors as input (trainable = False)"
      ]
    },
    {
      "cell_type": "code",
      "metadata": {
        "id": "fCwB_S0b1XgV",
        "colab_type": "code",
        "outputId": "21903bb2-940c-4ccf-ff88-b2fc82fe1ee0",
        "colab": {
          "base_uri": "https://localhost:8080/",
          "height": 219
        }
      },
      "source": [
        "%%time\n",
        "model_cnn_1 = Sequential()\n",
        "e = Embedding(100000, 200, weights=[embedding_matrix], input_length=45, trainable=False)\n",
        "model_cnn_1.add(e)\n",
        "model_cnn_1.add(Conv1D(filters=100, kernel_size=2, padding='valid', activation='relu', strides=1))\n",
        "model_cnn_1.add(GlobalMaxPooling1D())\n",
        "model_cnn_1.add(Dense(256, activation='relu'))\n",
        "model_cnn_1.add(Dense(1, activation='sigmoid'))\n",
        "model_cnn_1.compile(loss='binary_crossentropy', optimizer='adam', metrics=['accuracy'])\n",
        "\n",
        "# define checkpoint to save model after each epoch\n",
        "filepath = \"model_cnn1.h5\"\n",
        "cnn1_checkpoint = ModelCheckpoint(filepath, \n",
        "                                 monitor='val_acc', \n",
        "                                 verbose=1, \n",
        "                                 save_best_only=True, \n",
        "                                 save_weights_only=False, \n",
        "                                 mode='max', \n",
        "                                 period=1)\n",
        "\n",
        "# running only 2 epochs for time-saving purposes\n",
        "model_cnn_1.fit(x_train_seq, y_train, validation_data=(x_val_seq, y_validation), epochs=2, batch_size=32, verbose=1, callbacks=[cnn1_checkpoint])"
      ],
      "execution_count": 0,
      "outputs": [
        {
          "output_type": "stream",
          "text": [
            "Train on 1564120 samples, validate on 15960 samples\n",
            "Epoch 1/2\n",
            "1564120/1564120 [==============================] - 324s 207us/step - loss: 0.4195 - acc: 0.8065 - val_loss: 0.3966 - val_acc: 0.8232\n",
            "\n",
            "Epoch 00001: val_acc improved from -inf to 0.82325, saving model to model_cnn1.h5\n",
            "Epoch 2/2\n",
            "1564120/1564120 [==============================] - 331s 212us/step - loss: 0.3976 - acc: 0.8192 - val_loss: 0.3962 - val_acc: 0.8242\n",
            "\n",
            "Epoch 00002: val_acc improved from 0.82325 to 0.82419, saving model to model_cnn1.h5\n",
            "CPU times: user 27min 15s, sys: 2min 8s, total: 29min 23s\n",
            "Wall time: 10min 57s\n"
          ],
          "name": "stdout"
        }
      ]
    },
    {
      "cell_type": "markdown",
      "metadata": {
        "id": "J8gL5ZgDCOXN",
        "colab_type": "text"
      },
      "source": [
        "Continue training CNN-1 model through 3 more epochs, for a total of 5 epochs."
      ]
    },
    {
      "cell_type": "code",
      "metadata": {
        "id": "IjOC-EDoCMmW",
        "colab_type": "code",
        "outputId": "fc599abd-5660-4730-a560-5c1132c0cfcc",
        "colab": {
          "base_uri": "https://localhost:8080/",
          "height": 274
        }
      },
      "source": [
        "# load model only if restarting runtime session for this notebook\n",
        "# model_cnn1_load = load_model(\"model_cnn1.h5\")\n",
        "\n",
        "# define checkpoint to save model after each epoch\n",
        "filepath = \"model_cnn1.h5\"\n",
        "cnn1_checkpoint = ModelCheckpoint(filepath, \n",
        "                                 monitor='val_acc', \n",
        "                                 verbose=1, \n",
        "                                 save_best_only=True, \n",
        "                                 save_weights_only=False, \n",
        "                                 mode='max', \n",
        "                                 period=1)\n",
        "\n",
        "# running only 2 epochs for time-saving purposes\n",
        "model_cnn_1.fit(x_train_seq, y_train, validation_data=(x_val_seq, y_validation), epochs=3, batch_size=32, verbose=1, callbacks=[cnn1_checkpoint])"
      ],
      "execution_count": 0,
      "outputs": [
        {
          "output_type": "stream",
          "text": [
            "Train on 1564120 samples, validate on 15960 samples\n",
            "Epoch 1/3\n",
            "1564120/1564120 [==============================] - 326s 208us/step - loss: 0.3898 - acc: 0.8234 - val_loss: 0.3887 - val_acc: 0.8261\n",
            "\n",
            "Epoch 00001: val_acc improved from -inf to 0.82607, saving model to model_cnn1.h5\n",
            "Epoch 2/3\n",
            "1564120/1564120 [==============================] - 320s 205us/step - loss: 0.3850 - acc: 0.8263 - val_loss: 0.3878 - val_acc: 0.8229\n",
            "\n",
            "Epoch 00002: val_acc did not improve from 0.82607\n",
            "Epoch 3/3\n",
            "1564120/1564120 [==============================] - 324s 207us/step - loss: 0.3815 - acc: 0.8280 - val_loss: 0.3836 - val_acc: 0.8270\n",
            "\n",
            "Epoch 00003: val_acc improved from 0.82607 to 0.82701, saving model to model_cnn1.h5\n"
          ],
          "name": "stdout"
        },
        {
          "output_type": "execute_result",
          "data": {
            "text/plain": [
              "<keras.callbacks.History at 0x7f704a469c18>"
            ]
          },
          "metadata": {
            "tags": []
          },
          "execution_count": 43
        }
      ]
    },
    {
      "cell_type": "markdown",
      "metadata": {
        "id": "_LOjKgA8CBUR",
        "colab_type": "text"
      },
      "source": [
        "*  Best train accuracy score for CNN-1 is: 82.80%\n",
        "*  Best val accuracy score for CNN-1 is 82.70%."
      ]
    },
    {
      "cell_type": "markdown",
      "metadata": {
        "id": "dYp2-qP-AD0g",
        "colab_type": "text"
      },
      "source": [
        "### CNN Model 2 (CNN-2)"
      ]
    },
    {
      "cell_type": "markdown",
      "metadata": {
        "id": "TZmeygCxAK0f",
        "colab_type": "text"
      },
      "source": [
        "CNN-2: Using GloVe word vectors as input and updating the vectors throughout the training process (trainable = True) "
      ]
    },
    {
      "cell_type": "code",
      "metadata": {
        "id": "AM-L2hsF1Xc5",
        "colab_type": "code",
        "outputId": "ec786b71-b38c-4d63-9470-2b3146b24f67",
        "colab": {
          "base_uri": "https://localhost:8080/",
          "height": 547
        }
      },
      "source": [
        "%%time\n",
        "model_cnn_2 = Sequential()\n",
        "e = Embedding(100000, 200, weights=[embedding_matrix], input_length=45, trainable=True)\n",
        "model_cnn_2.add(e)\n",
        "model_cnn_2.add(Conv1D(filters=100, kernel_size=2, padding='valid', activation='relu', strides=1))\n",
        "model_cnn_2.add(GlobalMaxPooling1D())\n",
        "model_cnn_2.add(Dense(256, activation='relu'))\n",
        "model_cnn_2.add(Dense(1, activation='sigmoid'))\n",
        "model_cnn_2.compile(loss='binary_crossentropy', optimizer='adam', metrics=['accuracy'])\n",
        "\n",
        "# define checkpoint to save model after each epoch\n",
        "filepath = \"model_cnn2.h5\"\n",
        "cnn2_checkpoint = ModelCheckpoint(filepath, \n",
        "                                 monitor='val_acc', \n",
        "                                 verbose=1, \n",
        "                                 save_best_only=True, \n",
        "                                 save_weights_only=False, \n",
        "                                 mode='max', \n",
        "                                 period=1)\n",
        "\n",
        "# running only 1 epoch for time-saving purposes\n",
        "model_cnn_2.fit(x_train_seq, y_train, validation_data=(x_val_seq, y_validation), epochs=1, batch_size=32, verbose=1, callbacks=[cnn2_checkpoint])"
      ],
      "execution_count": 0,
      "outputs": [
        {
          "output_type": "stream",
          "text": [
            "WARNING:tensorflow:From /usr/local/lib/python3.6/dist-packages/keras/backend/tensorflow_backend.py:190: The name tf.get_default_session is deprecated. Please use tf.compat.v1.get_default_session instead.\n",
            "\n",
            "WARNING:tensorflow:From /usr/local/lib/python3.6/dist-packages/keras/backend/tensorflow_backend.py:197: The name tf.ConfigProto is deprecated. Please use tf.compat.v1.ConfigProto instead.\n",
            "\n",
            "WARNING:tensorflow:From /usr/local/lib/python3.6/dist-packages/keras/backend/tensorflow_backend.py:203: The name tf.Session is deprecated. Please use tf.compat.v1.Session instead.\n",
            "\n",
            "WARNING:tensorflow:From /usr/local/lib/python3.6/dist-packages/keras/backend/tensorflow_backend.py:207: The name tf.global_variables is deprecated. Please use tf.compat.v1.global_variables instead.\n",
            "\n",
            "WARNING:tensorflow:From /usr/local/lib/python3.6/dist-packages/keras/backend/tensorflow_backend.py:216: The name tf.is_variable_initialized is deprecated. Please use tf.compat.v1.is_variable_initialized instead.\n",
            "\n",
            "WARNING:tensorflow:From /usr/local/lib/python3.6/dist-packages/keras/backend/tensorflow_backend.py:223: The name tf.variables_initializer is deprecated. Please use tf.compat.v1.variables_initializer instead.\n",
            "\n",
            "WARNING:tensorflow:From /usr/local/lib/python3.6/dist-packages/keras/optimizers.py:793: The name tf.train.Optimizer is deprecated. Please use tf.compat.v1.train.Optimizer instead.\n",
            "\n",
            "WARNING:tensorflow:From /usr/local/lib/python3.6/dist-packages/keras/backend/tensorflow_backend.py:3657: The name tf.log is deprecated. Please use tf.math.log instead.\n",
            "\n",
            "WARNING:tensorflow:From /usr/local/lib/python3.6/dist-packages/tensorflow_core/python/ops/nn_impl.py:183: where (from tensorflow.python.ops.array_ops) is deprecated and will be removed in a future version.\n",
            "Instructions for updating:\n",
            "Use tf.where in 2.0, which has the same broadcast rule as np.where\n",
            "WARNING:tensorflow:From /usr/local/lib/python3.6/dist-packages/keras/backend/tensorflow_backend.py:1033: The name tf.assign_add is deprecated. Please use tf.compat.v1.assign_add instead.\n",
            "\n",
            "WARNING:tensorflow:From /usr/local/lib/python3.6/dist-packages/keras/backend/tensorflow_backend.py:1020: The name tf.assign is deprecated. Please use tf.compat.v1.assign instead.\n",
            "\n",
            "Train on 1564120 samples, validate on 15960 samples\n",
            "Epoch 1/1\n",
            "1564120/1564120 [==============================] - 7251s 5ms/step - loss: 0.4010 - acc: 0.8171 - val_loss: 0.3718 - val_acc: 0.8352\n",
            "\n",
            "Epoch 00001: val_acc improved from -inf to 0.83515, saving model to model_cnn2.h5\n",
            "CPU times: user 6h 40min 4s, sys: 9min 46s, total: 6h 49min 50s\n",
            "Wall time: 2h 52s\n"
          ],
          "name": "stdout"
        }
      ]
    },
    {
      "cell_type": "markdown",
      "metadata": {
        "id": "qSDBOz33YDcI",
        "colab_type": "text"
      },
      "source": [
        "*  Best train accuracy score for CNN-2 is: 81.71%\n",
        "*  Best val accuracy score for CNN-2 is 83.52%."
      ]
    },
    {
      "cell_type": "markdown",
      "metadata": {
        "id": "2J_1kalVY-SI",
        "colab_type": "text"
      },
      "source": [
        "Continue training CNN-2 model through additional epochs to improve performance."
      ]
    },
    {
      "cell_type": "code",
      "metadata": {
        "id": "GISm9K6IY5jo",
        "colab_type": "code",
        "outputId": "1c43a63b-8331-4b51-df3c-53f583496953",
        "colab": {
          "base_uri": "https://localhost:8080/",
          "height": 139
        }
      },
      "source": [
        "# load model only if restarting runtime session for this notebook\n",
        "# model_cnn_2_load = load_model(\"model_cnn2.h5\")\n",
        "\n",
        "# define checkpoint to save model after each epoch\n",
        "filepath = \"model_cnn2a.h5\"\n",
        "cnn2a_checkpoint = ModelCheckpoint(filepath, \n",
        "                                 monitor='val_acc', \n",
        "                                 verbose=1, \n",
        "                                 save_best_only=True, \n",
        "                                 save_weights_only=False, \n",
        "                                 mode='max', \n",
        "                                 period=1)\n",
        "\n",
        "# running only 1 epoch for time-saving purposes\n",
        "model_cnn_2.fit(x_train_seq, y_train, validation_data=(x_val_seq, y_validation), epochs=1, batch_size=32, verbose=1, callbacks=[cnn2a_checkpoint])"
      ],
      "execution_count": 0,
      "outputs": [
        {
          "output_type": "stream",
          "text": [
            "Train on 1564120 samples, validate on 15960 samples\n",
            "Epoch 1/1\n",
            "1564120/1564120 [==============================] - 6967s 4ms/step - loss: 0.3526 - acc: 0.8447 - val_loss: 0.3697 - val_acc: 0.8368\n",
            "\n",
            "Epoch 00001: val_acc improved from -inf to 0.83678, saving model to model_cnn2a.h5\n"
          ],
          "name": "stdout"
        },
        {
          "output_type": "execute_result",
          "data": {
            "text/plain": [
              "<keras.callbacks.History at 0x7fbbc790d588>"
            ]
          },
          "metadata": {
            "tags": []
          },
          "execution_count": 43
        }
      ]
    },
    {
      "cell_type": "markdown",
      "metadata": {
        "id": "16TT1paG44GS",
        "colab_type": "text"
      },
      "source": [
        "*  Best train accuracy score for CNN-2a is: 84.47%\n",
        "*  Best val accuracy score for CNN-2a is 83.68%."
      ]
    },
    {
      "cell_type": "markdown",
      "metadata": {
        "id": "xx3nMjgpPAx0",
        "colab_type": "text"
      },
      "source": [
        "## Final Models Evaluation"
      ]
    },
    {
      "cell_type": "markdown",
      "metadata": {
        "id": "hnZ1m75_QzVU",
        "colab_type": "text"
      },
      "source": [
        "### Vectorizing Test Data"
      ]
    },
    {
      "cell_type": "code",
      "metadata": {
        "id": "zWEcdRHYQKME",
        "colab_type": "code",
        "colab": {}
      },
      "source": [
        "x_test_tfidf = tfidf_vector.transform(x_test).toarray()"
      ],
      "execution_count": 0,
      "outputs": []
    },
    {
      "cell_type": "markdown",
      "metadata": {
        "id": "R8PazZ6rRLEs",
        "colab_type": "text"
      },
      "source": [
        "### TF-IDF + Logistic Regression"
      ]
    },
    {
      "cell_type": "code",
      "metadata": {
        "id": "Swfegzd0RK1Z",
        "colab_type": "code",
        "outputId": "1dc0dbc0-98fa-4459-8861-2dbfc0ef157d",
        "colab": {
          "base_uri": "https://localhost:8080/",
          "height": 35
        }
      },
      "source": [
        "lr_clf.score(x_test_tfidf, y_test)"
      ],
      "execution_count": 0,
      "outputs": [
        {
          "output_type": "execute_result",
          "data": {
            "text/plain": [
              "0.8191216089217468"
            ]
          },
          "metadata": {
            "tags": []
          },
          "execution_count": 61
        }
      ]
    },
    {
      "cell_type": "code",
      "metadata": {
        "id": "1L4GLo00UVIO",
        "colab_type": "code",
        "outputId": "6d4efb74-5a1a-4cc3-9a06-551fc9ad15f0",
        "colab": {
          "base_uri": "https://localhost:8080/",
          "height": 97
        }
      },
      "source": [
        "print('TF-IDF Final Eval')\n",
        "tfidf_lr_final_eval = pd.DataFrame({\n",
        "    'Model': ['TF-IDF + LR'],    \n",
        "    'Training Accuracy': ['83.57%'],\n",
        "    'Validation Accuracy': ['83.13%'],\n",
        "    'Test Accuracy': ['81.91%']\n",
        "    })\n",
        "\n",
        "# tfidf_lr_final_eval.to_csv('tfidf_lr_final_eval.csv', index = False)\n",
        "tfidf_lr_final_eval"
      ],
      "execution_count": 0,
      "outputs": [
        {
          "output_type": "stream",
          "text": [
            "TF-IDF Final Eval\n"
          ],
          "name": "stdout"
        },
        {
          "output_type": "execute_result",
          "data": {
            "text/html": [
              "<div>\n",
              "<style scoped>\n",
              "    .dataframe tbody tr th:only-of-type {\n",
              "        vertical-align: middle;\n",
              "    }\n",
              "\n",
              "    .dataframe tbody tr th {\n",
              "        vertical-align: top;\n",
              "    }\n",
              "\n",
              "    .dataframe thead th {\n",
              "        text-align: right;\n",
              "    }\n",
              "</style>\n",
              "<table border=\"1\" class=\"dataframe\">\n",
              "  <thead>\n",
              "    <tr style=\"text-align: right;\">\n",
              "      <th></th>\n",
              "      <th>Model</th>\n",
              "      <th>Training Accuracy</th>\n",
              "      <th>Validation Accuracy</th>\n",
              "      <th>Test Accuracy</th>\n",
              "    </tr>\n",
              "  </thead>\n",
              "  <tbody>\n",
              "    <tr>\n",
              "      <th>0</th>\n",
              "      <td>TF-IDF + LR</td>\n",
              "      <td>83.57%</td>\n",
              "      <td>83.13%</td>\n",
              "      <td>81.91%</td>\n",
              "    </tr>\n",
              "  </tbody>\n",
              "</table>\n",
              "</div>"
            ],
            "text/plain": [
              "         Model Training Accuracy Validation Accuracy Test Accuracy\n",
              "0  TF-IDF + LR            83.57%              83.13%        81.91%"
            ]
          },
          "metadata": {
            "tags": []
          },
          "execution_count": 15
        }
      ]
    },
    {
      "cell_type": "markdown",
      "metadata": {
        "id": "qUPHWKhaRA5O",
        "colab_type": "text"
      },
      "source": [
        "### NN Model 1 (NN-1)"
      ]
    },
    {
      "cell_type": "code",
      "metadata": {
        "id": "SrriRELwSINz",
        "colab_type": "code",
        "outputId": "e344153b-fde6-4e18-b44d-f6a204d537e8",
        "colab": {
          "base_uri": "https://localhost:8080/",
          "height": 564
        }
      },
      "source": [
        "# load model\n",
        "model_nn1_load = load_model(\"model_nn1.h5\")\n",
        "\n",
        "scores_test_nn1 = model_nn1_load.evaluate(x_test_tfidf, y_test)\n",
        "print(\"\\n%s: %.2f%%\" % (model_nn1_load.metrics_names[1], scores_test_nn1[1]*100), \"for test set\\n\")\n",
        "test_acc_model_nn1 = scores_test_nn1[1]"
      ],
      "execution_count": 0,
      "outputs": [
        {
          "output_type": "stream",
          "text": [
            "WARNING:tensorflow:From /usr/local/lib/python3.6/dist-packages/keras/backend/tensorflow_backend.py:541: The name tf.placeholder is deprecated. Please use tf.compat.v1.placeholder instead.\n",
            "\n",
            "WARNING:tensorflow:From /usr/local/lib/python3.6/dist-packages/keras/backend/tensorflow_backend.py:4432: The name tf.random_uniform is deprecated. Please use tf.random.uniform instead.\n",
            "\n",
            "WARNING:tensorflow:From /usr/local/lib/python3.6/dist-packages/keras/backend/tensorflow_backend.py:190: The name tf.get_default_session is deprecated. Please use tf.compat.v1.get_default_session instead.\n",
            "\n",
            "WARNING:tensorflow:From /usr/local/lib/python3.6/dist-packages/keras/backend/tensorflow_backend.py:197: The name tf.ConfigProto is deprecated. Please use tf.compat.v1.ConfigProto instead.\n",
            "\n",
            "WARNING:tensorflow:From /usr/local/lib/python3.6/dist-packages/keras/backend/tensorflow_backend.py:203: The name tf.Session is deprecated. Please use tf.compat.v1.Session instead.\n",
            "\n",
            "WARNING:tensorflow:From /usr/local/lib/python3.6/dist-packages/keras/backend/tensorflow_backend.py:207: The name tf.global_variables is deprecated. Please use tf.compat.v1.global_variables instead.\n",
            "\n",
            "WARNING:tensorflow:From /usr/local/lib/python3.6/dist-packages/keras/backend/tensorflow_backend.py:216: The name tf.is_variable_initialized is deprecated. Please use tf.compat.v1.is_variable_initialized instead.\n",
            "\n",
            "WARNING:tensorflow:From /usr/local/lib/python3.6/dist-packages/keras/backend/tensorflow_backend.py:223: The name tf.variables_initializer is deprecated. Please use tf.compat.v1.variables_initializer instead.\n",
            "\n",
            "WARNING:tensorflow:From /usr/local/lib/python3.6/dist-packages/keras/optimizers.py:793: The name tf.train.Optimizer is deprecated. Please use tf.compat.v1.train.Optimizer instead.\n",
            "\n",
            "WARNING:tensorflow:From /usr/local/lib/python3.6/dist-packages/keras/backend/tensorflow_backend.py:3657: The name tf.log is deprecated. Please use tf.math.log instead.\n",
            "\n",
            "WARNING:tensorflow:From /usr/local/lib/python3.6/dist-packages/tensorflow_core/python/ops/nn_impl.py:183: where (from tensorflow.python.ops.array_ops) is deprecated and will be removed in a future version.\n",
            "Instructions for updating:\n",
            "Use tf.where in 2.0, which has the same broadcast rule as np.where\n",
            "WARNING:tensorflow:From /usr/local/lib/python3.6/dist-packages/keras/backend/tensorflow_backend.py:1033: The name tf.assign_add is deprecated. Please use tf.compat.v1.assign_add instead.\n",
            "\n",
            "WARNING:tensorflow:From /usr/local/lib/python3.6/dist-packages/keras/backend/tensorflow_backend.py:1020: The name tf.assign is deprecated. Please use tf.compat.v1.assign instead.\n",
            "\n",
            "15961/15961 [==============================] - 10s 640us/step\n",
            "\n",
            "acc: 82.16% for test set\n",
            "\n"
          ],
          "name": "stdout"
        }
      ]
    },
    {
      "cell_type": "code",
      "metadata": {
        "id": "y6KKI9Wla1dt",
        "colab_type": "code",
        "outputId": "c886992b-af38-4125-cc6c-4d39885c18ae",
        "colab": {
          "base_uri": "https://localhost:8080/",
          "height": 97
        }
      },
      "source": [
        "print('NN-1 Final Evaluation')\n",
        "nn1_final_eval = pd.DataFrame({\n",
        "    'Model': ['NN-1'],    \n",
        "    'Training Accuracy': ['84.42%'],\n",
        "    'Validation Accuracy': ['82.98%'],\n",
        "    'Test Accuracy': ['82.16%']\n",
        "    })\n",
        "\n",
        "# nn1_final_eval.to_csv('nn1_final_eval.csv', index = False)\n",
        "nn1_final_eval"
      ],
      "execution_count": 0,
      "outputs": [
        {
          "output_type": "stream",
          "text": [
            "NN-1 Final Evaluation\n"
          ],
          "name": "stdout"
        },
        {
          "output_type": "execute_result",
          "data": {
            "text/html": [
              "<div>\n",
              "<style scoped>\n",
              "    .dataframe tbody tr th:only-of-type {\n",
              "        vertical-align: middle;\n",
              "    }\n",
              "\n",
              "    .dataframe tbody tr th {\n",
              "        vertical-align: top;\n",
              "    }\n",
              "\n",
              "    .dataframe thead th {\n",
              "        text-align: right;\n",
              "    }\n",
              "</style>\n",
              "<table border=\"1\" class=\"dataframe\">\n",
              "  <thead>\n",
              "    <tr style=\"text-align: right;\">\n",
              "      <th></th>\n",
              "      <th>Model</th>\n",
              "      <th>Training Accuracy</th>\n",
              "      <th>Validation Accuracy</th>\n",
              "      <th>Test Accuracy</th>\n",
              "    </tr>\n",
              "  </thead>\n",
              "  <tbody>\n",
              "    <tr>\n",
              "      <th>0</th>\n",
              "      <td>NN-1</td>\n",
              "      <td>84.42%</td>\n",
              "      <td>82.98%</td>\n",
              "      <td>82.16%</td>\n",
              "    </tr>\n",
              "  </tbody>\n",
              "</table>\n",
              "</div>"
            ],
            "text/plain": [
              "  Model Training Accuracy Validation Accuracy Test Accuracy\n",
              "0  NN-1            84.42%              82.98%        82.16%"
            ]
          },
          "metadata": {
            "tags": []
          },
          "execution_count": 16
        }
      ]
    },
    {
      "cell_type": "markdown",
      "metadata": {
        "id": "fohrtcSLRbQ-",
        "colab_type": "text"
      },
      "source": [
        "### NN Model 2 (NN-2)"
      ]
    },
    {
      "cell_type": "code",
      "metadata": {
        "id": "k0sS52I6Ye8S",
        "colab_type": "code",
        "outputId": "ebad424a-c009-4364-8056-d35b1e44f352",
        "colab": {
          "base_uri": "https://localhost:8080/",
          "height": 90
        }
      },
      "source": [
        "# load model if starting new runtime session\n",
        "model_nn2_load = load_model(\"model_nn2.h5\")\n",
        "\n",
        "scores_test_nn2 = model_nn2_load.evaluate(x_test_tfidf, y_test)\n",
        "print(\"\\n%s: %.2f%%\" % (model_nn2_load.metrics_names[1], scores_test_nn2[1]*100), \"for test set\\n\")\n",
        "test_acc_model_nn2 = scores_test_nn2[1]"
      ],
      "execution_count": 0,
      "outputs": [
        {
          "output_type": "stream",
          "text": [
            "15961/15961 [==============================] - 7s 432us/step\n",
            "\n",
            "acc: 81.92% for test set\n",
            "\n"
          ],
          "name": "stdout"
        }
      ]
    },
    {
      "cell_type": "code",
      "metadata": {
        "id": "-5rwvpRFPP-V",
        "colab_type": "code",
        "outputId": "e7db00c4-b89b-45e6-a8bd-98d19724d0e0",
        "colab": {
          "base_uri": "https://localhost:8080/",
          "height": 85
        }
      },
      "source": [
        "# load model if starting new runtime session\n",
        "model_nn2_load = load_model(\"model_nn2.h5\")\n",
        "\n",
        "scores_test_nn2 = model_nn2_load.evaluate(x_test_tfidf, y_test)\n",
        "print(\"\\n%s: %.2f%%\" % (model_nn2_load.metrics_names[1], scores_test_nn2[1]*100), \"for test set\\n\")\n",
        "test_acc_model_nn2 = scores_test_nn2[1]"
      ],
      "execution_count": 0,
      "outputs": [
        {
          "output_type": "stream",
          "text": [
            "15961/15961 [==============================] - 7s 442us/step\n",
            "\n",
            "acc: 83.84% for training set\n",
            "\n"
          ],
          "name": "stdout"
        }
      ]
    },
    {
      "cell_type": "code",
      "metadata": {
        "id": "xuAlWQ0Ebr5Y",
        "colab_type": "code",
        "outputId": "bec8c4f6-67e7-4ba9-ff75-0e9270ff21fc",
        "colab": {
          "base_uri": "https://localhost:8080/",
          "height": 97
        }
      },
      "source": [
        "print('NN-2 Final Evaluation')\n",
        "nn2_final_eval = pd.DataFrame({\n",
        "    'Model': ['NN-2'],    \n",
        "    'Training Accuracy': ['83.84%'],\n",
        "    'Validation Accuracy': ['82.87%'],\n",
        "    'Test Accuracy': ['81.92%']\n",
        "    })\n",
        "\n",
        "# nn2_final_eval.to_csv('nn2_final_eval.csv', index = False)\n",
        "nn2_final_eval"
      ],
      "execution_count": 0,
      "outputs": [
        {
          "output_type": "stream",
          "text": [
            "NN-2 Final Evaluation\n"
          ],
          "name": "stdout"
        },
        {
          "output_type": "execute_result",
          "data": {
            "text/html": [
              "<div>\n",
              "<style scoped>\n",
              "    .dataframe tbody tr th:only-of-type {\n",
              "        vertical-align: middle;\n",
              "    }\n",
              "\n",
              "    .dataframe tbody tr th {\n",
              "        vertical-align: top;\n",
              "    }\n",
              "\n",
              "    .dataframe thead th {\n",
              "        text-align: right;\n",
              "    }\n",
              "</style>\n",
              "<table border=\"1\" class=\"dataframe\">\n",
              "  <thead>\n",
              "    <tr style=\"text-align: right;\">\n",
              "      <th></th>\n",
              "      <th>Model</th>\n",
              "      <th>Training Accuracy</th>\n",
              "      <th>Validation Accuracy</th>\n",
              "      <th>Test Accuracy</th>\n",
              "    </tr>\n",
              "  </thead>\n",
              "  <tbody>\n",
              "    <tr>\n",
              "      <th>0</th>\n",
              "      <td>NN-2</td>\n",
              "      <td>83.84%</td>\n",
              "      <td>82.87%</td>\n",
              "      <td>81.92%</td>\n",
              "    </tr>\n",
              "  </tbody>\n",
              "</table>\n",
              "</div>"
            ],
            "text/plain": [
              "  Model Training Accuracy Validation Accuracy Test Accuracy\n",
              "0  NN-2            83.84%              82.87%        81.92%"
            ]
          },
          "metadata": {
            "tags": []
          },
          "execution_count": 17
        }
      ]
    },
    {
      "cell_type": "markdown",
      "metadata": {
        "id": "rbF1EUeH8Pt_",
        "colab_type": "text"
      },
      "source": [
        "### CNN Model 1 (CNN-1)"
      ]
    },
    {
      "cell_type": "code",
      "metadata": {
        "id": "mjU89r-hX0jx",
        "colab_type": "code",
        "colab": {}
      },
      "source": [
        "sequences_test = tokenizer.texts_to_sequences(x_test)\n",
        "x_test_seq = pad_sequences(sequences_test, maxlen=45)"
      ],
      "execution_count": 0,
      "outputs": []
    },
    {
      "cell_type": "code",
      "metadata": {
        "id": "56hjBauK8X2g",
        "colab_type": "code",
        "outputId": "02d2b9a8-8dd2-4c49-f9c1-6f39486a29c7",
        "colab": {
          "base_uri": "https://localhost:8080/",
          "height": 90
        }
      },
      "source": [
        "# load model if starting new runtime session and update model name in evaluation\n",
        "# model_cnn_1_load = load_model(\"model_cnn1.h5\")\n",
        "\n",
        "scores_test_cnn1 = model_cnn_1.evaluate(x_test_seq, y_test)\n",
        "print(\"\\n%s: %.2f%%\" % (model_cnn_1.metrics_names[1], scores_test_cnn1[1]*100), \"for test set\\n\")\n",
        "test_acc_model_cnn1 = scores_test_cnn1[1]"
      ],
      "execution_count": 0,
      "outputs": [
        {
          "output_type": "stream",
          "text": [
            "15961/15961 [==============================] - 1s 77us/step\n",
            "\n",
            "acc: 82.03% for test set\n",
            "\n"
          ],
          "name": "stdout"
        }
      ]
    },
    {
      "cell_type": "code",
      "metadata": {
        "id": "OdmYhCEP8aLg",
        "colab_type": "code",
        "outputId": "09008728-319b-4866-e983-55dd6ead5108",
        "colab": {
          "base_uri": "https://localhost:8080/",
          "height": 97
        }
      },
      "source": [
        "print('CNN-1 Final Evaluation')\n",
        "cnn1_final_eval = pd.DataFrame({\n",
        "    'Model': ['CNN-1'],    \n",
        "    'Training Accuracy': ['82.80%'],\n",
        "    'Validation Accuracy': ['82.70%'],\n",
        "    'Test Accuracy': ['82.03%']\n",
        "    })\n",
        "\n",
        "# cnn1_final_eval.to_csv('cnn1_final_eval.csv', index = False)\n",
        "cnn1_final_eval"
      ],
      "execution_count": 0,
      "outputs": [
        {
          "output_type": "stream",
          "text": [
            "CNN-1 Final Evaluation\n"
          ],
          "name": "stdout"
        },
        {
          "output_type": "execute_result",
          "data": {
            "text/html": [
              "<div>\n",
              "<style scoped>\n",
              "    .dataframe tbody tr th:only-of-type {\n",
              "        vertical-align: middle;\n",
              "    }\n",
              "\n",
              "    .dataframe tbody tr th {\n",
              "        vertical-align: top;\n",
              "    }\n",
              "\n",
              "    .dataframe thead th {\n",
              "        text-align: right;\n",
              "    }\n",
              "</style>\n",
              "<table border=\"1\" class=\"dataframe\">\n",
              "  <thead>\n",
              "    <tr style=\"text-align: right;\">\n",
              "      <th></th>\n",
              "      <th>Model</th>\n",
              "      <th>Training Accuracy</th>\n",
              "      <th>Validation Accuracy</th>\n",
              "      <th>Test Accuracy</th>\n",
              "    </tr>\n",
              "  </thead>\n",
              "  <tbody>\n",
              "    <tr>\n",
              "      <th>0</th>\n",
              "      <td>CNN-1</td>\n",
              "      <td>82.80%</td>\n",
              "      <td>82.70%</td>\n",
              "      <td>82.03%</td>\n",
              "    </tr>\n",
              "  </tbody>\n",
              "</table>\n",
              "</div>"
            ],
            "text/plain": [
              "   Model Training Accuracy Validation Accuracy Test Accuracy\n",
              "0  CNN-1            82.80%              82.70%        82.03%"
            ]
          },
          "metadata": {
            "tags": []
          },
          "execution_count": 18
        }
      ]
    },
    {
      "cell_type": "markdown",
      "metadata": {
        "id": "G7pZz6OM86aH",
        "colab_type": "text"
      },
      "source": [
        "### CNN Model 2 (CNN-2)"
      ]
    },
    {
      "cell_type": "code",
      "metadata": {
        "id": "9uwOeHO65HC4",
        "colab_type": "code",
        "outputId": "99e215f6-6510-487e-c941-a9567b519c1f",
        "colab": {
          "base_uri": "https://localhost:8080/",
          "height": 85
        }
      },
      "source": [
        "# load model if starting new runtime session\n",
        "model_cnn_2_load = load_model(\"model_cnn2a.h5\")\n",
        "\n",
        "scores_test_cnn2a = model_cnn_2_load.evaluate(x_test_seq, y_test)\n",
        "print(\"\\n%s: %.2f%%\" % (model_cnn_2_load.metrics_names[1], scores_test_cnn2a[1]*100), \"for test set\\n\")\n",
        "test_acc_model_cnn2a = scores_test_cnn2a[1]"
      ],
      "execution_count": 0,
      "outputs": [
        {
          "output_type": "stream",
          "text": [
            "15961/15961 [==============================] - 1s 89us/step\n",
            "\n",
            "acc: 82.66% for test set\n",
            "\n"
          ],
          "name": "stdout"
        }
      ]
    },
    {
      "cell_type": "markdown",
      "metadata": {
        "id": "Fr8nia9X5H9v",
        "colab_type": "text"
      },
      "source": [
        "*  Best train accuracy score for CNN-2a is: 84.47%\n",
        "*  Best val accuracy score for CNN-2a is 83.68%."
      ]
    },
    {
      "cell_type": "code",
      "metadata": {
        "id": "NZBKaj2O8-OD",
        "colab_type": "code",
        "outputId": "72629d51-a4c6-44c8-a984-7e8cdce5a6c1",
        "colab": {
          "base_uri": "https://localhost:8080/",
          "height": 97
        }
      },
      "source": [
        "print('CNN-2 Final Evaluation')\n",
        "cnn2_final_eval = pd.DataFrame({\n",
        "    'Model': ['CNN-2'],    \n",
        "    'Training Accuracy': ['84.47%'],\n",
        "    'Validation Accuracy': ['83.68%'],\n",
        "    'Test Accuracy': ['82.66%']\n",
        "    })\n",
        "\n",
        "# cnn2_final_eval.to_csv('cnn2_final_eval.csv', index = False)\n",
        "cnn2_final_eval"
      ],
      "execution_count": 0,
      "outputs": [
        {
          "output_type": "stream",
          "text": [
            "CNN-2 Final Evaluation\n"
          ],
          "name": "stdout"
        },
        {
          "output_type": "execute_result",
          "data": {
            "text/html": [
              "<div>\n",
              "<style scoped>\n",
              "    .dataframe tbody tr th:only-of-type {\n",
              "        vertical-align: middle;\n",
              "    }\n",
              "\n",
              "    .dataframe tbody tr th {\n",
              "        vertical-align: top;\n",
              "    }\n",
              "\n",
              "    .dataframe thead th {\n",
              "        text-align: right;\n",
              "    }\n",
              "</style>\n",
              "<table border=\"1\" class=\"dataframe\">\n",
              "  <thead>\n",
              "    <tr style=\"text-align: right;\">\n",
              "      <th></th>\n",
              "      <th>Model</th>\n",
              "      <th>Training Accuracy</th>\n",
              "      <th>Validation Accuracy</th>\n",
              "      <th>Test Accuracy</th>\n",
              "    </tr>\n",
              "  </thead>\n",
              "  <tbody>\n",
              "    <tr>\n",
              "      <th>0</th>\n",
              "      <td>CNN-2</td>\n",
              "      <td>84.47%</td>\n",
              "      <td>83.68%</td>\n",
              "      <td>82.66%</td>\n",
              "    </tr>\n",
              "  </tbody>\n",
              "</table>\n",
              "</div>"
            ],
            "text/plain": [
              "   Model Training Accuracy Validation Accuracy Test Accuracy\n",
              "0  CNN-2            84.47%              83.68%        82.66%"
            ]
          },
          "metadata": {
            "tags": []
          },
          "execution_count": 20
        }
      ]
    },
    {
      "cell_type": "markdown",
      "metadata": {
        "id": "TKLDopqD8wIE",
        "colab_type": "text"
      },
      "source": [
        "### Final Models Evaluation Summary"
      ]
    },
    {
      "cell_type": "code",
      "metadata": {
        "id": "t0zcGNU0TuE9",
        "colab_type": "code",
        "outputId": "c6400c3d-0b63-4a99-ef4f-ed68987b9c72",
        "colab": {
          "base_uri": "https://localhost:8080/",
          "height": 221
        }
      },
      "source": [
        "print('Final Evaluation Summmary')\n",
        "final_eval_summary = pd.concat(\n",
        "    [tfidf_lr_final_eval,\n",
        "     nn1_final_eval,\n",
        "     nn2_final_eval,\n",
        "     cnn1_final_eval,\n",
        "     cnn2_final_eval])\n",
        "\n",
        "final_eval_summary.to_csv('final_eval_summary.csv', index = False)\n",
        "final_eval_summary"
      ],
      "execution_count": 0,
      "outputs": [
        {
          "output_type": "stream",
          "text": [
            "Final Evaluation Summmary\n"
          ],
          "name": "stdout"
        },
        {
          "output_type": "execute_result",
          "data": {
            "text/html": [
              "<div>\n",
              "<style scoped>\n",
              "    .dataframe tbody tr th:only-of-type {\n",
              "        vertical-align: middle;\n",
              "    }\n",
              "\n",
              "    .dataframe tbody tr th {\n",
              "        vertical-align: top;\n",
              "    }\n",
              "\n",
              "    .dataframe thead th {\n",
              "        text-align: right;\n",
              "    }\n",
              "</style>\n",
              "<table border=\"1\" class=\"dataframe\">\n",
              "  <thead>\n",
              "    <tr style=\"text-align: right;\">\n",
              "      <th></th>\n",
              "      <th>Model</th>\n",
              "      <th>Training Accuracy</th>\n",
              "      <th>Validation Accuracy</th>\n",
              "      <th>Test Accuracy</th>\n",
              "    </tr>\n",
              "  </thead>\n",
              "  <tbody>\n",
              "    <tr>\n",
              "      <th>0</th>\n",
              "      <td>TF-IDF + LR</td>\n",
              "      <td>83.57%</td>\n",
              "      <td>83.13%</td>\n",
              "      <td>81.91%</td>\n",
              "    </tr>\n",
              "    <tr>\n",
              "      <th>0</th>\n",
              "      <td>NN-1</td>\n",
              "      <td>84.42%</td>\n",
              "      <td>82.98%</td>\n",
              "      <td>82.16%</td>\n",
              "    </tr>\n",
              "    <tr>\n",
              "      <th>0</th>\n",
              "      <td>NN-2</td>\n",
              "      <td>83.84%</td>\n",
              "      <td>82.87%</td>\n",
              "      <td>81.92%</td>\n",
              "    </tr>\n",
              "    <tr>\n",
              "      <th>0</th>\n",
              "      <td>CNN-1</td>\n",
              "      <td>82.80%</td>\n",
              "      <td>82.70%</td>\n",
              "      <td>82.03%</td>\n",
              "    </tr>\n",
              "    <tr>\n",
              "      <th>0</th>\n",
              "      <td>CNN-2</td>\n",
              "      <td>84.47%</td>\n",
              "      <td>83.68%</td>\n",
              "      <td>82.66%</td>\n",
              "    </tr>\n",
              "  </tbody>\n",
              "</table>\n",
              "</div>"
            ],
            "text/plain": [
              "         Model Training Accuracy Validation Accuracy Test Accuracy\n",
              "0  TF-IDF + LR            83.57%              83.13%        81.91%\n",
              "0         NN-1            84.42%              82.98%        82.16%\n",
              "0         NN-2            83.84%              82.87%        81.92%\n",
              "0        CNN-1            82.80%              82.70%        82.03%\n",
              "0        CNN-2            84.47%              83.68%        82.66%"
            ]
          },
          "metadata": {
            "tags": []
          },
          "execution_count": 21
        }
      ]
    },
    {
      "cell_type": "markdown",
      "metadata": {
        "id": "h5S0TEtu8nwm",
        "colab_type": "text"
      },
      "source": [
        "## AUC-ROC Curve on Best Models"
      ]
    },
    {
      "cell_type": "markdown",
      "metadata": {
        "id": "vGpM5nYA80GE",
        "colab_type": "text"
      },
      "source": [
        "The following plot shows the auc-roc curves of the top two models, NN-1 and CNN-2."
      ]
    },
    {
      "cell_type": "code",
      "metadata": {
        "id": "92-xCkU49QZF",
        "colab_type": "code",
        "colab": {}
      },
      "source": [
        "# load NN-1 model\n",
        "model_nn1_load = load_model(\"model_nn1.h5\")"
      ],
      "execution_count": 0,
      "outputs": []
    },
    {
      "cell_type": "code",
      "metadata": {
        "id": "dTQ76Nig9Ogx",
        "colab_type": "code",
        "colab": {}
      },
      "source": [
        "yhat_nn1 = model_nn1_load.predict(x_test_tfidf)"
      ],
      "execution_count": 0,
      "outputs": []
    },
    {
      "cell_type": "code",
      "metadata": {
        "id": "ako06r0tbCCm",
        "colab_type": "code",
        "colab": {}
      },
      "source": [
        "yhat_cnn2 = model_cnn_2_load.predict(x_test_seq)"
      ],
      "execution_count": 0,
      "outputs": []
    },
    {
      "cell_type": "code",
      "metadata": {
        "id": "Enb_Kzea-Glv",
        "colab_type": "code",
        "colab": {}
      },
      "source": [
        "from sklearn.metrics import roc_curve, auc"
      ],
      "execution_count": 0,
      "outputs": []
    },
    {
      "cell_type": "code",
      "metadata": {
        "id": "VycTFVMp-DRx",
        "colab_type": "code",
        "outputId": "2e574af0-9a83-4197-f1de-2e387a9aa3a9",
        "colab": {
          "base_uri": "https://localhost:8080/",
          "height": 482
        }
      },
      "source": [
        "fpr, tpr, threshold = roc_curve(y_test, yhat_nn1)\n",
        "roc_auc = auc(fpr, tpr)\n",
        "fpr_cnn, tpr_cnn, threshold = roc_curve(y_test, yhat_cnn2)\n",
        "roc_auc_cnn = auc(fpr_cnn, tpr_cnn)\n",
        "plt.figure(figsize=(8,7))\n",
        "plt.plot(fpr, tpr, label='NN-1 (area = %0.3f)' % roc_auc, linewidth=2)\n",
        "plt.plot(fpr_cnn, tpr_cnn, label='CNN-2 (area = %0.3f)' % roc_auc_cnn, linewidth=2)\n",
        "\n",
        "plt.plot([0, 1], [0, 1], 'k--', linewidth=2)\n",
        "plt.xlim([-0.05, 1.0])\n",
        "plt.ylim([-0.05, 1.05])\n",
        "plt.xlabel('False Positive Rate', fontsize=18)\n",
        "plt.ylabel('True Positive Rate', fontsize=18)\n",
        "plt.title('Receiver operating characteristic: Positive Tweets', fontsize=18)\n",
        "plt.legend(loc=\"lower right\", fontsize=15)\n",
        "plt.show()\n",
        "plt.savefig('auc-roc_NNvsCNN.png')"
      ],
      "execution_count": 0,
      "outputs": [
        {
          "output_type": "display_data",
          "data": {
            "image/png": "[encoded data removed]",
            "text/plain": [
              "<Figure size 576x504 with 1 Axes>"
            ]
          },
          "metadata": {
            "tags": [],
            "image/png": {
              "width": 563,
              "height": 448
            }
          }
        },
        {
          "output_type": "display_data",
          "data": {
            "text/plain": [
              "<Figure size 432x288 with 0 Axes>"
            ]
          },
          "metadata": {
            "tags": []
          }
        }
      ]
    },
    {
      "cell_type": "code",
      "metadata": {
        "id": "5OAiTEF2-Z4w",
        "colab_type": "code",
        "colab": {}
      },
      "source": [
        ""
      ],
      "execution_count": 0,
      "outputs": []
    }
  ]
}