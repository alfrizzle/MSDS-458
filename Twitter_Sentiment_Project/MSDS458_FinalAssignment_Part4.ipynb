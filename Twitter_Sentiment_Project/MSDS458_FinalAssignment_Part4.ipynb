{
  "nbformat": 4,
  "nbformat_minor": 0,
  "metadata": {
    "colab": {
      "name": "YI_ALFRED_MSDS458_FinalAssignment_Part4.ipynb",
      "provenance": [],
      "collapsed_sections": [],
      "toc_visible": true,
      "machine_shape": "hm"
    },
    "kernelspec": {
      "name": "python3",
      "display_name": "Python 3"
    },
    "accelerator": "TPU"
  },
  "cells": [
    {
      "cell_type": "markdown",
      "metadata": {
        "id": "2zIVkR05Uc_A",
        "colab_type": "text"
      },
      "source": [
        "# MSDS 458: Research/Programming Assignment #4 (Final Assignment): Part 4"
      ]
    },
    {
      "cell_type": "markdown",
      "metadata": {
        "id": "p1dswL0MUgEQ",
        "colab_type": "text"
      },
      "source": [
        "**Management Problem**\n",
        "\n",
        "For this final research assignment, I apply deep learning methods that we covered in the course (MSDS 458) to conduct sentiment analysis of Twitter data, a challenging yet important field of study for organizations in both public and private sectors. Twitter is a popular platform where entities at all levels—governments, businesses, country leaders, celebrities, and even the average social media user—express their opinions. The content of such tweets could represent a country's official policy or collectively, a country's public sentiment toward a particular issue. Given the massive volume of tweets generated each day—on average, [6,000 tweets are posted on Twitter every second](https://www.internetlivestats.com/twitter-statistics/) —there is immense value in being able quickly and accurately determine such sentiment values (e.g., positive or negative). I combine natural language processing (NLP) and deep learning techniques to build a robust Twitter sentiment classification model. \n",
        "\n",
        "**Corpus Description**\n",
        "\n",
        "The corpus I use is Stanford University's [Sentiment140](http://cs.stanford.edu/people/alecmgo/trainingandtestdata.zip). The dataset is a CSV file consisting of 1.6 million English-language tweets. The tweets are annotated using six attributes: 1. polarity of the tweet (0 = negative, 2 = neutral, 4 = positive); 2. ID; 3. date; 4. query; 5. username; 6. text.  For this project, I plan to use the polarity and text content to build a model that could take any given tweet and determine the most probable sentiment value.\n",
        "\n",
        "**Methods**\n",
        "\n",
        "***Text Preprocessing & Data Exploration***\n",
        "<p>Given the massive number of documents in the corpus (one tweet = one document), it is important to ensure the data, particularly each tweet's text, is cleaned and tokenized properly for any follow-on modeling tasks. Regular expressions are useful in handling any emoticons or special characters (e.g., @ symbols and hashtags). As part of the data exploration step, I also generate visualizations using histograms and word clouds representing various aspects of the tweets (e.g., text content, null values, positive/negative/neutral breakdown, etc.) to gain a broad understanding of both qualitative and quantitative aspects of the corpus.</p>\n",
        "\n",
        "***Text Vectorization***\n",
        "<p>While the focus of this project is evaluating optimal deep neural network (DNN) architectures and parameters for Twitter sentiment analysis, such work is dependent on proper experimentation and implementation of various text vectorization methods. I leverage the techniques I learned in MSDS 453 for this task, which include applying word embedding approaches such as TF-IDF and Doc2vec. Since there are 1.6 million documents, it is important for me to limit the vocabulary by tuning the vectorizer hyperparameters (e.g., max_features, max_df) and exploring dimensionality reduction techniques, such as PCA.</p>\n",
        "<p>I evaluate the vectors using various classifiers to ensure I have the optimal number of features in training for the classification models. I experiment with both traditional classifiers (e.g., logistic regression, random forest, and ensemble methods) and neural networks.</p>\n",
        "\n",
        "***Building Neural Network-Based Models***\n",
        "<p>The main part of this research assignment entails careful experimentation of various DNNs we covered in MSDS 458, including fully-connected dense networks, recurrent neural networks (RNN), long short-term memory networks (LSTM), and convolutional neural networks (CNN). The neural networks are built using Keras. The evaluation method to determine the best classification model consists of a strict training-and-test regimen using a crossed experimental design (e.g., maintain consistent hyperparameter settings for consistency). Vocabulary size and word embeddings also remain consistent. I experiment with various network structure designs, hyperparameter settings, and model fit methods by taking the input data (i.e., processed tweet text vectors) through single to multiple layers consisting of varying nodes/units across dense networks, RNNs, LSTM networks, and CNNs.</p>\n",
        "\n",
        "**Evaluation**\n",
        "<p>I track and compare training/testing times as well as accuracy and loss curves for train, validation, and test datasets to evaluate the deep learning models' performances. I also provide charts and plots summarizing these key metrics to visually capture which neural network structures and models yield the strongest performance, in terms of implementation time and accuracy.</p>"
      ]
    },
    {
      "cell_type": "markdown",
      "metadata": {
        "id": "Xd-KFnADUlE4",
        "colab_type": "text"
      },
      "source": [
        "## NOTES\n",
        "\n",
        "This notebook is a continuation (part 4 of 6) of MSDS 458 Final Assignment. You need access to the clean_tweets.csv file in order to run the following code.\n",
        "\n",
        "In parts 3-6, I use observations and findings from parts 1 and 2 to train various neural network models:\n",
        "\n",
        "* EXPERIMENT 1: Fully connected dense neural network (DNN)\n",
        "* **EXPERIMENT 2: Simple RNN**\n",
        "* EXPERIMENT 3: LSTM RNN\n",
        "* EXPERIMENT 4: 1D CNN\n",
        "\n",
        "The objective is to see if I can train a neural network model that could perform better than traditional machine learning models, namely logistic regrssion using a trigram TF-IDF vectorization.\n",
        "\n",
        "This notebook covers **Experiment 2: Simple RNN**"
      ]
    },
    {
      "cell_type": "markdown",
      "metadata": {
        "id": "Nuolddl9NJyo",
        "colab_type": "text"
      },
      "source": [
        "## Import packages needed (and set seed)\n",
        "\n",
        "Since Keras in part of TensorFlow 2.x, we import keras from tensorflow and use tenserflow.keras.xxx to import all other Keras packages. The seed argument produces a deterministic sequence of tensors across multiple calls."
      ]
    },
    {
      "cell_type": "code",
      "metadata": {
        "id": "D10hEwWDNF7E",
        "colab_type": "code",
        "colab": {}
      },
      "source": [
        "# import tensorflow as tf\n",
        "# from tensorflow import keras\n",
        "# from tensorflow.keras import models\n",
        "# from tensorflow.keras.models import Sequential, load_model\n",
        "# from tensorflow.keras.layers import Dense, Dropout, Flatten, Activation, Embedding\n",
        "# from tensorflow.keras.layers import Conv2D, MaxPooling2D, BatchNormalization, Dropout\n",
        "# from tensorflow.keras.callbacks import ModelCheckpoint\n",
        "# from tensorflow.keras.preprocessing import sequence\n",
        "# keras.__version__"
      ],
      "execution_count": 0,
      "outputs": []
    },
    {
      "cell_type": "code",
      "metadata": {
        "id": "SYj_enRSNYL4",
        "colab_type": "code",
        "colab": {}
      },
      "source": [
        "import pandas as pd  \n",
        "import numpy as np\n",
        "import matplotlib.pyplot as plt\n",
        "import re\n",
        "import os\n",
        "\n",
        "from google.colab import files\n",
        "from collections import Counter\n",
        "from sklearn.feature_extraction.text import TfidfVectorizer, CountVectorizer\n",
        "\n",
        "from sklearn.model_selection import train_test_split\n",
        "from sklearn.linear_model import LogisticRegression\n",
        "from sklearn import metrics\n",
        "from sklearn import utils\n",
        "from sklearn.pipeline import Pipeline\n",
        "from sklearn.metrics import accuracy_score, f1_score\n",
        "from sklearn.metrics import classification_report, confusion_matrix\n",
        "from sklearn.feature_extraction import text\n",
        "from time import time\n",
        "\n",
        "from pprint import pprint\n",
        "plt.style.use('fivethirtyeight')\n",
        "\n",
        "%matplotlib inline\n",
        "%config InlineBackend.figure_format = 'retina'"
      ],
      "execution_count": 0,
      "outputs": []
    },
    {
      "cell_type": "code",
      "metadata": {
        "id": "uSK_gpJbj05c",
        "colab_type": "code",
        "colab": {}
      },
      "source": [
        "seed = 50\n",
        "np.random.seed(seed)\n",
        "import tensorflow as tf\n",
        "from tensorflow import keras\n",
        "from keras.models import Sequential, load_model\n",
        "from keras.layers import Dense, Dropout, SimpleRNN\n",
        "from keras.layers import Flatten\n",
        "from keras.callbacks import ModelCheckpoint\n",
        "from keras.layers.embeddings import Embedding\n",
        "from keras.preprocessing import sequence\n",
        "from keras.layers import Conv2D, MaxPooling2D, BatchNormalization, Dropout\n",
        "from keras.layers import Activation, Dropout, Flatten, Dense"
      ],
      "execution_count": 0,
      "outputs": []
    },
    {
      "cell_type": "code",
      "metadata": {
        "id": "sgaTlkttNZj3",
        "colab_type": "code",
        "colab": {}
      },
      "source": [
        "keras.backend.clear_session()\n",
        "np.random.seed(42)\n",
        "tf.random.set_seed(42)"
      ],
      "execution_count": 0,
      "outputs": []
    },
    {
      "cell_type": "code",
      "metadata": {
        "id": "FQglBbvfUqX3",
        "colab_type": "code",
        "outputId": "34ddf9ae-79de-4126-a55e-0ad82a68b512",
        "colab": {
          "base_uri": "https://localhost:8080/",
          "height": 122
        }
      },
      "source": [
        "from google.colab import drive\n",
        "drive.mount('/content/drive')"
      ],
      "execution_count": 0,
      "outputs": [
        {
          "output_type": "stream",
          "text": [
            "Go to this URL in a browser: https://accounts.google.com/o/oauth2/auth?client_id=947318989803-6bn6qk8qdgf4n4g3pfee6491hc0brc4i.apps.googleusercontent.com&redirect_uri=urn%3aietf%3awg%3aoauth%3a2.0%3aoob&response_type=code&scope=email%20https%3a%2f%2fwww.googleapis.com%2fauth%2fdocs.test%20https%3a%2f%2fwww.googleapis.com%2fauth%2fdrive%20https%3a%2f%2fwww.googleapis.com%2fauth%2fdrive.photos.readonly%20https%3a%2f%2fwww.googleapis.com%2fauth%2fpeopleapi.readonly\n",
            "\n",
            "Enter your authorization code:\n",
            "··········\n",
            "Mounted at /content/drive\n"
          ],
          "name": "stdout"
        }
      ]
    },
    {
      "cell_type": "code",
      "metadata": {
        "id": "d8xrqZsFV0AR",
        "colab_type": "code",
        "outputId": "e14af6fc-fd16-42f6-93a3-4b5288e603a4",
        "colab": {
          "base_uri": "https://localhost:8080/",
          "height": 119
        }
      },
      "source": [
        "import os\n",
        "os.chdir('/content/drive/My Drive/MSDS Files/MSDS 458/Assignment 4')\n",
        "\n",
        "# Check working directory\n",
        "!pwd\n",
        "\n",
        "# Check files in directory\n",
        "!ls"
      ],
      "execution_count": 0,
      "outputs": [
        {
          "output_type": "stream",
          "text": [
            "/content/drive/My Drive/MSDS Files/MSDS 458/Assignment 4\n",
            "clean_tweets.csv\t\t  model_dnn2.h5\n",
            "clf_compare_accuracy_summary.csv  model.png\n",
            "cvec_tfidf_accuracy_summary.csv   ngram_accuracy_comparison_plot.png\n",
            "Data\t\t\t\t  results1.pkl\n",
            "model_dnn1.h5\n"
          ],
          "name": "stdout"
        }
      ]
    },
    {
      "cell_type": "code",
      "metadata": {
        "id": "TPwSsZQUV1GF",
        "colab_type": "code",
        "outputId": "a1fcbf3c-28f7-4f2e-a332-c195425c60b6",
        "colab": {
          "base_uri": "https://localhost:8080/",
          "height": 71
        }
      },
      "source": [
        "df = pd.read_csv('clean_tweets.csv', index_col=0)"
      ],
      "execution_count": 0,
      "outputs": [
        {
          "output_type": "stream",
          "text": [
            "/usr/local/lib/python3.6/dist-packages/numpy/lib/arraysetops.py:569: FutureWarning: elementwise comparison failed; returning scalar instead, but in the future will perform elementwise comparison\n",
            "  mask |= (ar1 == a)\n"
          ],
          "name": "stderr"
        }
      ]
    },
    {
      "cell_type": "code",
      "metadata": {
        "id": "cephDmO1V25G",
        "colab_type": "code",
        "outputId": "c8201e33-a85f-4b59-eed3-d77eb506f3bf",
        "colab": {
          "base_uri": "https://localhost:8080/",
          "height": 204
        }
      },
      "source": [
        "df.head()"
      ],
      "execution_count": 0,
      "outputs": [
        {
          "output_type": "execute_result",
          "data": {
            "text/html": [
              "<div>\n",
              "<style scoped>\n",
              "    .dataframe tbody tr th:only-of-type {\n",
              "        vertical-align: middle;\n",
              "    }\n",
              "\n",
              "    .dataframe tbody tr th {\n",
              "        vertical-align: top;\n",
              "    }\n",
              "\n",
              "    .dataframe thead th {\n",
              "        text-align: right;\n",
              "    }\n",
              "</style>\n",
              "<table border=\"1\" class=\"dataframe\">\n",
              "  <thead>\n",
              "    <tr style=\"text-align: right;\">\n",
              "      <th></th>\n",
              "      <th>text</th>\n",
              "      <th>target</th>\n",
              "    </tr>\n",
              "  </thead>\n",
              "  <tbody>\n",
              "    <tr>\n",
              "      <th>0</th>\n",
              "      <td>awww that bummer you shoulda got david carr of...</td>\n",
              "      <td>0</td>\n",
              "    </tr>\n",
              "    <tr>\n",
              "      <th>1</th>\n",
              "      <td>is upset that he can not update his facebook b...</td>\n",
              "      <td>0</td>\n",
              "    </tr>\n",
              "    <tr>\n",
              "      <th>2</th>\n",
              "      <td>dived many times for the ball managed to save ...</td>\n",
              "      <td>0</td>\n",
              "    </tr>\n",
              "    <tr>\n",
              "      <th>3</th>\n",
              "      <td>my whole body feels itchy and like its on fire</td>\n",
              "      <td>0</td>\n",
              "    </tr>\n",
              "    <tr>\n",
              "      <th>4</th>\n",
              "      <td>no it not behaving at all mad why am here beca...</td>\n",
              "      <td>0</td>\n",
              "    </tr>\n",
              "  </tbody>\n",
              "</table>\n",
              "</div>"
            ],
            "text/plain": [
              "                                                text  target\n",
              "0  awww that bummer you shoulda got david carr of...       0\n",
              "1  is upset that he can not update his facebook b...       0\n",
              "2  dived many times for the ball managed to save ...       0\n",
              "3     my whole body feels itchy and like its on fire       0\n",
              "4  no it not behaving at all mad why am here beca...       0"
            ]
          },
          "metadata": {
            "tags": []
          },
          "execution_count": 9
        }
      ]
    },
    {
      "cell_type": "markdown",
      "metadata": {
        "id": "Dwcf-V1rV9xp",
        "colab_type": "text"
      },
      "source": [
        "## Model Training Prep"
      ]
    },
    {
      "cell_type": "markdown",
      "metadata": {
        "id": "glsz6pLkWDDr",
        "colab_type": "text"
      },
      "source": [
        "Train / Dev / Test Split\n",
        "\n",
        "Given the 1.5 million+ size of the dataset, I will split the data into training, validation, and test data."
      ]
    },
    {
      "cell_type": "code",
      "metadata": {
        "id": "13lYkSb9V4WK",
        "colab_type": "code",
        "colab": {}
      },
      "source": [
        "x = df.text\n",
        "y = df.target"
      ],
      "execution_count": 0,
      "outputs": []
    },
    {
      "cell_type": "code",
      "metadata": {
        "id": "mP_ISBM4WGS2",
        "colab_type": "code",
        "colab": {}
      },
      "source": [
        "SEED = 5000\n",
        "x_train, x_validation_and_test, y_train, y_validation_and_test = train_test_split(x, y, test_size=.02, random_state=SEED)\n",
        "x_validation, x_test, y_validation, y_test = train_test_split(x_validation_and_test, y_validation_and_test, test_size=.5, random_state=SEED)"
      ],
      "execution_count": 0,
      "outputs": []
    },
    {
      "cell_type": "code",
      "metadata": {
        "id": "y-1zDaKGWJMe",
        "colab_type": "code",
        "outputId": "07b2ba0f-6105-4874-857b-3cb304b0bce8",
        "colab": {
          "base_uri": "https://localhost:8080/",
          "height": 68
        }
      },
      "source": [
        "print(\"Train set has total {0} entries with {1:.2f}% negative tweets, {2:.2f}% positive tweets.\".format(len(x_train),\n",
        "                                                                             (len(x_train[y_train == 0]) / (len(x_train)*1.))*100,\n",
        "                                                                            (len(x_train[y_train == 1]) / (len(x_train)*1.))*100))\n",
        "print(\"Validation set has total {0} entries with {1:.2f}% negative tweets, {2:.2f}% positive tweets.\".format(len(x_validation),\n",
        "                                                                             (len(x_validation[y_validation == 0]) / (len(x_validation)*1.))*100,\n",
        "                                                                            (len(x_validation[y_validation == 1]) / (len(x_validation)*1.))*100))\n",
        "print(\"Test set has total {0} entries with {1:.2f}% negative tweets, {2:.2f}% positive tweets.\".format(len(x_test),\n",
        "                                                                             (len(x_test[y_test == 0]) / (len(x_test)*1.))*100,\n",
        "                                                                            (len(x_test[y_test == 1]) / (len(x_test)*1.))*100))"
      ],
      "execution_count": 0,
      "outputs": [
        {
          "output_type": "stream",
          "text": [
            "Train set has total 1564120 entries with 50.02% negative tweets, 49.98% positive tweets.\n",
            "Validation set has total 15960 entries with 49.18% negative tweets, 50.82% positive tweets.\n",
            "Test set has total 15961 entries with 49.86% negative tweets, 50.14% positive tweets.\n"
          ],
          "name": "stdout"
        }
      ]
    },
    {
      "cell_type": "markdown",
      "metadata": {
        "id": "5DH7nXHBScSb",
        "colab_type": "text"
      },
      "source": [
        "## Train/Test Timer Functions"
      ]
    },
    {
      "cell_type": "code",
      "metadata": {
        "id": "WW2_87DUSf8D",
        "colab_type": "code",
        "colab": {}
      },
      "source": [
        "# Define callback to get total training time\n",
        "import datetime\n",
        "\n",
        "class TrainRuntimeCallback(keras.callbacks.Callback):\n",
        "\n",
        "  def on_train_begin(self,logs={}):\n",
        "    self.start = datetime.datetime.now()\n",
        "\n",
        "  def on_train_end(self,logs={}):\n",
        "    self.process_time = (datetime.datetime.now() - self.start).total_seconds()\n",
        "\n",
        "\n",
        "# Define callback to get total test time\n",
        "\n",
        "class TestRuntimeCallback(keras.callbacks.Callback):\n",
        "\n",
        "  def on_test_begin(self,logs={}):\n",
        "    self.start = datetime.datetime.now()\n",
        "\n",
        "  def on_test_end(self,logs={}):\n",
        "    self.process_time = (datetime.datetime.now() - self.start).total_seconds()\n",
        "\n",
        "train_rt = TrainRuntimeCallback()\n",
        "test_rt = TestRuntimeCallback()"
      ],
      "execution_count": 0,
      "outputs": []
    },
    {
      "cell_type": "markdown",
      "metadata": {
        "id": "cqu9AFAgShN7",
        "colab_type": "text"
      },
      "source": [
        "## Hyperparameter Settings"
      ]
    },
    {
      "cell_type": "code",
      "metadata": {
        "id": "wxXmReNvSmLz",
        "colab_type": "code",
        "colab": {}
      },
      "source": [
        "num_epochs = 10\n",
        "batch_size = 64\n",
        "# validation_split = 0.20\n",
        "patience = 3\n",
        "# cbs = [train_rt, keras.callbacks.EarlyStopping(patience=5, restore_best_weights = True)]\n",
        "\n",
        "optimizer='rmsprop'\n",
        "loss='binary_crossentropy'\n",
        "metrics=['accuracy']\n",
        "\n",
        "dropout = 0.2\n",
        "RNN_units = 128"
      ],
      "execution_count": 0,
      "outputs": []
    },
    {
      "cell_type": "markdown",
      "metadata": {
        "id": "QhmFoK_iXEn_",
        "colab_type": "text"
      },
      "source": [
        "## TF-IDF + Logistic Regression (Trigram)"
      ]
    },
    {
      "cell_type": "markdown",
      "metadata": {
        "id": "p_gawUR5Xjgx",
        "colab_type": "text"
      },
      "source": [
        "In part 2, I discovered that a logistic regression model with a trigram TF-IDF vectorization resulted in the highest accuracy (higher than the Doc2vec+DBOW model or Doc2vec+DMM models). I will generate the accuracy scores for both the train and validation data as reference points for the subsequent neural network model."
      ]
    },
    {
      "cell_type": "code",
      "metadata": {
        "id": "bWWZWD6yWKoZ",
        "colab_type": "code",
        "outputId": "7c6bc283-9409-4bb8-80ab-c96222957cc6",
        "colab": {
          "base_uri": "https://localhost:8080/",
          "height": 136
        }
      },
      "source": [
        "tfidf_vector = TfidfVectorizer(max_features=80000,ngram_range=(1, 3))\n",
        "tfidf_vector.fit(x_train)"
      ],
      "execution_count": 0,
      "outputs": [
        {
          "output_type": "execute_result",
          "data": {
            "text/plain": [
              "TfidfVectorizer(analyzer='word', binary=False, decode_error='strict',\n",
              "                dtype=<class 'numpy.float64'>, encoding='utf-8',\n",
              "                input='content', lowercase=True, max_df=1.0, max_features=80000,\n",
              "                min_df=1, ngram_range=(1, 3), norm='l2', preprocessor=None,\n",
              "                smooth_idf=True, stop_words=None, strip_accents=None,\n",
              "                sublinear_tf=False, token_pattern='(?u)\\\\b\\\\w\\\\w+\\\\b',\n",
              "                tokenizer=None, use_idf=True, vocabulary=None)"
            ]
          },
          "metadata": {
            "tags": []
          },
          "execution_count": 15
        }
      ]
    },
    {
      "cell_type": "code",
      "metadata": {
        "id": "1i6IPu7oYVOX",
        "colab_type": "code",
        "colab": {}
      },
      "source": [
        "#vectorizing train data\n",
        "x_train_tfidf = tfidf_vector.transform(x_train)"
      ],
      "execution_count": 0,
      "outputs": []
    },
    {
      "cell_type": "code",
      "metadata": {
        "id": "ya1jd2CjZ3No",
        "colab_type": "code",
        "colab": {}
      },
      "source": [
        "#vectorizing validation data\n",
        "x_validation_tfidf = tfidf_vector.transform(x_validation).toarray()"
      ],
      "execution_count": 0,
      "outputs": []
    },
    {
      "cell_type": "code",
      "metadata": {
        "id": "9UsWO9-bpet7",
        "colab_type": "code",
        "colab": {}
      },
      "source": [
        "# vectorizing test data\n",
        "x_test_tfidf = tfidf_vector.transform(x_test).toarray()"
      ],
      "execution_count": 0,
      "outputs": []
    },
    {
      "cell_type": "code",
      "metadata": {
        "id": "0_rAAsosaAWT",
        "colab_type": "code",
        "outputId": "19a4b73e-af68-4b97-e04a-29cf0ad283fd",
        "colab": {
          "base_uri": "https://localhost:8080/",
          "height": 207
        }
      },
      "source": [
        "%%time\n",
        "lr_clf = LogisticRegression()\n",
        "lr_clf.fit(x_train_tfidf, y_train)"
      ],
      "execution_count": 0,
      "outputs": [
        {
          "output_type": "stream",
          "text": [
            "CPU times: user 3min 25s, sys: 15min 35s, total: 19min 1s\n",
            "Wall time: 42.9 s\n"
          ],
          "name": "stdout"
        },
        {
          "output_type": "stream",
          "text": [
            "/usr/local/lib/python3.6/dist-packages/sklearn/linear_model/_logistic.py:940: ConvergenceWarning: lbfgs failed to converge (status=1):\n",
            "STOP: TOTAL NO. of ITERATIONS REACHED LIMIT.\n",
            "\n",
            "Increase the number of iterations (max_iter) or scale the data as shown in:\n",
            "    https://scikit-learn.org/stable/modules/preprocessing.html\n",
            "Please also refer to the documentation for alternative solver options:\n",
            "    https://scikit-learn.org/stable/modules/linear_model.html#logistic-regression\n",
            "  extra_warning_msg=_LOGISTIC_SOLVER_CONVERGENCE_MSG)\n"
          ],
          "name": "stderr"
        }
      ]
    },
    {
      "cell_type": "code",
      "metadata": {
        "id": "guV4mL_yapyC",
        "colab_type": "code",
        "outputId": "177092c7-9513-4966-e628-638736f53d8d",
        "colab": {
          "base_uri": "https://localhost:8080/",
          "height": 34
        }
      },
      "source": [
        "lr_clf.score(x_validation_tfidf, y_validation)"
      ],
      "execution_count": 0,
      "outputs": [
        {
          "output_type": "execute_result",
          "data": {
            "text/plain": [
              "0.8320175438596491"
            ]
          },
          "metadata": {
            "tags": []
          },
          "execution_count": 20
        }
      ]
    },
    {
      "cell_type": "code",
      "metadata": {
        "id": "MtEsawqNarmk",
        "colab_type": "code",
        "outputId": "2e3dffdb-6261-4305-ea3f-d8b7db0b09e6",
        "colab": {
          "base_uri": "https://localhost:8080/",
          "height": 34
        }
      },
      "source": [
        "lr_clf.score(x_train_tfidf, y_train)"
      ],
      "execution_count": 0,
      "outputs": [
        {
          "output_type": "execute_result",
          "data": {
            "text/plain": [
              "0.8359831726466"
            ]
          },
          "metadata": {
            "tags": []
          },
          "execution_count": 21
        }
      ]
    },
    {
      "cell_type": "code",
      "metadata": {
        "id": "aLQIzQJspkNX",
        "colab_type": "code",
        "outputId": "a2748f34-3b9c-4047-94d5-7aec7b4aa96e",
        "colab": {
          "base_uri": "https://localhost:8080/",
          "height": 34
        }
      },
      "source": [
        "lr_clf.score(x_test_tfidf, y_test)"
      ],
      "execution_count": 0,
      "outputs": [
        {
          "output_type": "execute_result",
          "data": {
            "text/plain": [
              "0.8193095670697325"
            ]
          },
          "metadata": {
            "tags": []
          },
          "execution_count": 22
        }
      ]
    },
    {
      "cell_type": "markdown",
      "metadata": {
        "id": "4l2-dgfxdt5A",
        "colab_type": "text"
      },
      "source": [
        "**TF-IDF + Logistic Regression Accuracy Results:**\n",
        "*  Training Accuracy: 83.60%\n",
        "*  Validation Accuracy: 83.20%\n",
        "*  Test Accuracy: 81.93%"
      ]
    },
    {
      "cell_type": "markdown",
      "metadata": {
        "id": "mKfW6mQKCW9y",
        "colab_type": "text"
      },
      "source": [
        "## Text Preprocessing w/ Pre-Trained Word Embeddings"
      ]
    },
    {
      "cell_type": "code",
      "metadata": {
        "id": "MAVv776GCbJt",
        "colab_type": "code",
        "colab": {}
      },
      "source": [
        "# import gensim.downloader as api\n",
        "# glove_twitter = api.load(\"glove-twitter-200\")"
      ],
      "execution_count": 0,
      "outputs": []
    },
    {
      "cell_type": "code",
      "metadata": {
        "id": "hae9uHF3Cbl_",
        "colab_type": "code",
        "colab": {}
      },
      "source": [
        "# len(glove_twitter.vocab.keys())"
      ],
      "execution_count": 0,
      "outputs": []
    },
    {
      "cell_type": "code",
      "metadata": {
        "id": "4GCIoxWKCdgU",
        "colab_type": "code",
        "colab": {}
      },
      "source": [
        "# embeddings_index = {}\n",
        "# for w in glove_twitter.vocab.keys():\n",
        "#     embeddings_index[w] = glove_twitter[w]\n",
        "# print('Found %s word vectors.' % len(embeddings_index))"
      ],
      "execution_count": 0,
      "outputs": []
    },
    {
      "cell_type": "code",
      "metadata": {
        "id": "OT-cyCR_mnBz",
        "colab_type": "code",
        "outputId": "a30f5575-ae5b-4dca-dbf3-dd27802a7790",
        "colab": {
          "base_uri": "https://localhost:8080/",
          "height": 34
        }
      },
      "source": [
        "glove_dir = '/content/drive/My Drive/MSDS Files/MSDS 458/Assignment 4/glove.twitter.27B'\n",
        "\n",
        "embeddings_index = {}\n",
        "f = open(os.path.join(glove_dir, 'glove.twitter.27B.200d.txt'))\n",
        "for line in f:\n",
        "    values = line.split()\n",
        "    word = values[0]\n",
        "    coefs = np.asarray(values[1:], dtype='float32')\n",
        "    embeddings_index[word] = coefs\n",
        "f.close()\n",
        "\n",
        "print('Found %s word vectors.' % len(embeddings_index))"
      ],
      "execution_count": 0,
      "outputs": [
        {
          "output_type": "stream",
          "text": [
            "Found 1193515 word vectors.\n"
          ],
          "name": "stdout"
        }
      ]
    },
    {
      "cell_type": "code",
      "metadata": {
        "id": "ALKbe0sACe6I",
        "colab_type": "code",
        "colab": {}
      },
      "source": [
        "from keras.preprocessing.text import Tokenizer\n",
        "from keras.preprocessing.sequence import pad_sequences"
      ],
      "execution_count": 0,
      "outputs": []
    },
    {
      "cell_type": "code",
      "metadata": {
        "id": "373kK6RNCgR3",
        "colab_type": "code",
        "colab": {}
      },
      "source": [
        "tokenizer = Tokenizer(num_words=100000)\n",
        "tokenizer.fit_on_texts(x_train)\n",
        "sequences = tokenizer.texts_to_sequences(x_train)"
      ],
      "execution_count": 0,
      "outputs": []
    },
    {
      "cell_type": "code",
      "metadata": {
        "id": "W9vH-FYKChwY",
        "colab_type": "code",
        "outputId": "86feb5c4-ba55-46f3-ce33-42fe6b93a30a",
        "colab": {
          "base_uri": "https://localhost:8080/",
          "height": 34
        }
      },
      "source": [
        "len(tokenizer.word_index)"
      ],
      "execution_count": 0,
      "outputs": [
        {
          "output_type": "execute_result",
          "data": {
            "text/plain": [
              "261744"
            ]
          },
          "metadata": {
            "tags": []
          },
          "execution_count": 29
        }
      ]
    },
    {
      "cell_type": "code",
      "metadata": {
        "id": "r6c1Rz0eCjH9",
        "colab_type": "code",
        "outputId": "325f14a6-ee4e-4085-86d8-8f6a0dfcf72c",
        "colab": {
          "base_uri": "https://localhost:8080/",
          "height": 122
        }
      },
      "source": [
        "for x in x_train[:5]:\n",
        "    print(x)"
      ],
      "execution_count": 0,
      "outputs": [
        {
          "output_type": "stream",
          "text": [
            "run house but shit its taking me away from my homework ahhhh more classes more assignments\n",
            "and we are having jaljeera party join in buddy fb\n",
            "going out with friends tonight today is friends day\n",
            "went paintballing yesterday got shot in the arm and it hurts but shot kid and he was cying in pain so its no all bad haha evil me\n",
            "sorry ll make you chicken soup\n"
          ],
          "name": "stdout"
        }
      ]
    },
    {
      "cell_type": "code",
      "metadata": {
        "id": "iByCZqmCCkjn",
        "colab_type": "code",
        "outputId": "17b1ccb5-d530-484d-de11-c792b32d4583",
        "colab": {
          "base_uri": "https://localhost:8080/",
          "height": 561
        }
      },
      "source": [
        "sequences[:5]"
      ],
      "execution_count": 0,
      "outputs": [
        {
          "output_type": "execute_result",
          "data": {
            "text/plain": [
              "[[436, 204, 17, 353, 62, 408, 14, 212, 51, 3, 578, 1517, 79, 1138, 79, 2826],\n",
              " [5, 43, 33, 171, 14239, 269, 781, 9, 1232, 647],\n",
              " [42, 31, 20, 185, 116, 37, 8, 185, 29],\n",
              " [203,\n",
              "  15929,\n",
              "  278,\n",
              "  45,\n",
              "  1106,\n",
              "  9,\n",
              "  2,\n",
              "  1486,\n",
              "  5,\n",
              "  4,\n",
              "  340,\n",
              "  17,\n",
              "  1106,\n",
              "  858,\n",
              "  5,\n",
              "  78,\n",
              "  23,\n",
              "  51053,\n",
              "  9,\n",
              "  494,\n",
              "  15,\n",
              "  62,\n",
              "  35,\n",
              "  30,\n",
              "  110,\n",
              "  97,\n",
              "  1549,\n",
              "  14],\n",
              " [115, 73, 119, 6, 870, 1449]]"
            ]
          },
          "metadata": {
            "tags": []
          },
          "execution_count": 31
        }
      ]
    },
    {
      "cell_type": "code",
      "metadata": {
        "id": "t7fqCJFRCl5z",
        "colab_type": "code",
        "colab": {}
      },
      "source": [
        "length = []\n",
        "for x in x_train:\n",
        "    length.append(len(x.split()))"
      ],
      "execution_count": 0,
      "outputs": []
    },
    {
      "cell_type": "code",
      "metadata": {
        "id": "Qm-7C3kTCnYo",
        "colab_type": "code",
        "outputId": "4367aa0a-995a-4866-8428-cf63bd61aa7e",
        "colab": {
          "base_uri": "https://localhost:8080/",
          "height": 34
        }
      },
      "source": [
        "max(length)"
      ],
      "execution_count": 0,
      "outputs": [
        {
          "output_type": "execute_result",
          "data": {
            "text/plain": [
              "40"
            ]
          },
          "metadata": {
            "tags": []
          },
          "execution_count": 33
        }
      ]
    },
    {
      "cell_type": "code",
      "metadata": {
        "id": "BEkPoFwICpQg",
        "colab_type": "code",
        "outputId": "238f6010-9d8d-41ea-bc99-7e7c46df617a",
        "colab": {
          "base_uri": "https://localhost:8080/",
          "height": 34
        }
      },
      "source": [
        "# pad sequence train data\n",
        "x_train_seq = pad_sequences(sequences, maxlen=45)\n",
        "print('Shape of data tensor:', x_train_seq.shape)"
      ],
      "execution_count": 0,
      "outputs": [
        {
          "output_type": "stream",
          "text": [
            "Shape of data tensor: (1564120, 45)\n"
          ],
          "name": "stdout"
        }
      ]
    },
    {
      "cell_type": "code",
      "metadata": {
        "id": "LruA7OoGCqbC",
        "colab_type": "code",
        "outputId": "c830524a-3dc9-4bdd-b1cd-d31d13103dbd",
        "colab": {
          "base_uri": "https://localhost:8080/",
          "height": 459
        }
      },
      "source": [
        "x_train_seq[:5]"
      ],
      "execution_count": 0,
      "outputs": [
        {
          "output_type": "execute_result",
          "data": {
            "text/plain": [
              "array([[    0,     0,     0,     0,     0,     0,     0,     0,     0,\n",
              "            0,     0,     0,     0,     0,     0,     0,     0,     0,\n",
              "            0,     0,     0,     0,     0,     0,     0,     0,     0,\n",
              "            0,     0,   436,   204,    17,   353,    62,   408,    14,\n",
              "          212,    51,     3,   578,  1517,    79,  1138,    79,  2826],\n",
              "       [    0,     0,     0,     0,     0,     0,     0,     0,     0,\n",
              "            0,     0,     0,     0,     0,     0,     0,     0,     0,\n",
              "            0,     0,     0,     0,     0,     0,     0,     0,     0,\n",
              "            0,     0,     0,     0,     0,     0,     0,     0,     5,\n",
              "           43,    33,   171, 14239,   269,   781,     9,  1232,   647],\n",
              "       [    0,     0,     0,     0,     0,     0,     0,     0,     0,\n",
              "            0,     0,     0,     0,     0,     0,     0,     0,     0,\n",
              "            0,     0,     0,     0,     0,     0,     0,     0,     0,\n",
              "            0,     0,     0,     0,     0,     0,     0,     0,     0,\n",
              "           42,    31,    20,   185,   116,    37,     8,   185,    29],\n",
              "       [    0,     0,     0,     0,     0,     0,     0,     0,     0,\n",
              "            0,     0,     0,     0,     0,     0,     0,     0,   203,\n",
              "        15929,   278,    45,  1106,     9,     2,  1486,     5,     4,\n",
              "          340,    17,  1106,   858,     5,    78,    23, 51053,     9,\n",
              "          494,    15,    62,    35,    30,   110,    97,  1549,    14],\n",
              "       [    0,     0,     0,     0,     0,     0,     0,     0,     0,\n",
              "            0,     0,     0,     0,     0,     0,     0,     0,     0,\n",
              "            0,     0,     0,     0,     0,     0,     0,     0,     0,\n",
              "            0,     0,     0,     0,     0,     0,     0,     0,     0,\n",
              "            0,     0,     0,   115,    73,   119,     6,   870,  1449]],\n",
              "      dtype=int32)"
            ]
          },
          "metadata": {
            "tags": []
          },
          "execution_count": 35
        }
      ]
    },
    {
      "cell_type": "code",
      "metadata": {
        "id": "CVbI_dbxCrpY",
        "colab_type": "code",
        "colab": {}
      },
      "source": [
        "# pad sequence val data\n",
        "sequences_val = tokenizer.texts_to_sequences(x_validation)\n",
        "x_val_seq = pad_sequences(sequences_val, maxlen=45)"
      ],
      "execution_count": 0,
      "outputs": []
    },
    {
      "cell_type": "code",
      "metadata": {
        "id": "tsR-m49hFxJm",
        "colab_type": "code",
        "colab": {}
      },
      "source": [
        "# pad sequence test data\n",
        "sequences_test = tokenizer.texts_to_sequences(x_test)\n",
        "x_test_seq = pad_sequences(sequences_test, maxlen=45)"
      ],
      "execution_count": 0,
      "outputs": []
    },
    {
      "cell_type": "markdown",
      "metadata": {
        "id": "TKo0oa1JCwiu",
        "colab_type": "text"
      },
      "source": [
        "I am defining the number of words to be 100,000. This means I will only care about 100,000 most frequent words in the training set. If I don't limit the number of words, the total number of vocabulary will be more than 200,000."
      ]
    },
    {
      "cell_type": "code",
      "metadata": {
        "id": "EVwgmXOpCt4F",
        "colab_type": "code",
        "colab": {}
      },
      "source": [
        "num_words = 100000\n",
        "embedding_matrix = np.zeros((num_words, 200))\n",
        "for word, i in tokenizer.word_index.items():\n",
        "    if i >= num_words:\n",
        "        continue\n",
        "    embedding_vector = embeddings_index.get(word)\n",
        "    if embedding_vector is not None:\n",
        "        embedding_matrix[i] = embedding_vector"
      ],
      "execution_count": 0,
      "outputs": []
    },
    {
      "cell_type": "markdown",
      "metadata": {
        "id": "LrZZg4IkC0y8",
        "colab_type": "text"
      },
      "source": [
        "As a sanity check, if the embedding matrix has been generated properly. Above, when I saw the first five entries of the training set, the first entry started with the word \"run,\" which had the sequential representation [436]. Let's see if the 436th embedding matrix is as same as vectors for the word 'run.'"
      ]
    },
    {
      "cell_type": "code",
      "metadata": {
        "id": "5WDXqw5KC2DS",
        "colab_type": "code",
        "outputId": "f2bae2c7-7537-4c99-ea6b-89cd72f97d50",
        "colab": {
          "base_uri": "https://localhost:8080/",
          "height": 34
        }
      },
      "source": [
        "np.array_equal(embedding_matrix[436] ,embeddings_index.get('run'))"
      ],
      "execution_count": 0,
      "outputs": [
        {
          "output_type": "execute_result",
          "data": {
            "text/plain": [
              "True"
            ]
          },
          "metadata": {
            "tags": []
          },
          "execution_count": 39
        }
      ]
    },
    {
      "cell_type": "markdown",
      "metadata": {
        "id": "jbTSasd4awWY",
        "colab_type": "text"
      },
      "source": [
        "## Training Models"
      ]
    },
    {
      "cell_type": "markdown",
      "metadata": {
        "id": "yJKnIh-K0kDD",
        "colab_type": "text"
      },
      "source": [
        "### Simple RNN (Using Pre-Trained Word Embeddings)"
      ]
    },
    {
      "cell_type": "markdown",
      "metadata": {
        "id": "3mY0wlI-03Ct",
        "colab_type": "text"
      },
      "source": [
        "Pretrained word embeddings are the GloVe Twitter 200-dimension word vectors (2B tweets, 27B tokens, 1.2M vocab, uncased, 200d vectors, 1.42 GB download): glove.twitter.27B.zip\n",
        "\n",
        "Available here: https://github.com/stanfordnlp/GloVe"
      ]
    },
    {
      "cell_type": "markdown",
      "metadata": {
        "id": "XIV9rwwkV4Mo",
        "colab_type": "text"
      },
      "source": [
        "#### Build Network"
      ]
    },
    {
      "cell_type": "code",
      "metadata": {
        "id": "TEJ11_oEE2ok",
        "colab_type": "code",
        "outputId": "a6571d41-b385-4eba-ad9f-36717fd7e201",
        "colab": {
          "base_uri": "https://localhost:8080/",
          "height": 289
        }
      },
      "source": [
        "model_rnn1 = Sequential()\n",
        "e = Embedding(100000, 200, weights=[embedding_matrix], input_length=45, trainable=False)\n",
        "model_rnn1.add(e)\n",
        "model_rnn1.add(SimpleRNN(units = RNN_units))\n",
        "model_rnn1.add(Dense(128, activation='relu'))\n",
        "model_rnn1.add(Dense(units = 1, activation='sigmoid'))\n",
        "\n",
        "model_rnn1.compile(optimizer=optimizer,\n",
        "              loss=loss,\n",
        "              metrics=metrics)\n",
        "\n",
        "# define the checkpoint\n",
        "filepath = \"model_rnn1.h5\"\n",
        "rnn1_checkpoint = ModelCheckpoint(filepath, monitor='val_loss', verbose=0, save_best_only=False, save_weights_only=False, mode='auto', period = 1)\n",
        "\n",
        "model_rnn1.summary()"
      ],
      "execution_count": 0,
      "outputs": [
        {
          "output_type": "stream",
          "text": [
            "Model: \"sequential_7\"\n",
            "_________________________________________________________________\n",
            "Layer (type)                 Output Shape              Param #   \n",
            "=================================================================\n",
            "embedding_7 (Embedding)      (None, 45, 200)           20000000  \n",
            "_________________________________________________________________\n",
            "simple_rnn_5 (SimpleRNN)     (None, 128)               42112     \n",
            "_________________________________________________________________\n",
            "dense_9 (Dense)              (None, 128)               16512     \n",
            "_________________________________________________________________\n",
            "dense_10 (Dense)             (None, 1)                 129       \n",
            "=================================================================\n",
            "Total params: 20,058,753\n",
            "Trainable params: 58,753\n",
            "Non-trainable params: 20,000,000\n",
            "_________________________________________________________________\n"
          ],
          "name": "stdout"
        }
      ]
    },
    {
      "cell_type": "code",
      "metadata": {
        "id": "E6sejlz5q0dg",
        "colab_type": "code",
        "outputId": "9c1bbd3b-036b-44b6-96c9-ecd00e86bf7c",
        "colab": {
          "base_uri": "https://localhost:8080/",
          "height": 533
        }
      },
      "source": [
        "keras.utils.plot_model(model_rnn1, show_shapes=True)"
      ],
      "execution_count": 0,
      "outputs": [
        {
          "output_type": "execute_result",
          "data": {
            "image/png": "[encoded data removed]",
            "text/plain": [
              "<IPython.core.display.Image object>"
            ]
          },
          "metadata": {
            "tags": []
          },
          "execution_count": 53
        }
      ]
    },
    {
      "cell_type": "markdown",
      "metadata": {
        "id": "d6mYW-Qg5tIv",
        "colab_type": "text"
      },
      "source": [
        "#### Train Model"
      ]
    },
    {
      "cell_type": "code",
      "metadata": {
        "id": "iSXwcKlHrEzU",
        "colab_type": "code",
        "outputId": "776d80b4-f417-4792-bae1-840cd2337e4a",
        "colab": {
          "base_uri": "https://localhost:8080/",
          "height": 224
        }
      },
      "source": [
        "train_rt = TrainRuntimeCallback()\n",
        "cbs = [rnn1_checkpoint, train_rt, keras.callbacks.EarlyStopping(patience=patience, restore_best_weights = True)]\n",
        "\n",
        "history_rnn1 = model_rnn1.fit(x_train_seq,\n",
        "                    y_train,\n",
        "                    callbacks=cbs,\n",
        "                    epochs=num_epochs,\n",
        "                    batch_size=batch_size,\n",
        "                    validation_data=(x_val_seq, y_validation))"
      ],
      "execution_count": 0,
      "outputs": [
        {
          "output_type": "stream",
          "text": [
            "Train on 1564120 samples, validate on 15960 samples\n",
            "Epoch 1/10\n",
            "1564120/1564120 [==============================] - 362s 231us/step - loss: 0.4504 - accuracy: 0.7899 - val_loss: 0.4370 - val_accuracy: 0.7996\n",
            "Epoch 2/10\n",
            "1564120/1564120 [==============================] - 366s 234us/step - loss: 0.4292 - accuracy: 0.8038 - val_loss: 0.4202 - val_accuracy: 0.8152\n",
            "Epoch 3/10\n",
            "1564120/1564120 [==============================] - 368s 235us/step - loss: 0.4296 - accuracy: 0.8040 - val_loss: 0.4225 - val_accuracy: 0.8083\n",
            "Epoch 4/10\n",
            "1564120/1564120 [==============================] - 368s 235us/step - loss: 0.4326 - accuracy: 0.8029 - val_loss: 0.4271 - val_accuracy: 0.8098\n",
            "Epoch 5/10\n",
            "1564120/1564120 [==============================] - 368s 235us/step - loss: 0.4391 - accuracy: 0.8001 - val_loss: 0.4691 - val_accuracy: 0.7821\n"
          ],
          "name": "stdout"
        }
      ]
    },
    {
      "cell_type": "code",
      "metadata": {
        "id": "424e059dogO8",
        "colab_type": "code",
        "outputId": "210694c4-f918-4aea-da6a-ebbbd8ffe5f9",
        "colab": {
          "base_uri": "https://localhost:8080/",
          "height": 34
        }
      },
      "source": [
        "# Get the training time\n",
        "train_time = train_rt.process_time\n",
        "train_time # in seconds"
      ],
      "execution_count": 0,
      "outputs": [
        {
          "output_type": "execute_result",
          "data": {
            "text/plain": [
              "1834.569555"
            ]
          },
          "metadata": {
            "tags": []
          },
          "execution_count": 55
        }
      ]
    },
    {
      "cell_type": "code",
      "metadata": {
        "id": "VS2Law2Pok9F",
        "colab_type": "code",
        "outputId": "e9030980-b932-46ce-95b2-990447c9ba42",
        "colab": {
          "base_uri": "https://localhost:8080/",
          "height": 34
        }
      },
      "source": [
        "print(f\"train_acc: {history_rnn1.history['accuracy'][-1]}, val_acc: {history_rnn1.history['val_accuracy'][-1]}\")"
      ],
      "execution_count": 0,
      "outputs": [
        {
          "output_type": "stream",
          "text": [
            "train_acc: 0.8000824451446533, val_acc: 0.7821428775787354\n"
          ],
          "name": "stdout"
        }
      ]
    },
    {
      "cell_type": "markdown",
      "metadata": {
        "id": "7QCjk8KRXZ29",
        "colab_type": "text"
      },
      "source": [
        "#### Save Model"
      ]
    },
    {
      "cell_type": "code",
      "metadata": {
        "id": "-pHqEV_AuNgp",
        "colab_type": "code",
        "colab": {}
      },
      "source": [
        "# save model\n",
        "model_rnn1.save('model_rnn1.h5') "
      ],
      "execution_count": 0,
      "outputs": []
    },
    {
      "cell_type": "markdown",
      "metadata": {
        "id": "ayDt-l35nS-C",
        "colab_type": "text"
      },
      "source": [
        "#### Test Model"
      ]
    },
    {
      "cell_type": "code",
      "metadata": {
        "id": "B4SHGhzznUfC",
        "colab_type": "code",
        "outputId": "129c7fe3-6be7-4826-8c58-98d3f175508c",
        "colab": {
          "base_uri": "https://localhost:8080/",
          "height": 51
        }
      },
      "source": [
        "test_rt = TestRuntimeCallback()\n",
        "# test_loss, test_acc = model.evaluate(test_data_sm_cnn, one_hot_test_labels_sm, callbacks=[test_rt])\n",
        "\n",
        "# test_loss, test_accuracy = model.evaluate(test_data_sm_cnn, one_hot_test_labels_sm, callbacks=[test_rt])\n",
        "\n",
        "test_loss, test_acc = model_rnn1.evaluate(x_test_seq, y_test, callbacks = [test_rt])\n",
        "\n",
        "print(f\"test_accuracy={test_acc}, test_loss={test_loss}\")"
      ],
      "execution_count": 0,
      "outputs": [
        {
          "output_type": "stream",
          "text": [
            "15961/15961 [==============================] - 2s 124us/step\n",
            "test_accuracy=0.801892101764679, test_loss=0.4403680545346688\n"
          ],
          "name": "stdout"
        }
      ]
    },
    {
      "cell_type": "code",
      "metadata": {
        "id": "xQvF3mAPqiS0",
        "colab_type": "code",
        "outputId": "b81fe64f-0bf2-4e95-a8ec-49a0e584f1d5",
        "colab": {
          "base_uri": "https://localhost:8080/",
          "height": 34
        }
      },
      "source": [
        "# Get the test time\n",
        "test_time = test_rt.process_time\n",
        "test_time # in seconds"
      ],
      "execution_count": 0,
      "outputs": [
        {
          "output_type": "execute_result",
          "data": {
            "text/plain": [
              "1.979959"
            ]
          },
          "metadata": {
            "tags": []
          },
          "execution_count": 59
        }
      ]
    },
    {
      "cell_type": "code",
      "metadata": {
        "id": "PvM-mii8qkv9",
        "colab_type": "code",
        "outputId": "9300e90c-e7fb-414f-a66a-813af7116f61",
        "colab": {
          "base_uri": "https://localhost:8080/",
          "height": 34
        }
      },
      "source": [
        "history_dict = history_rnn1.history\n",
        "history_dict['train_accuracy'] = history_dict.pop('accuracy') # rename the the key to 'train_accuracy'\n",
        "history_dict.keys()"
      ],
      "execution_count": 0,
      "outputs": [
        {
          "output_type": "execute_result",
          "data": {
            "text/plain": [
              "dict_keys(['val_loss', 'val_accuracy', 'loss', 'train_accuracy'])"
            ]
          },
          "metadata": {
            "tags": []
          },
          "execution_count": 60
        }
      ]
    },
    {
      "cell_type": "code",
      "metadata": {
        "id": "yTVvvEg1q2y7",
        "colab_type": "code",
        "outputId": "9cdf8788-2e83-4c26-d7a3-123d00d46902",
        "colab": {
          "base_uri": "https://localhost:8080/",
          "height": 80
        }
      },
      "source": [
        "import pandas as pd\n",
        "history_df=pd.DataFrame(history_dict)\n",
        "history_df['test_accuracy'] = test_acc\n",
        "history_df = history_df.iloc[-1:]\n",
        "history_df.tail()"
      ],
      "execution_count": 0,
      "outputs": [
        {
          "output_type": "execute_result",
          "data": {
            "text/html": [
              "<div>\n",
              "<style scoped>\n",
              "    .dataframe tbody tr th:only-of-type {\n",
              "        vertical-align: middle;\n",
              "    }\n",
              "\n",
              "    .dataframe tbody tr th {\n",
              "        vertical-align: top;\n",
              "    }\n",
              "\n",
              "    .dataframe thead th {\n",
              "        text-align: right;\n",
              "    }\n",
              "</style>\n",
              "<table border=\"1\" class=\"dataframe\">\n",
              "  <thead>\n",
              "    <tr style=\"text-align: right;\">\n",
              "      <th></th>\n",
              "      <th>val_loss</th>\n",
              "      <th>val_accuracy</th>\n",
              "      <th>loss</th>\n",
              "      <th>train_accuracy</th>\n",
              "      <th>test_accuracy</th>\n",
              "    </tr>\n",
              "  </thead>\n",
              "  <tbody>\n",
              "    <tr>\n",
              "      <th>4</th>\n",
              "      <td>0.469121</td>\n",
              "      <td>0.782143</td>\n",
              "      <td>0.439075</td>\n",
              "      <td>0.800082</td>\n",
              "      <td>0.801892</td>\n",
              "    </tr>\n",
              "  </tbody>\n",
              "</table>\n",
              "</div>"
            ],
            "text/plain": [
              "   val_loss  val_accuracy      loss  train_accuracy  test_accuracy\n",
              "4  0.469121      0.782143  0.439075        0.800082       0.801892"
            ]
          },
          "metadata": {
            "tags": []
          },
          "execution_count": 61
        }
      ]
    },
    {
      "cell_type": "markdown",
      "metadata": {
        "id": "5nTiDR1Crogw",
        "colab_type": "text"
      },
      "source": [
        "#### Save Performance to Dataframe"
      ]
    },
    {
      "cell_type": "code",
      "metadata": {
        "id": "Llivj_p2rnkS",
        "colab_type": "code",
        "outputId": "84343529-b801-4e66-cabb-bb7579782d5b",
        "colab": {
          "base_uri": "https://localhost:8080/",
          "height": 80
        }
      },
      "source": [
        "results_df = history_df.iloc[-1:].copy()\n",
        "results_df.insert(0,'model','Simple RNN') # want the model name to appear first\n",
        "results_df['test_accuracy'] = test_acc   # test accuracy\n",
        "results_df['training time (sec)'] = train_time      # we are okay with training time appearing last\n",
        "results_df['testing time (sec)'] = test_time      # we are okay with test time appearing last\n",
        "results_df"
      ],
      "execution_count": 0,
      "outputs": [
        {
          "output_type": "execute_result",
          "data": {
            "text/html": [
              "<div>\n",
              "<style scoped>\n",
              "    .dataframe tbody tr th:only-of-type {\n",
              "        vertical-align: middle;\n",
              "    }\n",
              "\n",
              "    .dataframe tbody tr th {\n",
              "        vertical-align: top;\n",
              "    }\n",
              "\n",
              "    .dataframe thead th {\n",
              "        text-align: right;\n",
              "    }\n",
              "</style>\n",
              "<table border=\"1\" class=\"dataframe\">\n",
              "  <thead>\n",
              "    <tr style=\"text-align: right;\">\n",
              "      <th></th>\n",
              "      <th>model</th>\n",
              "      <th>val_loss</th>\n",
              "      <th>val_accuracy</th>\n",
              "      <th>loss</th>\n",
              "      <th>train_accuracy</th>\n",
              "      <th>test_accuracy</th>\n",
              "      <th>training time (sec)</th>\n",
              "      <th>testing time (sec)</th>\n",
              "    </tr>\n",
              "  </thead>\n",
              "  <tbody>\n",
              "    <tr>\n",
              "      <th>4</th>\n",
              "      <td>Simple RNN</td>\n",
              "      <td>0.469121</td>\n",
              "      <td>0.782143</td>\n",
              "      <td>0.439075</td>\n",
              "      <td>0.800082</td>\n",
              "      <td>0.801892</td>\n",
              "      <td>1834.569555</td>\n",
              "      <td>1.979959</td>\n",
              "    </tr>\n",
              "  </tbody>\n",
              "</table>\n",
              "</div>"
            ],
            "text/plain": [
              "        model  val_loss  ...  training time (sec)  testing time (sec)\n",
              "4  Simple RNN  0.469121  ...          1834.569555            1.979959\n",
              "\n",
              "[1 rows x 8 columns]"
            ]
          },
          "metadata": {
            "tags": []
          },
          "execution_count": 62
        }
      ]
    },
    {
      "cell_type": "code",
      "metadata": {
        "id": "W3Ri30tqsydx",
        "colab_type": "code",
        "outputId": "1cfd16cc-85f8-4f03-d91a-594315df0696",
        "colab": {
          "base_uri": "https://localhost:8080/",
          "height": 142
        }
      },
      "source": [
        "prev_results_df = pd.read_pickle('results1.pkl')\n",
        "results_df = prev_results_df.append(results_df,ignore_index=True)\n",
        "results_df"
      ],
      "execution_count": 0,
      "outputs": [
        {
          "output_type": "execute_result",
          "data": {
            "text/html": [
              "<div>\n",
              "<style scoped>\n",
              "    .dataframe tbody tr th:only-of-type {\n",
              "        vertical-align: middle;\n",
              "    }\n",
              "\n",
              "    .dataframe tbody tr th {\n",
              "        vertical-align: top;\n",
              "    }\n",
              "\n",
              "    .dataframe thead th {\n",
              "        text-align: right;\n",
              "    }\n",
              "</style>\n",
              "<table border=\"1\" class=\"dataframe\">\n",
              "  <thead>\n",
              "    <tr style=\"text-align: right;\">\n",
              "      <th></th>\n",
              "      <th>model</th>\n",
              "      <th>val_loss</th>\n",
              "      <th>val_accuracy</th>\n",
              "      <th>loss</th>\n",
              "      <th>train_accuracy</th>\n",
              "      <th>test_accuracy</th>\n",
              "      <th>training time (sec)</th>\n",
              "      <th>testing time (sec)</th>\n",
              "    </tr>\n",
              "  </thead>\n",
              "  <tbody>\n",
              "    <tr>\n",
              "      <th>0</th>\n",
              "      <td>DNN (3 layers)</td>\n",
              "      <td>0.426255</td>\n",
              "      <td>0.812845</td>\n",
              "      <td>0.384176</td>\n",
              "      <td>0.833952</td>\n",
              "      <td>0.810851</td>\n",
              "      <td>2517.518805</td>\n",
              "      <td>5.990464</td>\n",
              "    </tr>\n",
              "    <tr>\n",
              "      <th>1</th>\n",
              "      <td>DNN w/ Dropout</td>\n",
              "      <td>0.419115</td>\n",
              "      <td>0.818296</td>\n",
              "      <td>0.417987</td>\n",
              "      <td>0.817185</td>\n",
              "      <td>0.810225</td>\n",
              "      <td>2517.518805</td>\n",
              "      <td>6.026241</td>\n",
              "    </tr>\n",
              "    <tr>\n",
              "      <th>2</th>\n",
              "      <td>Simple RNN</td>\n",
              "      <td>0.469121</td>\n",
              "      <td>0.782143</td>\n",
              "      <td>0.439075</td>\n",
              "      <td>0.800082</td>\n",
              "      <td>0.801892</td>\n",
              "      <td>1834.569555</td>\n",
              "      <td>1.979959</td>\n",
              "    </tr>\n",
              "  </tbody>\n",
              "</table>\n",
              "</div>"
            ],
            "text/plain": [
              "            model  val_loss  ...  training time (sec)  testing time (sec)\n",
              "0  DNN (3 layers)  0.426255  ...          2517.518805            5.990464\n",
              "1  DNN w/ Dropout  0.419115  ...          2517.518805            6.026241\n",
              "2      Simple RNN  0.469121  ...          1834.569555            1.979959\n",
              "\n",
              "[3 rows x 8 columns]"
            ]
          },
          "metadata": {
            "tags": []
          },
          "execution_count": 63
        }
      ]
    },
    {
      "cell_type": "markdown",
      "metadata": {
        "id": "F_gxY6o7eazi",
        "colab_type": "text"
      },
      "source": [
        "#### Plot Performance"
      ]
    },
    {
      "cell_type": "code",
      "metadata": {
        "id": "sn9V4B8vu7oz",
        "colab_type": "code",
        "outputId": "a61ec6c9-a269-4c01-d246-aeed2139e8c2",
        "colab": {
          "base_uri": "https://localhost:8080/",
          "height": 588
        }
      },
      "source": [
        "import matplotlib.pyplot as plt\n",
        "\n",
        "# list all data in history\n",
        "print(history_rnn1.history.keys())\n",
        "\n",
        "# summarize history for accuracy\n",
        "plt.plot(history_rnn1.history['train_accuracy'])\n",
        "plt.plot(history_rnn1.history['val_accuracy'])\n",
        "plt.title('Model 2: Simple RNN')\n",
        "plt.ylabel('Accuracy')\n",
        "plt.xlabel('Epochs')\n",
        "plt.legend(['train', 'val'], loc='lower right')\n",
        "plt.show()\n",
        "\n",
        "# summarize history for loss\n",
        "plt.plot(history_rnn1.history['loss'])\n",
        "plt.plot(history_rnn1.history['val_loss'])\n",
        "plt.title('Model 2: Simple RNN')\n",
        "plt.ylabel('Loss')\n",
        "plt.xlabel('Epochs')\n",
        "plt.legend(['train', 'val'], loc='center right')\n",
        "plt.show()\n",
        "\n",
        "# from google.colab import files\n",
        "# plt.savefig(\"model_v5_history.png\")"
      ],
      "execution_count": 0,
      "outputs": [
        {
          "output_type": "stream",
          "text": [
            "dict_keys(['val_loss', 'val_accuracy', 'loss', 'train_accuracy'])\n"
          ],
          "name": "stdout"
        },
        {
          "output_type": "display_data",
          "data": {
            "image/png": "[encoded data removed]",
            "text/plain": [
              "<Figure size 432x288 with 1 Axes>"
            ]
          },
          "metadata": {
            "tags": [],
            "image/png": {
              "width": 438,
              "height": 277
            },
            "needs_background": "light"
          }
        },
        {
          "output_type": "display_data",
          "data": {
            "image/png": "[encoded data removed]",
            "text/plain": [
              "<Figure size 432x288 with 1 Axes>"
            ]
          },
          "metadata": {
            "tags": [],
            "image/png": {
              "width": 431,
              "height": 277
            },
            "needs_background": "light"
          }
        }
      ]
    },
    {
      "cell_type": "markdown",
      "metadata": {
        "id": "6NmWex2b0h9C",
        "colab_type": "text"
      },
      "source": [
        "### Simple RNN w/ Dropout (Using Pre-Trained Word Embeddings)"
      ]
    },
    {
      "cell_type": "markdown",
      "metadata": {
        "id": "ZhHjfo42NXMx",
        "colab_type": "text"
      },
      "source": [
        "#### Build Network"
      ]
    },
    {
      "cell_type": "markdown",
      "metadata": {
        "id": "Yr8ECaBkfINO",
        "colab_type": "text"
      },
      "source": [
        "This model includes a 20% dropout in between network layers. The purpose of the dropout layer is to reduce overfitting."
      ]
    },
    {
      "cell_type": "code",
      "metadata": {
        "id": "4R3pJZHnxc7E",
        "colab_type": "code",
        "outputId": "caa8118b-c0cf-403c-b148-c822bcb63829",
        "colab": {
          "base_uri": "https://localhost:8080/",
          "height": 357
        }
      },
      "source": [
        "model_rnn2 = Sequential()\n",
        "e = Embedding(100000, 200, weights=[embedding_matrix], input_length=45, trainable=False)\n",
        "model_rnn2.add(e)\n",
        "model_rnn2.add(Dropout(dropout))\n",
        "model_rnn2.add(SimpleRNN(units = RNN_units, dropout=dropout, recurrent_dropout=dropout))\n",
        "model_rnn2.add(Dense(128, activation='relu'))\n",
        "model_rnn2.add(Dropout(dropout))\n",
        "model_rnn2.add(Dense(units = 1, activation='sigmoid'))\n",
        "\n",
        "model_rnn2.compile(optimizer=optimizer,\n",
        "              loss=loss,\n",
        "              metrics=metrics)\n",
        "\n",
        "# define the checkpoint\n",
        "filepath = \"model_rnn2.h5\"\n",
        "rnn2_checkpoint = ModelCheckpoint(filepath, monitor='val_loss', verbose=0, save_best_only=False, save_weights_only=False, mode='auto', period = 1)\n",
        "\n",
        "model_rnn2.summary()"
      ],
      "execution_count": 0,
      "outputs": [
        {
          "output_type": "stream",
          "text": [
            "Model: \"sequential_8\"\n",
            "_________________________________________________________________\n",
            "Layer (type)                 Output Shape              Param #   \n",
            "=================================================================\n",
            "embedding_8 (Embedding)      (None, 45, 200)           20000000  \n",
            "_________________________________________________________________\n",
            "dropout_1 (Dropout)          (None, 45, 200)           0         \n",
            "_________________________________________________________________\n",
            "simple_rnn_6 (SimpleRNN)     (None, 128)               42112     \n",
            "_________________________________________________________________\n",
            "dense_11 (Dense)             (None, 128)               16512     \n",
            "_________________________________________________________________\n",
            "dropout_2 (Dropout)          (None, 128)               0         \n",
            "_________________________________________________________________\n",
            "dense_12 (Dense)             (None, 1)                 129       \n",
            "=================================================================\n",
            "Total params: 20,058,753\n",
            "Trainable params: 58,753\n",
            "Non-trainable params: 20,000,000\n",
            "_________________________________________________________________\n"
          ],
          "name": "stdout"
        }
      ]
    },
    {
      "cell_type": "code",
      "metadata": {
        "id": "tf9zDo0lxD_0",
        "colab_type": "code",
        "outputId": "ed1b221b-33ac-4719-e34b-8dd4bb97704f",
        "colab": {
          "base_uri": "https://localhost:8080/",
          "height": 754
        }
      },
      "source": [
        "keras.utils.plot_model(model_rnn2, show_shapes=True)"
      ],
      "execution_count": 0,
      "outputs": [
        {
          "output_type": "execute_result",
          "data": {
            "image/png": "[encoded data removed]",
            "text/plain": [
              "<IPython.core.display.Image object>"
            ]
          },
          "metadata": {
            "tags": []
          },
          "execution_count": 66
        }
      ]
    },
    {
      "cell_type": "markdown",
      "metadata": {
        "id": "FZ2NlB8-xN27",
        "colab_type": "text"
      },
      "source": [
        "#### Train Model"
      ]
    },
    {
      "cell_type": "code",
      "metadata": {
        "id": "9GxXdyNZxO8s",
        "colab_type": "code",
        "outputId": "cdb59ded-8697-4395-8894-f6ec0cdab26e",
        "colab": {
          "base_uri": "https://localhost:8080/",
          "height": 258
        }
      },
      "source": [
        "train_rt = TrainRuntimeCallback()\n",
        "cbs = [rnn2_checkpoint, train_rt, keras.callbacks.EarlyStopping(patience=patience, restore_best_weights = True)]\n",
        "\n",
        "history_rnn2 = model_rnn2.fit(x_train_seq,\n",
        "                    y_train,\n",
        "                    callbacks=cbs,\n",
        "                    epochs=num_epochs,\n",
        "                    batch_size=batch_size,\n",
        "                    validation_data=(x_val_seq, y_validation))"
      ],
      "execution_count": 0,
      "outputs": [
        {
          "output_type": "stream",
          "text": [
            "Train on 1564120 samples, validate on 15960 samples\n",
            "Epoch 1/10\n",
            "1564120/1564120 [==============================] - 451s 288us/step - loss: 0.5265 - accuracy: 0.7406 - val_loss: 0.4626 - val_accuracy: 0.7877\n",
            "Epoch 2/10\n",
            "1564120/1564120 [==============================] - 451s 288us/step - loss: 0.5152 - accuracy: 0.7495 - val_loss: 0.4735 - val_accuracy: 0.7808\n",
            "Epoch 3/10\n",
            "1564120/1564120 [==============================] - 452s 289us/step - loss: 0.5165 - accuracy: 0.7497 - val_loss: 0.4597 - val_accuracy: 0.7866\n",
            "Epoch 4/10\n",
            "1564120/1564120 [==============================] - 453s 290us/step - loss: 0.5144 - accuracy: 0.7519 - val_loss: 0.4614 - val_accuracy: 0.7865\n",
            "Epoch 5/10\n",
            "1564120/1564120 [==============================] - 453s 290us/step - loss: 0.5349 - accuracy: 0.7338 - val_loss: 0.5123 - val_accuracy: 0.7509\n",
            "Epoch 6/10\n",
            "1564120/1564120 [==============================] - 458s 293us/step - loss: 0.5537 - accuracy: 0.7178 - val_loss: 0.5115 - val_accuracy: 0.7513\n"
          ],
          "name": "stdout"
        }
      ]
    },
    {
      "cell_type": "markdown",
      "metadata": {
        "id": "K_qLIQ0IyY49",
        "colab_type": "text"
      },
      "source": [
        "#### Save Model"
      ]
    },
    {
      "cell_type": "code",
      "metadata": {
        "id": "JObpFE3xyaaV",
        "colab_type": "code",
        "colab": {}
      },
      "source": [
        "# save model\n",
        "model_rnn2.save('model_rnn2.h5') "
      ],
      "execution_count": 0,
      "outputs": []
    },
    {
      "cell_type": "markdown",
      "metadata": {
        "id": "qsNHPv5pycIs",
        "colab_type": "text"
      },
      "source": [
        "#### Test Model"
      ]
    },
    {
      "cell_type": "code",
      "metadata": {
        "id": "Xhpxpwmkyfgi",
        "colab_type": "code",
        "outputId": "134f1224-afe6-4934-f8ce-0ddd776461bd",
        "colab": {
          "base_uri": "https://localhost:8080/",
          "height": 51
        }
      },
      "source": [
        "test_rt = TestRuntimeCallback()\n",
        "\n",
        "test_loss, test_acc = model_rnn2.evaluate(x_test_seq, y_test, callbacks = [test_rt])\n",
        "\n",
        "print(f\"test_accuracy={test_acc}, test_loss={test_loss}\")"
      ],
      "execution_count": 0,
      "outputs": [
        {
          "output_type": "stream",
          "text": [
            "15961/15961 [==============================] - 2s 146us/step\n",
            "test_accuracy=0.7745128870010376, test_loss=0.47733199248733055\n"
          ],
          "name": "stdout"
        }
      ]
    },
    {
      "cell_type": "code",
      "metadata": {
        "id": "Y32i8oftyiM9",
        "colab_type": "code",
        "outputId": "d591a399-0705-49f9-e289-63cc25e73e6a",
        "colab": {
          "base_uri": "https://localhost:8080/",
          "height": 34
        }
      },
      "source": [
        "# Get the test time\n",
        "test_time = test_rt.process_time\n",
        "test_time # in seconds"
      ],
      "execution_count": 0,
      "outputs": [
        {
          "output_type": "execute_result",
          "data": {
            "text/plain": [
              "2.334067"
            ]
          },
          "metadata": {
            "tags": []
          },
          "execution_count": 71
        }
      ]
    },
    {
      "cell_type": "code",
      "metadata": {
        "id": "PAH5JvbsykOL",
        "colab_type": "code",
        "outputId": "834b3384-577a-42bd-f850-030a42eb041f",
        "colab": {
          "base_uri": "https://localhost:8080/",
          "height": 34
        }
      },
      "source": [
        "history_dict = history_rnn2.history\n",
        "history_dict['train_accuracy'] = history_dict.pop('accuracy') # rename the the key to 'train_accuracy'\n",
        "history_dict.keys()"
      ],
      "execution_count": 0,
      "outputs": [
        {
          "output_type": "execute_result",
          "data": {
            "text/plain": [
              "dict_keys(['val_loss', 'val_accuracy', 'loss', 'train_accuracy'])"
            ]
          },
          "metadata": {
            "tags": []
          },
          "execution_count": 72
        }
      ]
    },
    {
      "cell_type": "code",
      "metadata": {
        "id": "zyVGxUgryn94",
        "colab_type": "code",
        "outputId": "fc820042-d67a-4642-d182-6d66624e4635",
        "colab": {
          "base_uri": "https://localhost:8080/",
          "height": 80
        }
      },
      "source": [
        "import pandas as pd\n",
        "history_df=pd.DataFrame(history_dict)\n",
        "history_df['test_accuracy'] = test_acc   # using the test accuracy for smaller dataset model, NOT the full model\n",
        "history_df = history_df.iloc[-1:]\n",
        "history_df.tail()"
      ],
      "execution_count": 0,
      "outputs": [
        {
          "output_type": "execute_result",
          "data": {
            "text/html": [
              "<div>\n",
              "<style scoped>\n",
              "    .dataframe tbody tr th:only-of-type {\n",
              "        vertical-align: middle;\n",
              "    }\n",
              "\n",
              "    .dataframe tbody tr th {\n",
              "        vertical-align: top;\n",
              "    }\n",
              "\n",
              "    .dataframe thead th {\n",
              "        text-align: right;\n",
              "    }\n",
              "</style>\n",
              "<table border=\"1\" class=\"dataframe\">\n",
              "  <thead>\n",
              "    <tr style=\"text-align: right;\">\n",
              "      <th></th>\n",
              "      <th>val_loss</th>\n",
              "      <th>val_accuracy</th>\n",
              "      <th>loss</th>\n",
              "      <th>train_accuracy</th>\n",
              "      <th>test_accuracy</th>\n",
              "    </tr>\n",
              "  </thead>\n",
              "  <tbody>\n",
              "    <tr>\n",
              "      <th>5</th>\n",
              "      <td>0.511496</td>\n",
              "      <td>0.751253</td>\n",
              "      <td>0.553732</td>\n",
              "      <td>0.717752</td>\n",
              "      <td>0.774513</td>\n",
              "    </tr>\n",
              "  </tbody>\n",
              "</table>\n",
              "</div>"
            ],
            "text/plain": [
              "   val_loss  val_accuracy      loss  train_accuracy  test_accuracy\n",
              "5  0.511496      0.751253  0.553732        0.717752       0.774513"
            ]
          },
          "metadata": {
            "tags": []
          },
          "execution_count": 73
        }
      ]
    },
    {
      "cell_type": "markdown",
      "metadata": {
        "id": "VhPsz56BzJmQ",
        "colab_type": "text"
      },
      "source": [
        "#### Save Performance to Dataframe"
      ]
    },
    {
      "cell_type": "code",
      "metadata": {
        "id": "aw-VelMizLaQ",
        "colab_type": "code",
        "outputId": "ed240d29-6983-42d0-de81-caf63736a083",
        "colab": {
          "base_uri": "https://localhost:8080/",
          "height": 80
        }
      },
      "source": [
        "results_df_v2 = history_df.iloc[-1:].copy()\n",
        "results_df_v2.insert(0,'model','RNN w/ Dropout') # went the model name to appear first\n",
        "results_df_v2['test_accuracy'] = test_acc\n",
        "results_df_v2['training time (sec)'] = train_time      # we are okay with training time appearing last\n",
        "results_df_v2['testing time (sec)'] = test_time      # we are okay with training time appearing last\n",
        "results_df_v2"
      ],
      "execution_count": 0,
      "outputs": [
        {
          "output_type": "execute_result",
          "data": {
            "text/html": [
              "<div>\n",
              "<style scoped>\n",
              "    .dataframe tbody tr th:only-of-type {\n",
              "        vertical-align: middle;\n",
              "    }\n",
              "\n",
              "    .dataframe tbody tr th {\n",
              "        vertical-align: top;\n",
              "    }\n",
              "\n",
              "    .dataframe thead th {\n",
              "        text-align: right;\n",
              "    }\n",
              "</style>\n",
              "<table border=\"1\" class=\"dataframe\">\n",
              "  <thead>\n",
              "    <tr style=\"text-align: right;\">\n",
              "      <th></th>\n",
              "      <th>model</th>\n",
              "      <th>val_loss</th>\n",
              "      <th>val_accuracy</th>\n",
              "      <th>loss</th>\n",
              "      <th>train_accuracy</th>\n",
              "      <th>test_accuracy</th>\n",
              "      <th>training time (sec)</th>\n",
              "      <th>testing time (sec)</th>\n",
              "    </tr>\n",
              "  </thead>\n",
              "  <tbody>\n",
              "    <tr>\n",
              "      <th>5</th>\n",
              "      <td>RNN w/ Dropout</td>\n",
              "      <td>0.511496</td>\n",
              "      <td>0.751253</td>\n",
              "      <td>0.553732</td>\n",
              "      <td>0.717752</td>\n",
              "      <td>0.774513</td>\n",
              "      <td>1834.569555</td>\n",
              "      <td>2.334067</td>\n",
              "    </tr>\n",
              "  </tbody>\n",
              "</table>\n",
              "</div>"
            ],
            "text/plain": [
              "            model  val_loss  ...  training time (sec)  testing time (sec)\n",
              "5  RNN w/ Dropout  0.511496  ...          1834.569555            2.334067\n",
              "\n",
              "[1 rows x 8 columns]"
            ]
          },
          "metadata": {
            "tags": []
          },
          "execution_count": 75
        }
      ]
    },
    {
      "cell_type": "code",
      "metadata": {
        "id": "h66ohRuczcfm",
        "colab_type": "code",
        "outputId": "394848bf-f519-4864-f840-d4bab3d2aa98",
        "colab": {
          "base_uri": "https://localhost:8080/",
          "height": 173
        }
      },
      "source": [
        "results_df = results_df.append(results_df_v2,ignore_index=True)\n",
        "results_df"
      ],
      "execution_count": 0,
      "outputs": [
        {
          "output_type": "execute_result",
          "data": {
            "text/html": [
              "<div>\n",
              "<style scoped>\n",
              "    .dataframe tbody tr th:only-of-type {\n",
              "        vertical-align: middle;\n",
              "    }\n",
              "\n",
              "    .dataframe tbody tr th {\n",
              "        vertical-align: top;\n",
              "    }\n",
              "\n",
              "    .dataframe thead th {\n",
              "        text-align: right;\n",
              "    }\n",
              "</style>\n",
              "<table border=\"1\" class=\"dataframe\">\n",
              "  <thead>\n",
              "    <tr style=\"text-align: right;\">\n",
              "      <th></th>\n",
              "      <th>model</th>\n",
              "      <th>val_loss</th>\n",
              "      <th>val_accuracy</th>\n",
              "      <th>loss</th>\n",
              "      <th>train_accuracy</th>\n",
              "      <th>test_accuracy</th>\n",
              "      <th>training time (sec)</th>\n",
              "      <th>testing time (sec)</th>\n",
              "    </tr>\n",
              "  </thead>\n",
              "  <tbody>\n",
              "    <tr>\n",
              "      <th>0</th>\n",
              "      <td>DNN (3 layers)</td>\n",
              "      <td>0.426255</td>\n",
              "      <td>0.812845</td>\n",
              "      <td>0.384176</td>\n",
              "      <td>0.833952</td>\n",
              "      <td>0.810851</td>\n",
              "      <td>2517.518805</td>\n",
              "      <td>5.990464</td>\n",
              "    </tr>\n",
              "    <tr>\n",
              "      <th>1</th>\n",
              "      <td>DNN w/ Dropout</td>\n",
              "      <td>0.419115</td>\n",
              "      <td>0.818296</td>\n",
              "      <td>0.417987</td>\n",
              "      <td>0.817185</td>\n",
              "      <td>0.810225</td>\n",
              "      <td>2517.518805</td>\n",
              "      <td>6.026241</td>\n",
              "    </tr>\n",
              "    <tr>\n",
              "      <th>2</th>\n",
              "      <td>Simple RNN</td>\n",
              "      <td>0.469121</td>\n",
              "      <td>0.782143</td>\n",
              "      <td>0.439075</td>\n",
              "      <td>0.800082</td>\n",
              "      <td>0.801892</td>\n",
              "      <td>1834.569555</td>\n",
              "      <td>1.979959</td>\n",
              "    </tr>\n",
              "    <tr>\n",
              "      <th>3</th>\n",
              "      <td>RNN w/ Dropout</td>\n",
              "      <td>0.511496</td>\n",
              "      <td>0.751253</td>\n",
              "      <td>0.553732</td>\n",
              "      <td>0.717752</td>\n",
              "      <td>0.774513</td>\n",
              "      <td>1834.569555</td>\n",
              "      <td>2.334067</td>\n",
              "    </tr>\n",
              "  </tbody>\n",
              "</table>\n",
              "</div>"
            ],
            "text/plain": [
              "            model  val_loss  ...  training time (sec)  testing time (sec)\n",
              "0  DNN (3 layers)  0.426255  ...          2517.518805            5.990464\n",
              "1  DNN w/ Dropout  0.419115  ...          2517.518805            6.026241\n",
              "2      Simple RNN  0.469121  ...          1834.569555            1.979959\n",
              "3  RNN w/ Dropout  0.511496  ...          1834.569555            2.334067\n",
              "\n",
              "[4 rows x 8 columns]"
            ]
          },
          "metadata": {
            "tags": []
          },
          "execution_count": 76
        }
      ]
    },
    {
      "cell_type": "markdown",
      "metadata": {
        "id": "Yd9FgUMQzprW",
        "colab_type": "text"
      },
      "source": [
        "#### Plot Performance"
      ]
    },
    {
      "cell_type": "code",
      "metadata": {
        "id": "CHw_PHAbzrSn",
        "colab_type": "code",
        "outputId": "138a69b3-4dc6-4246-df5c-aaa3fca9cd4b",
        "colab": {
          "base_uri": "https://localhost:8080/",
          "height": 588
        }
      },
      "source": [
        "import matplotlib.pyplot as plt\n",
        "\n",
        "# list all data in history\n",
        "print(history_rnn2.history.keys())\n",
        "\n",
        "# summarize history for accuracy\n",
        "plt.plot(history_rnn2.history['train_accuracy'])\n",
        "plt.plot(history_rnn2.history['val_accuracy'])\n",
        "plt.title('Model 2a: RNN w/ DO')\n",
        "plt.ylabel('Accuracy')\n",
        "plt.xlabel('Epochs')\n",
        "plt.legend(['train', 'val'], loc='lower right')\n",
        "plt.show()\n",
        "\n",
        "# summarize history for loss\n",
        "plt.plot(history_rnn2.history['loss'])\n",
        "plt.plot(history_rnn2.history['val_loss'])\n",
        "plt.title('Model 2a: RNN w/ DO')\n",
        "plt.ylabel('Loss')\n",
        "plt.xlabel('Epochs')\n",
        "plt.legend(['train', 'val'], loc='center right')\n",
        "plt.show()"
      ],
      "execution_count": 0,
      "outputs": [
        {
          "output_type": "stream",
          "text": [
            "dict_keys(['val_loss', 'val_accuracy', 'loss', 'train_accuracy'])\n"
          ],
          "name": "stdout"
        },
        {
          "output_type": "display_data",
          "data": {
            "image/png": "[encoded data removed]",
            "text/plain": [
              "<Figure size 432x288 with 1 Axes>"
            ]
          },
          "metadata": {
            "tags": [],
            "image/png": {
              "width": 432,
              "height": 277
            },
            "needs_background": "light"
          }
        },
        {
          "output_type": "display_data",
          "data": {
            "image/png": "[encoded data removed]",
            "text/plain": [
              "<Figure size 432x288 with 1 Axes>"
            ]
          },
          "metadata": {
            "tags": [],
            "image/png": {
              "width": 432,
              "height": 277
            },
            "needs_background": "light"
          }
        }
      ]
    },
    {
      "cell_type": "markdown",
      "metadata": {
        "id": "-rulFiaIypfW",
        "colab_type": "text"
      },
      "source": [
        "Sample Code for Loaded Model"
      ]
    },
    {
      "cell_type": "code",
      "metadata": {
        "id": "4NGGp89ykCby",
        "colab_type": "code",
        "colab": {}
      },
      "source": [
        "# # load model\n",
        "# model_nn2_load = load_model(\"model_nn2.h5\")\n",
        "\n",
        "# # define checkpoint to save model after each epoch\n",
        "# filepath = \"model_nn2.h5\"\n",
        "# nn2_checkpoint = ModelCheckpoint(filepath, monitor='val_acc', verbose=1, save_best_only=True, save_weights_only=False, mode='max', save_freq='epoch')\n",
        "\n",
        "# #train the model\n",
        "# history_nn2 = model_nn2_load.fit_generator(generator=batch_generator(x_train_tfidf, y_train, 32),\n",
        "#                     epochs=1, validation_data=(x_validation_tfidf, y_validation),\n",
        "#                     steps_per_epoch=x_train_tfidf.shape[0]/32, callbacks=[nn2_checkpoint])"
      ],
      "execution_count": 0,
      "outputs": []
    },
    {
      "cell_type": "code",
      "metadata": {
        "id": "2--rGRTAw8KR",
        "colab_type": "code",
        "colab": {}
      },
      "source": [
        "# # load model\n",
        "# model_nn2_load = load_model(\"model_nn2.h5\")"
      ],
      "execution_count": 0,
      "outputs": []
    },
    {
      "cell_type": "markdown",
      "metadata": {
        "id": "j_OP-PmE_6h7",
        "colab_type": "text"
      },
      "source": [
        "### Simple RNN w/ Trainable Word Embeddings\n",
        "\n",
        "*   Trainable = True in Word Embeddings\n",
        "*   No Dropout\n",
        "\n"
      ]
    },
    {
      "cell_type": "markdown",
      "metadata": {
        "id": "TUid1f3VAP1t",
        "colab_type": "text"
      },
      "source": [
        "#### Build Network"
      ]
    },
    {
      "cell_type": "code",
      "metadata": {
        "id": "z21KeyfXAVkp",
        "colab_type": "code",
        "outputId": "402ebf4a-3e52-4568-ea22-27f8ac627d48",
        "colab": {
          "base_uri": "https://localhost:8080/",
          "height": 289
        }
      },
      "source": [
        "model_rnn3 = Sequential()\n",
        "e = Embedding(100000, 200, weights=[embedding_matrix], input_length=45, trainable=True)\n",
        "model_rnn3.add(e)\n",
        "model_rnn3.add(SimpleRNN(units = RNN_units))\n",
        "model_rnn3.add(Dense(128, activation='relu'))\n",
        "model_rnn3.add(Dense(units = 1, activation='sigmoid'))\n",
        "\n",
        "model_rnn3.compile(optimizer=optimizer,\n",
        "              loss=loss,\n",
        "              metrics=metrics)\n",
        "\n",
        "# define the checkpoint\n",
        "filepath = \"model_rnn3.h5\"\n",
        "rnn3_checkpoint = ModelCheckpoint(filepath, monitor='val_loss', verbose=0, save_best_only=False, save_weights_only=False, mode='auto', period = 1)\n",
        "\n",
        "model_rnn3.summary()"
      ],
      "execution_count": 0,
      "outputs": [
        {
          "output_type": "stream",
          "text": [
            "Model: \"sequential_9\"\n",
            "_________________________________________________________________\n",
            "Layer (type)                 Output Shape              Param #   \n",
            "=================================================================\n",
            "embedding_9 (Embedding)      (None, 45, 200)           20000000  \n",
            "_________________________________________________________________\n",
            "simple_rnn_7 (SimpleRNN)     (None, 128)               42112     \n",
            "_________________________________________________________________\n",
            "dense_13 (Dense)             (None, 128)               16512     \n",
            "_________________________________________________________________\n",
            "dense_14 (Dense)             (None, 1)                 129       \n",
            "=================================================================\n",
            "Total params: 20,058,753\n",
            "Trainable params: 20,058,753\n",
            "Non-trainable params: 0\n",
            "_________________________________________________________________\n"
          ],
          "name": "stdout"
        }
      ]
    },
    {
      "cell_type": "code",
      "metadata": {
        "id": "eIrdHjkbAix0",
        "colab_type": "code",
        "outputId": "70844322-c699-41e8-c1a9-f0e6255c63f6",
        "colab": {
          "base_uri": "https://localhost:8080/",
          "height": 533
        }
      },
      "source": [
        "keras.utils.plot_model(model_rnn3, show_shapes=True)"
      ],
      "execution_count": 0,
      "outputs": [
        {
          "output_type": "execute_result",
          "data": {
            "image/png": "[encoded data removed]",
            "text/plain": [
              "<IPython.core.display.Image object>"
            ]
          },
          "metadata": {
            "tags": []
          },
          "execution_count": 81
        }
      ]
    },
    {
      "cell_type": "markdown",
      "metadata": {
        "id": "Ig1ypbmdARLd",
        "colab_type": "text"
      },
      "source": [
        "#### Train Model"
      ]
    },
    {
      "cell_type": "code",
      "metadata": {
        "id": "2Wp3iLzUAkXe",
        "colab_type": "code",
        "outputId": "02eb5613-39f8-4537-e4b3-e1d8c0a7c3a5",
        "colab": {
          "base_uri": "https://localhost:8080/",
          "height": 190
        }
      },
      "source": [
        "train_rt = TrainRuntimeCallback()\n",
        "cbs = [rnn3_checkpoint, train_rt, keras.callbacks.EarlyStopping(patience=patience, restore_best_weights = True)]\n",
        "\n",
        "history_rnn3 = model_rnn3.fit(x_train_seq,\n",
        "                    y_train,\n",
        "                    callbacks=cbs,\n",
        "                    epochs=num_epochs,\n",
        "                    batch_size=batch_size,\n",
        "                    validation_data=(x_val_seq, y_validation))"
      ],
      "execution_count": 0,
      "outputs": [
        {
          "output_type": "stream",
          "text": [
            "/usr/local/lib/python3.6/dist-packages/tensorflow/python/framework/indexed_slices.py:434: UserWarning: Converting sparse IndexedSlices to a dense Tensor of unknown shape. This may consume a large amount of memory.\n",
            "  \"Converting sparse IndexedSlices to a dense Tensor of unknown shape. \"\n"
          ],
          "name": "stderr"
        },
        {
          "output_type": "stream",
          "text": [
            "Train on 1564120 samples, validate on 15960 samples\n",
            "Epoch 1/10\n",
            "1564120/1564120 [==============================] - 2126s 1ms/step - loss: 0.4352 - accuracy: 0.8007 - val_loss: 0.4115 - val_accuracy: 0.8156\n",
            "Epoch 2/10\n",
            "1564120/1564120 [==============================] - 2123s 1ms/step - loss: 0.4104 - accuracy: 0.8164 - val_loss: 0.4081 - val_accuracy: 0.8192\n",
            "Epoch 3/10\n",
            " 494720/1564120 [========>.....................] - ETA: 23:47 - loss: 0.4073 - accuracy: 0.8193Buffered data was truncated after reaching the output size limit."
          ],
          "name": "stdout"
        }
      ]
    },
    {
      "cell_type": "markdown",
      "metadata": {
        "id": "XIYf7b-EASw1",
        "colab_type": "text"
      },
      "source": [
        "#### Save Model"
      ]
    },
    {
      "cell_type": "code",
      "metadata": {
        "id": "EwVI7-8XCWac",
        "colab_type": "code",
        "colab": {}
      },
      "source": [
        "# save model\n",
        "model_rnn3.save('model_rnn3.h5') "
      ],
      "execution_count": 0,
      "outputs": []
    },
    {
      "cell_type": "markdown",
      "metadata": {
        "id": "6PuVZSwep6Y1",
        "colab_type": "text"
      },
      "source": [
        "Load model and continue training"
      ]
    },
    {
      "cell_type": "code",
      "metadata": {
        "id": "OPFSAbfDppH5",
        "colab_type": "code",
        "outputId": "6dc758cc-1b00-43ca-91ad-9bd33cad2ec3",
        "colab": {
          "base_uri": "https://localhost:8080/",
          "height": 71
        }
      },
      "source": [
        "# load model\n",
        "model_rnn3_load = load_model('model_rnn3.h5')\n",
        "\n",
        "# define the checkpoint\n",
        "filepath = \"model_rnn3.h5\"\n",
        "rnn3_checkpoint = ModelCheckpoint(filepath, monitor='val_loss', verbose=0, save_best_only=False, save_weights_only=False, mode='auto', period = 1)"
      ],
      "execution_count": 0,
      "outputs": [
        {
          "output_type": "stream",
          "text": [
            "/usr/local/lib/python3.6/dist-packages/tensorflow/python/framework/indexed_slices.py:434: UserWarning: Converting sparse IndexedSlices to a dense Tensor of unknown shape. This may consume a large amount of memory.\n",
            "  \"Converting sparse IndexedSlices to a dense Tensor of unknown shape. \"\n"
          ],
          "name": "stderr"
        }
      ]
    },
    {
      "cell_type": "markdown",
      "metadata": {
        "id": "MzO5pexuqVOy",
        "colab_type": "text"
      },
      "source": [
        "Model has completed 2 epochs already. Continuing training with 2 more epochs. I'm using this model checkpoint approach since the training time takes so long."
      ]
    },
    {
      "cell_type": "code",
      "metadata": {
        "id": "JWQ3_DJ-qP4X",
        "colab_type": "code",
        "outputId": "bc68eae9-6d1d-49ec-e48e-dccd14566857",
        "colab": {
          "base_uri": "https://localhost:8080/",
          "height": 122
        }
      },
      "source": [
        "train_rt = TrainRuntimeCallback()\n",
        "cbs = [rnn3_checkpoint, train_rt, keras.callbacks.EarlyStopping(patience=patience, restore_best_weights = True)]\n",
        "\n",
        "history_rnn3 = model_rnn3_load.fit(x_train_seq,\n",
        "                    y_train,\n",
        "                    callbacks=cbs,\n",
        "                    epochs=2,\n",
        "                    batch_size=batch_size,\n",
        "                    validation_data=(x_val_seq, y_validation))"
      ],
      "execution_count": 0,
      "outputs": [
        {
          "output_type": "stream",
          "text": [
            "Train on 1564120 samples, validate on 15960 samples\n",
            "Epoch 1/2\n",
            "1564120/1564120 [==============================] - 2179s 1ms/step - loss: 0.4096 - accuracy: 0.8179 - val_loss: 0.4122 - val_accuracy: 0.8207\n",
            "Epoch 2/2\n",
            "1564120/1564120 [==============================] - 2183s 1ms/step - loss: 0.4094 - accuracy: 0.8191 - val_loss: 0.4192 - val_accuracy: 0.8159\n"
          ],
          "name": "stdout"
        }
      ]
    },
    {
      "cell_type": "markdown",
      "metadata": {
        "id": "NmsKZq5Q66Gj",
        "colab_type": "text"
      },
      "source": [
        "Train with 1 more epoch for a total of 5 epochs."
      ]
    },
    {
      "cell_type": "code",
      "metadata": {
        "id": "7NC9D3dC61nN",
        "colab_type": "code",
        "outputId": "8ad69066-7396-4e59-f7a4-0889db59f1ca",
        "colab": {
          "base_uri": "https://localhost:8080/",
          "height": 88
        }
      },
      "source": [
        "train_rt = TrainRuntimeCallback()\n",
        "cbs = [rnn3_checkpoint, train_rt, keras.callbacks.EarlyStopping(patience=2, restore_best_weights = True)]\n",
        "\n",
        "history_rnn3 = model_rnn3_load.fit(x_train_seq,\n",
        "                    y_train,\n",
        "                    callbacks=cbs,\n",
        "                    epochs=1,\n",
        "                    batch_size=batch_size,\n",
        "                    validation_data=(x_val_seq, y_validation))"
      ],
      "execution_count": 0,
      "outputs": [
        {
          "output_type": "stream",
          "text": [
            "Train on 1564120 samples, validate on 15960 samples\n",
            "Epoch 1/1\n",
            "1564120/1564120 [==============================] - 2218s 1ms/step - loss: 0.4122 - accuracy: 0.8184 - val_loss: 0.4163 - val_accuracy: 0.8159\n"
          ],
          "name": "stdout"
        }
      ]
    },
    {
      "cell_type": "code",
      "metadata": {
        "id": "Kw4dnGRDQJqP",
        "colab_type": "code",
        "outputId": "3e815780-e7ca-459e-90ae-30fc85c5978d",
        "colab": {
          "base_uri": "https://localhost:8080/",
          "height": 85
        }
      },
      "source": [
        "history_rnn3.history"
      ],
      "execution_count": 0,
      "outputs": [
        {
          "output_type": "execute_result",
          "data": {
            "text/plain": [
              "{'loss': [0.4121505579840078],\n",
              " 'train_accuracy': [0.818388],\n",
              " 'val_accuracy': [0.8159148097038269],\n",
              " 'val_loss': [0.41634932368022753]}"
            ]
          },
          "metadata": {
            "tags": []
          },
          "execution_count": 113
        }
      ]
    },
    {
      "cell_type": "code",
      "metadata": {
        "id": "vv2fOiUxKIzS",
        "colab_type": "code",
        "outputId": "63d9b091-abff-46f7-81a4-6bf4fb82b231",
        "colab": {
          "base_uri": "https://localhost:8080/",
          "height": 34
        }
      },
      "source": [
        "# Get the training time\n",
        "train_time = train_rt.process_time\n",
        "train_time # in seconds\n",
        "\n",
        "print(f\"train_acc: {history_rnn3.history['train_accuracy'][-1]}, val_acc: {history_rnn3.history['val_accuracy'][-1]}\")"
      ],
      "execution_count": 0,
      "outputs": [
        {
          "output_type": "stream",
          "text": [
            "train_acc: 0.8183879852294922, val_acc: 0.8159148097038269\n"
          ],
          "name": "stdout"
        }
      ]
    },
    {
      "cell_type": "code",
      "metadata": {
        "id": "NEet40ZLu98P",
        "colab_type": "code",
        "colab": {}
      },
      "source": [
        "# save model\n",
        "model_rnn3_load.save('model_rnn3.h5') "
      ],
      "execution_count": 0,
      "outputs": []
    },
    {
      "cell_type": "markdown",
      "metadata": {
        "id": "YajDBeI2AUA_",
        "colab_type": "text"
      },
      "source": [
        "#### Test Model"
      ]
    },
    {
      "cell_type": "code",
      "metadata": {
        "id": "HD9Htmwd7Eu-",
        "colab_type": "code",
        "outputId": "8899275c-70fd-42f6-b453-5a3dbc93b992",
        "colab": {
          "base_uri": "https://localhost:8080/",
          "height": 51
        }
      },
      "source": [
        "test_rt = TestRuntimeCallback()\n",
        "\n",
        "test_loss, test_acc = model_rnn3_load.evaluate(x_test_seq, y_test, callbacks = [test_rt])\n",
        "\n",
        "print(f\"test_accuracy={test_acc}, test_loss={test_loss}\")"
      ],
      "execution_count": 0,
      "outputs": [
        {
          "output_type": "stream",
          "text": [
            "15961/15961 [==============================] - 2s 140us/step\n",
            "test_accuracy=0.8114153146743774, test_loss=0.4308390619685929\n"
          ],
          "name": "stdout"
        }
      ]
    },
    {
      "cell_type": "code",
      "metadata": {
        "id": "HKZAGVbS7L1l",
        "colab_type": "code",
        "outputId": "c6cd34aa-8847-455d-f737-b70ad9525ec5",
        "colab": {
          "base_uri": "https://localhost:8080/",
          "height": 34
        }
      },
      "source": [
        "# Get the test time\n",
        "test_time = test_rt.process_time\n",
        "test_time # in seconds"
      ],
      "execution_count": 0,
      "outputs": [
        {
          "output_type": "execute_result",
          "data": {
            "text/plain": [
              "2.233131"
            ]
          },
          "metadata": {
            "tags": []
          },
          "execution_count": 93
        }
      ]
    },
    {
      "cell_type": "code",
      "metadata": {
        "id": "kSU6EaV77Ma_",
        "colab_type": "code",
        "outputId": "1965e41d-287e-4011-e448-d4765adee0ae",
        "colab": {
          "base_uri": "https://localhost:8080/",
          "height": 34
        }
      },
      "source": [
        "history_dict = history_rnn3.history\n",
        "# history_dict['train_accuracy'] = history_dict.pop('accuracy') # rename the the key to 'train_accuracy'\n",
        "history_dict.keys()"
      ],
      "execution_count": 0,
      "outputs": [
        {
          "output_type": "execute_result",
          "data": {
            "text/plain": [
              "dict_keys(['val_loss', 'val_accuracy', 'loss', 'train_accuracy'])"
            ]
          },
          "metadata": {
            "tags": []
          },
          "execution_count": 114
        }
      ]
    },
    {
      "cell_type": "code",
      "metadata": {
        "id": "o3O6bEby7QQP",
        "colab_type": "code",
        "outputId": "fe1cfd71-282b-4a2b-f33e-8a8238d86791",
        "colab": {
          "base_uri": "https://localhost:8080/",
          "height": 80
        }
      },
      "source": [
        "import pandas as pd\n",
        "history_df=pd.DataFrame(history_dict)\n",
        "history_df['test_accuracy'] = test_acc   # using the test accuracy for smaller dataset model, NOT the full model\n",
        "history_df = history_df.iloc[-1:]\n",
        "history_df.tail()"
      ],
      "execution_count": 0,
      "outputs": [
        {
          "output_type": "execute_result",
          "data": {
            "text/html": [
              "<div>\n",
              "<style scoped>\n",
              "    .dataframe tbody tr th:only-of-type {\n",
              "        vertical-align: middle;\n",
              "    }\n",
              "\n",
              "    .dataframe tbody tr th {\n",
              "        vertical-align: top;\n",
              "    }\n",
              "\n",
              "    .dataframe thead th {\n",
              "        text-align: right;\n",
              "    }\n",
              "</style>\n",
              "<table border=\"1\" class=\"dataframe\">\n",
              "  <thead>\n",
              "    <tr style=\"text-align: right;\">\n",
              "      <th></th>\n",
              "      <th>val_loss</th>\n",
              "      <th>val_accuracy</th>\n",
              "      <th>loss</th>\n",
              "      <th>train_accuracy</th>\n",
              "      <th>test_accuracy</th>\n",
              "    </tr>\n",
              "  </thead>\n",
              "  <tbody>\n",
              "    <tr>\n",
              "      <th>0</th>\n",
              "      <td>0.416349</td>\n",
              "      <td>0.815915</td>\n",
              "      <td>0.412151</td>\n",
              "      <td>0.818388</td>\n",
              "      <td>0.811415</td>\n",
              "    </tr>\n",
              "  </tbody>\n",
              "</table>\n",
              "</div>"
            ],
            "text/plain": [
              "   val_loss  val_accuracy      loss  train_accuracy  test_accuracy\n",
              "0  0.416349      0.815915  0.412151        0.818388       0.811415"
            ]
          },
          "metadata": {
            "tags": []
          },
          "execution_count": 95
        }
      ]
    },
    {
      "cell_type": "markdown",
      "metadata": {
        "id": "RRgR09PD7WbT",
        "colab_type": "text"
      },
      "source": [
        "#### Save Peformance to Dataframe"
      ]
    },
    {
      "cell_type": "code",
      "metadata": {
        "id": "IZeCxH1v7aBj",
        "colab_type": "code",
        "outputId": "4a9e0611-9b7b-4ba5-c5c2-918e8cfb461f",
        "colab": {
          "base_uri": "https://localhost:8080/",
          "height": 114
        }
      },
      "source": [
        "results_df_v3 = history_df.iloc[-1:].copy()\n",
        "results_df_v3.insert(0,'model','RNN w/ Trainable Word Embeddings') # went the model name to appear first\n",
        "results_df_v3['test_accuracy'] = test_acc\n",
        "results_df_v3['training time (sec)'] = train_time      # we are okay with training time appearing last\n",
        "results_df_v3['testing time (sec)'] = test_time      # we are okay with training time appearing last\n",
        "results_df_v3"
      ],
      "execution_count": 0,
      "outputs": [
        {
          "output_type": "execute_result",
          "data": {
            "text/html": [
              "<div>\n",
              "<style scoped>\n",
              "    .dataframe tbody tr th:only-of-type {\n",
              "        vertical-align: middle;\n",
              "    }\n",
              "\n",
              "    .dataframe tbody tr th {\n",
              "        vertical-align: top;\n",
              "    }\n",
              "\n",
              "    .dataframe thead th {\n",
              "        text-align: right;\n",
              "    }\n",
              "</style>\n",
              "<table border=\"1\" class=\"dataframe\">\n",
              "  <thead>\n",
              "    <tr style=\"text-align: right;\">\n",
              "      <th></th>\n",
              "      <th>model</th>\n",
              "      <th>val_loss</th>\n",
              "      <th>val_accuracy</th>\n",
              "      <th>loss</th>\n",
              "      <th>train_accuracy</th>\n",
              "      <th>test_accuracy</th>\n",
              "      <th>training time (sec)</th>\n",
              "      <th>testing time (sec)</th>\n",
              "    </tr>\n",
              "  </thead>\n",
              "  <tbody>\n",
              "    <tr>\n",
              "      <th>0</th>\n",
              "      <td>RNN w/ Trainable Word Embeddings</td>\n",
              "      <td>0.416349</td>\n",
              "      <td>0.815915</td>\n",
              "      <td>0.412151</td>\n",
              "      <td>0.818388</td>\n",
              "      <td>0.811415</td>\n",
              "      <td>1834.569555</td>\n",
              "      <td>2.233131</td>\n",
              "    </tr>\n",
              "  </tbody>\n",
              "</table>\n",
              "</div>"
            ],
            "text/plain": [
              "                              model  ...  testing time (sec)\n",
              "0  RNN w/ Trainable Word Embeddings  ...            2.233131\n",
              "\n",
              "[1 rows x 8 columns]"
            ]
          },
          "metadata": {
            "tags": []
          },
          "execution_count": 96
        }
      ]
    },
    {
      "cell_type": "code",
      "metadata": {
        "id": "dhNZhyjq87Qd",
        "colab_type": "code",
        "outputId": "dd97e37a-7139-4b74-f342-d410df8ea3ef",
        "colab": {
          "base_uri": "https://localhost:8080/",
          "height": 238
        }
      },
      "source": [
        "prev_results_df = pd.read_pickle('results2.pkl')\n",
        "results_df = prev_results_df.append(results_df_v3,ignore_index=True)\n",
        "results_df"
      ],
      "execution_count": 0,
      "outputs": [
        {
          "output_type": "execute_result",
          "data": {
            "text/html": [
              "<div>\n",
              "<style scoped>\n",
              "    .dataframe tbody tr th:only-of-type {\n",
              "        vertical-align: middle;\n",
              "    }\n",
              "\n",
              "    .dataframe tbody tr th {\n",
              "        vertical-align: top;\n",
              "    }\n",
              "\n",
              "    .dataframe thead th {\n",
              "        text-align: right;\n",
              "    }\n",
              "</style>\n",
              "<table border=\"1\" class=\"dataframe\">\n",
              "  <thead>\n",
              "    <tr style=\"text-align: right;\">\n",
              "      <th></th>\n",
              "      <th>model</th>\n",
              "      <th>val_loss</th>\n",
              "      <th>val_accuracy</th>\n",
              "      <th>loss</th>\n",
              "      <th>train_accuracy</th>\n",
              "      <th>test_accuracy</th>\n",
              "      <th>training time (sec)</th>\n",
              "      <th>testing time (sec)</th>\n",
              "    </tr>\n",
              "  </thead>\n",
              "  <tbody>\n",
              "    <tr>\n",
              "      <th>0</th>\n",
              "      <td>DNN (3 layers)</td>\n",
              "      <td>0.426255</td>\n",
              "      <td>0.812845</td>\n",
              "      <td>0.384176</td>\n",
              "      <td>0.833952</td>\n",
              "      <td>0.810851</td>\n",
              "      <td>2517.518805</td>\n",
              "      <td>5.990464</td>\n",
              "    </tr>\n",
              "    <tr>\n",
              "      <th>1</th>\n",
              "      <td>DNN w/ Dropout</td>\n",
              "      <td>0.419115</td>\n",
              "      <td>0.818296</td>\n",
              "      <td>0.417987</td>\n",
              "      <td>0.817185</td>\n",
              "      <td>0.810225</td>\n",
              "      <td>2517.518805</td>\n",
              "      <td>6.026241</td>\n",
              "    </tr>\n",
              "    <tr>\n",
              "      <th>2</th>\n",
              "      <td>Simple RNN</td>\n",
              "      <td>0.469121</td>\n",
              "      <td>0.782143</td>\n",
              "      <td>0.439075</td>\n",
              "      <td>0.800082</td>\n",
              "      <td>0.801892</td>\n",
              "      <td>1834.569555</td>\n",
              "      <td>1.979959</td>\n",
              "    </tr>\n",
              "    <tr>\n",
              "      <th>3</th>\n",
              "      <td>RNN w/ Dropout</td>\n",
              "      <td>0.511496</td>\n",
              "      <td>0.751253</td>\n",
              "      <td>0.553732</td>\n",
              "      <td>0.717752</td>\n",
              "      <td>0.774513</td>\n",
              "      <td>1834.569555</td>\n",
              "      <td>2.334067</td>\n",
              "    </tr>\n",
              "    <tr>\n",
              "      <th>4</th>\n",
              "      <td>RNN w/ Trainable Word Embeddings</td>\n",
              "      <td>0.416349</td>\n",
              "      <td>0.815915</td>\n",
              "      <td>0.412151</td>\n",
              "      <td>0.818388</td>\n",
              "      <td>0.811415</td>\n",
              "      <td>1834.569555</td>\n",
              "      <td>2.233131</td>\n",
              "    </tr>\n",
              "  </tbody>\n",
              "</table>\n",
              "</div>"
            ],
            "text/plain": [
              "                              model  ...  testing time (sec)\n",
              "0                    DNN (3 layers)  ...            5.990464\n",
              "1                    DNN w/ Dropout  ...            6.026241\n",
              "2                        Simple RNN  ...            1.979959\n",
              "3                    RNN w/ Dropout  ...            2.334067\n",
              "4  RNN w/ Trainable Word Embeddings  ...            2.233131\n",
              "\n",
              "[5 rows x 8 columns]"
            ]
          },
          "metadata": {
            "tags": []
          },
          "execution_count": 97
        }
      ]
    },
    {
      "cell_type": "markdown",
      "metadata": {
        "id": "IRWbkhI2F_R_",
        "colab_type": "text"
      },
      "source": [
        "#### Plot Performance"
      ]
    },
    {
      "cell_type": "code",
      "metadata": {
        "id": "zTp2nPODGbfz",
        "colab_type": "code",
        "outputId": "7d336c05-91a4-4c03-cb42-15757d0754ca",
        "colab": {
          "base_uri": "https://localhost:8080/",
          "height": 34
        }
      },
      "source": [
        "history_dict = history_rnn3.history\n",
        "history_dict['train_accuracy'] = history_dict.pop('train_accuracy') # rename the the key to 'train_accuracy'\n",
        "history_dict.keys()"
      ],
      "execution_count": 0,
      "outputs": [
        {
          "output_type": "execute_result",
          "data": {
            "text/plain": [
              "dict_keys(['val_loss', 'val_accuracy', 'loss', 'train_accuracy'])"
            ]
          },
          "metadata": {
            "tags": []
          },
          "execution_count": 110
        }
      ]
    },
    {
      "cell_type": "code",
      "metadata": {
        "id": "JGkhhURCGA9W",
        "colab_type": "code",
        "outputId": "f3e88202-39d7-4634-c1f9-4ecc7f4f7696",
        "colab": {
          "base_uri": "https://localhost:8080/",
          "height": 588
        }
      },
      "source": [
        "import matplotlib.pyplot as plt\n",
        "\n",
        "# list all data in history\n",
        "print(history_rnn3.history.keys())\n",
        "\n",
        "# summarize history for accuracy\n",
        "plt.plot(history_rnn3.history['train_accuracy'])\n",
        "plt.plot(history_rnn3.history['val_accuracy'])\n",
        "plt.title('Model 2b: RNN w/ Trainable Word Embeddings')\n",
        "plt.ylabel('Accuracy')\n",
        "plt.xlabel('Epochs')\n",
        "plt.legend(['train', 'val'], loc='lower right')\n",
        "plt.show()\n",
        "\n",
        "# summarize history for loss\n",
        "plt.plot(history_rnn3.history['loss'])\n",
        "plt.plot(history_rnn3.history['val_loss'])\n",
        "plt.title('Model 2b: RNN w/ Trainable Word Embeddings')\n",
        "plt.ylabel('Loss')\n",
        "plt.xlabel('Epochs')\n",
        "plt.legend(['train', 'val'], loc='center right')\n",
        "plt.show()"
      ],
      "execution_count": 0,
      "outputs": [
        {
          "output_type": "stream",
          "text": [
            "dict_keys(['val_loss', 'val_accuracy', 'loss', 'train_accuracy'])\n"
          ],
          "name": "stdout"
        },
        {
          "output_type": "display_data",
          "data": {
            "image/png": "[encoded data removed]",
            "text/plain": [
              "<Figure size 432x288 with 1 Axes>"
            ]
          },
          "metadata": {
            "tags": [],
            "image/png": {
              "width": 444,
              "height": 277
            },
            "needs_background": "light"
          }
        },
        {
          "output_type": "display_data",
          "data": {
            "image/png": "[encoded data removed]",
            "text/plain": [
              "<Figure size 432x288 with 1 Axes>"
            ]
          },
          "metadata": {
            "tags": [],
            "image/png": {
              "width": 438,
              "height": 277
            },
            "needs_background": "light"
          }
        }
      ]
    },
    {
      "cell_type": "markdown",
      "metadata": {
        "id": "8DQxF76pxH57",
        "colab_type": "text"
      },
      "source": [
        "### Save Combined Metrics to Dataframe"
      ]
    },
    {
      "cell_type": "code",
      "metadata": {
        "id": "n4Z9j3Bs370M",
        "colab_type": "code",
        "colab": {}
      },
      "source": [
        "results_df.to_pickle(\"results2_v2.pkl\") "
      ],
      "execution_count": 0,
      "outputs": []
    },
    {
      "cell_type": "markdown",
      "metadata": {
        "id": "h5S0TEtu8nwm",
        "colab_type": "text"
      },
      "source": [
        "## AUC-ROC Curve on Best Models"
      ]
    },
    {
      "cell_type": "markdown",
      "metadata": {
        "id": "vGpM5nYA80GE",
        "colab_type": "text"
      },
      "source": [
        "The following plot shows the auc-roc curves of the top two models, NN-1 and CNN-2."
      ]
    },
    {
      "cell_type": "code",
      "metadata": {
        "id": "92-xCkU49QZF",
        "colab_type": "code",
        "colab": {}
      },
      "source": [
        "# load NN-1 model\n",
        "model_nn1_load = load_model(\"model_nn1.h5\")"
      ],
      "execution_count": 0,
      "outputs": []
    },
    {
      "cell_type": "code",
      "metadata": {
        "id": "dTQ76Nig9Ogx",
        "colab_type": "code",
        "colab": {}
      },
      "source": [
        "yhat_nn1 = model_nn1_load.predict(x_test_tfidf)"
      ],
      "execution_count": 0,
      "outputs": []
    },
    {
      "cell_type": "code",
      "metadata": {
        "id": "ako06r0tbCCm",
        "colab_type": "code",
        "colab": {}
      },
      "source": [
        "yhat_cnn2 = model_cnn_2_load.predict(x_test_seq)"
      ],
      "execution_count": 0,
      "outputs": []
    },
    {
      "cell_type": "code",
      "metadata": {
        "id": "Enb_Kzea-Glv",
        "colab_type": "code",
        "colab": {}
      },
      "source": [
        "from sklearn.metrics import roc_curve, auc"
      ],
      "execution_count": 0,
      "outputs": []
    },
    {
      "cell_type": "code",
      "metadata": {
        "id": "VycTFVMp-DRx",
        "colab_type": "code",
        "outputId": "2e574af0-9a83-4197-f1de-2e387a9aa3a9",
        "colab": {
          "base_uri": "https://localhost:8080/",
          "height": 482
        }
      },
      "source": [
        "fpr, tpr, threshold = roc_curve(y_test, yhat_nn1)\n",
        "roc_auc = auc(fpr, tpr)\n",
        "fpr_cnn, tpr_cnn, threshold = roc_curve(y_test, yhat_cnn2)\n",
        "roc_auc_cnn = auc(fpr_cnn, tpr_cnn)\n",
        "plt.figure(figsize=(8,7))\n",
        "plt.plot(fpr, tpr, label='NN-1 (area = %0.3f)' % roc_auc, linewidth=2)\n",
        "plt.plot(fpr_cnn, tpr_cnn, label='CNN-2 (area = %0.3f)' % roc_auc_cnn, linewidth=2)\n",
        "\n",
        "plt.plot([0, 1], [0, 1], 'k--', linewidth=2)\n",
        "plt.xlim([-0.05, 1.0])\n",
        "plt.ylim([-0.05, 1.05])\n",
        "plt.xlabel('False Positive Rate', fontsize=18)\n",
        "plt.ylabel('True Positive Rate', fontsize=18)\n",
        "plt.title('Receiver operating characteristic: Positive Tweets', fontsize=18)\n",
        "plt.legend(loc=\"lower right\", fontsize=15)\n",
        "plt.show()\n",
        "plt.savefig('auc-roc_NNvsCNN.png')"
      ],
      "execution_count": 0,
      "outputs": [
        {
          "output_type": "display_data",
          "data": {
            "image/png": "[encoded data removed]",
            "text/plain": [
              "<Figure size 576x504 with 1 Axes>"
            ]
          },
          "metadata": {
            "tags": [],
            "image/png": {
              "width": 563,
              "height": 448
            }
          }
        },
        {
          "output_type": "display_data",
          "data": {
            "text/plain": [
              "<Figure size 432x288 with 0 Axes>"
            ]
          },
          "metadata": {
            "tags": []
          }
        }
      ]
    },
    {
      "cell_type": "code",
      "metadata": {
        "id": "5OAiTEF2-Z4w",
        "colab_type": "code",
        "colab": {}
      },
      "source": [
        ""
      ],
      "execution_count": 0,
      "outputs": []
    }
  ]
}