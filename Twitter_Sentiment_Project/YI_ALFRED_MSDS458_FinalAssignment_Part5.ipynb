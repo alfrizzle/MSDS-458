{
  "nbformat": 4,
  "nbformat_minor": 0,
  "metadata": {
    "colab": {
      "name": "YI_ALFRED_MSDS458_FinalAssignment_Part5.ipynb",
      "provenance": [],
      "collapsed_sections": [
        "QhmFoK_iXEn_",
        "JfcpnVeOMZvN"
      ],
      "toc_visible": true,
      "machine_shape": "hm"
    },
    "kernelspec": {
      "name": "python3",
      "display_name": "Python 3"
    },
    "accelerator": "TPU"
  },
  "cells": [
    {
      "cell_type": "markdown",
      "metadata": {
        "id": "2zIVkR05Uc_A",
        "colab_type": "text"
      },
      "source": [
        "# MSDS 458: Research/Programming Assignment #4 (Final Assignment): Part 5"
      ]
    },
    {
      "cell_type": "markdown",
      "metadata": {
        "id": "p1dswL0MUgEQ",
        "colab_type": "text"
      },
      "source": [
        "**Management Problem**\n",
        "\n",
        "For this final research assignment, I apply deep learning methods that we covered in the course (MSDS 458) to conduct sentiment analysis of Twitter data, a challenging yet important field of study for organizations in both public and private sectors. Twitter is a popular platform where entities at all levels—governments, businesses, country leaders, celebrities, and even the average social media user—express their opinions. The content of such tweets could represent a country's official policy or collectively, a country's public sentiment toward a particular issue. Given the massive volume of tweets generated each day—on average, [6,000 tweets are posted on Twitter every second](https://www.internetlivestats.com/twitter-statistics/) —there is immense value in being able quickly and accurately determine such sentiment values (e.g., positive or negative). I combine natural language processing (NLP) and deep learning techniques to build a robust Twitter sentiment classification model. \n",
        "\n",
        "**Corpus Description**\n",
        "\n",
        "The corpus I use is Stanford University's [Sentiment140](http://cs.stanford.edu/people/alecmgo/trainingandtestdata.zip). The dataset is a CSV file consisting of 1.6 million English-language tweets. The tweets are annotated using six attributes: 1. polarity of the tweet (0 = negative, 2 = neutral, 4 = positive); 2. ID; 3. date; 4. query; 5. username; 6. text.  For this project, I plan to use the polarity and text content to build a model that could take any given tweet and determine the most probable sentiment value.\n",
        "\n",
        "**Methods**\n",
        "\n",
        "***Text Preprocessing & Data Exploration***\n",
        "<p>Given the massive number of documents in the corpus (one tweet = one document), it is important to ensure the data, particularly each tweet's text, is cleaned and tokenized properly for any follow-on modeling tasks. Regular expressions are useful in handling any emoticons or special characters (e.g., @ symbols and hashtags). As part of the data exploration step, I also generate visualizations using histograms and word clouds representing various aspects of the tweets (e.g., text content, null values, positive/negative/neutral breakdown, etc.) to gain a broad understanding of both qualitative and quantitative aspects of the corpus.</p>\n",
        "\n",
        "***Text Vectorization***\n",
        "<p>While the focus of this project is evaluating optimal deep neural network (DNN) architectures and parameters for Twitter sentiment analysis, such work is dependent on proper experimentation and implementation of various text vectorization methods. I leverage the techniques I learned in MSDS 453 for this task, which include applying word embedding approaches such as TF-IDF and Doc2vec. Since there are 1.6 million documents, it is important for me to limit the vocabulary by tuning the vectorizer hyperparameters (e.g., max_features, max_df) and exploring dimensionality reduction techniques, such as PCA.</p>\n",
        "<p>I evaluate the vectors using various classifiers to ensure I have the optimal number of features in training for the classification models. I experiment with both traditional classifiers (e.g., logistic regression, random forest, and ensemble methods) and neural networks.</p>\n",
        "\n",
        "***Building Neural Network-Based Models***\n",
        "<p>The main part of this research assignment entails careful experimentation of various DNNs we covered in MSDS 458, including fully-connected dense networks, recurrent neural networks (RNN), long short-term memory networks (LSTM), and convolutional neural networks (CNN). The neural networks are built using Keras. The evaluation method to determine the best classification model consists of a strict training-and-test regimen using a crossed experimental design (e.g., maintain consistent hyperparameter settings for consistency). Vocabulary size and word embeddings also remain consistent. I experiment with various network structure designs, hyperparameter settings, and model fit methods by taking the input data (i.e., processed tweet text vectors) through single to multiple layers consisting of varying nodes/units across dense networks, RNNs, LSTM networks, and CNNs.</p>\n",
        "\n",
        "**Evaluation**\n",
        "<p>I track and compare training/testing times as well as accuracy and loss curves for train, validation, and test datasets to evaluate the deep learning models' performances. I also provide charts and plots summarizing these key metrics to visually capture which neural network structures and models yield the strongest performance, in terms of implementation time and accuracy.</p>"
      ]
    },
    {
      "cell_type": "markdown",
      "metadata": {
        "id": "Xd-KFnADUlE4",
        "colab_type": "text"
      },
      "source": [
        "## NOTES\n",
        "\n",
        "This notebook is a continuation (part 4 of 6) of MSDS 458 Final Assignment. You need access to the clean_tweets.csv file in order to run the following code.\n",
        "\n",
        "In parts 3-6, I use observations and findings from parts 1 and 2 to train various neural network models:\n",
        "\n",
        "* EXPERIMENT 1: Fully connected dense neural network (DNN)\n",
        "* EXPERIMENT 2: Simple RNN\n",
        "* **EXPERIMENT 3: LSTM RNN**\n",
        "* EXPERIMENT 4: 1D CNN\n",
        "\n",
        "The objective is to see if I can train a neural network model that could perform better than traditional machine learning models, namely logistic regrssion using a trigram TF-IDF vectorization.\n",
        "\n",
        "This notebook covers **Experiment 3: LSTM RNN**"
      ]
    },
    {
      "cell_type": "markdown",
      "metadata": {
        "id": "Nuolddl9NJyo",
        "colab_type": "text"
      },
      "source": [
        "## Import packages needed (and set seed)\n",
        "\n",
        "Since Keras in part of TensorFlow 2.x, we import keras from tensorflow and use tenserflow.keras.xxx to import all other Keras packages. The seed argument produces a deterministic sequence of tensors across multiple calls."
      ]
    },
    {
      "cell_type": "code",
      "metadata": {
        "id": "D10hEwWDNF7E",
        "colab_type": "code",
        "colab": {}
      },
      "source": [
        "# import tensorflow as tf\n",
        "# from tensorflow import keras\n",
        "# from tensorflow.keras import models\n",
        "# from tensorflow.keras.models import Sequential, load_model\n",
        "# from tensorflow.keras.layers import Dense, Dropout, Flatten, Activation, Embedding\n",
        "# from tensorflow.keras.layers import Conv2D, MaxPooling2D, BatchNormalization, Dropout\n",
        "# from tensorflow.keras.callbacks import ModelCheckpoint\n",
        "# from tensorflow.keras.preprocessing import sequence\n",
        "# keras.__version__"
      ],
      "execution_count": 0,
      "outputs": []
    },
    {
      "cell_type": "code",
      "metadata": {
        "id": "SYj_enRSNYL4",
        "colab_type": "code",
        "colab": {}
      },
      "source": [
        "import pandas as pd  \n",
        "import numpy as np\n",
        "import matplotlib.pyplot as plt\n",
        "import re\n",
        "import os\n",
        "\n",
        "from google.colab import files\n",
        "from collections import Counter\n",
        "from sklearn.feature_extraction.text import TfidfVectorizer, CountVectorizer\n",
        "\n",
        "from sklearn.model_selection import train_test_split\n",
        "from sklearn.linear_model import LogisticRegression\n",
        "from sklearn import metrics\n",
        "from sklearn import utils\n",
        "from sklearn.pipeline import Pipeline\n",
        "from sklearn.metrics import accuracy_score, f1_score\n",
        "from sklearn.metrics import classification_report, confusion_matrix\n",
        "from sklearn.feature_extraction import text\n",
        "from time import time\n",
        "\n",
        "from pprint import pprint\n",
        "plt.style.use('fivethirtyeight')\n",
        "\n",
        "%matplotlib inline\n",
        "%config InlineBackend.figure_format = 'retina'"
      ],
      "execution_count": 0,
      "outputs": []
    },
    {
      "cell_type": "code",
      "metadata": {
        "id": "uSK_gpJbj05c",
        "colab_type": "code",
        "outputId": "cd3e158d-69a1-44c5-d2db-2359afa732ac",
        "colab": {
          "base_uri": "https://localhost:8080/",
          "height": 34
        }
      },
      "source": [
        "seed = 50\n",
        "np.random.seed(seed)\n",
        "import tensorflow as tf\n",
        "from tensorflow import keras\n",
        "from keras.models import Sequential, load_model\n",
        "from keras.layers import Dense, Dropout, LSTM\n",
        "from keras.layers import Flatten\n",
        "from keras.callbacks import ModelCheckpoint\n",
        "from keras.layers.embeddings import Embedding\n",
        "from keras.preprocessing import sequence\n",
        "from keras.layers import Conv2D, MaxPooling2D, BatchNormalization, Dropout\n",
        "from keras.layers import Activation, Dropout, Flatten, Dense"
      ],
      "execution_count": 0,
      "outputs": [
        {
          "output_type": "stream",
          "text": [
            "Using TensorFlow backend.\n"
          ],
          "name": "stderr"
        }
      ]
    },
    {
      "cell_type": "code",
      "metadata": {
        "id": "sgaTlkttNZj3",
        "colab_type": "code",
        "colab": {}
      },
      "source": [
        "keras.backend.clear_session()\n",
        "np.random.seed(42)\n",
        "tf.random.set_seed(42)"
      ],
      "execution_count": 0,
      "outputs": []
    },
    {
      "cell_type": "code",
      "metadata": {
        "id": "FQglBbvfUqX3",
        "colab_type": "code",
        "outputId": "290065c8-aa70-4630-be74-3716ea35af1b",
        "colab": {
          "base_uri": "https://localhost:8080/",
          "height": 122
        }
      },
      "source": [
        "from google.colab import drive\n",
        "drive.mount('/content/drive')"
      ],
      "execution_count": 0,
      "outputs": [
        {
          "output_type": "stream",
          "text": [
            "Go to this URL in a browser: https://accounts.google.com/o/oauth2/auth?client_id=947318989803-6bn6qk8qdgf4n4g3pfee6491hc0brc4i.apps.googleusercontent.com&redirect_uri=urn%3aietf%3awg%3aoauth%3a2.0%3aoob&response_type=code&scope=email%20https%3a%2f%2fwww.googleapis.com%2fauth%2fdocs.test%20https%3a%2f%2fwww.googleapis.com%2fauth%2fdrive%20https%3a%2f%2fwww.googleapis.com%2fauth%2fdrive.photos.readonly%20https%3a%2f%2fwww.googleapis.com%2fauth%2fpeopleapi.readonly\n",
            "\n",
            "Enter your authorization code:\n",
            "··········\n",
            "Mounted at /content/drive\n"
          ],
          "name": "stdout"
        }
      ]
    },
    {
      "cell_type": "code",
      "metadata": {
        "id": "d8xrqZsFV0AR",
        "colab_type": "code",
        "outputId": "2c0253ca-f01a-41af-d396-9f9a21c52370",
        "colab": {
          "base_uri": "https://localhost:8080/",
          "height": 476
        }
      },
      "source": [
        "import os\n",
        "os.chdir('/content/drive/My Drive/MSDS Files/MSDS 458/Assignment 4')\n",
        "\n",
        "# Check working directory\n",
        "!pwd\n",
        "\n",
        "# Check files in directory\n",
        "!ls"
      ],
      "execution_count": 0,
      "outputs": [
        {
          "output_type": "stream",
          "text": [
            "/content/drive/My Drive/MSDS Files/MSDS 458/Assignment 4\n",
            "clean_tweets.csv\n",
            "clf_compare_accuracy_summary.csv\n",
            "cvec_tfidf_accuracy_summary.csv\n",
            "d2v_model_dbow.doc2vec\n",
            "d2v_model_dbow.doc2vec.docvecs.vectors_docs.npy\n",
            "d2v_model_dbow.doc2vec.trainables.syn1neg.npy\n",
            "d2v_model_dbow.doc2vec.wv.vectors.npy\n",
            "Data\n",
            "dbow_cvec_tfidf_accuracy_summary.csv\n",
            "dmm_dbow_cvec_tfidf_accuracy_summary.csv\n",
            "glove.twitter.27B\n",
            "model_dnn1.h5\n",
            "model_dnn2.h5\n",
            "model_dnn3.h5\n",
            "model_lstm1.h5\n",
            "model_lstm2.h5\n",
            "model.png\n",
            "model_rnn1.h5\n",
            "model_rnn2.h5\n",
            "model_rnn3.h5\n",
            "ngram_accuracy_comparison_plot.png\n",
            "results1.pkl\n",
            "results2.pkl\n",
            "results2_v2.pkl\n",
            "results2_v3.pkl\n",
            "results3.pkl\n"
          ],
          "name": "stdout"
        }
      ]
    },
    {
      "cell_type": "code",
      "metadata": {
        "id": "TPwSsZQUV1GF",
        "colab_type": "code",
        "outputId": "380fcf1f-b5e3-4eac-85b0-2cc27f4df20b",
        "colab": {
          "base_uri": "https://localhost:8080/",
          "height": 71
        }
      },
      "source": [
        "df = pd.read_csv('clean_tweets.csv', index_col=0)"
      ],
      "execution_count": 0,
      "outputs": [
        {
          "output_type": "stream",
          "text": [
            "/usr/local/lib/python3.6/dist-packages/numpy/lib/arraysetops.py:569: FutureWarning: elementwise comparison failed; returning scalar instead, but in the future will perform elementwise comparison\n",
            "  mask |= (ar1 == a)\n"
          ],
          "name": "stderr"
        }
      ]
    },
    {
      "cell_type": "code",
      "metadata": {
        "id": "cephDmO1V25G",
        "colab_type": "code",
        "outputId": "94dd2027-dd3d-472c-efe8-487441341719",
        "colab": {
          "base_uri": "https://localhost:8080/",
          "height": 204
        }
      },
      "source": [
        "df.head()"
      ],
      "execution_count": 0,
      "outputs": [
        {
          "output_type": "execute_result",
          "data": {
            "text/html": [
              "<div>\n",
              "<style scoped>\n",
              "    .dataframe tbody tr th:only-of-type {\n",
              "        vertical-align: middle;\n",
              "    }\n",
              "\n",
              "    .dataframe tbody tr th {\n",
              "        vertical-align: top;\n",
              "    }\n",
              "\n",
              "    .dataframe thead th {\n",
              "        text-align: right;\n",
              "    }\n",
              "</style>\n",
              "<table border=\"1\" class=\"dataframe\">\n",
              "  <thead>\n",
              "    <tr style=\"text-align: right;\">\n",
              "      <th></th>\n",
              "      <th>text</th>\n",
              "      <th>target</th>\n",
              "    </tr>\n",
              "  </thead>\n",
              "  <tbody>\n",
              "    <tr>\n",
              "      <th>0</th>\n",
              "      <td>awww that bummer you shoulda got david carr of...</td>\n",
              "      <td>0</td>\n",
              "    </tr>\n",
              "    <tr>\n",
              "      <th>1</th>\n",
              "      <td>is upset that he can not update his facebook b...</td>\n",
              "      <td>0</td>\n",
              "    </tr>\n",
              "    <tr>\n",
              "      <th>2</th>\n",
              "      <td>dived many times for the ball managed to save ...</td>\n",
              "      <td>0</td>\n",
              "    </tr>\n",
              "    <tr>\n",
              "      <th>3</th>\n",
              "      <td>my whole body feels itchy and like its on fire</td>\n",
              "      <td>0</td>\n",
              "    </tr>\n",
              "    <tr>\n",
              "      <th>4</th>\n",
              "      <td>no it not behaving at all mad why am here beca...</td>\n",
              "      <td>0</td>\n",
              "    </tr>\n",
              "  </tbody>\n",
              "</table>\n",
              "</div>"
            ],
            "text/plain": [
              "                                                text  target\n",
              "0  awww that bummer you shoulda got david carr of...       0\n",
              "1  is upset that he can not update his facebook b...       0\n",
              "2  dived many times for the ball managed to save ...       0\n",
              "3     my whole body feels itchy and like its on fire       0\n",
              "4  no it not behaving at all mad why am here beca...       0"
            ]
          },
          "metadata": {
            "tags": []
          },
          "execution_count": 8
        }
      ]
    },
    {
      "cell_type": "markdown",
      "metadata": {
        "id": "Dwcf-V1rV9xp",
        "colab_type": "text"
      },
      "source": [
        "## Model Training Prep"
      ]
    },
    {
      "cell_type": "markdown",
      "metadata": {
        "id": "glsz6pLkWDDr",
        "colab_type": "text"
      },
      "source": [
        "Train / Dev / Test Split\n",
        "\n",
        "Given the 1.5 million+ size of the dataset, I will split the data into training, validation, and test data."
      ]
    },
    {
      "cell_type": "code",
      "metadata": {
        "id": "13lYkSb9V4WK",
        "colab_type": "code",
        "colab": {}
      },
      "source": [
        "x = df.text\n",
        "y = df.target"
      ],
      "execution_count": 0,
      "outputs": []
    },
    {
      "cell_type": "code",
      "metadata": {
        "id": "mP_ISBM4WGS2",
        "colab_type": "code",
        "colab": {}
      },
      "source": [
        "SEED = 5000\n",
        "x_train, x_validation_and_test, y_train, y_validation_and_test = train_test_split(x, y, test_size=.02, random_state=SEED)\n",
        "x_validation, x_test, y_validation, y_test = train_test_split(x_validation_and_test, y_validation_and_test, test_size=.5, random_state=SEED)"
      ],
      "execution_count": 0,
      "outputs": []
    },
    {
      "cell_type": "code",
      "metadata": {
        "id": "y-1zDaKGWJMe",
        "colab_type": "code",
        "outputId": "cee558d3-0caa-4b4e-8560-3128be904b0d",
        "colab": {
          "base_uri": "https://localhost:8080/",
          "height": 68
        }
      },
      "source": [
        "print(\"Train set has total {0} entries with {1:.2f}% negative tweets, {2:.2f}% positive tweets.\".format(len(x_train),\n",
        "                                                                             (len(x_train[y_train == 0]) / (len(x_train)*1.))*100,\n",
        "                                                                            (len(x_train[y_train == 1]) / (len(x_train)*1.))*100))\n",
        "print(\"Validation set has total {0} entries with {1:.2f}% negative tweets, {2:.2f}% positive tweets.\".format(len(x_validation),\n",
        "                                                                             (len(x_validation[y_validation == 0]) / (len(x_validation)*1.))*100,\n",
        "                                                                            (len(x_validation[y_validation == 1]) / (len(x_validation)*1.))*100))\n",
        "print(\"Test set has total {0} entries with {1:.2f}% negative tweets, {2:.2f}% positive tweets.\".format(len(x_test),\n",
        "                                                                             (len(x_test[y_test == 0]) / (len(x_test)*1.))*100,\n",
        "                                                                            (len(x_test[y_test == 1]) / (len(x_test)*1.))*100))"
      ],
      "execution_count": 0,
      "outputs": [
        {
          "output_type": "stream",
          "text": [
            "Train set has total 1564120 entries with 50.02% negative tweets, 49.98% positive tweets.\n",
            "Validation set has total 15960 entries with 49.18% negative tweets, 50.82% positive tweets.\n",
            "Test set has total 15961 entries with 49.86% negative tweets, 50.14% positive tweets.\n"
          ],
          "name": "stdout"
        }
      ]
    },
    {
      "cell_type": "markdown",
      "metadata": {
        "id": "5DH7nXHBScSb",
        "colab_type": "text"
      },
      "source": [
        "## Train/Test Timer Functions"
      ]
    },
    {
      "cell_type": "code",
      "metadata": {
        "id": "WW2_87DUSf8D",
        "colab_type": "code",
        "colab": {}
      },
      "source": [
        "# Define callback to get total training time\n",
        "import datetime\n",
        "\n",
        "class TrainRuntimeCallback(keras.callbacks.Callback):\n",
        "\n",
        "  def on_train_begin(self,logs={}):\n",
        "    self.start = datetime.datetime.now()\n",
        "\n",
        "  def on_train_end(self,logs={}):\n",
        "    self.process_time = (datetime.datetime.now() - self.start).total_seconds()\n",
        "\n",
        "\n",
        "# Define callback to get total test time\n",
        "\n",
        "class TestRuntimeCallback(keras.callbacks.Callback):\n",
        "\n",
        "  def on_test_begin(self,logs={}):\n",
        "    self.start = datetime.datetime.now()\n",
        "\n",
        "  def on_test_end(self,logs={}):\n",
        "    self.process_time = (datetime.datetime.now() - self.start).total_seconds()\n",
        "\n",
        "train_rt = TrainRuntimeCallback()\n",
        "test_rt = TestRuntimeCallback()"
      ],
      "execution_count": 0,
      "outputs": []
    },
    {
      "cell_type": "markdown",
      "metadata": {
        "id": "cqu9AFAgShN7",
        "colab_type": "text"
      },
      "source": [
        "## Hyperparameter Settings"
      ]
    },
    {
      "cell_type": "code",
      "metadata": {
        "id": "wxXmReNvSmLz",
        "colab_type": "code",
        "colab": {}
      },
      "source": [
        "num_epochs = 10\n",
        "batch_size = 64\n",
        "# validation_split = 0.20\n",
        "patience = 3\n",
        "# cbs = [train_rt, keras.callbacks.EarlyStopping(patience=5, restore_best_weights = True)]\n",
        "\n",
        "optimizer='rmsprop'\n",
        "loss='binary_crossentropy'\n",
        "metrics=['accuracy']\n",
        "\n",
        "dropout = 0.2\n",
        "LSTM_units = 128"
      ],
      "execution_count": 0,
      "outputs": []
    },
    {
      "cell_type": "markdown",
      "metadata": {
        "id": "QhmFoK_iXEn_",
        "colab_type": "text"
      },
      "source": [
        "## TF-IDF + Logistic Regression (Trigram) - **NOT REQUIRED FOR THIS NOTEBOOK**"
      ]
    },
    {
      "cell_type": "markdown",
      "metadata": {
        "id": "p_gawUR5Xjgx",
        "colab_type": "text"
      },
      "source": [
        "In part 2, I discovered that a logistic regression model with a trigram TF-IDF vectorization resulted in the highest accuracy (higher than the Doc2vec+DBOW model or Doc2vec+DMM models). I will generate the accuracy scores for both the train and validation data as reference points for the subsequent neural network model."
      ]
    },
    {
      "cell_type": "code",
      "metadata": {
        "id": "bWWZWD6yWKoZ",
        "colab_type": "code",
        "outputId": "7c6bc283-9409-4bb8-80ab-c96222957cc6",
        "colab": {
          "base_uri": "https://localhost:8080/",
          "height": 136
        }
      },
      "source": [
        "tfidf_vector = TfidfVectorizer(max_features=80000,ngram_range=(1, 3))\n",
        "tfidf_vector.fit(x_train)"
      ],
      "execution_count": 0,
      "outputs": [
        {
          "output_type": "execute_result",
          "data": {
            "text/plain": [
              "TfidfVectorizer(analyzer='word', binary=False, decode_error='strict',\n",
              "                dtype=<class 'numpy.float64'>, encoding='utf-8',\n",
              "                input='content', lowercase=True, max_df=1.0, max_features=80000,\n",
              "                min_df=1, ngram_range=(1, 3), norm='l2', preprocessor=None,\n",
              "                smooth_idf=True, stop_words=None, strip_accents=None,\n",
              "                sublinear_tf=False, token_pattern='(?u)\\\\b\\\\w\\\\w+\\\\b',\n",
              "                tokenizer=None, use_idf=True, vocabulary=None)"
            ]
          },
          "metadata": {
            "tags": []
          },
          "execution_count": 15
        }
      ]
    },
    {
      "cell_type": "code",
      "metadata": {
        "id": "1i6IPu7oYVOX",
        "colab_type": "code",
        "colab": {}
      },
      "source": [
        "#vectorizing train data\n",
        "x_train_tfidf = tfidf_vector.transform(x_train)"
      ],
      "execution_count": 0,
      "outputs": []
    },
    {
      "cell_type": "code",
      "metadata": {
        "id": "ya1jd2CjZ3No",
        "colab_type": "code",
        "colab": {}
      },
      "source": [
        "#vectorizing validation data\n",
        "x_validation_tfidf = tfidf_vector.transform(x_validation).toarray()"
      ],
      "execution_count": 0,
      "outputs": []
    },
    {
      "cell_type": "code",
      "metadata": {
        "id": "9UsWO9-bpet7",
        "colab_type": "code",
        "colab": {}
      },
      "source": [
        "# vectorizing test data\n",
        "x_test_tfidf = tfidf_vector.transform(x_test).toarray()"
      ],
      "execution_count": 0,
      "outputs": []
    },
    {
      "cell_type": "code",
      "metadata": {
        "id": "0_rAAsosaAWT",
        "colab_type": "code",
        "outputId": "19a4b73e-af68-4b97-e04a-29cf0ad283fd",
        "colab": {
          "base_uri": "https://localhost:8080/",
          "height": 207
        }
      },
      "source": [
        "%%time\n",
        "lr_clf = LogisticRegression()\n",
        "lr_clf.fit(x_train_tfidf, y_train)"
      ],
      "execution_count": 0,
      "outputs": [
        {
          "output_type": "stream",
          "text": [
            "CPU times: user 3min 25s, sys: 15min 35s, total: 19min 1s\n",
            "Wall time: 42.9 s\n"
          ],
          "name": "stdout"
        },
        {
          "output_type": "stream",
          "text": [
            "/usr/local/lib/python3.6/dist-packages/sklearn/linear_model/_logistic.py:940: ConvergenceWarning: lbfgs failed to converge (status=1):\n",
            "STOP: TOTAL NO. of ITERATIONS REACHED LIMIT.\n",
            "\n",
            "Increase the number of iterations (max_iter) or scale the data as shown in:\n",
            "    https://scikit-learn.org/stable/modules/preprocessing.html\n",
            "Please also refer to the documentation for alternative solver options:\n",
            "    https://scikit-learn.org/stable/modules/linear_model.html#logistic-regression\n",
            "  extra_warning_msg=_LOGISTIC_SOLVER_CONVERGENCE_MSG)\n"
          ],
          "name": "stderr"
        }
      ]
    },
    {
      "cell_type": "code",
      "metadata": {
        "id": "guV4mL_yapyC",
        "colab_type": "code",
        "outputId": "177092c7-9513-4966-e628-638736f53d8d",
        "colab": {
          "base_uri": "https://localhost:8080/",
          "height": 34
        }
      },
      "source": [
        "lr_clf.score(x_validation_tfidf, y_validation)"
      ],
      "execution_count": 0,
      "outputs": [
        {
          "output_type": "execute_result",
          "data": {
            "text/plain": [
              "0.8320175438596491"
            ]
          },
          "metadata": {
            "tags": []
          },
          "execution_count": 20
        }
      ]
    },
    {
      "cell_type": "code",
      "metadata": {
        "id": "MtEsawqNarmk",
        "colab_type": "code",
        "outputId": "2e3dffdb-6261-4305-ea3f-d8b7db0b09e6",
        "colab": {
          "base_uri": "https://localhost:8080/",
          "height": 34
        }
      },
      "source": [
        "lr_clf.score(x_train_tfidf, y_train)"
      ],
      "execution_count": 0,
      "outputs": [
        {
          "output_type": "execute_result",
          "data": {
            "text/plain": [
              "0.8359831726466"
            ]
          },
          "metadata": {
            "tags": []
          },
          "execution_count": 21
        }
      ]
    },
    {
      "cell_type": "code",
      "metadata": {
        "id": "aLQIzQJspkNX",
        "colab_type": "code",
        "outputId": "a2748f34-3b9c-4047-94d5-7aec7b4aa96e",
        "colab": {
          "base_uri": "https://localhost:8080/",
          "height": 34
        }
      },
      "source": [
        "lr_clf.score(x_test_tfidf, y_test)"
      ],
      "execution_count": 0,
      "outputs": [
        {
          "output_type": "execute_result",
          "data": {
            "text/plain": [
              "0.8193095670697325"
            ]
          },
          "metadata": {
            "tags": []
          },
          "execution_count": 22
        }
      ]
    },
    {
      "cell_type": "markdown",
      "metadata": {
        "id": "4l2-dgfxdt5A",
        "colab_type": "text"
      },
      "source": [
        "**TF-IDF + Logistic Regression Accuracy Results:**\n",
        "*  Training Accuracy: 83.60%\n",
        "*  Validation Accuracy: 83.20%\n",
        "*  Test Accuracy: 81.93%"
      ]
    },
    {
      "cell_type": "markdown",
      "metadata": {
        "id": "mKfW6mQKCW9y",
        "colab_type": "text"
      },
      "source": [
        "## Text Preprocessing w/ Pre-Trained Word Embeddings"
      ]
    },
    {
      "cell_type": "code",
      "metadata": {
        "id": "MAVv776GCbJt",
        "colab_type": "code",
        "colab": {}
      },
      "source": [
        "# import gensim.downloader as api\n",
        "# glove_twitter = api.load(\"glove-twitter-200\")"
      ],
      "execution_count": 0,
      "outputs": []
    },
    {
      "cell_type": "code",
      "metadata": {
        "id": "hae9uHF3Cbl_",
        "colab_type": "code",
        "colab": {}
      },
      "source": [
        "# len(glove_twitter.vocab.keys())"
      ],
      "execution_count": 0,
      "outputs": []
    },
    {
      "cell_type": "code",
      "metadata": {
        "id": "4GCIoxWKCdgU",
        "colab_type": "code",
        "colab": {}
      },
      "source": [
        "# embeddings_index = {}\n",
        "# for w in glove_twitter.vocab.keys():\n",
        "#     embeddings_index[w] = glove_twitter[w]\n",
        "# print('Found %s word vectors.' % len(embeddings_index))"
      ],
      "execution_count": 0,
      "outputs": []
    },
    {
      "cell_type": "code",
      "metadata": {
        "id": "OT-cyCR_mnBz",
        "colab_type": "code",
        "outputId": "a1e659ac-3dae-4e5f-bceb-86f3d522c9dc",
        "colab": {
          "base_uri": "https://localhost:8080/",
          "height": 34
        }
      },
      "source": [
        "glove_dir = '/content/drive/My Drive/MSDS Files/MSDS 458/Assignment 4/glove.twitter.27B'\n",
        "\n",
        "embeddings_index = {}\n",
        "f = open(os.path.join(glove_dir, 'glove.twitter.27B.200d.txt'))\n",
        "for line in f:\n",
        "    values = line.split()\n",
        "    word = values[0]\n",
        "    coefs = np.asarray(values[1:], dtype='float32')\n",
        "    embeddings_index[word] = coefs\n",
        "f.close()\n",
        "\n",
        "print('Found %s word vectors.' % len(embeddings_index))"
      ],
      "execution_count": 0,
      "outputs": [
        {
          "output_type": "stream",
          "text": [
            "Found 1193515 word vectors.\n"
          ],
          "name": "stdout"
        }
      ]
    },
    {
      "cell_type": "code",
      "metadata": {
        "id": "ALKbe0sACe6I",
        "colab_type": "code",
        "colab": {}
      },
      "source": [
        "from keras.preprocessing.text import Tokenizer\n",
        "from keras.preprocessing.sequence import pad_sequences"
      ],
      "execution_count": 0,
      "outputs": []
    },
    {
      "cell_type": "code",
      "metadata": {
        "id": "373kK6RNCgR3",
        "colab_type": "code",
        "colab": {}
      },
      "source": [
        "tokenizer = Tokenizer(num_words=100000)\n",
        "tokenizer.fit_on_texts(x_train)\n",
        "sequences = tokenizer.texts_to_sequences(x_train)"
      ],
      "execution_count": 0,
      "outputs": []
    },
    {
      "cell_type": "code",
      "metadata": {
        "id": "W9vH-FYKChwY",
        "colab_type": "code",
        "outputId": "0b1e3bc0-4815-4ea0-a733-3d7d1dc0996d",
        "colab": {
          "base_uri": "https://localhost:8080/",
          "height": 34
        }
      },
      "source": [
        "len(tokenizer.word_index)"
      ],
      "execution_count": 0,
      "outputs": [
        {
          "output_type": "execute_result",
          "data": {
            "text/plain": [
              "261744"
            ]
          },
          "metadata": {
            "tags": []
          },
          "execution_count": 17
        }
      ]
    },
    {
      "cell_type": "code",
      "metadata": {
        "id": "r6c1Rz0eCjH9",
        "colab_type": "code",
        "outputId": "0efd53b6-7394-4d5d-b4d3-9950d45207f9",
        "colab": {
          "base_uri": "https://localhost:8080/",
          "height": 122
        }
      },
      "source": [
        "for x in x_train[:5]:\n",
        "    print(x)"
      ],
      "execution_count": 0,
      "outputs": [
        {
          "output_type": "stream",
          "text": [
            "run house but shit its taking me away from my homework ahhhh more classes more assignments\n",
            "and we are having jaljeera party join in buddy fb\n",
            "going out with friends tonight today is friends day\n",
            "went paintballing yesterday got shot in the arm and it hurts but shot kid and he was cying in pain so its no all bad haha evil me\n",
            "sorry ll make you chicken soup\n"
          ],
          "name": "stdout"
        }
      ]
    },
    {
      "cell_type": "code",
      "metadata": {
        "id": "iByCZqmCCkjn",
        "colab_type": "code",
        "outputId": "e5c31114-5208-4926-e2be-983d29356d2b",
        "colab": {
          "base_uri": "https://localhost:8080/",
          "height": 561
        }
      },
      "source": [
        "sequences[:5]"
      ],
      "execution_count": 0,
      "outputs": [
        {
          "output_type": "execute_result",
          "data": {
            "text/plain": [
              "[[436, 204, 17, 353, 62, 408, 14, 212, 51, 3, 578, 1517, 79, 1138, 79, 2826],\n",
              " [5, 43, 33, 171, 14239, 269, 781, 9, 1232, 647],\n",
              " [42, 31, 20, 185, 116, 37, 8, 185, 29],\n",
              " [203,\n",
              "  15929,\n",
              "  278,\n",
              "  45,\n",
              "  1106,\n",
              "  9,\n",
              "  2,\n",
              "  1486,\n",
              "  5,\n",
              "  4,\n",
              "  340,\n",
              "  17,\n",
              "  1106,\n",
              "  858,\n",
              "  5,\n",
              "  78,\n",
              "  23,\n",
              "  51053,\n",
              "  9,\n",
              "  494,\n",
              "  15,\n",
              "  62,\n",
              "  35,\n",
              "  30,\n",
              "  110,\n",
              "  97,\n",
              "  1549,\n",
              "  14],\n",
              " [115, 73, 119, 6, 870, 1449]]"
            ]
          },
          "metadata": {
            "tags": []
          },
          "execution_count": 19
        }
      ]
    },
    {
      "cell_type": "code",
      "metadata": {
        "id": "t7fqCJFRCl5z",
        "colab_type": "code",
        "colab": {}
      },
      "source": [
        "length = []\n",
        "for x in x_train:\n",
        "    length.append(len(x.split()))"
      ],
      "execution_count": 0,
      "outputs": []
    },
    {
      "cell_type": "code",
      "metadata": {
        "id": "Qm-7C3kTCnYo",
        "colab_type": "code",
        "outputId": "72d819cc-befb-47ac-aae6-e108d8785e3d",
        "colab": {
          "base_uri": "https://localhost:8080/",
          "height": 34
        }
      },
      "source": [
        "max(length)"
      ],
      "execution_count": 0,
      "outputs": [
        {
          "output_type": "execute_result",
          "data": {
            "text/plain": [
              "40"
            ]
          },
          "metadata": {
            "tags": []
          },
          "execution_count": 21
        }
      ]
    },
    {
      "cell_type": "code",
      "metadata": {
        "id": "BEkPoFwICpQg",
        "colab_type": "code",
        "outputId": "ee6a9812-4101-4c48-f5ab-13557d54ad4d",
        "colab": {
          "base_uri": "https://localhost:8080/",
          "height": 34
        }
      },
      "source": [
        "# pad sequence train data\n",
        "x_train_seq = pad_sequences(sequences, maxlen=45)\n",
        "print('Shape of data tensor:', x_train_seq.shape)"
      ],
      "execution_count": 0,
      "outputs": [
        {
          "output_type": "stream",
          "text": [
            "Shape of data tensor: (1564120, 45)\n"
          ],
          "name": "stdout"
        }
      ]
    },
    {
      "cell_type": "code",
      "metadata": {
        "id": "LruA7OoGCqbC",
        "colab_type": "code",
        "outputId": "f66c299b-d0ec-40e9-ba2d-2f249a5e0211",
        "colab": {
          "base_uri": "https://localhost:8080/",
          "height": 459
        }
      },
      "source": [
        "x_train_seq[:5]"
      ],
      "execution_count": 0,
      "outputs": [
        {
          "output_type": "execute_result",
          "data": {
            "text/plain": [
              "array([[    0,     0,     0,     0,     0,     0,     0,     0,     0,\n",
              "            0,     0,     0,     0,     0,     0,     0,     0,     0,\n",
              "            0,     0,     0,     0,     0,     0,     0,     0,     0,\n",
              "            0,     0,   436,   204,    17,   353,    62,   408,    14,\n",
              "          212,    51,     3,   578,  1517,    79,  1138,    79,  2826],\n",
              "       [    0,     0,     0,     0,     0,     0,     0,     0,     0,\n",
              "            0,     0,     0,     0,     0,     0,     0,     0,     0,\n",
              "            0,     0,     0,     0,     0,     0,     0,     0,     0,\n",
              "            0,     0,     0,     0,     0,     0,     0,     0,     5,\n",
              "           43,    33,   171, 14239,   269,   781,     9,  1232,   647],\n",
              "       [    0,     0,     0,     0,     0,     0,     0,     0,     0,\n",
              "            0,     0,     0,     0,     0,     0,     0,     0,     0,\n",
              "            0,     0,     0,     0,     0,     0,     0,     0,     0,\n",
              "            0,     0,     0,     0,     0,     0,     0,     0,     0,\n",
              "           42,    31,    20,   185,   116,    37,     8,   185,    29],\n",
              "       [    0,     0,     0,     0,     0,     0,     0,     0,     0,\n",
              "            0,     0,     0,     0,     0,     0,     0,     0,   203,\n",
              "        15929,   278,    45,  1106,     9,     2,  1486,     5,     4,\n",
              "          340,    17,  1106,   858,     5,    78,    23, 51053,     9,\n",
              "          494,    15,    62,    35,    30,   110,    97,  1549,    14],\n",
              "       [    0,     0,     0,     0,     0,     0,     0,     0,     0,\n",
              "            0,     0,     0,     0,     0,     0,     0,     0,     0,\n",
              "            0,     0,     0,     0,     0,     0,     0,     0,     0,\n",
              "            0,     0,     0,     0,     0,     0,     0,     0,     0,\n",
              "            0,     0,     0,   115,    73,   119,     6,   870,  1449]],\n",
              "      dtype=int32)"
            ]
          },
          "metadata": {
            "tags": []
          },
          "execution_count": 23
        }
      ]
    },
    {
      "cell_type": "code",
      "metadata": {
        "id": "CVbI_dbxCrpY",
        "colab_type": "code",
        "colab": {}
      },
      "source": [
        "# pad sequence val data\n",
        "sequences_val = tokenizer.texts_to_sequences(x_validation)\n",
        "x_val_seq = pad_sequences(sequences_val, maxlen=45)"
      ],
      "execution_count": 0,
      "outputs": []
    },
    {
      "cell_type": "code",
      "metadata": {
        "id": "tsR-m49hFxJm",
        "colab_type": "code",
        "colab": {}
      },
      "source": [
        "# pad sequence test data\n",
        "sequences_test = tokenizer.texts_to_sequences(x_test)\n",
        "x_test_seq = pad_sequences(sequences_test, maxlen=45)"
      ],
      "execution_count": 0,
      "outputs": []
    },
    {
      "cell_type": "markdown",
      "metadata": {
        "id": "TKo0oa1JCwiu",
        "colab_type": "text"
      },
      "source": [
        "I am defining the number of words to be 100,000. This means I will only care about 100,000 most frequent words in the training set. If I don't limit the number of words, the total number of vocabulary will be more than 200,000."
      ]
    },
    {
      "cell_type": "code",
      "metadata": {
        "id": "EVwgmXOpCt4F",
        "colab_type": "code",
        "colab": {}
      },
      "source": [
        "num_words = 100000\n",
        "embedding_matrix = np.zeros((num_words, 200))\n",
        "for word, i in tokenizer.word_index.items():\n",
        "    if i >= num_words:\n",
        "        continue\n",
        "    embedding_vector = embeddings_index.get(word)\n",
        "    if embedding_vector is not None:\n",
        "        embedding_matrix[i] = embedding_vector"
      ],
      "execution_count": 0,
      "outputs": []
    },
    {
      "cell_type": "markdown",
      "metadata": {
        "id": "LrZZg4IkC0y8",
        "colab_type": "text"
      },
      "source": [
        "As a sanity check, if the embedding matrix has been generated properly. Above, when I saw the first five entries of the training set, the first entry started with the word \"run,\" which had the sequential representation [436]. Let's see if the 436th embedding matrix is as same as vectors for the word 'run.'"
      ]
    },
    {
      "cell_type": "code",
      "metadata": {
        "id": "5WDXqw5KC2DS",
        "colab_type": "code",
        "outputId": "551de420-6b27-462a-b542-314acc425cf0",
        "colab": {
          "base_uri": "https://localhost:8080/",
          "height": 34
        }
      },
      "source": [
        "np.array_equal(embedding_matrix[436] ,embeddings_index.get('run'))"
      ],
      "execution_count": 0,
      "outputs": [
        {
          "output_type": "execute_result",
          "data": {
            "text/plain": [
              "True"
            ]
          },
          "metadata": {
            "tags": []
          },
          "execution_count": 27
        }
      ]
    },
    {
      "cell_type": "markdown",
      "metadata": {
        "id": "jbTSasd4awWY",
        "colab_type": "text"
      },
      "source": [
        "## Training Models"
      ]
    },
    {
      "cell_type": "markdown",
      "metadata": {
        "id": "yJKnIh-K0kDD",
        "colab_type": "text"
      },
      "source": [
        "### LSTM RNN (Using Pre-Trained Word Embeddings)"
      ]
    },
    {
      "cell_type": "markdown",
      "metadata": {
        "id": "3mY0wlI-03Ct",
        "colab_type": "text"
      },
      "source": [
        "Pretrained word embeddings are the GloVe Twitter 200-dimension word vectors (2B tweets, 27B tokens, 1.2M vocab, uncased, 200d vectors, 1.42 GB download): glove.twitter.27B.zip\n",
        "\n",
        "Available here: https://github.com/stanfordnlp/GloVe"
      ]
    },
    {
      "cell_type": "markdown",
      "metadata": {
        "id": "XIV9rwwkV4Mo",
        "colab_type": "text"
      },
      "source": [
        "#### Build Network"
      ]
    },
    {
      "cell_type": "code",
      "metadata": {
        "id": "TEJ11_oEE2ok",
        "colab_type": "code",
        "outputId": "01b91a69-cb41-41c6-8344-606acbda9c70",
        "colab": {
          "base_uri": "https://localhost:8080/",
          "height": 311
        }
      },
      "source": [
        "model_lstm1 = Sequential()\n",
        "e = Embedding(100000, 200, weights=[embedding_matrix], input_length=45, trainable=False)\n",
        "model_lstm1.add(e)\n",
        "model_lstm1.add(LSTM(units = LSTM_units, activation='tanh', recurrent_activation='sigmoid'))\n",
        "model_lstm1.add(Dense(128, activation='relu'))\n",
        "model_lstm1.add(Dense(units = 1, activation='sigmoid'))\n",
        "\n",
        "model_lstm1.compile(optimizer=optimizer,\n",
        "              loss=loss,\n",
        "              metrics=metrics)\n",
        "\n",
        "# define the checkpoint\n",
        "filepath = \"model_lstm1.h5\"\n",
        "lstm1_checkpoint = ModelCheckpoint(filepath, monitor='val_loss', verbose=0, save_best_only=False, save_weights_only=False, mode='auto', period = 1)\n",
        "\n",
        "model_lstm1.summary()"
      ],
      "execution_count": 0,
      "outputs": [
        {
          "output_type": "stream",
          "text": [
            "Model: \"sequential_2\"\n",
            "_________________________________________________________________\n",
            "Layer (type)                 Output Shape              Param #   \n",
            "=================================================================\n",
            "embedding_2 (Embedding)      (None, 45, 200)           20000000  \n",
            "_________________________________________________________________\n",
            "lstm_1 (LSTM)                (None, 128)               168448    \n",
            "_________________________________________________________________\n",
            "dense_1 (Dense)              (None, 128)               16512     \n",
            "_________________________________________________________________\n",
            "dense_2 (Dense)              (None, 1)                 129       \n",
            "=================================================================\n",
            "Total params: 20,185,089\n",
            "Trainable params: 185,089\n",
            "Non-trainable params: 20,000,000\n",
            "_________________________________________________________________\n"
          ],
          "name": "stdout"
        }
      ]
    },
    {
      "cell_type": "code",
      "metadata": {
        "id": "E6sejlz5q0dg",
        "colab_type": "code",
        "outputId": "01716c3f-a68d-4ee3-b669-0168a2e5877a",
        "colab": {
          "base_uri": "https://localhost:8080/",
          "height": 533
        }
      },
      "source": [
        "keras.utils.plot_model(model_lstm1, show_shapes=True)"
      ],
      "execution_count": 0,
      "outputs": [
        {
          "output_type": "execute_result",
          "data": {
            "image/png": "[encoded data removed]",
            "text/plain": [
              "<IPython.core.display.Image object>"
            ]
          },
          "metadata": {
            "tags": []
          },
          "execution_count": 31
        }
      ]
    },
    {
      "cell_type": "markdown",
      "metadata": {
        "id": "d6mYW-Qg5tIv",
        "colab_type": "text"
      },
      "source": [
        "#### Train Model"
      ]
    },
    {
      "cell_type": "code",
      "metadata": {
        "id": "iSXwcKlHrEzU",
        "colab_type": "code",
        "outputId": "93c77525-8a91-49bf-a415-91b08ab61a02",
        "colab": {
          "base_uri": "https://localhost:8080/",
          "height": 219
        }
      },
      "source": [
        "train_rt = TrainRuntimeCallback()\n",
        "cbs = [lstm1_checkpoint, train_rt, keras.callbacks.EarlyStopping(patience=patience, restore_best_weights = True)]\n",
        "\n",
        "history_lstm1 = model_lstm1.fit(x_train_seq,\n",
        "                    y_train,\n",
        "                    callbacks=cbs,\n",
        "                    epochs=num_epochs,\n",
        "                    batch_size=batch_size,\n",
        "                    validation_data=(x_val_seq, y_validation))"
      ],
      "execution_count": 0,
      "outputs": [
        {
          "output_type": "stream",
          "text": [
            "Train on 1564120 samples, validate on 15960 samples\n",
            "Epoch 1/10\n",
            "1564120/1564120 [==============================] - 2200s 1ms/step - loss: 0.4018 - accuracy: 0.8173 - val_loss: 0.3687 - val_accuracy: 0.8367\n",
            "Epoch 2/10\n",
            "1564120/1564120 [==============================] - 2242s 1ms/step - loss: 0.3713 - accuracy: 0.8351 - val_loss: 0.3647 - val_accuracy: 0.8394\n",
            "Epoch 3/10\n",
            "1564120/1564120 [==============================] - 2239s 1ms/step - loss: 0.3615 - accuracy: 0.8407 - val_loss: 0.3656 - val_accuracy: 0.8434\n",
            "Epoch 4/10\n",
            "1564120/1564120 [==============================] - 2140s 1ms/step - loss: 0.3555 - accuracy: 0.8441 - val_loss: 0.3677 - val_accuracy: 0.8406\n",
            "Epoch 5/10\n",
            "1564120/1564120 [==============================] - 2051s 1ms/step - loss: 0.3517 - accuracy: 0.8467 - val_loss: 0.3676 - val_accuracy: 0.8422\n"
          ],
          "name": "stdout"
        }
      ]
    },
    {
      "cell_type": "code",
      "metadata": {
        "id": "424e059dogO8",
        "colab_type": "code",
        "outputId": "28937455-b5ac-4152-8f0e-9e84e702b66f",
        "colab": {
          "base_uri": "https://localhost:8080/",
          "height": 35
        }
      },
      "source": [
        "# Get the training time\n",
        "train_time = train_rt.process_time\n",
        "train_time # in seconds"
      ],
      "execution_count": 0,
      "outputs": [
        {
          "output_type": "execute_result",
          "data": {
            "text/plain": [
              "10874.661124"
            ]
          },
          "metadata": {
            "tags": []
          },
          "execution_count": 33
        }
      ]
    },
    {
      "cell_type": "code",
      "metadata": {
        "id": "VS2Law2Pok9F",
        "colab_type": "code",
        "outputId": "5c79e2d1-87b7-444b-cef7-84727678c81c",
        "colab": {
          "base_uri": "https://localhost:8080/",
          "height": 35
        }
      },
      "source": [
        "print(f\"train_acc: {history_lstm1.history['accuracy'][-1]}, val_acc: {history_lstm1.history['val_accuracy'][-1]}\")"
      ],
      "execution_count": 0,
      "outputs": [
        {
          "output_type": "stream",
          "text": [
            "train_acc: 0.846655011177063, val_acc: 0.8422305583953857\n"
          ],
          "name": "stdout"
        }
      ]
    },
    {
      "cell_type": "markdown",
      "metadata": {
        "id": "7QCjk8KRXZ29",
        "colab_type": "text"
      },
      "source": [
        "#### Save Model"
      ]
    },
    {
      "cell_type": "code",
      "metadata": {
        "id": "-pHqEV_AuNgp",
        "colab_type": "code",
        "colab": {}
      },
      "source": [
        "# save model\n",
        "model_lstm1.save('model_lstm1.h5') "
      ],
      "execution_count": 0,
      "outputs": []
    },
    {
      "cell_type": "markdown",
      "metadata": {
        "id": "ayDt-l35nS-C",
        "colab_type": "text"
      },
      "source": [
        "#### Test Model"
      ]
    },
    {
      "cell_type": "code",
      "metadata": {
        "id": "B4SHGhzznUfC",
        "colab_type": "code",
        "outputId": "ab28d089-8056-484b-e420-8337d82353ac",
        "colab": {
          "base_uri": "https://localhost:8080/",
          "height": 54
        }
      },
      "source": [
        "test_rt = TestRuntimeCallback()\n",
        "\n",
        "test_loss, test_acc = model_lstm1.evaluate(x_test_seq, y_test, callbacks = [test_rt])\n",
        "\n",
        "print(f\"test_accuracy={test_acc}, test_loss={test_loss}\")"
      ],
      "execution_count": 0,
      "outputs": [
        {
          "output_type": "stream",
          "text": [
            "15961/15961 [==============================] - 8s 516us/step\n",
            "test_accuracy=0.8276423811912537, test_loss=0.3819438473121182\n"
          ],
          "name": "stdout"
        }
      ]
    },
    {
      "cell_type": "code",
      "metadata": {
        "id": "xQvF3mAPqiS0",
        "colab_type": "code",
        "outputId": "d5938a04-8a5f-437d-f9f9-bf32113a689a",
        "colab": {
          "base_uri": "https://localhost:8080/",
          "height": 35
        }
      },
      "source": [
        "# Get the test time\n",
        "test_time = test_rt.process_time\n",
        "test_time # in seconds"
      ],
      "execution_count": 0,
      "outputs": [
        {
          "output_type": "execute_result",
          "data": {
            "text/plain": [
              "8.230267"
            ]
          },
          "metadata": {
            "tags": []
          },
          "execution_count": 37
        }
      ]
    },
    {
      "cell_type": "code",
      "metadata": {
        "id": "PvM-mii8qkv9",
        "colab_type": "code",
        "outputId": "9355a773-2bd1-4a2b-f435-e188f9114cbf",
        "colab": {
          "base_uri": "https://localhost:8080/",
          "height": 35
        }
      },
      "source": [
        "history_dict = history_lstm1.history\n",
        "history_dict['train_accuracy'] = history_dict.pop('accuracy') # rename the the key to 'train_accuracy'\n",
        "history_dict.keys()"
      ],
      "execution_count": 0,
      "outputs": [
        {
          "output_type": "execute_result",
          "data": {
            "text/plain": [
              "dict_keys(['val_loss', 'val_accuracy', 'loss', 'train_accuracy'])"
            ]
          },
          "metadata": {
            "tags": []
          },
          "execution_count": 38
        }
      ]
    },
    {
      "cell_type": "code",
      "metadata": {
        "id": "yTVvvEg1q2y7",
        "colab_type": "code",
        "outputId": "f79070b9-6f9d-49d3-bfa7-75b84c95594c",
        "colab": {
          "base_uri": "https://localhost:8080/",
          "height": 81
        }
      },
      "source": [
        "import pandas as pd\n",
        "history_df=pd.DataFrame(history_dict)\n",
        "history_df['test_accuracy'] = test_acc\n",
        "history_df = history_df.iloc[-1:]\n",
        "history_df.tail()"
      ],
      "execution_count": 0,
      "outputs": [
        {
          "output_type": "execute_result",
          "data": {
            "text/html": [
              "<div>\n",
              "<style scoped>\n",
              "    .dataframe tbody tr th:only-of-type {\n",
              "        vertical-align: middle;\n",
              "    }\n",
              "\n",
              "    .dataframe tbody tr th {\n",
              "        vertical-align: top;\n",
              "    }\n",
              "\n",
              "    .dataframe thead th {\n",
              "        text-align: right;\n",
              "    }\n",
              "</style>\n",
              "<table border=\"1\" class=\"dataframe\">\n",
              "  <thead>\n",
              "    <tr style=\"text-align: right;\">\n",
              "      <th></th>\n",
              "      <th>val_loss</th>\n",
              "      <th>val_accuracy</th>\n",
              "      <th>loss</th>\n",
              "      <th>train_accuracy</th>\n",
              "      <th>test_accuracy</th>\n",
              "    </tr>\n",
              "  </thead>\n",
              "  <tbody>\n",
              "    <tr>\n",
              "      <th>4</th>\n",
              "      <td>0.367552</td>\n",
              "      <td>0.842231</td>\n",
              "      <td>0.351738</td>\n",
              "      <td>0.846655</td>\n",
              "      <td>0.827642</td>\n",
              "    </tr>\n",
              "  </tbody>\n",
              "</table>\n",
              "</div>"
            ],
            "text/plain": [
              "   val_loss  val_accuracy      loss  train_accuracy  test_accuracy\n",
              "4  0.367552      0.842231  0.351738        0.846655       0.827642"
            ]
          },
          "metadata": {
            "tags": []
          },
          "execution_count": 39
        }
      ]
    },
    {
      "cell_type": "markdown",
      "metadata": {
        "id": "5nTiDR1Crogw",
        "colab_type": "text"
      },
      "source": [
        "#### Save Performance to Dataframe"
      ]
    },
    {
      "cell_type": "code",
      "metadata": {
        "id": "Llivj_p2rnkS",
        "colab_type": "code",
        "outputId": "657a9d3d-4002-40b2-b80b-f803bdb1506e",
        "colab": {
          "base_uri": "https://localhost:8080/",
          "height": 81
        }
      },
      "source": [
        "results_df = history_df.iloc[-1:].copy()\n",
        "results_df.insert(0,'model','LSTM RNN') # want the model name to appear first\n",
        "results_df['test_accuracy'] = test_acc   # test accuracy\n",
        "results_df['training time (sec)'] = train_time      # we are okay with training time appearing last\n",
        "results_df['testing time (sec)'] = test_time      # we are okay with test time appearing last\n",
        "results_df"
      ],
      "execution_count": 0,
      "outputs": [
        {
          "output_type": "execute_result",
          "data": {
            "text/html": [
              "<div>\n",
              "<style scoped>\n",
              "    .dataframe tbody tr th:only-of-type {\n",
              "        vertical-align: middle;\n",
              "    }\n",
              "\n",
              "    .dataframe tbody tr th {\n",
              "        vertical-align: top;\n",
              "    }\n",
              "\n",
              "    .dataframe thead th {\n",
              "        text-align: right;\n",
              "    }\n",
              "</style>\n",
              "<table border=\"1\" class=\"dataframe\">\n",
              "  <thead>\n",
              "    <tr style=\"text-align: right;\">\n",
              "      <th></th>\n",
              "      <th>model</th>\n",
              "      <th>val_loss</th>\n",
              "      <th>val_accuracy</th>\n",
              "      <th>loss</th>\n",
              "      <th>train_accuracy</th>\n",
              "      <th>test_accuracy</th>\n",
              "      <th>training time (sec)</th>\n",
              "      <th>testing time (sec)</th>\n",
              "    </tr>\n",
              "  </thead>\n",
              "  <tbody>\n",
              "    <tr>\n",
              "      <th>4</th>\n",
              "      <td>LSTM RNN</td>\n",
              "      <td>0.367552</td>\n",
              "      <td>0.842231</td>\n",
              "      <td>0.351738</td>\n",
              "      <td>0.846655</td>\n",
              "      <td>0.827642</td>\n",
              "      <td>10874.661124</td>\n",
              "      <td>8.230267</td>\n",
              "    </tr>\n",
              "  </tbody>\n",
              "</table>\n",
              "</div>"
            ],
            "text/plain": [
              "      model  val_loss  ...  training time (sec)  testing time (sec)\n",
              "4  LSTM RNN  0.367552  ...         10874.661124            8.230267\n",
              "\n",
              "[1 rows x 8 columns]"
            ]
          },
          "metadata": {
            "tags": []
          },
          "execution_count": 40
        }
      ]
    },
    {
      "cell_type": "markdown",
      "metadata": {
        "id": "w7kKCqx2qRi6",
        "colab_type": "text"
      },
      "source": [
        "Appending metrics to the combined metrics dataframe to ensure the data is captured appropriately. Since training time is so long for these models, I decided to append the performance metrics immediately after each training session."
      ]
    },
    {
      "cell_type": "code",
      "metadata": {
        "id": "W3Ri30tqsydx",
        "colab_type": "code",
        "outputId": "9e382d94-307c-49c8-8fef-5464c865af50",
        "colab": {
          "base_uri": "https://localhost:8080/",
          "height": 269
        }
      },
      "source": [
        "prev_results_df = pd.read_pickle('results2_v3.pkl')\n",
        "results_df = prev_results_df.append(results_df,ignore_index=True)\n",
        "results_df"
      ],
      "execution_count": 0,
      "outputs": [
        {
          "output_type": "execute_result",
          "data": {
            "text/html": [
              "<div>\n",
              "<style scoped>\n",
              "    .dataframe tbody tr th:only-of-type {\n",
              "        vertical-align: middle;\n",
              "    }\n",
              "\n",
              "    .dataframe tbody tr th {\n",
              "        vertical-align: top;\n",
              "    }\n",
              "\n",
              "    .dataframe thead th {\n",
              "        text-align: right;\n",
              "    }\n",
              "</style>\n",
              "<table border=\"1\" class=\"dataframe\">\n",
              "  <thead>\n",
              "    <tr style=\"text-align: right;\">\n",
              "      <th></th>\n",
              "      <th>model</th>\n",
              "      <th>val_loss</th>\n",
              "      <th>val_accuracy</th>\n",
              "      <th>loss</th>\n",
              "      <th>train_accuracy</th>\n",
              "      <th>test_accuracy</th>\n",
              "      <th>training time (sec)</th>\n",
              "      <th>testing time (sec)</th>\n",
              "    </tr>\n",
              "  </thead>\n",
              "  <tbody>\n",
              "    <tr>\n",
              "      <th>0</th>\n",
              "      <td>DNN (3 layers)</td>\n",
              "      <td>0.426255</td>\n",
              "      <td>0.812845</td>\n",
              "      <td>0.384176</td>\n",
              "      <td>0.833952</td>\n",
              "      <td>0.810851</td>\n",
              "      <td>2517.518805</td>\n",
              "      <td>5.990464</td>\n",
              "    </tr>\n",
              "    <tr>\n",
              "      <th>1</th>\n",
              "      <td>DNN w/ Dropout</td>\n",
              "      <td>0.419115</td>\n",
              "      <td>0.818296</td>\n",
              "      <td>0.417987</td>\n",
              "      <td>0.817185</td>\n",
              "      <td>0.810225</td>\n",
              "      <td>2517.518805</td>\n",
              "      <td>6.026241</td>\n",
              "    </tr>\n",
              "    <tr>\n",
              "      <th>2</th>\n",
              "      <td>Simple RNN</td>\n",
              "      <td>0.469121</td>\n",
              "      <td>0.782143</td>\n",
              "      <td>0.439075</td>\n",
              "      <td>0.800082</td>\n",
              "      <td>0.801892</td>\n",
              "      <td>1834.569555</td>\n",
              "      <td>1.979959</td>\n",
              "    </tr>\n",
              "    <tr>\n",
              "      <th>3</th>\n",
              "      <td>RNN w/ Dropout</td>\n",
              "      <td>0.511496</td>\n",
              "      <td>0.751253</td>\n",
              "      <td>0.553732</td>\n",
              "      <td>0.717752</td>\n",
              "      <td>0.774513</td>\n",
              "      <td>1834.569555</td>\n",
              "      <td>2.334067</td>\n",
              "    </tr>\n",
              "    <tr>\n",
              "      <th>4</th>\n",
              "      <td>RNN w/ Trainable Word Embeddings</td>\n",
              "      <td>0.416349</td>\n",
              "      <td>0.815915</td>\n",
              "      <td>0.412151</td>\n",
              "      <td>0.818388</td>\n",
              "      <td>0.811415</td>\n",
              "      <td>1834.569555</td>\n",
              "      <td>2.233131</td>\n",
              "    </tr>\n",
              "    <tr>\n",
              "      <th>5</th>\n",
              "      <td>DNN w/ Word Embeddings</td>\n",
              "      <td>0.442434</td>\n",
              "      <td>0.795489</td>\n",
              "      <td>0.428079</td>\n",
              "      <td>0.808861</td>\n",
              "      <td>0.787670</td>\n",
              "      <td>1030.219377</td>\n",
              "      <td>0.851879</td>\n",
              "    </tr>\n",
              "    <tr>\n",
              "      <th>6</th>\n",
              "      <td>LSTM RNN</td>\n",
              "      <td>0.367552</td>\n",
              "      <td>0.842231</td>\n",
              "      <td>0.351738</td>\n",
              "      <td>0.846655</td>\n",
              "      <td>0.827642</td>\n",
              "      <td>10874.661124</td>\n",
              "      <td>8.230267</td>\n",
              "    </tr>\n",
              "  </tbody>\n",
              "</table>\n",
              "</div>"
            ],
            "text/plain": [
              "                              model  ...  testing time (sec)\n",
              "0                    DNN (3 layers)  ...            5.990464\n",
              "1                    DNN w/ Dropout  ...            6.026241\n",
              "2                        Simple RNN  ...            1.979959\n",
              "3                    RNN w/ Dropout  ...            2.334067\n",
              "4  RNN w/ Trainable Word Embeddings  ...            2.233131\n",
              "5            DNN w/ Word Embeddings  ...            0.851879\n",
              "6                          LSTM RNN  ...            8.230267\n",
              "\n",
              "[7 rows x 8 columns]"
            ]
          },
          "metadata": {
            "tags": []
          },
          "execution_count": 41
        }
      ]
    },
    {
      "cell_type": "markdown",
      "metadata": {
        "id": "F_gxY6o7eazi",
        "colab_type": "text"
      },
      "source": [
        "#### Plot Performance"
      ]
    },
    {
      "cell_type": "code",
      "metadata": {
        "id": "sn9V4B8vu7oz",
        "colab_type": "code",
        "outputId": "0eff57e6-0b0f-449d-cf11-3bce4b24daee",
        "colab": {
          "base_uri": "https://localhost:8080/",
          "height": 589
        }
      },
      "source": [
        "import matplotlib.pyplot as plt\n",
        "\n",
        "# list all data in history\n",
        "print(history_lstm1.history.keys())\n",
        "\n",
        "# summarize history for accuracy\n",
        "plt.plot(history_lstm1.history['train_accuracy'])\n",
        "plt.plot(history_lstm1.history['val_accuracy'])\n",
        "plt.title('Model 3: LSTM RNN')\n",
        "plt.ylabel('Accuracy')\n",
        "plt.xlabel('Epochs')\n",
        "plt.legend(['train', 'val'], loc='lower right')\n",
        "plt.show()\n",
        "\n",
        "# summarize history for loss\n",
        "plt.plot(history_lstm1.history['loss'])\n",
        "plt.plot(history_lstm1.history['val_loss'])\n",
        "plt.title('Model 3: LSTM RNN')\n",
        "plt.ylabel('Loss')\n",
        "plt.xlabel('Epochs')\n",
        "plt.legend(['train', 'val'], loc='center right')\n",
        "plt.show()\n",
        "\n",
        "# from google.colab import files\n",
        "# plt.savefig(\"model_v5_history.png\")"
      ],
      "execution_count": 0,
      "outputs": [
        {
          "output_type": "stream",
          "text": [
            "dict_keys(['val_loss', 'val_accuracy', 'loss', 'train_accuracy'])\n"
          ],
          "name": "stdout"
        },
        {
          "output_type": "display_data",
          "data": {
            "image/png": "[encoded data removed]",
            "text/plain": [
              "<Figure size 432x288 with 1 Axes>"
            ]
          },
          "metadata": {
            "tags": [],
            "image/png": {
              "width": 438,
              "height": 277
            },
            "needs_background": "light"
          }
        },
        {
          "output_type": "display_data",
          "data": {
            "image/png": "[encoded data removed]",
            "text/plain": [
              "<Figure size 432x288 with 1 Axes>"
            ]
          },
          "metadata": {
            "tags": [],
            "image/png": {
              "width": 432,
              "height": 277
            },
            "needs_background": "light"
          }
        }
      ]
    },
    {
      "cell_type": "markdown",
      "metadata": {
        "id": "6NmWex2b0h9C",
        "colab_type": "text"
      },
      "source": [
        "### LSTM w/ Dropout (Using Pre-Trained Word Embeddings)"
      ]
    },
    {
      "cell_type": "markdown",
      "metadata": {
        "id": "ZhHjfo42NXMx",
        "colab_type": "text"
      },
      "source": [
        "#### Build Network"
      ]
    },
    {
      "cell_type": "markdown",
      "metadata": {
        "id": "Yr8ECaBkfINO",
        "colab_type": "text"
      },
      "source": [
        "This model includes a 20% dropout in between network layers. The purpose of the dropout layer is to reduce overfitting."
      ]
    },
    {
      "cell_type": "code",
      "metadata": {
        "id": "4R3pJZHnxc7E",
        "colab_type": "code",
        "outputId": "0141e2a7-fe44-4a7c-d5cc-b9f5f2b6a0d8",
        "colab": {
          "base_uri": "https://localhost:8080/",
          "height": 384
        }
      },
      "source": [
        "model_lstm2 = Sequential()\n",
        "e = Embedding(100000, 200, weights=[embedding_matrix], input_length=45, trainable=False)\n",
        "model_lstm2.add(e)\n",
        "model_lstm2.add(BatchNormalization())\n",
        "model_lstm2.add(LSTM(units = LSTM_units, dropout=dropout, recurrent_dropout=dropout, activation='tanh', recurrent_activation='sigmoid'))\n",
        "model_lstm2.add(Dense(128, activation='relu'))\n",
        "model_lstm2.add(Dropout(dropout))\n",
        "model_lstm2.add(Dense(units = 1, activation='sigmoid'))\n",
        "\n",
        "model_lstm2.compile(optimizer=optimizer,\n",
        "              loss=loss,\n",
        "              metrics=metrics)\n",
        "\n",
        "# define the checkpoint\n",
        "filepath = \"model_lstm2.h5\"\n",
        "lstm2_checkpoint = ModelCheckpoint(filepath, monitor='val_loss', verbose=0, save_best_only=False, save_weights_only=False, mode='auto', period = 1)\n",
        "\n",
        "model_lstm2.summary()"
      ],
      "execution_count": 0,
      "outputs": [
        {
          "output_type": "stream",
          "text": [
            "Model: \"sequential_4\"\n",
            "_________________________________________________________________\n",
            "Layer (type)                 Output Shape              Param #   \n",
            "=================================================================\n",
            "embedding_4 (Embedding)      (None, 45, 200)           20000000  \n",
            "_________________________________________________________________\n",
            "batch_normalization_1 (Batch (None, 45, 200)           800       \n",
            "_________________________________________________________________\n",
            "lstm_3 (LSTM)                (None, 128)               168448    \n",
            "_________________________________________________________________\n",
            "dense_5 (Dense)              (None, 128)               16512     \n",
            "_________________________________________________________________\n",
            "dropout_3 (Dropout)          (None, 128)               0         \n",
            "_________________________________________________________________\n",
            "dense_6 (Dense)              (None, 1)                 129       \n",
            "=================================================================\n",
            "Total params: 20,185,889\n",
            "Trainable params: 185,489\n",
            "Non-trainable params: 20,000,400\n",
            "_________________________________________________________________\n"
          ],
          "name": "stdout"
        }
      ]
    },
    {
      "cell_type": "code",
      "metadata": {
        "id": "tf9zDo0lxD_0",
        "colab_type": "code",
        "outputId": "4fb02b68-78de-4dc9-bf64-efc0dc57dc08",
        "colab": {
          "base_uri": "https://localhost:8080/",
          "height": 754
        }
      },
      "source": [
        "keras.utils.plot_model(model_lstm2, show_shapes=True)"
      ],
      "execution_count": 0,
      "outputs": [
        {
          "output_type": "execute_result",
          "data": {
            "image/png": "[encoded data removed]",
            "text/plain": [
              "<IPython.core.display.Image object>"
            ]
          },
          "metadata": {
            "tags": []
          },
          "execution_count": 47
        }
      ]
    },
    {
      "cell_type": "markdown",
      "metadata": {
        "id": "FZ2NlB8-xN27",
        "colab_type": "text"
      },
      "source": [
        "#### Train Model"
      ]
    },
    {
      "cell_type": "code",
      "metadata": {
        "id": "9GxXdyNZxO8s",
        "colab_type": "code",
        "outputId": "c8eb67ef-09e6-4f7b-cb34-3c768d302802",
        "colab": {
          "base_uri": "https://localhost:8080/",
          "height": 72
        }
      },
      "source": [
        "train_rt = TrainRuntimeCallback()\n",
        "cbs = [lstm2_checkpoint, train_rt, keras.callbacks.EarlyStopping(patience=patience, restore_best_weights = True)]\n",
        "\n",
        "history_lstm2 = model_lstm2.fit(x_train_seq,\n",
        "                    y_train,\n",
        "                    callbacks=cbs,\n",
        "                    epochs=1,\n",
        "                    batch_size=batch_size,\n",
        "                    validation_data=(x_val_seq, y_validation))"
      ],
      "execution_count": 0,
      "outputs": [
        {
          "output_type": "stream",
          "text": [
            "Train on 1564120 samples, validate on 15960 samples\n",
            "Epoch 1/1\n",
            "1564120/1564120 [==============================] - 2416s 2ms/step - loss: 0.4266 - accuracy: 0.8035 - val_loss: 0.3884 - val_accuracy: 0.8248\n"
          ],
          "name": "stdout"
        }
      ]
    },
    {
      "cell_type": "code",
      "metadata": {
        "id": "FvkHofvtNmcK",
        "colab_type": "code",
        "outputId": "016f794c-3a1a-4e78-f870-3e53a52b0ff9",
        "colab": {
          "base_uri": "https://localhost:8080/",
          "height": 35
        }
      },
      "source": [
        "# Get the training time\n",
        "train_time = train_rt.process_time\n",
        "train_time # in seconds"
      ],
      "execution_count": 0,
      "outputs": [
        {
          "output_type": "execute_result",
          "data": {
            "text/plain": [
              "2416.762605"
            ]
          },
          "metadata": {
            "tags": []
          },
          "execution_count": 49
        }
      ]
    },
    {
      "cell_type": "code",
      "metadata": {
        "id": "X81bgRz0Nm1I",
        "colab_type": "code",
        "outputId": "573c067b-c6cb-4707-b74b-06c4d2023316",
        "colab": {
          "base_uri": "https://localhost:8080/",
          "height": 35
        }
      },
      "source": [
        "print(f\"train_acc: {history_lstm2.history['accuracy'][-1]}, val_acc: {history_lstm2.history['val_accuracy'][-1]}\")"
      ],
      "execution_count": 0,
      "outputs": [
        {
          "output_type": "stream",
          "text": [
            "train_acc: 0.8035118579864502, val_acc: 0.8248120546340942\n"
          ],
          "name": "stdout"
        }
      ]
    },
    {
      "cell_type": "markdown",
      "metadata": {
        "id": "K_qLIQ0IyY49",
        "colab_type": "text"
      },
      "source": [
        "#### Save Model"
      ]
    },
    {
      "cell_type": "code",
      "metadata": {
        "id": "JObpFE3xyaaV",
        "colab_type": "code",
        "colab": {}
      },
      "source": [
        "# save model\n",
        "model_lstm2.save('model_lstm2.h5') "
      ],
      "execution_count": 0,
      "outputs": []
    },
    {
      "cell_type": "markdown",
      "metadata": {
        "colab_type": "text",
        "id": "TcpNscDpQmoR"
      },
      "source": [
        "#### Training Cont... **RUN ONLY IF YOU NEED TO COMPLETE MORE EPOCHS**"
      ]
    },
    {
      "cell_type": "markdown",
      "metadata": {
        "colab_type": "text",
        "id": "Bc3JsvKYQmoT"
      },
      "source": [
        "Load model and continue training"
      ]
    },
    {
      "cell_type": "code",
      "metadata": {
        "colab_type": "code",
        "id": "83i6UPG8QmoU",
        "colab": {}
      },
      "source": [
        "# load model\n",
        "model_lstm2 = load_model('model_lstm2.h5')\n",
        "\n",
        "# define the checkpoint\n",
        "filepath = \"model_lstm2.h5\"\n",
        "lstm2_checkpoint = ModelCheckpoint(filepath, monitor='val_loss', verbose=0, save_best_only=False, save_weights_only=False, mode='auto', period = 1)"
      ],
      "execution_count": 0,
      "outputs": []
    },
    {
      "cell_type": "markdown",
      "metadata": {
        "colab_type": "text",
        "id": "pdvUJPslQmoc"
      },
      "source": [
        "Model has completed 2 epochs already. Continuing training with 2 more epochs. I'm using this model checkpoint approach since the training time takes so long."
      ]
    },
    {
      "cell_type": "code",
      "metadata": {
        "colab_type": "code",
        "outputId": "eb3a994c-7653-4fd9-dd2e-1691952cbd55",
        "id": "Zum0uMZyQmod",
        "colab": {
          "base_uri": "https://localhost:8080/",
          "height": 170
        }
      },
      "source": [
        "train_rt = TrainRuntimeCallback()\n",
        "cbs = [lstm2_checkpoint, train_rt, keras.callbacks.EarlyStopping(patience=patience, restore_best_weights = True)]\n",
        "\n",
        "history_lstm2 = model_lstm2.fit(x_train_seq,\n",
        "                    y_train,\n",
        "                    callbacks=cbs,\n",
        "                    epochs=4,\n",
        "                    batch_size=batch_size,\n",
        "                    validation_data=(x_val_seq, y_validation))"
      ],
      "execution_count": 0,
      "outputs": [
        {
          "output_type": "stream",
          "text": [
            "Train on 1564120 samples, validate on 15960 samples\n",
            "Epoch 1/4\n",
            "1564120/1564120 [==============================] - 2100s 1ms/step - loss: 0.4115 - accuracy: 0.8136 - val_loss: 0.3825 - val_accuracy: 0.8292\n",
            "Epoch 2/4\n",
            "1564120/1564120 [==============================] - 2178s 1ms/step - loss: 0.4117 - accuracy: 0.8142 - val_loss: 0.3883 - val_accuracy: 0.8272\n",
            "Epoch 3/4\n",
            "1564120/1564120 [==============================] - 2187s 1ms/step - loss: 0.4151 - accuracy: 0.8129 - val_loss: 0.3871 - val_accuracy: 0.8278\n",
            "Epoch 4/4\n",
            "1564120/1564120 [==============================] - 2148s 1ms/step - loss: 0.4199 - accuracy: 0.8112 - val_loss: 0.3917 - val_accuracy: 0.8255\n"
          ],
          "name": "stdout"
        }
      ]
    },
    {
      "cell_type": "code",
      "metadata": {
        "colab_type": "code",
        "id": "1PSYmYXWQmom",
        "colab": {}
      },
      "source": [
        "# save model\n",
        "model_lstm2.save('model_lstm2.h5') "
      ],
      "execution_count": 0,
      "outputs": []
    },
    {
      "cell_type": "code",
      "metadata": {
        "id": "s0nbpx8syjtL",
        "colab_type": "code",
        "outputId": "320d8c97-385f-4bc6-a17d-e49746b825ed",
        "colab": {
          "base_uri": "https://localhost:8080/",
          "height": 34
        }
      },
      "source": [
        "# Get the training time\n",
        "train_time = train_rt.process_time\n",
        "train_time # in seconds"
      ],
      "execution_count": 0,
      "outputs": [
        {
          "output_type": "execute_result",
          "data": {
            "text/plain": [
              "8618.040833"
            ]
          },
          "metadata": {
            "tags": []
          },
          "execution_count": 36
        }
      ]
    },
    {
      "cell_type": "code",
      "metadata": {
        "id": "kGs8q055yl_e",
        "colab_type": "code",
        "outputId": "945e4e70-aa3b-483d-8b3e-d459ac0fa182",
        "colab": {
          "base_uri": "https://localhost:8080/",
          "height": 34
        }
      },
      "source": [
        "print(f\"train_acc: {history_lstm2.history['train_accuracy'][-1]}, val_acc: {history_lstm2.history['val_accuracy'][-1]}\")"
      ],
      "execution_count": 0,
      "outputs": [
        {
          "output_type": "stream",
          "text": [
            "train_acc: 0.8111794590950012, val_acc: 0.8255012631416321\n"
          ],
          "name": "stdout"
        }
      ]
    },
    {
      "cell_type": "markdown",
      "metadata": {
        "id": "qsNHPv5pycIs",
        "colab_type": "text"
      },
      "source": [
        "#### Test Model"
      ]
    },
    {
      "cell_type": "code",
      "metadata": {
        "id": "Xhpxpwmkyfgi",
        "colab_type": "code",
        "outputId": "41829cf4-7f24-4b30-eb6e-6e9e18999d40",
        "colab": {
          "base_uri": "https://localhost:8080/",
          "height": 51
        }
      },
      "source": [
        "test_rt = TestRuntimeCallback()\n",
        "\n",
        "test_loss, test_acc = model_lstm2.evaluate(x_test_seq, y_test, callbacks = [test_rt])\n",
        "\n",
        "print(f\"test_accuracy={test_acc}, test_loss={test_loss}\")"
      ],
      "execution_count": 0,
      "outputs": [
        {
          "output_type": "stream",
          "text": [
            "15961/15961 [==============================] - 10s 638us/step\n",
            "test_accuracy=0.8159889578819275, test_loss=0.4034617672822625\n"
          ],
          "name": "stdout"
        }
      ]
    },
    {
      "cell_type": "code",
      "metadata": {
        "id": "Y32i8oftyiM9",
        "colab_type": "code",
        "outputId": "d7b2ec60-fdcb-468d-9778-fb9a6dd4d419",
        "colab": {
          "base_uri": "https://localhost:8080/",
          "height": 34
        }
      },
      "source": [
        "# Get the test time\n",
        "test_time = test_rt.process_time\n",
        "test_time # in seconds"
      ],
      "execution_count": 0,
      "outputs": [
        {
          "output_type": "execute_result",
          "data": {
            "text/plain": [
              "10.184501"
            ]
          },
          "metadata": {
            "tags": []
          },
          "execution_count": 41
        }
      ]
    },
    {
      "cell_type": "code",
      "metadata": {
        "id": "PAH5JvbsykOL",
        "colab_type": "code",
        "outputId": "0c95e00b-2263-47b7-c54b-54168824e567",
        "colab": {
          "base_uri": "https://localhost:8080/",
          "height": 34
        }
      },
      "source": [
        "history_dict = history_lstm2.history\n",
        "# history_dict['train_accuracy'] = history_dict.pop('accuracy') # rename the the key to 'train_accuracy'\n",
        "history_dict.keys()"
      ],
      "execution_count": 0,
      "outputs": [
        {
          "output_type": "execute_result",
          "data": {
            "text/plain": [
              "dict_keys(['val_loss', 'val_accuracy', 'loss', 'train_accuracy'])"
            ]
          },
          "metadata": {
            "tags": []
          },
          "execution_count": 43
        }
      ]
    },
    {
      "cell_type": "code",
      "metadata": {
        "id": "zyVGxUgryn94",
        "colab_type": "code",
        "outputId": "c9471e84-9639-444e-d575-a18caf7afb78",
        "colab": {
          "base_uri": "https://localhost:8080/",
          "height": 80
        }
      },
      "source": [
        "import pandas as pd\n",
        "history_df=pd.DataFrame(history_dict)\n",
        "history_df['test_accuracy'] = test_acc   # using the test accuracy for smaller dataset model, NOT the full model\n",
        "history_df = history_df.iloc[-1:]\n",
        "history_df.tail()"
      ],
      "execution_count": 0,
      "outputs": [
        {
          "output_type": "execute_result",
          "data": {
            "text/html": [
              "<div>\n",
              "<style scoped>\n",
              "    .dataframe tbody tr th:only-of-type {\n",
              "        vertical-align: middle;\n",
              "    }\n",
              "\n",
              "    .dataframe tbody tr th {\n",
              "        vertical-align: top;\n",
              "    }\n",
              "\n",
              "    .dataframe thead th {\n",
              "        text-align: right;\n",
              "    }\n",
              "</style>\n",
              "<table border=\"1\" class=\"dataframe\">\n",
              "  <thead>\n",
              "    <tr style=\"text-align: right;\">\n",
              "      <th></th>\n",
              "      <th>val_loss</th>\n",
              "      <th>val_accuracy</th>\n",
              "      <th>loss</th>\n",
              "      <th>train_accuracy</th>\n",
              "      <th>test_accuracy</th>\n",
              "    </tr>\n",
              "  </thead>\n",
              "  <tbody>\n",
              "    <tr>\n",
              "      <th>3</th>\n",
              "      <td>0.391736</td>\n",
              "      <td>0.825501</td>\n",
              "      <td>0.419856</td>\n",
              "      <td>0.811179</td>\n",
              "      <td>0.815989</td>\n",
              "    </tr>\n",
              "  </tbody>\n",
              "</table>\n",
              "</div>"
            ],
            "text/plain": [
              "   val_loss  val_accuracy      loss  train_accuracy  test_accuracy\n",
              "3  0.391736      0.825501  0.419856        0.811179       0.815989"
            ]
          },
          "metadata": {
            "tags": []
          },
          "execution_count": 44
        }
      ]
    },
    {
      "cell_type": "markdown",
      "metadata": {
        "id": "VhPsz56BzJmQ",
        "colab_type": "text"
      },
      "source": [
        "#### Save Performance to Dataframe"
      ]
    },
    {
      "cell_type": "code",
      "metadata": {
        "id": "aw-VelMizLaQ",
        "colab_type": "code",
        "outputId": "56134a97-5f36-4f40-a8b5-55239352bec6",
        "colab": {
          "base_uri": "https://localhost:8080/",
          "height": 80
        }
      },
      "source": [
        "results_df_v2 = history_df.iloc[-1:].copy()\n",
        "results_df_v2.insert(0,'model','LSTM w/ Dropout') # went the model name to appear first\n",
        "results_df_v2['test_accuracy'] = test_acc\n",
        "results_df_v2['training time (sec)'] = train_time      # we are okay with training time appearing last\n",
        "results_df_v2['testing time (sec)'] = test_time      # we are okay with training time appearing last\n",
        "results_df_v2"
      ],
      "execution_count": 0,
      "outputs": [
        {
          "output_type": "execute_result",
          "data": {
            "text/html": [
              "<div>\n",
              "<style scoped>\n",
              "    .dataframe tbody tr th:only-of-type {\n",
              "        vertical-align: middle;\n",
              "    }\n",
              "\n",
              "    .dataframe tbody tr th {\n",
              "        vertical-align: top;\n",
              "    }\n",
              "\n",
              "    .dataframe thead th {\n",
              "        text-align: right;\n",
              "    }\n",
              "</style>\n",
              "<table border=\"1\" class=\"dataframe\">\n",
              "  <thead>\n",
              "    <tr style=\"text-align: right;\">\n",
              "      <th></th>\n",
              "      <th>model</th>\n",
              "      <th>val_loss</th>\n",
              "      <th>val_accuracy</th>\n",
              "      <th>loss</th>\n",
              "      <th>train_accuracy</th>\n",
              "      <th>test_accuracy</th>\n",
              "      <th>training time (sec)</th>\n",
              "      <th>testing time (sec)</th>\n",
              "    </tr>\n",
              "  </thead>\n",
              "  <tbody>\n",
              "    <tr>\n",
              "      <th>3</th>\n",
              "      <td>LSTM w/ Dropout</td>\n",
              "      <td>0.391736</td>\n",
              "      <td>0.825501</td>\n",
              "      <td>0.419856</td>\n",
              "      <td>0.811179</td>\n",
              "      <td>0.815989</td>\n",
              "      <td>8618.040833</td>\n",
              "      <td>10.184501</td>\n",
              "    </tr>\n",
              "  </tbody>\n",
              "</table>\n",
              "</div>"
            ],
            "text/plain": [
              "             model  val_loss  ...  training time (sec)  testing time (sec)\n",
              "3  LSTM w/ Dropout  0.391736  ...          8618.040833           10.184501\n",
              "\n",
              "[1 rows x 8 columns]"
            ]
          },
          "metadata": {
            "tags": []
          },
          "execution_count": 45
        }
      ]
    },
    {
      "cell_type": "code",
      "metadata": {
        "id": "qVsoaYsh0wwe",
        "colab_type": "code",
        "outputId": "a1fd40c2-74ba-4696-f54f-9427597c1d40",
        "colab": {
          "base_uri": "https://localhost:8080/",
          "height": 331
        }
      },
      "source": [
        "prev_results_df = pd.read_pickle('results3.pkl')\n",
        "prev_results_df"
      ],
      "execution_count": 0,
      "outputs": [
        {
          "output_type": "execute_result",
          "data": {
            "text/html": [
              "<div>\n",
              "<style scoped>\n",
              "    .dataframe tbody tr th:only-of-type {\n",
              "        vertical-align: middle;\n",
              "    }\n",
              "\n",
              "    .dataframe tbody tr th {\n",
              "        vertical-align: top;\n",
              "    }\n",
              "\n",
              "    .dataframe thead th {\n",
              "        text-align: right;\n",
              "    }\n",
              "</style>\n",
              "<table border=\"1\" class=\"dataframe\">\n",
              "  <thead>\n",
              "    <tr style=\"text-align: right;\">\n",
              "      <th></th>\n",
              "      <th>model</th>\n",
              "      <th>val_loss</th>\n",
              "      <th>val_accuracy</th>\n",
              "      <th>loss</th>\n",
              "      <th>train_accuracy</th>\n",
              "      <th>test_accuracy</th>\n",
              "      <th>training time (sec)</th>\n",
              "      <th>testing time (sec)</th>\n",
              "    </tr>\n",
              "  </thead>\n",
              "  <tbody>\n",
              "    <tr>\n",
              "      <th>0</th>\n",
              "      <td>DNN (3 layers)</td>\n",
              "      <td>0.426255</td>\n",
              "      <td>0.812845</td>\n",
              "      <td>0.384176</td>\n",
              "      <td>0.833952</td>\n",
              "      <td>0.810851</td>\n",
              "      <td>2517.518805</td>\n",
              "      <td>5.990464</td>\n",
              "    </tr>\n",
              "    <tr>\n",
              "      <th>1</th>\n",
              "      <td>DNN w/ Dropout</td>\n",
              "      <td>0.419115</td>\n",
              "      <td>0.818296</td>\n",
              "      <td>0.417987</td>\n",
              "      <td>0.817185</td>\n",
              "      <td>0.810225</td>\n",
              "      <td>2517.518805</td>\n",
              "      <td>6.026241</td>\n",
              "    </tr>\n",
              "    <tr>\n",
              "      <th>2</th>\n",
              "      <td>Simple RNN</td>\n",
              "      <td>0.469121</td>\n",
              "      <td>0.782143</td>\n",
              "      <td>0.439075</td>\n",
              "      <td>0.800082</td>\n",
              "      <td>0.801892</td>\n",
              "      <td>1834.569555</td>\n",
              "      <td>1.979959</td>\n",
              "    </tr>\n",
              "    <tr>\n",
              "      <th>3</th>\n",
              "      <td>RNN w/ Dropout</td>\n",
              "      <td>0.511496</td>\n",
              "      <td>0.751253</td>\n",
              "      <td>0.553732</td>\n",
              "      <td>0.717752</td>\n",
              "      <td>0.774513</td>\n",
              "      <td>1834.569555</td>\n",
              "      <td>2.334067</td>\n",
              "    </tr>\n",
              "    <tr>\n",
              "      <th>4</th>\n",
              "      <td>RNN w/ Trainable Word Embeddings</td>\n",
              "      <td>0.416349</td>\n",
              "      <td>0.815915</td>\n",
              "      <td>0.412151</td>\n",
              "      <td>0.818388</td>\n",
              "      <td>0.811415</td>\n",
              "      <td>1834.569555</td>\n",
              "      <td>2.233131</td>\n",
              "    </tr>\n",
              "    <tr>\n",
              "      <th>5</th>\n",
              "      <td>DNN w/ Word Embeddings</td>\n",
              "      <td>0.442434</td>\n",
              "      <td>0.795489</td>\n",
              "      <td>0.428079</td>\n",
              "      <td>0.808861</td>\n",
              "      <td>0.787670</td>\n",
              "      <td>1030.219377</td>\n",
              "      <td>0.851879</td>\n",
              "    </tr>\n",
              "    <tr>\n",
              "      <th>6</th>\n",
              "      <td>LSTM RNN</td>\n",
              "      <td>0.367552</td>\n",
              "      <td>0.842231</td>\n",
              "      <td>0.351738</td>\n",
              "      <td>0.846655</td>\n",
              "      <td>0.827642</td>\n",
              "      <td>10874.661124</td>\n",
              "      <td>8.230267</td>\n",
              "    </tr>\n",
              "    <tr>\n",
              "      <th>7</th>\n",
              "      <td>LSTM w/ Dropout</td>\n",
              "      <td>0.388435</td>\n",
              "      <td>0.824812</td>\n",
              "      <td>0.426569</td>\n",
              "      <td>0.803512</td>\n",
              "      <td>0.815989</td>\n",
              "      <td>2416.762605</td>\n",
              "      <td>10.507788</td>\n",
              "    </tr>\n",
              "  </tbody>\n",
              "</table>\n",
              "</div>"
            ],
            "text/plain": [
              "                              model  ...  testing time (sec)\n",
              "0                    DNN (3 layers)  ...            5.990464\n",
              "1                    DNN w/ Dropout  ...            6.026241\n",
              "2                        Simple RNN  ...            1.979959\n",
              "3                    RNN w/ Dropout  ...            2.334067\n",
              "4  RNN w/ Trainable Word Embeddings  ...            2.233131\n",
              "5            DNN w/ Word Embeddings  ...            0.851879\n",
              "6                          LSTM RNN  ...            8.230267\n",
              "7                   LSTM w/ Dropout  ...           10.507788\n",
              "\n",
              "[8 rows x 8 columns]"
            ]
          },
          "metadata": {
            "tags": []
          },
          "execution_count": 50
        }
      ]
    },
    {
      "cell_type": "code",
      "metadata": {
        "id": "ATLBg9yt0zK9",
        "colab_type": "code",
        "colab": {}
      },
      "source": [
        "prev_results_df = prev_results_df.drop([7])"
      ],
      "execution_count": 0,
      "outputs": []
    },
    {
      "cell_type": "code",
      "metadata": {
        "id": "myTxWo4BzIRp",
        "colab_type": "code",
        "outputId": "0fe70c93-a97e-47e0-830d-b49cec12f646",
        "colab": {
          "base_uri": "https://localhost:8080/",
          "height": 331
        }
      },
      "source": [
        "results_df = prev_results_df.append(results_df_v2,ignore_index=True)\n",
        "results_df"
      ],
      "execution_count": 0,
      "outputs": [
        {
          "output_type": "execute_result",
          "data": {
            "text/html": [
              "<div>\n",
              "<style scoped>\n",
              "    .dataframe tbody tr th:only-of-type {\n",
              "        vertical-align: middle;\n",
              "    }\n",
              "\n",
              "    .dataframe tbody tr th {\n",
              "        vertical-align: top;\n",
              "    }\n",
              "\n",
              "    .dataframe thead th {\n",
              "        text-align: right;\n",
              "    }\n",
              "</style>\n",
              "<table border=\"1\" class=\"dataframe\">\n",
              "  <thead>\n",
              "    <tr style=\"text-align: right;\">\n",
              "      <th></th>\n",
              "      <th>model</th>\n",
              "      <th>val_loss</th>\n",
              "      <th>val_accuracy</th>\n",
              "      <th>loss</th>\n",
              "      <th>train_accuracy</th>\n",
              "      <th>test_accuracy</th>\n",
              "      <th>training time (sec)</th>\n",
              "      <th>testing time (sec)</th>\n",
              "    </tr>\n",
              "  </thead>\n",
              "  <tbody>\n",
              "    <tr>\n",
              "      <th>0</th>\n",
              "      <td>DNN (3 layers)</td>\n",
              "      <td>0.426255</td>\n",
              "      <td>0.812845</td>\n",
              "      <td>0.384176</td>\n",
              "      <td>0.833952</td>\n",
              "      <td>0.810851</td>\n",
              "      <td>2517.518805</td>\n",
              "      <td>5.990464</td>\n",
              "    </tr>\n",
              "    <tr>\n",
              "      <th>1</th>\n",
              "      <td>DNN w/ Dropout</td>\n",
              "      <td>0.419115</td>\n",
              "      <td>0.818296</td>\n",
              "      <td>0.417987</td>\n",
              "      <td>0.817185</td>\n",
              "      <td>0.810225</td>\n",
              "      <td>2517.518805</td>\n",
              "      <td>6.026241</td>\n",
              "    </tr>\n",
              "    <tr>\n",
              "      <th>2</th>\n",
              "      <td>Simple RNN</td>\n",
              "      <td>0.469121</td>\n",
              "      <td>0.782143</td>\n",
              "      <td>0.439075</td>\n",
              "      <td>0.800082</td>\n",
              "      <td>0.801892</td>\n",
              "      <td>1834.569555</td>\n",
              "      <td>1.979959</td>\n",
              "    </tr>\n",
              "    <tr>\n",
              "      <th>3</th>\n",
              "      <td>RNN w/ Dropout</td>\n",
              "      <td>0.511496</td>\n",
              "      <td>0.751253</td>\n",
              "      <td>0.553732</td>\n",
              "      <td>0.717752</td>\n",
              "      <td>0.774513</td>\n",
              "      <td>1834.569555</td>\n",
              "      <td>2.334067</td>\n",
              "    </tr>\n",
              "    <tr>\n",
              "      <th>4</th>\n",
              "      <td>RNN w/ Trainable Word Embeddings</td>\n",
              "      <td>0.416349</td>\n",
              "      <td>0.815915</td>\n",
              "      <td>0.412151</td>\n",
              "      <td>0.818388</td>\n",
              "      <td>0.811415</td>\n",
              "      <td>1834.569555</td>\n",
              "      <td>2.233131</td>\n",
              "    </tr>\n",
              "    <tr>\n",
              "      <th>5</th>\n",
              "      <td>DNN w/ Word Embeddings</td>\n",
              "      <td>0.442434</td>\n",
              "      <td>0.795489</td>\n",
              "      <td>0.428079</td>\n",
              "      <td>0.808861</td>\n",
              "      <td>0.787670</td>\n",
              "      <td>1030.219377</td>\n",
              "      <td>0.851879</td>\n",
              "    </tr>\n",
              "    <tr>\n",
              "      <th>6</th>\n",
              "      <td>LSTM RNN</td>\n",
              "      <td>0.367552</td>\n",
              "      <td>0.842231</td>\n",
              "      <td>0.351738</td>\n",
              "      <td>0.846655</td>\n",
              "      <td>0.827642</td>\n",
              "      <td>10874.661124</td>\n",
              "      <td>8.230267</td>\n",
              "    </tr>\n",
              "    <tr>\n",
              "      <th>7</th>\n",
              "      <td>LSTM w/ Dropout</td>\n",
              "      <td>0.391736</td>\n",
              "      <td>0.825501</td>\n",
              "      <td>0.419856</td>\n",
              "      <td>0.811179</td>\n",
              "      <td>0.815989</td>\n",
              "      <td>8618.040833</td>\n",
              "      <td>10.184501</td>\n",
              "    </tr>\n",
              "  </tbody>\n",
              "</table>\n",
              "</div>"
            ],
            "text/plain": [
              "                              model  ...  testing time (sec)\n",
              "0                    DNN (3 layers)  ...            5.990464\n",
              "1                    DNN w/ Dropout  ...            6.026241\n",
              "2                        Simple RNN  ...            1.979959\n",
              "3                    RNN w/ Dropout  ...            2.334067\n",
              "4  RNN w/ Trainable Word Embeddings  ...            2.233131\n",
              "5            DNN w/ Word Embeddings  ...            0.851879\n",
              "6                          LSTM RNN  ...            8.230267\n",
              "7                   LSTM w/ Dropout  ...           10.184501\n",
              "\n",
              "[8 rows x 8 columns]"
            ]
          },
          "metadata": {
            "tags": []
          },
          "execution_count": 57
        }
      ]
    },
    {
      "cell_type": "code",
      "metadata": {
        "id": "ciFNtBKD1hrC",
        "colab_type": "code",
        "outputId": "3765adc5-ac81-4ee7-ba34-e85b7014558e",
        "colab": {
          "base_uri": "https://localhost:8080/",
          "height": 331
        }
      },
      "source": [
        "results_df = results_df.reindex([0,1,5,2,3,4,6,7])\n",
        "results_df"
      ],
      "execution_count": 0,
      "outputs": [
        {
          "output_type": "execute_result",
          "data": {
            "text/html": [
              "<div>\n",
              "<style scoped>\n",
              "    .dataframe tbody tr th:only-of-type {\n",
              "        vertical-align: middle;\n",
              "    }\n",
              "\n",
              "    .dataframe tbody tr th {\n",
              "        vertical-align: top;\n",
              "    }\n",
              "\n",
              "    .dataframe thead th {\n",
              "        text-align: right;\n",
              "    }\n",
              "</style>\n",
              "<table border=\"1\" class=\"dataframe\">\n",
              "  <thead>\n",
              "    <tr style=\"text-align: right;\">\n",
              "      <th></th>\n",
              "      <th>model</th>\n",
              "      <th>val_loss</th>\n",
              "      <th>val_accuracy</th>\n",
              "      <th>loss</th>\n",
              "      <th>train_accuracy</th>\n",
              "      <th>test_accuracy</th>\n",
              "      <th>training time (sec)</th>\n",
              "      <th>testing time (sec)</th>\n",
              "    </tr>\n",
              "  </thead>\n",
              "  <tbody>\n",
              "    <tr>\n",
              "      <th>0</th>\n",
              "      <td>DNN (3 layers)</td>\n",
              "      <td>0.426255</td>\n",
              "      <td>0.812845</td>\n",
              "      <td>0.384176</td>\n",
              "      <td>0.833952</td>\n",
              "      <td>0.810851</td>\n",
              "      <td>2517.518805</td>\n",
              "      <td>5.990464</td>\n",
              "    </tr>\n",
              "    <tr>\n",
              "      <th>1</th>\n",
              "      <td>DNN w/ Dropout</td>\n",
              "      <td>0.419115</td>\n",
              "      <td>0.818296</td>\n",
              "      <td>0.417987</td>\n",
              "      <td>0.817185</td>\n",
              "      <td>0.810225</td>\n",
              "      <td>2517.518805</td>\n",
              "      <td>6.026241</td>\n",
              "    </tr>\n",
              "    <tr>\n",
              "      <th>5</th>\n",
              "      <td>DNN w/ Word Embeddings</td>\n",
              "      <td>0.442434</td>\n",
              "      <td>0.795489</td>\n",
              "      <td>0.428079</td>\n",
              "      <td>0.808861</td>\n",
              "      <td>0.787670</td>\n",
              "      <td>1030.219377</td>\n",
              "      <td>0.851879</td>\n",
              "    </tr>\n",
              "    <tr>\n",
              "      <th>2</th>\n",
              "      <td>Simple RNN</td>\n",
              "      <td>0.469121</td>\n",
              "      <td>0.782143</td>\n",
              "      <td>0.439075</td>\n",
              "      <td>0.800082</td>\n",
              "      <td>0.801892</td>\n",
              "      <td>1834.569555</td>\n",
              "      <td>1.979959</td>\n",
              "    </tr>\n",
              "    <tr>\n",
              "      <th>3</th>\n",
              "      <td>RNN w/ Dropout</td>\n",
              "      <td>0.511496</td>\n",
              "      <td>0.751253</td>\n",
              "      <td>0.553732</td>\n",
              "      <td>0.717752</td>\n",
              "      <td>0.774513</td>\n",
              "      <td>1834.569555</td>\n",
              "      <td>2.334067</td>\n",
              "    </tr>\n",
              "    <tr>\n",
              "      <th>4</th>\n",
              "      <td>RNN w/ Trainable Word Embeddings</td>\n",
              "      <td>0.416349</td>\n",
              "      <td>0.815915</td>\n",
              "      <td>0.412151</td>\n",
              "      <td>0.818388</td>\n",
              "      <td>0.811415</td>\n",
              "      <td>1834.569555</td>\n",
              "      <td>2.233131</td>\n",
              "    </tr>\n",
              "    <tr>\n",
              "      <th>6</th>\n",
              "      <td>LSTM RNN</td>\n",
              "      <td>0.367552</td>\n",
              "      <td>0.842231</td>\n",
              "      <td>0.351738</td>\n",
              "      <td>0.846655</td>\n",
              "      <td>0.827642</td>\n",
              "      <td>10874.661124</td>\n",
              "      <td>8.230267</td>\n",
              "    </tr>\n",
              "    <tr>\n",
              "      <th>7</th>\n",
              "      <td>LSTM w/ Dropout</td>\n",
              "      <td>0.391736</td>\n",
              "      <td>0.825501</td>\n",
              "      <td>0.419856</td>\n",
              "      <td>0.811179</td>\n",
              "      <td>0.815989</td>\n",
              "      <td>8618.040833</td>\n",
              "      <td>10.184501</td>\n",
              "    </tr>\n",
              "  </tbody>\n",
              "</table>\n",
              "</div>"
            ],
            "text/plain": [
              "                              model  ...  testing time (sec)\n",
              "0                    DNN (3 layers)  ...            5.990464\n",
              "1                    DNN w/ Dropout  ...            6.026241\n",
              "5            DNN w/ Word Embeddings  ...            0.851879\n",
              "2                        Simple RNN  ...            1.979959\n",
              "3                    RNN w/ Dropout  ...            2.334067\n",
              "4  RNN w/ Trainable Word Embeddings  ...            2.233131\n",
              "6                          LSTM RNN  ...            8.230267\n",
              "7                   LSTM w/ Dropout  ...           10.184501\n",
              "\n",
              "[8 rows x 8 columns]"
            ]
          },
          "metadata": {
            "tags": []
          },
          "execution_count": 58
        }
      ]
    },
    {
      "cell_type": "markdown",
      "metadata": {
        "id": "Yd9FgUMQzprW",
        "colab_type": "text"
      },
      "source": [
        "#### Plot Performance"
      ]
    },
    {
      "cell_type": "code",
      "metadata": {
        "id": "CHw_PHAbzrSn",
        "colab_type": "code",
        "outputId": "55ab0b54-5191-4245-c41e-d3cb3209a9e1",
        "colab": {
          "base_uri": "https://localhost:8080/",
          "height": 588
        }
      },
      "source": [
        "import matplotlib.pyplot as plt\n",
        "\n",
        "# list all data in history\n",
        "print(history_lstm2.history.keys())\n",
        "\n",
        "# summarize history for accuracy\n",
        "plt.plot(history_lstm2.history['train_accuracy'])\n",
        "plt.plot(history_lstm2.history['val_accuracy'])\n",
        "plt.title('Model 3a: LSTM w/ DO')\n",
        "plt.ylabel('Accuracy')\n",
        "plt.xlabel('Epochs')\n",
        "plt.legend(['train', 'val'], loc='lower right')\n",
        "plt.show()\n",
        "\n",
        "# summarize history for loss\n",
        "plt.plot(history_lstm2.history['loss'])\n",
        "plt.plot(history_lstm2.history['val_loss'])\n",
        "plt.title('Model 3a: LSTM w/ DO')\n",
        "plt.ylabel('Loss')\n",
        "plt.xlabel('Epochs')\n",
        "plt.legend(['train', 'val'], loc='center right')\n",
        "plt.show()"
      ],
      "execution_count": 0,
      "outputs": [
        {
          "output_type": "stream",
          "text": [
            "dict_keys(['val_loss', 'val_accuracy', 'loss', 'train_accuracy'])\n"
          ],
          "name": "stdout"
        },
        {
          "output_type": "display_data",
          "data": {
            "image/png": "[encoded data removed]",
            "text/plain": [
              "<Figure size 432x288 with 1 Axes>"
            ]
          },
          "metadata": {
            "tags": [],
            "image/png": {
              "width": 444,
              "height": 277
            },
            "needs_background": "light"
          }
        },
        {
          "output_type": "display_data",
          "data": {
            "image/png": "[encoded data removed]",
            "text/plain": [
              "<Figure size 432x288 with 1 Axes>"
            ]
          },
          "metadata": {
            "tags": [],
            "image/png": {
              "width": 438,
              "height": 277
            },
            "needs_background": "light"
          }
        }
      ]
    },
    {
      "cell_type": "markdown",
      "metadata": {
        "id": "j_OP-PmE_6h7",
        "colab_type": "text"
      },
      "source": [
        "### LSTM w/ Trainable Word Embeddings\n",
        "\n",
        "*   Trainable = True in Word Embeddings\n",
        "*   No Dropout\n",
        "\n"
      ]
    },
    {
      "cell_type": "markdown",
      "metadata": {
        "id": "TUid1f3VAP1t",
        "colab_type": "text"
      },
      "source": [
        "#### Build Network"
      ]
    },
    {
      "cell_type": "code",
      "metadata": {
        "id": "z21KeyfXAVkp",
        "colab_type": "code",
        "outputId": "f7525767-98f2-45c1-be80-4889494d85df",
        "colab": {
          "base_uri": "https://localhost:8080/",
          "height": 289
        }
      },
      "source": [
        "model_lstm3 = Sequential()\n",
        "e = Embedding(100000, 200, weights=[embedding_matrix], input_length=45, trainable=True)\n",
        "model_lstm3.add(e)\n",
        "model_lstm3.add(LSTM(units = LSTM_units, activation='tanh', recurrent_activation='sigmoid'))\n",
        "model_lstm3.add(Dense(128, activation='relu'))\n",
        "model_lstm3.add(Dense(units = 1, activation='sigmoid'))\n",
        "\n",
        "model_lstm3.compile(optimizer=optimizer,\n",
        "              loss=loss,\n",
        "              metrics=metrics)\n",
        "\n",
        "# define the checkpoint\n",
        "filepath = \"model_lstm3.h5\"\n",
        "lstm3_checkpoint = ModelCheckpoint(filepath, monitor='val_loss', verbose=0, save_best_only=False, save_weights_only=False, mode='auto', period = 1)\n",
        "\n",
        "model_lstm3.summary()"
      ],
      "execution_count": 0,
      "outputs": [
        {
          "output_type": "stream",
          "text": [
            "Model: \"sequential_1\"\n",
            "_________________________________________________________________\n",
            "Layer (type)                 Output Shape              Param #   \n",
            "=================================================================\n",
            "embedding_1 (Embedding)      (None, 45, 200)           20000000  \n",
            "_________________________________________________________________\n",
            "lstm_1 (LSTM)                (None, 128)               168448    \n",
            "_________________________________________________________________\n",
            "dense_1 (Dense)              (None, 128)               16512     \n",
            "_________________________________________________________________\n",
            "dense_2 (Dense)              (None, 1)                 129       \n",
            "=================================================================\n",
            "Total params: 20,185,089\n",
            "Trainable params: 20,185,089\n",
            "Non-trainable params: 0\n",
            "_________________________________________________________________\n"
          ],
          "name": "stdout"
        }
      ]
    },
    {
      "cell_type": "code",
      "metadata": {
        "id": "eIrdHjkbAix0",
        "colab_type": "code",
        "outputId": "2682f82b-1169-4330-ba66-c67a39538779",
        "colab": {
          "base_uri": "https://localhost:8080/",
          "height": 533
        }
      },
      "source": [
        "keras.utils.plot_model(model_lstm3, show_shapes=True)"
      ],
      "execution_count": 0,
      "outputs": [
        {
          "output_type": "execute_result",
          "data": {
            "image/png": "[encoded data removed]",
            "text/plain": [
              "<IPython.core.display.Image object>"
            ]
          },
          "metadata": {
            "tags": []
          },
          "execution_count": 62
        }
      ]
    },
    {
      "cell_type": "markdown",
      "metadata": {
        "id": "Ig1ypbmdARLd",
        "colab_type": "text"
      },
      "source": [
        "#### Train Model"
      ]
    },
    {
      "cell_type": "code",
      "metadata": {
        "id": "2Wp3iLzUAkXe",
        "colab_type": "code",
        "outputId": "d42d3cb5-90d1-4761-ec47-d1984d6a6c6c",
        "colab": {
          "base_uri": "https://localhost:8080/",
          "height": 122
        }
      },
      "source": [
        "train_rt = TrainRuntimeCallback()\n",
        "cbs = [lstm3_checkpoint, train_rt, keras.callbacks.EarlyStopping(patience=patience, restore_best_weights = True)]\n",
        "\n",
        "history_lstm3 = model_lstm3.fit(x_train_seq,\n",
        "                    y_train,\n",
        "                    callbacks=cbs,\n",
        "                    epochs=2,\n",
        "                    batch_size=batch_size,\n",
        "                    validation_data=(x_val_seq, y_validation))"
      ],
      "execution_count": 0,
      "outputs": [
        {
          "output_type": "stream",
          "text": [
            "Train on 1564120 samples, validate on 15960 samples\n",
            "Epoch 1/2\n",
            "1564120/1564120 [==============================] - 3911s 3ms/step - loss: 0.3913 - accuracy: 0.8242 - val_loss: 0.3666 - val_accuracy: 0.8383\n",
            "Epoch 2/2\n",
            "1564120/1564120 [==============================] - 4046s 3ms/step - loss: 0.3664 - accuracy: 0.8386 - val_loss: 0.3652 - val_accuracy: 0.8413\n"
          ],
          "name": "stdout"
        }
      ]
    },
    {
      "cell_type": "markdown",
      "metadata": {
        "id": "NuCxrWeQWuNM",
        "colab_type": "text"
      },
      "source": [
        "More training --> 3rd epoch"
      ]
    },
    {
      "cell_type": "code",
      "metadata": {
        "id": "kW3XO_X7Wtr0",
        "colab_type": "code",
        "outputId": "28f70a17-3df3-40ae-b725-c3510bd46b54",
        "colab": {
          "base_uri": "https://localhost:8080/",
          "height": 88
        }
      },
      "source": [
        "train_rt = TrainRuntimeCallback()\n",
        "cbs = [lstm3_checkpoint, train_rt, keras.callbacks.EarlyStopping(patience=patience, restore_best_weights = True)]\n",
        "\n",
        "history_lstm3 = model_lstm3.fit(x_train_seq,\n",
        "                    y_train,\n",
        "                    callbacks=cbs,\n",
        "                    epochs=1,\n",
        "                    batch_size=batch_size,\n",
        "                    validation_data=(x_val_seq, y_validation))"
      ],
      "execution_count": 0,
      "outputs": [
        {
          "output_type": "stream",
          "text": [
            "Train on 1564120 samples, validate on 15960 samples\n",
            "Epoch 1/1\n",
            "1564120/1564120 [==============================] - 3844s 2ms/step - loss: 0.3581 - accuracy: 0.8437 - val_loss: 0.3659 - val_accuracy: 0.8422\n"
          ],
          "name": "stdout"
        }
      ]
    },
    {
      "cell_type": "code",
      "metadata": {
        "id": "nNhPchq2Nr1V",
        "colab_type": "code",
        "outputId": "1a0e8842-51b7-41a0-c1db-dd134974f080",
        "colab": {
          "base_uri": "https://localhost:8080/",
          "height": 34
        }
      },
      "source": [
        "# Get the training time\n",
        "train_time = train_rt.process_time\n",
        "train_time # in seconds"
      ],
      "execution_count": 0,
      "outputs": [
        {
          "output_type": "execute_result",
          "data": {
            "text/plain": [
              "3845.252216"
            ]
          },
          "metadata": {
            "tags": []
          },
          "execution_count": 70
        }
      ]
    },
    {
      "cell_type": "code",
      "metadata": {
        "id": "t4K-x0qVNsP-",
        "colab_type": "code",
        "outputId": "684662ec-ff88-4ecd-bc93-5be3aaa12b2f",
        "colab": {
          "base_uri": "https://localhost:8080/",
          "height": 34
        }
      },
      "source": [
        "print(f\"train_acc: {history_lstm3.history['accuracy'][-1]}, val_acc: {history_lstm3.history['val_accuracy'][-1]}\")"
      ],
      "execution_count": 0,
      "outputs": [
        {
          "output_type": "stream",
          "text": [
            "train_acc: 0.8436827063560486, val_acc: 0.8421679139137268\n"
          ],
          "name": "stdout"
        }
      ]
    },
    {
      "cell_type": "markdown",
      "metadata": {
        "id": "XIYf7b-EASw1",
        "colab_type": "text"
      },
      "source": [
        "#### Save Model"
      ]
    },
    {
      "cell_type": "code",
      "metadata": {
        "id": "EwVI7-8XCWac",
        "colab_type": "code",
        "colab": {}
      },
      "source": [
        "# save model\n",
        "model_lstm3.save('model_lstm3.h5') "
      ],
      "execution_count": 0,
      "outputs": []
    },
    {
      "cell_type": "markdown",
      "metadata": {
        "id": "JfcpnVeOMZvN",
        "colab_type": "text"
      },
      "source": [
        "#### Training Cont... **RUN ONLY IF YOU NEED TO COMPLETE MORE EPOCHS**"
      ]
    },
    {
      "cell_type": "markdown",
      "metadata": {
        "id": "6PuVZSwep6Y1",
        "colab_type": "text"
      },
      "source": [
        "Load model and continue training"
      ]
    },
    {
      "cell_type": "code",
      "metadata": {
        "id": "OPFSAbfDppH5",
        "colab_type": "code",
        "outputId": "6dc758cc-1b00-43ca-91ad-9bd33cad2ec3",
        "colab": {
          "base_uri": "https://localhost:8080/",
          "height": 71
        }
      },
      "source": [
        "# load model\n",
        "model_rnn3_load = load_model('model_rnn3.h5')\n",
        "\n",
        "# define the checkpoint\n",
        "filepath = \"model_rnn3.h5\"\n",
        "rnn3_checkpoint = ModelCheckpoint(filepath, monitor='val_loss', verbose=0, save_best_only=False, save_weights_only=False, mode='auto', period = 1)"
      ],
      "execution_count": 0,
      "outputs": [
        {
          "output_type": "stream",
          "text": [
            "/usr/local/lib/python3.6/dist-packages/tensorflow/python/framework/indexed_slices.py:434: UserWarning: Converting sparse IndexedSlices to a dense Tensor of unknown shape. This may consume a large amount of memory.\n",
            "  \"Converting sparse IndexedSlices to a dense Tensor of unknown shape. \"\n"
          ],
          "name": "stderr"
        }
      ]
    },
    {
      "cell_type": "markdown",
      "metadata": {
        "id": "MzO5pexuqVOy",
        "colab_type": "text"
      },
      "source": [
        "Model has completed 2 epochs already. Continuing training with 2 more epochs. I'm using this model checkpoint approach since the training time takes so long."
      ]
    },
    {
      "cell_type": "code",
      "metadata": {
        "id": "JWQ3_DJ-qP4X",
        "colab_type": "code",
        "outputId": "bc68eae9-6d1d-49ec-e48e-dccd14566857",
        "colab": {
          "base_uri": "https://localhost:8080/",
          "height": 68
        }
      },
      "source": [
        "train_rt = TrainRuntimeCallback()\n",
        "cbs = [rnn3_checkpoint, train_rt, keras.callbacks.EarlyStopping(patience=patience, restore_best_weights = True)]\n",
        "\n",
        "history_rnn3 = model_rnn3_load.fit(x_train_seq,\n",
        "                    y_train,\n",
        "                    callbacks=cbs,\n",
        "                    epochs=2,\n",
        "                    batch_size=batch_size,\n",
        "                    validation_data=(x_val_seq, y_validation))"
      ],
      "execution_count": 0,
      "outputs": [
        {
          "output_type": "stream",
          "text": [
            "Train on 1564120 samples, validate on 15960 samples\n",
            "Epoch 1/2\n",
            " 991552/1564120 [==================>...........] - ETA: 13:19 - loss: 0.4080 - accuracy: 0.8185"
          ],
          "name": "stdout"
        }
      ]
    },
    {
      "cell_type": "code",
      "metadata": {
        "id": "NEet40ZLu98P",
        "colab_type": "code",
        "colab": {}
      },
      "source": [
        "# save model\n",
        "model_rnn3_load.save('model_rnn3.h5') "
      ],
      "execution_count": 0,
      "outputs": []
    },
    {
      "cell_type": "markdown",
      "metadata": {
        "id": "YajDBeI2AUA_",
        "colab_type": "text"
      },
      "source": [
        "#### Test Model"
      ]
    },
    {
      "cell_type": "code",
      "metadata": {
        "id": "Y3eo8KsxMmQS",
        "colab_type": "code",
        "outputId": "929542ae-d29c-4a62-ebd8-7c4414c6286b",
        "colab": {
          "base_uri": "https://localhost:8080/",
          "height": 51
        }
      },
      "source": [
        "test_rt = TestRuntimeCallback()\n",
        "\n",
        "test_loss, test_acc = model_lstm3.evaluate(x_test_seq, y_test, callbacks = [test_rt])\n",
        "\n",
        "print(f\"test_accuracy={test_acc}, test_loss={test_loss}\")"
      ],
      "execution_count": 0,
      "outputs": [
        {
          "output_type": "stream",
          "text": [
            "15961/15961 [==============================] - 10s 640us/step\n",
            "test_accuracy=0.8319027423858643, test_loss=0.38151254751062225\n"
          ],
          "name": "stdout"
        }
      ]
    },
    {
      "cell_type": "code",
      "metadata": {
        "id": "kZfNmPSPMvHR",
        "colab_type": "code",
        "outputId": "f37ab8e0-e717-40a2-c4ff-8899f82ed425",
        "colab": {
          "base_uri": "https://localhost:8080/",
          "height": 34
        }
      },
      "source": [
        "# Get the test time\n",
        "test_time = test_rt.process_time\n",
        "test_time # in seconds"
      ],
      "execution_count": 0,
      "outputs": [
        {
          "output_type": "execute_result",
          "data": {
            "text/plain": [
              "10.213246"
            ]
          },
          "metadata": {
            "tags": []
          },
          "execution_count": 74
        }
      ]
    },
    {
      "cell_type": "code",
      "metadata": {
        "id": "_jkAV-7kMxzv",
        "colab_type": "code",
        "outputId": "7d6a6aac-29bc-4b37-9c25-586d3eb4f7ff",
        "colab": {
          "base_uri": "https://localhost:8080/",
          "height": 34
        }
      },
      "source": [
        "history_dict = history_lstm3.history\n",
        "history_dict['train_accuracy'] = history_dict.pop('accuracy') # rename the the key to 'train_accuracy'\n",
        "history_dict.keys()"
      ],
      "execution_count": 0,
      "outputs": [
        {
          "output_type": "execute_result",
          "data": {
            "text/plain": [
              "dict_keys(['val_loss', 'val_accuracy', 'loss', 'train_accuracy'])"
            ]
          },
          "metadata": {
            "tags": []
          },
          "execution_count": 75
        }
      ]
    },
    {
      "cell_type": "code",
      "metadata": {
        "id": "YcXH38NVMxwu",
        "colab_type": "code",
        "outputId": "b0e1257d-e187-4eb9-a57b-5a26dbd2a8fd",
        "colab": {
          "base_uri": "https://localhost:8080/",
          "height": 80
        }
      },
      "source": [
        "import pandas as pd\n",
        "history_df=pd.DataFrame(history_dict)\n",
        "history_df['test_accuracy'] = test_acc   # using the test accuracy for smaller dataset model, NOT the full model\n",
        "history_df = history_df.iloc[-1:]\n",
        "history_df.tail()"
      ],
      "execution_count": 0,
      "outputs": [
        {
          "output_type": "execute_result",
          "data": {
            "text/html": [
              "<div>\n",
              "<style scoped>\n",
              "    .dataframe tbody tr th:only-of-type {\n",
              "        vertical-align: middle;\n",
              "    }\n",
              "\n",
              "    .dataframe tbody tr th {\n",
              "        vertical-align: top;\n",
              "    }\n",
              "\n",
              "    .dataframe thead th {\n",
              "        text-align: right;\n",
              "    }\n",
              "</style>\n",
              "<table border=\"1\" class=\"dataframe\">\n",
              "  <thead>\n",
              "    <tr style=\"text-align: right;\">\n",
              "      <th></th>\n",
              "      <th>val_loss</th>\n",
              "      <th>val_accuracy</th>\n",
              "      <th>loss</th>\n",
              "      <th>train_accuracy</th>\n",
              "      <th>test_accuracy</th>\n",
              "    </tr>\n",
              "  </thead>\n",
              "  <tbody>\n",
              "    <tr>\n",
              "      <th>0</th>\n",
              "      <td>0.365883</td>\n",
              "      <td>0.842168</td>\n",
              "      <td>0.358121</td>\n",
              "      <td>0.843683</td>\n",
              "      <td>0.831903</td>\n",
              "    </tr>\n",
              "  </tbody>\n",
              "</table>\n",
              "</div>"
            ],
            "text/plain": [
              "   val_loss  val_accuracy      loss  train_accuracy  test_accuracy\n",
              "0  0.365883      0.842168  0.358121        0.843683       0.831903"
            ]
          },
          "metadata": {
            "tags": []
          },
          "execution_count": 76
        }
      ]
    },
    {
      "cell_type": "markdown",
      "metadata": {
        "id": "k_DsablhM4tK",
        "colab_type": "text"
      },
      "source": [
        "#### Save Performance to Dataframe"
      ]
    },
    {
      "cell_type": "code",
      "metadata": {
        "id": "DH0VyrSPMxuN",
        "colab_type": "code",
        "outputId": "f8237128-7e53-4276-9fc2-ecf50b871926",
        "colab": {
          "base_uri": "https://localhost:8080/",
          "height": 114
        }
      },
      "source": [
        "results_df_v3 = history_df.iloc[-1:].copy()\n",
        "results_df_v3.insert(0,'model','LSTM w/ Trainable Word Embeddings') # went the model name to appear first\n",
        "results_df_v3['test_accuracy'] = test_acc\n",
        "results_df_v3['training time (sec)'] = train_time      # we are okay with training time appearing last\n",
        "results_df_v3['testing time (sec)'] = test_time      # we are okay with training time appearing last\n",
        "results_df_v3"
      ],
      "execution_count": 0,
      "outputs": [
        {
          "output_type": "execute_result",
          "data": {
            "text/html": [
              "<div>\n",
              "<style scoped>\n",
              "    .dataframe tbody tr th:only-of-type {\n",
              "        vertical-align: middle;\n",
              "    }\n",
              "\n",
              "    .dataframe tbody tr th {\n",
              "        vertical-align: top;\n",
              "    }\n",
              "\n",
              "    .dataframe thead th {\n",
              "        text-align: right;\n",
              "    }\n",
              "</style>\n",
              "<table border=\"1\" class=\"dataframe\">\n",
              "  <thead>\n",
              "    <tr style=\"text-align: right;\">\n",
              "      <th></th>\n",
              "      <th>model</th>\n",
              "      <th>val_loss</th>\n",
              "      <th>val_accuracy</th>\n",
              "      <th>loss</th>\n",
              "      <th>train_accuracy</th>\n",
              "      <th>test_accuracy</th>\n",
              "      <th>training time (sec)</th>\n",
              "      <th>testing time (sec)</th>\n",
              "    </tr>\n",
              "  </thead>\n",
              "  <tbody>\n",
              "    <tr>\n",
              "      <th>0</th>\n",
              "      <td>LSTM w/ Trainable Word Embeddings</td>\n",
              "      <td>0.365883</td>\n",
              "      <td>0.842168</td>\n",
              "      <td>0.358121</td>\n",
              "      <td>0.843683</td>\n",
              "      <td>0.831903</td>\n",
              "      <td>3845.252216</td>\n",
              "      <td>10.213246</td>\n",
              "    </tr>\n",
              "  </tbody>\n",
              "</table>\n",
              "</div>"
            ],
            "text/plain": [
              "                               model  ...  testing time (sec)\n",
              "0  LSTM w/ Trainable Word Embeddings  ...           10.213246\n",
              "\n",
              "[1 rows x 8 columns]"
            ]
          },
          "metadata": {
            "tags": []
          },
          "execution_count": 77
        }
      ]
    },
    {
      "cell_type": "markdown",
      "metadata": {
        "id": "Czsiw0Hr8DQS",
        "colab_type": "text"
      },
      "source": [
        "#### Plot Performance"
      ]
    },
    {
      "cell_type": "code",
      "metadata": {
        "id": "5OAiTEF2-Z4w",
        "colab_type": "code",
        "outputId": "0aeac635-a03a-4c3c-b853-f84c8c4618d4",
        "colab": {
          "base_uri": "https://localhost:8080/",
          "height": 588
        }
      },
      "source": [
        "import matplotlib.pyplot as plt\n",
        "\n",
        "# list all data in history\n",
        "print(history_lstm3.history.keys())\n",
        "\n",
        "# summarize history for accuracy\n",
        "plt.plot(history_lstm3.history['train_accuracy'])\n",
        "plt.plot(history_lstm3.history['val_accuracy'])\n",
        "plt.title('Model 3b: LSTM w/ Trainable Word Embeddings')\n",
        "plt.ylabel('Accuracy')\n",
        "plt.xlabel('Epochs')\n",
        "plt.legend(['train', 'val'], loc='lower right')\n",
        "plt.show()\n",
        "\n",
        "# summarize history for loss\n",
        "plt.plot(history_lstm3.history['loss'])\n",
        "plt.plot(history_lstm3.history['val_loss'])\n",
        "plt.title('Model 3b: LSTM w/ Trainable Word Embeddings')\n",
        "plt.ylabel('Loss')\n",
        "plt.xlabel('Epochs')\n",
        "plt.legend(['train', 'val'], loc='center right')\n",
        "plt.show()"
      ],
      "execution_count": 0,
      "outputs": [
        {
          "output_type": "stream",
          "text": [
            "dict_keys(['val_loss', 'val_accuracy', 'loss', 'train_accuracy'])\n"
          ],
          "name": "stdout"
        },
        {
          "output_type": "display_data",
          "data": {
            "image/png": "[encoded data removed]",
            "text/plain": [
              "<Figure size 432x288 with 1 Axes>"
            ]
          },
          "metadata": {
            "tags": [],
            "image/png": {
              "width": 444,
              "height": 277
            },
            "needs_background": "light"
          }
        },
        {
          "output_type": "display_data",
          "data": {
            "image/png": "[encoded data removed]",
            "text/plain": [
              "<Figure size 432x288 with 1 Axes>"
            ]
          },
          "metadata": {
            "tags": [],
            "image/png": {
              "width": 438,
              "height": 277
            },
            "needs_background": "light"
          }
        }
      ]
    },
    {
      "cell_type": "markdown",
      "metadata": {
        "id": "8DQxF76pxH57",
        "colab_type": "text"
      },
      "source": [
        "### Save Combined Metrics to Dataframe"
      ]
    },
    {
      "cell_type": "code",
      "metadata": {
        "id": "SAOdElajPRth",
        "colab_type": "code",
        "outputId": "3df55b12-0707-460b-d3d8-594b115ff880",
        "colab": {
          "base_uri": "https://localhost:8080/",
          "height": 379
        }
      },
      "source": [
        "results_df = results_df.append(results_df_v3,ignore_index=True)\n",
        "results_df"
      ],
      "execution_count": 0,
      "outputs": [
        {
          "output_type": "execute_result",
          "data": {
            "text/html": [
              "<div>\n",
              "<style scoped>\n",
              "    .dataframe tbody tr th:only-of-type {\n",
              "        vertical-align: middle;\n",
              "    }\n",
              "\n",
              "    .dataframe tbody tr th {\n",
              "        vertical-align: top;\n",
              "    }\n",
              "\n",
              "    .dataframe thead th {\n",
              "        text-align: right;\n",
              "    }\n",
              "</style>\n",
              "<table border=\"1\" class=\"dataframe\">\n",
              "  <thead>\n",
              "    <tr style=\"text-align: right;\">\n",
              "      <th></th>\n",
              "      <th>model</th>\n",
              "      <th>val_loss</th>\n",
              "      <th>val_accuracy</th>\n",
              "      <th>loss</th>\n",
              "      <th>train_accuracy</th>\n",
              "      <th>test_accuracy</th>\n",
              "      <th>training time (sec)</th>\n",
              "      <th>testing time (sec)</th>\n",
              "    </tr>\n",
              "  </thead>\n",
              "  <tbody>\n",
              "    <tr>\n",
              "      <th>0</th>\n",
              "      <td>DNN (3 layers)</td>\n",
              "      <td>0.426255</td>\n",
              "      <td>0.812845</td>\n",
              "      <td>0.384176</td>\n",
              "      <td>0.833952</td>\n",
              "      <td>0.810851</td>\n",
              "      <td>2517.518805</td>\n",
              "      <td>5.990464</td>\n",
              "    </tr>\n",
              "    <tr>\n",
              "      <th>1</th>\n",
              "      <td>DNN w/ Dropout</td>\n",
              "      <td>0.419115</td>\n",
              "      <td>0.818296</td>\n",
              "      <td>0.417987</td>\n",
              "      <td>0.817185</td>\n",
              "      <td>0.810225</td>\n",
              "      <td>2517.518805</td>\n",
              "      <td>6.026241</td>\n",
              "    </tr>\n",
              "    <tr>\n",
              "      <th>2</th>\n",
              "      <td>DNN w/ Word Embeddings</td>\n",
              "      <td>0.442434</td>\n",
              "      <td>0.795489</td>\n",
              "      <td>0.428079</td>\n",
              "      <td>0.808861</td>\n",
              "      <td>0.787670</td>\n",
              "      <td>1030.219377</td>\n",
              "      <td>0.851879</td>\n",
              "    </tr>\n",
              "    <tr>\n",
              "      <th>3</th>\n",
              "      <td>Simple RNN</td>\n",
              "      <td>0.469121</td>\n",
              "      <td>0.782143</td>\n",
              "      <td>0.439075</td>\n",
              "      <td>0.800082</td>\n",
              "      <td>0.801892</td>\n",
              "      <td>1834.569555</td>\n",
              "      <td>1.979959</td>\n",
              "    </tr>\n",
              "    <tr>\n",
              "      <th>4</th>\n",
              "      <td>RNN w/ Dropout</td>\n",
              "      <td>0.511496</td>\n",
              "      <td>0.751253</td>\n",
              "      <td>0.553732</td>\n",
              "      <td>0.717752</td>\n",
              "      <td>0.774513</td>\n",
              "      <td>1834.569555</td>\n",
              "      <td>2.334067</td>\n",
              "    </tr>\n",
              "    <tr>\n",
              "      <th>5</th>\n",
              "      <td>RNN w/ Trainable Word Embeddings</td>\n",
              "      <td>0.416349</td>\n",
              "      <td>0.815915</td>\n",
              "      <td>0.412151</td>\n",
              "      <td>0.818388</td>\n",
              "      <td>0.811415</td>\n",
              "      <td>1834.569555</td>\n",
              "      <td>2.233131</td>\n",
              "    </tr>\n",
              "    <tr>\n",
              "      <th>6</th>\n",
              "      <td>LSTM RNN</td>\n",
              "      <td>0.367552</td>\n",
              "      <td>0.842231</td>\n",
              "      <td>0.351738</td>\n",
              "      <td>0.846655</td>\n",
              "      <td>0.827642</td>\n",
              "      <td>10874.661124</td>\n",
              "      <td>8.230267</td>\n",
              "    </tr>\n",
              "    <tr>\n",
              "      <th>7</th>\n",
              "      <td>LSTM w/ Dropout</td>\n",
              "      <td>0.391736</td>\n",
              "      <td>0.825501</td>\n",
              "      <td>0.419856</td>\n",
              "      <td>0.811179</td>\n",
              "      <td>0.815989</td>\n",
              "      <td>8618.040833</td>\n",
              "      <td>10.184501</td>\n",
              "    </tr>\n",
              "    <tr>\n",
              "      <th>8</th>\n",
              "      <td>LSTM w/ Trainable Word Embeddings</td>\n",
              "      <td>0.365883</td>\n",
              "      <td>0.842168</td>\n",
              "      <td>0.358121</td>\n",
              "      <td>0.843683</td>\n",
              "      <td>0.831903</td>\n",
              "      <td>3845.252216</td>\n",
              "      <td>10.213246</td>\n",
              "    </tr>\n",
              "  </tbody>\n",
              "</table>\n",
              "</div>"
            ],
            "text/plain": [
              "                               model  ...  testing time (sec)\n",
              "0                     DNN (3 layers)  ...            5.990464\n",
              "1                     DNN w/ Dropout  ...            6.026241\n",
              "2             DNN w/ Word Embeddings  ...            0.851879\n",
              "3                         Simple RNN  ...            1.979959\n",
              "4                     RNN w/ Dropout  ...            2.334067\n",
              "5   RNN w/ Trainable Word Embeddings  ...            2.233131\n",
              "6                           LSTM RNN  ...            8.230267\n",
              "7                    LSTM w/ Dropout  ...           10.184501\n",
              "8  LSTM w/ Trainable Word Embeddings  ...           10.213246\n",
              "\n",
              "[9 rows x 8 columns]"
            ]
          },
          "metadata": {
            "tags": []
          },
          "execution_count": 79
        }
      ]
    },
    {
      "cell_type": "code",
      "metadata": {
        "id": "n4Z9j3Bs370M",
        "colab_type": "code",
        "colab": {}
      },
      "source": [
        "results_df.to_pickle(\"results3.pkl\") "
      ],
      "execution_count": 0,
      "outputs": []
    },
    {
      "cell_type": "code",
      "metadata": {
        "id": "usbYP_0WmZDf",
        "colab_type": "code",
        "colab": {}
      },
      "source": [
        "results_df.to_csv('results3.csv', index=False)"
      ],
      "execution_count": 0,
      "outputs": []
    },
    {
      "cell_type": "code",
      "metadata": {
        "id": "tIpM513wmklS",
        "colab_type": "code",
        "colab": {}
      },
      "source": [
        ""
      ],
      "execution_count": 0,
      "outputs": []
    }
  ]
}